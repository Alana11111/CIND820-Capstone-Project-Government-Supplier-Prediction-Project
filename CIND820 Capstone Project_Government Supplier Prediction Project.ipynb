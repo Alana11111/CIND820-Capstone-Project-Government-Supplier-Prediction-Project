{
 "cells": [
  {
   "cell_type": "markdown",
   "metadata": {},
   "source": [
    "# Government Supplier Prediction Project\n",
    "Alana Rutherford, \n",
    "500953715, \n",
    "Supervisor Derya Kici, Ph.D, \n",
    "November 28, 2021\n",
    "\n",
    "\n",
    "## Data Import"
   ]
  },
  {
   "cell_type": "code",
   "execution_count": 2,
   "metadata": {},
   "outputs": [],
   "source": [
    "import pandas as pd\n",
    "import numpy as np\n",
    "import matplotlib.pyplot as plt\n",
    "import seaborn as sn\n",
    "import zipfile\n",
    "\n",
    "with zipfile.ZipFile('data/tpsgc-pwgsc_co-ch_tous-all.zip', 'r') as zip_ref:\n",
    "    zip_ref.extractall('data')\n",
    "contractHistory = pd.read_csv('data/tpsgc-pwgsc_co-ch_tous-all.csv', usecols = range(0,42))"
   ]
  },
  {
   "cell_type": "markdown",
   "metadata": {},
   "source": [
    "## General Data Description"
   ]
  },
  {
   "cell_type": "code",
   "execution_count": 3,
   "metadata": {},
   "outputs": [
    {
     "data": {
      "text/plain": [
       "Index(['contract-number', 'amendment-number', 'award-date', 'expiry-date',\n",
       "       'contract-value', 'gsin', 'gsin-description_en', 'gsin-description_fr',\n",
       "       'competitive-tender_en', 'competitive-tender_fr',\n",
       "       'limited-tender-reason', 'limited-tender-reason-description_en',\n",
       "       'limited-tender-reason-description_fr', 'solicitation-procedure',\n",
       "       'solicitation-procedure-description_en',\n",
       "       'solicitation-procedure-description_fr', 'trade-agreement',\n",
       "       'trade-agreement-description_en', 'trade-agreement-description_fr',\n",
       "       'supplier-standardized-name', 'supplier-operating-name',\n",
       "       'supplier-legal-name', 'supplier-address-city',\n",
       "       'supplier-address-prov-state', 'supplier-address-postal-code',\n",
       "       'supplier-address-country', 'organization-employee-count_en',\n",
       "       'organization-employee-count_fr', 'total-contract-value',\n",
       "       'number-records', 'end-user-entity_en', 'end-user-entity_fr',\n",
       "       'contracting-entity-office-name_en',\n",
       "       'contracting-entity-office-name_fr', 'contracting-address-street-1',\n",
       "       'contracting-address-street-2', 'contracting-address-city',\n",
       "       'contracting-address-prov-state', 'contracting-address-postal-code',\n",
       "       'contracting-address-country', 'procurement-entity-name_en',\n",
       "       'procurement-entity-name_fr'],\n",
       "      dtype='object')"
      ]
     },
     "execution_count": 3,
     "metadata": {},
     "output_type": "execute_result"
    }
   ],
   "source": [
    "contractHistory.columns"
   ]
  },
  {
   "cell_type": "code",
   "execution_count": 1802,
   "metadata": {},
   "outputs": [
    {
     "data": {
      "text/html": [
       "<div>\n",
       "<style scoped>\n",
       "    .dataframe tbody tr th:only-of-type {\n",
       "        vertical-align: middle;\n",
       "    }\n",
       "\n",
       "    .dataframe tbody tr th {\n",
       "        vertical-align: top;\n",
       "    }\n",
       "\n",
       "    .dataframe thead th {\n",
       "        text-align: right;\n",
       "    }\n",
       "</style>\n",
       "<table border=\"1\" class=\"dataframe\">\n",
       "  <thead>\n",
       "    <tr style=\"text-align: right;\">\n",
       "      <th></th>\n",
       "      <th>contract-number</th>\n",
       "      <th>amendment-number</th>\n",
       "      <th>award-date</th>\n",
       "      <th>expiry-date</th>\n",
       "      <th>contract-value</th>\n",
       "      <th>gsin</th>\n",
       "      <th>gsin-description_en</th>\n",
       "      <th>gsin-description_fr</th>\n",
       "      <th>competitive-tender_en</th>\n",
       "      <th>competitive-tender_fr</th>\n",
       "      <th>...</th>\n",
       "      <th>contracting-entity-office-name_en</th>\n",
       "      <th>contracting-entity-office-name_fr</th>\n",
       "      <th>contracting-address-street-1</th>\n",
       "      <th>contracting-address-street-2</th>\n",
       "      <th>contracting-address-city</th>\n",
       "      <th>contracting-address-prov-state</th>\n",
       "      <th>contracting-address-postal-code</th>\n",
       "      <th>contracting-address-country</th>\n",
       "      <th>procurement-entity-name_en</th>\n",
       "      <th>procurement-entity-name_fr</th>\n",
       "    </tr>\n",
       "  </thead>\n",
       "  <tbody>\n",
       "    <tr>\n",
       "      <th>0</th>\n",
       "      <td>F2599-090025/001/MD</td>\n",
       "      <td>000</td>\n",
       "      <td>2009-06-16</td>\n",
       "      <td>2009-10-20</td>\n",
       "      <td>30174.0</td>\n",
       "      <td>N1990</td>\n",
       "      <td>Vessels, Miscellaneous</td>\n",
       "      <td>Bateaux divers</td>\n",
       "      <td>Yes</td>\n",
       "      <td>Oui</td>\n",
       "      <td>...</td>\n",
       "      <td>CCG CENTRAL&amp;ARCTIC RGN</td>\n",
       "      <td>N/D</td>\n",
       "      <td>MARINE ENGINEERING</td>\n",
       "      <td>520 EXMOUTH ST</td>\n",
       "      <td>SARNIA</td>\n",
       "      <td>Ontario</td>\n",
       "      <td>N7T8B1</td>\n",
       "      <td>Canada</td>\n",
       "      <td>Public Works and Government Services Canada</td>\n",
       "      <td>Travaux publics et Services gouvernementaux Ca...</td>\n",
       "    </tr>\n",
       "    <tr>\n",
       "      <th>1</th>\n",
       "      <td>F2599-090025/001/MD</td>\n",
       "      <td>001</td>\n",
       "      <td>2009-07-15</td>\n",
       "      <td>2009-10-20</td>\n",
       "      <td>4876.0</td>\n",
       "      <td>N1990</td>\n",
       "      <td>Vessels, Miscellaneous</td>\n",
       "      <td>Bateaux divers</td>\n",
       "      <td>Yes</td>\n",
       "      <td>Oui</td>\n",
       "      <td>...</td>\n",
       "      <td>CCG CENTRAL&amp;ARCTIC RGN</td>\n",
       "      <td>N/D</td>\n",
       "      <td>MARINE ENGINEERING</td>\n",
       "      <td>520 EXMOUTH ST</td>\n",
       "      <td>SARNIA</td>\n",
       "      <td>Ontario</td>\n",
       "      <td>N7T8B1</td>\n",
       "      <td>Canada</td>\n",
       "      <td>Public Works and Government Services Canada</td>\n",
       "      <td>Travaux publics et Services gouvernementaux Ca...</td>\n",
       "    </tr>\n",
       "    <tr>\n",
       "      <th>2</th>\n",
       "      <td>F2599-090025/001/MD</td>\n",
       "      <td>002</td>\n",
       "      <td>2009-07-20</td>\n",
       "      <td>2009-10-20</td>\n",
       "      <td>26914.0</td>\n",
       "      <td>N1990</td>\n",
       "      <td>Vessels, Miscellaneous</td>\n",
       "      <td>Bateaux divers</td>\n",
       "      <td>Yes</td>\n",
       "      <td>Oui</td>\n",
       "      <td>...</td>\n",
       "      <td>CCG CENTRAL&amp;ARCTIC RGN</td>\n",
       "      <td>N/D</td>\n",
       "      <td>MARINE ENGINEERING</td>\n",
       "      <td>520 EXMOUTH ST</td>\n",
       "      <td>SARNIA</td>\n",
       "      <td>Ontario</td>\n",
       "      <td>N7T8B1</td>\n",
       "      <td>Canada</td>\n",
       "      <td>Public Works and Government Services Canada</td>\n",
       "      <td>Travaux publics et Services gouvernementaux Ca...</td>\n",
       "    </tr>\n",
       "    <tr>\n",
       "      <th>3</th>\n",
       "      <td>E60LP-090002/392/LP</td>\n",
       "      <td>000</td>\n",
       "      <td>2010-01-01</td>\n",
       "      <td>2010-12-31</td>\n",
       "      <td>25000.0</td>\n",
       "      <td>V502B</td>\n",
       "      <td>Hotels, Motels and Commercial Accommodation</td>\n",
       "      <td>Hôtels, motels et logements commerciaux</td>\n",
       "      <td>Yes</td>\n",
       "      <td>Oui</td>\n",
       "      <td>...</td>\n",
       "      <td>CONSOLIDATED PROC LP ICPSS</td>\n",
       "      <td>N/D</td>\n",
       "      <td>PORTAGE III 7B3</td>\n",
       "      <td>11 LAURIER ST</td>\n",
       "      <td>GATINEAU</td>\n",
       "      <td>Quebec</td>\n",
       "      <td>K1A0S5</td>\n",
       "      <td>Canada</td>\n",
       "      <td>Public Works and Government Services Canada</td>\n",
       "      <td>Travaux publics et Services gouvernementaux Ca...</td>\n",
       "    </tr>\n",
       "    <tr>\n",
       "      <th>4</th>\n",
       "      <td>E60LP-110001/050/LP</td>\n",
       "      <td>000</td>\n",
       "      <td>2012-01-01</td>\n",
       "      <td>2012-12-31</td>\n",
       "      <td>25000.0</td>\n",
       "      <td>V502B</td>\n",
       "      <td>Hotels, Motels and Commercial Accommodation</td>\n",
       "      <td>Hôtels, motels et logements commerciaux</td>\n",
       "      <td>Yes</td>\n",
       "      <td>Oui</td>\n",
       "      <td>...</td>\n",
       "      <td>CONSOLIDATED PROC LP ICPSS</td>\n",
       "      <td>N/D</td>\n",
       "      <td>PORTAGE III 7B3</td>\n",
       "      <td>11 LAURIER ST</td>\n",
       "      <td>GATINEAU</td>\n",
       "      <td>Quebec</td>\n",
       "      <td>K1A0S5</td>\n",
       "      <td>Canada</td>\n",
       "      <td>Public Works and Government Services Canada</td>\n",
       "      <td>Travaux publics et Services gouvernementaux Ca...</td>\n",
       "    </tr>\n",
       "  </tbody>\n",
       "</table>\n",
       "<p>5 rows × 42 columns</p>\n",
       "</div>"
      ],
      "text/plain": [
       "       contract-number amendment-number  award-date expiry-date  \\\n",
       "0  F2599-090025/001/MD              000  2009-06-16  2009-10-20   \n",
       "1  F2599-090025/001/MD              001  2009-07-15  2009-10-20   \n",
       "2  F2599-090025/001/MD              002  2009-07-20  2009-10-20   \n",
       "3  E60LP-090002/392/LP              000  2010-01-01  2010-12-31   \n",
       "4  E60LP-110001/050/LP              000  2012-01-01  2012-12-31   \n",
       "\n",
       "   contract-value   gsin                          gsin-description_en  \\\n",
       "0         30174.0  N1990                       Vessels, Miscellaneous   \n",
       "1          4876.0  N1990                       Vessels, Miscellaneous   \n",
       "2         26914.0  N1990                       Vessels, Miscellaneous   \n",
       "3         25000.0  V502B  Hotels, Motels and Commercial Accommodation   \n",
       "4         25000.0  V502B  Hotels, Motels and Commercial Accommodation   \n",
       "\n",
       "                       gsin-description_fr competitive-tender_en  \\\n",
       "0                           Bateaux divers                   Yes   \n",
       "1                           Bateaux divers                   Yes   \n",
       "2                           Bateaux divers                   Yes   \n",
       "3  Hôtels, motels et logements commerciaux                   Yes   \n",
       "4  Hôtels, motels et logements commerciaux                   Yes   \n",
       "\n",
       "  competitive-tender_fr  ...  contracting-entity-office-name_en  \\\n",
       "0                   Oui  ...             CCG CENTRAL&ARCTIC RGN   \n",
       "1                   Oui  ...             CCG CENTRAL&ARCTIC RGN   \n",
       "2                   Oui  ...             CCG CENTRAL&ARCTIC RGN   \n",
       "3                   Oui  ...         CONSOLIDATED PROC LP ICPSS   \n",
       "4                   Oui  ...         CONSOLIDATED PROC LP ICPSS   \n",
       "\n",
       "  contracting-entity-office-name_fr contracting-address-street-1  \\\n",
       "0                               N/D           MARINE ENGINEERING   \n",
       "1                               N/D           MARINE ENGINEERING   \n",
       "2                               N/D           MARINE ENGINEERING   \n",
       "3                               N/D              PORTAGE III 7B3   \n",
       "4                               N/D              PORTAGE III 7B3   \n",
       "\n",
       "  contracting-address-street-2 contracting-address-city  \\\n",
       "0               520 EXMOUTH ST                   SARNIA   \n",
       "1               520 EXMOUTH ST                   SARNIA   \n",
       "2               520 EXMOUTH ST                   SARNIA   \n",
       "3                11 LAURIER ST                 GATINEAU   \n",
       "4                11 LAURIER ST                 GATINEAU   \n",
       "\n",
       "  contracting-address-prov-state contracting-address-postal-code  \\\n",
       "0                        Ontario                          N7T8B1   \n",
       "1                        Ontario                          N7T8B1   \n",
       "2                        Ontario                          N7T8B1   \n",
       "3                         Quebec                          K1A0S5   \n",
       "4                         Quebec                          K1A0S5   \n",
       "\n",
       "  contracting-address-country                   procurement-entity-name_en  \\\n",
       "0                      Canada  Public Works and Government Services Canada   \n",
       "1                      Canada  Public Works and Government Services Canada   \n",
       "2                      Canada  Public Works and Government Services Canada   \n",
       "3                      Canada  Public Works and Government Services Canada   \n",
       "4                      Canada  Public Works and Government Services Canada   \n",
       "\n",
       "                          procurement-entity-name_fr  \n",
       "0  Travaux publics et Services gouvernementaux Ca...  \n",
       "1  Travaux publics et Services gouvernementaux Ca...  \n",
       "2  Travaux publics et Services gouvernementaux Ca...  \n",
       "3  Travaux publics et Services gouvernementaux Ca...  \n",
       "4  Travaux publics et Services gouvernementaux Ca...  \n",
       "\n",
       "[5 rows x 42 columns]"
      ]
     },
     "execution_count": 1802,
     "metadata": {},
     "output_type": "execute_result"
    }
   ],
   "source": [
    "contractHistory.head()"
   ]
  },
  {
   "cell_type": "code",
   "execution_count": 1803,
   "metadata": {},
   "outputs": [
    {
     "name": "stdout",
     "output_type": "stream",
     "text": [
      "<class 'pandas.core.frame.DataFrame'>\n",
      "RangeIndex: 441210 entries, 0 to 441209\n",
      "Data columns (total 42 columns):\n",
      " #   Column                                 Non-Null Count   Dtype  \n",
      "---  ------                                 --------------   -----  \n",
      " 0   contract-number                        441210 non-null  object \n",
      " 1   amendment-number                       441210 non-null  object \n",
      " 2   award-date                             441210 non-null  object \n",
      " 3   expiry-date                            441210 non-null  object \n",
      " 4   contract-value                         441210 non-null  float64\n",
      " 5   gsin                                   441199 non-null  object \n",
      " 6   gsin-description_en                    441199 non-null  object \n",
      " 7   gsin-description_fr                    441210 non-null  object \n",
      " 8   competitive-tender_en                  441210 non-null  object \n",
      " 9   competitive-tender_fr                  441210 non-null  object \n",
      " 10  limited-tender-reason                  94299 non-null   float64\n",
      " 11  limited-tender-reason-description_en   94299 non-null   object \n",
      " 12  limited-tender-reason-description_fr   441210 non-null  object \n",
      " 13  solicitation-procedure                 441210 non-null  object \n",
      " 14  solicitation-procedure-description_en  441210 non-null  object \n",
      " 15  solicitation-procedure-description_fr  441210 non-null  object \n",
      " 16  trade-agreement                        440929 non-null  object \n",
      " 17  trade-agreement-description_en         436587 non-null  object \n",
      " 18  trade-agreement-description_fr         441210 non-null  object \n",
      " 19  supplier-standardized-name             441210 non-null  object \n",
      " 20  supplier-operating-name                438586 non-null  object \n",
      " 21  supplier-legal-name                    439980 non-null  object \n",
      " 22  supplier-address-city                  441091 non-null  object \n",
      " 23  supplier-address-prov-state            430737 non-null  object \n",
      " 24  supplier-address-postal-code           438200 non-null  object \n",
      " 25  supplier-address-country               441210 non-null  object \n",
      " 26  organization-employee-count_en         441208 non-null  object \n",
      " 27  organization-employee-count_fr         441210 non-null  object \n",
      " 28  total-contract-value                   441210 non-null  float64\n",
      " 29  number-records                         441210 non-null  int64  \n",
      " 30  end-user-entity_en                     441210 non-null  object \n",
      " 31  end-user-entity_fr                     441210 non-null  object \n",
      " 32  contracting-entity-office-name_en      431285 non-null  object \n",
      " 33  contracting-entity-office-name_fr      441210 non-null  object \n",
      " 34  contracting-address-street-1           441182 non-null  object \n",
      " 35  contracting-address-street-2           308117 non-null  object \n",
      " 36  contracting-address-city               441182 non-null  object \n",
      " 37  contracting-address-prov-state         440905 non-null  object \n",
      " 38  contracting-address-postal-code        441180 non-null  object \n",
      " 39  contracting-address-country            441182 non-null  object \n",
      " 40  procurement-entity-name_en             441210 non-null  object \n",
      " 41  procurement-entity-name_fr             441210 non-null  object \n",
      "dtypes: float64(3), int64(1), object(38)\n",
      "memory usage: 141.4+ MB\n"
     ]
    }
   ],
   "source": [
    "contractHistory.info()"
   ]
  },
  {
   "cell_type": "markdown",
   "metadata": {},
   "source": [
    "## Attribute Data Description\n",
    "Includes use of describe to obtain the count and unique, and use of value count to identify the top most frequent attributes. This was completed for all categorical attributes that were not considered duplicates on initial analysis. For the sake of brevity, only the describe function is provided below after the first attribute. "
   ]
  },
  {
   "cell_type": "code",
   "execution_count": 1804,
   "metadata": {},
   "outputs": [
    {
     "data": {
      "text/html": [
       "<div>\n",
       "<style scoped>\n",
       "    .dataframe tbody tr th:only-of-type {\n",
       "        vertical-align: middle;\n",
       "    }\n",
       "\n",
       "    .dataframe tbody tr th {\n",
       "        vertical-align: top;\n",
       "    }\n",
       "\n",
       "    .dataframe thead th {\n",
       "        text-align: right;\n",
       "    }\n",
       "</style>\n",
       "<table border=\"1\" class=\"dataframe\">\n",
       "  <thead>\n",
       "    <tr style=\"text-align: right;\">\n",
       "      <th></th>\n",
       "      <th>contract-value</th>\n",
       "      <th>limited-tender-reason</th>\n",
       "      <th>total-contract-value</th>\n",
       "      <th>number-records</th>\n",
       "    </tr>\n",
       "  </thead>\n",
       "  <tbody>\n",
       "    <tr>\n",
       "      <th>count</th>\n",
       "      <td>4.412100e+05</td>\n",
       "      <td>94299.000000</td>\n",
       "      <td>4.412100e+05</td>\n",
       "      <td>441210.000000</td>\n",
       "    </tr>\n",
       "    <tr>\n",
       "      <th>mean</th>\n",
       "      <td>4.398310e+05</td>\n",
       "      <td>75.398689</td>\n",
       "      <td>8.457397e+06</td>\n",
       "      <td>8.202300</td>\n",
       "    </tr>\n",
       "    <tr>\n",
       "      <th>std</th>\n",
       "      <td>1.609191e+07</td>\n",
       "      <td>7.860150</td>\n",
       "      <td>1.061860e+08</td>\n",
       "      <td>18.275149</td>\n",
       "    </tr>\n",
       "    <tr>\n",
       "      <th>min</th>\n",
       "      <td>-1.540262e+08</td>\n",
       "      <td>8.000000</td>\n",
       "      <td>-1.985487e+08</td>\n",
       "      <td>1.000000</td>\n",
       "    </tr>\n",
       "    <tr>\n",
       "      <th>25%</th>\n",
       "      <td>0.000000e+00</td>\n",
       "      <td>71.000000</td>\n",
       "      <td>2.096325e+04</td>\n",
       "      <td>1.000000</td>\n",
       "    </tr>\n",
       "    <tr>\n",
       "      <th>50%</th>\n",
       "      <td>8.715000e+03</td>\n",
       "      <td>71.000000</td>\n",
       "      <td>1.268150e+05</td>\n",
       "      <td>3.000000</td>\n",
       "    </tr>\n",
       "    <tr>\n",
       "      <th>75%</th>\n",
       "      <td>6.941075e+04</td>\n",
       "      <td>85.000000</td>\n",
       "      <td>7.749660e+05</td>\n",
       "      <td>6.000000</td>\n",
       "    </tr>\n",
       "    <tr>\n",
       "      <th>max</th>\n",
       "      <td>5.221000e+09</td>\n",
       "      <td>90.000000</td>\n",
       "      <td>5.761974e+09</td>\n",
       "      <td>206.000000</td>\n",
       "    </tr>\n",
       "  </tbody>\n",
       "</table>\n",
       "</div>"
      ],
      "text/plain": [
       "       contract-value  limited-tender-reason  total-contract-value  \\\n",
       "count    4.412100e+05           94299.000000          4.412100e+05   \n",
       "mean     4.398310e+05              75.398689          8.457397e+06   \n",
       "std      1.609191e+07               7.860150          1.061860e+08   \n",
       "min     -1.540262e+08               8.000000         -1.985487e+08   \n",
       "25%      0.000000e+00              71.000000          2.096325e+04   \n",
       "50%      8.715000e+03              71.000000          1.268150e+05   \n",
       "75%      6.941075e+04              85.000000          7.749660e+05   \n",
       "max      5.221000e+09              90.000000          5.761974e+09   \n",
       "\n",
       "       number-records  \n",
       "count   441210.000000  \n",
       "mean         8.202300  \n",
       "std         18.275149  \n",
       "min          1.000000  \n",
       "25%          1.000000  \n",
       "50%          3.000000  \n",
       "75%          6.000000  \n",
       "max        206.000000  "
      ]
     },
     "execution_count": 1804,
     "metadata": {},
     "output_type": "execute_result"
    }
   ],
   "source": [
    "contractHistory.describe()"
   ]
  },
  {
   "cell_type": "code",
   "execution_count": 1805,
   "metadata": {},
   "outputs": [
    {
     "data": {
      "text/plain": [
       "count                   441210\n",
       "unique                  199675\n",
       "top       E0208-150548/001/PWZ\n",
       "freq                       206\n",
       "Name: contract-number, dtype: object"
      ]
     },
     "execution_count": 1805,
     "metadata": {},
     "output_type": "execute_result"
    }
   ],
   "source": [
    "contractHistory['contract-number'].describe()"
   ]
  },
  {
   "cell_type": "code",
   "execution_count": 1806,
   "metadata": {},
   "outputs": [
    {
     "data": {
      "text/plain": [
       "E0208-150548/001/PWZ    206\n",
       "EN578-110558/001/XL     162\n",
       "EP008-112560/001/GC     152\n",
       "EP008-112560/004/GC     139\n",
       "EW038-140681/001/PWU    139\n",
       "                       ... \n",
       "W0113-10A128/001/BOR      1\n",
       "5K003-156233/001/WPG      1\n",
       "5K003-148856/001/WPG      1\n",
       "W8482-128975/001/GRK      1\n",
       "U4030-221421/001/HN       1\n",
       "Name: contract-number, Length: 199675, dtype: int64"
      ]
     },
     "execution_count": 1806,
     "metadata": {},
     "output_type": "execute_result"
    }
   ],
   "source": [
    "contractHistory['contract-number'].value_counts()"
   ]
  },
  {
   "cell_type": "code",
   "execution_count": 1807,
   "metadata": {},
   "outputs": [
    {
     "data": {
      "text/plain": [
       "count     441210\n",
       "unique       237\n",
       "top          000\n",
       "freq      174270\n",
       "Name: amendment-number, dtype: object"
      ]
     },
     "execution_count": 1807,
     "metadata": {},
     "output_type": "execute_result"
    }
   ],
   "source": [
    "contractHistory['amendment-number'].describe()"
   ]
  },
  {
   "cell_type": "code",
   "execution_count": 1808,
   "metadata": {},
   "outputs": [
    {
     "data": {
      "text/plain": [
       "count         441210\n",
       "unique          4085\n",
       "top       2011-01-01\n",
       "freq            2277\n",
       "Name: award-date, dtype: object"
      ]
     },
     "execution_count": 1808,
     "metadata": {},
     "output_type": "execute_result"
    }
   ],
   "source": [
    "contractHistory['award-date'].describe()"
   ]
  },
  {
   "cell_type": "code",
   "execution_count": 1809,
   "metadata": {},
   "outputs": [
    {
     "data": {
      "text/plain": [
       "count         441210\n",
       "unique          6859\n",
       "top       2011-03-31\n",
       "freq            9500\n",
       "Name: expiry-date, dtype: object"
      ]
     },
     "execution_count": 1809,
     "metadata": {},
     "output_type": "execute_result"
    }
   ],
   "source": [
    "contractHistory['expiry-date'].describe()"
   ]
  },
  {
   "cell_type": "code",
   "execution_count": 1810,
   "metadata": {},
   "outputs": [
    {
     "data": {
      "text/plain": [
       "count     441199\n",
       "unique      5203\n",
       "top        N7030\n",
       "freq       26529\n",
       "Name: gsin, dtype: object"
      ]
     },
     "execution_count": 1810,
     "metadata": {},
     "output_type": "execute_result"
    }
   ],
   "source": [
    "contractHistory['gsin'].describe()"
   ]
  },
  {
   "cell_type": "code",
   "execution_count": 1811,
   "metadata": {},
   "outputs": [
    {
     "data": {
      "text/plain": [
       "count           441199\n",
       "unique            5188\n",
       "top       ADP Software\n",
       "freq             26529\n",
       "Name: gsin-description_en, dtype: object"
      ]
     },
     "execution_count": 1811,
     "metadata": {},
     "output_type": "execute_result"
    }
   ],
   "source": [
    "contractHistory['gsin-description_en'].describe()"
   ]
  },
  {
   "cell_type": "code",
   "execution_count": 1812,
   "metadata": {},
   "outputs": [
    {
     "data": {
      "text/plain": [
       "count     441210\n",
       "unique         2\n",
       "top          Yes\n",
       "freq      346895\n",
       "Name: competitive-tender_en, dtype: object"
      ]
     },
     "execution_count": 1812,
     "metadata": {},
     "output_type": "execute_result"
    }
   ],
   "source": [
    "contractHistory['competitive-tender_en'].describe()"
   ]
  },
  {
   "cell_type": "code",
   "execution_count": 1813,
   "metadata": {},
   "outputs": [
    {
     "data": {
      "text/plain": [
       "count                94299\n",
       "unique                  16\n",
       "top       Exclusive Rights\n",
       "freq                 57400\n",
       "Name: limited-tender-reason-description_en, dtype: object"
      ]
     },
     "execution_count": 1813,
     "metadata": {},
     "output_type": "execute_result"
    }
   ],
   "source": [
    "contractHistory['limited-tender-reason-description_en'].describe()"
   ]
  },
  {
   "cell_type": "code",
   "execution_count": 1814,
   "metadata": {},
   "outputs": [
    {
     "data": {
      "text/plain": [
       "count           441210\n",
       "unique               4\n",
       "top       Open Bidding\n",
       "freq            269648\n",
       "Name: solicitation-procedure-description_en, dtype: object"
      ]
     },
     "execution_count": 1814,
     "metadata": {},
     "output_type": "execute_result"
    }
   ],
   "source": [
    "contractHistory['solicitation-procedure-description_en'].describe()"
   ]
  },
  {
   "cell_type": "code",
   "execution_count": 1815,
   "metadata": {},
   "outputs": [
    {
     "data": {
      "text/plain": [
       "count     440929\n",
       "unique        35\n",
       "top            I\n",
       "freq      115604\n",
       "Name: trade-agreement, dtype: object"
      ]
     },
     "execution_count": 1815,
     "metadata": {},
     "output_type": "execute_result"
    }
   ],
   "source": [
    "contractHistory['trade-agreement'].describe()"
   ]
  },
  {
   "cell_type": "code",
   "execution_count": 1816,
   "metadata": {},
   "outputs": [
    {
     "data": {
      "text/plain": [
       "count                                    441210\n",
       "unique                                    36355\n",
       "top       SIMEX DEFENCE INC / DEFENSE SIMEX INC\n",
       "freq                                       4305\n",
       "Name: supplier-standardized-name, dtype: object"
      ]
     },
     "execution_count": 1816,
     "metadata": {},
     "output_type": "execute_result"
    }
   ],
   "source": [
    "contractHistory['supplier-standardized-name'].describe()"
   ]
  },
  {
   "cell_type": "code",
   "execution_count": 1817,
   "metadata": {},
   "outputs": [
    {
     "data": {
      "text/plain": [
       "count     441091\n",
       "unique      7261\n",
       "top       Ottawa\n",
       "freq       80001\n",
       "Name: supplier-address-city, dtype: object"
      ]
     },
     "execution_count": 1817,
     "metadata": {},
     "output_type": "execute_result"
    }
   ],
   "source": [
    "contractHistory['supplier-address-city'].describe()"
   ]
  },
  {
   "cell_type": "code",
   "execution_count": 1818,
   "metadata": {},
   "outputs": [
    {
     "data": {
      "text/plain": [
       "count      430737\n",
       "unique         64\n",
       "top       Ontario\n",
       "freq       190079\n",
       "Name: supplier-address-prov-state, dtype: object"
      ]
     },
     "execution_count": 1818,
     "metadata": {},
     "output_type": "execute_result"
    }
   ],
   "source": [
    "contractHistory['supplier-address-prov-state'].describe()"
   ]
  },
  {
   "cell_type": "code",
   "execution_count": 1819,
   "metadata": {},
   "outputs": [
    {
     "data": {
      "text/plain": [
       "count     441210\n",
       "unique       115\n",
       "top       Canada\n",
       "freq      398099\n",
       "Name: supplier-address-country, dtype: object"
      ]
     },
     "execution_count": 1819,
     "metadata": {},
     "output_type": "execute_result"
    }
   ],
   "source": [
    "contractHistory['supplier-address-country'].describe()"
   ]
  },
  {
   "cell_type": "code",
   "execution_count": 1820,
   "metadata": {},
   "outputs": [
    {
     "data": {
      "text/plain": [
       "count     438200\n",
       "unique     27226\n",
       "top       H9R1A6\n",
       "freq        4305\n",
       "Name: supplier-address-postal-code, dtype: object"
      ]
     },
     "execution_count": 1820,
     "metadata": {},
     "output_type": "execute_result"
    }
   ],
   "source": [
    "contractHistory['supplier-address-postal-code'].describe()"
   ]
  },
  {
   "cell_type": "code",
   "execution_count": 1821,
   "metadata": {},
   "outputs": [
    {
     "data": {
      "text/plain": [
       "count                 441208\n",
       "unique                    14\n",
       "top       20 to 49 employees\n",
       "freq                   71520\n",
       "Name: organization-employee-count_en, dtype: object"
      ]
     },
     "execution_count": 1821,
     "metadata": {},
     "output_type": "execute_result"
    }
   ],
   "source": [
    "contractHistory['organization-employee-count_en'].describe()"
   ]
  },
  {
   "cell_type": "code",
   "execution_count": 1822,
   "metadata": {},
   "outputs": [
    {
     "data": {
      "text/plain": [
       "count                                          441210\n",
       "unique                                            132\n",
       "top       Public Works and Government Services Canada\n",
       "freq                                           182963\n",
       "Name: end-user-entity_en, dtype: object"
      ]
     },
     "execution_count": 1822,
     "metadata": {},
     "output_type": "execute_result"
    }
   ],
   "source": [
    "contractHistory['end-user-entity_en'].describe()"
   ]
  },
  {
   "cell_type": "code",
   "execution_count": 1823,
   "metadata": {},
   "outputs": [
    {
     "data": {
      "text/plain": [
       "count     431285\n",
       "unique      3422\n",
       "top         NDHQ\n",
       "freq       19931\n",
       "Name: contracting-entity-office-name_en, dtype: object"
      ]
     },
     "execution_count": 1823,
     "metadata": {},
     "output_type": "execute_result"
    }
   ],
   "source": [
    "contractHistory['contracting-entity-office-name_en'].describe()"
   ]
  },
  {
   "cell_type": "code",
   "execution_count": 1824,
   "metadata": {},
   "outputs": [
    {
     "data": {
      "text/plain": [
       "count                 441182\n",
       "unique                  3140\n",
       "top       101 COLONEL BY DR.\n",
       "freq                   25490\n",
       "Name: contracting-address-street-1, dtype: object"
      ]
     },
     "execution_count": 1824,
     "metadata": {},
     "output_type": "execute_result"
    }
   ],
   "source": [
    "contractHistory['contracting-address-street-1'].describe()"
   ]
  },
  {
   "cell_type": "code",
   "execution_count": 1825,
   "metadata": {},
   "outputs": [
    {
     "data": {
      "text/plain": [
       "count            308117\n",
       "unique             1561\n",
       "top       11 LAURIER ST\n",
       "freq              82908\n",
       "Name: contracting-address-street-2, dtype: object"
      ]
     },
     "execution_count": 1825,
     "metadata": {},
     "output_type": "execute_result"
    }
   ],
   "source": [
    "contractHistory['contracting-address-street-2'].describe()"
   ]
  },
  {
   "cell_type": "code",
   "execution_count": 1826,
   "metadata": {},
   "outputs": [
    {
     "data": {
      "text/plain": [
       "count     441182\n",
       "unique       440\n",
       "top       OTTAWA\n",
       "freq      130007\n",
       "Name: contracting-address-city, dtype: object"
      ]
     },
     "execution_count": 1826,
     "metadata": {},
     "output_type": "execute_result"
    }
   ],
   "source": [
    "contractHistory['contracting-address-city'].describe()"
   ]
  },
  {
   "cell_type": "code",
   "execution_count": 1827,
   "metadata": {},
   "outputs": [
    {
     "data": {
      "text/plain": [
       "count      440905\n",
       "unique         13\n",
       "top       Ontario\n",
       "freq       166823\n",
       "Name: contracting-address-prov-state, dtype: object"
      ]
     },
     "execution_count": 1827,
     "metadata": {},
     "output_type": "execute_result"
    }
   ],
   "source": [
    "contractHistory['contracting-address-prov-state'].describe()"
   ]
  },
  {
   "cell_type": "code",
   "execution_count": 1828,
   "metadata": {},
   "outputs": [
    {
     "data": {
      "text/plain": [
       "count     441180\n",
       "unique      1196\n",
       "top       K1A0S5\n",
       "freq      100214\n",
       "Name: contracting-address-postal-code, dtype: object"
      ]
     },
     "execution_count": 1828,
     "metadata": {},
     "output_type": "execute_result"
    }
   ],
   "source": [
    "contractHistory['contracting-address-postal-code'].describe()"
   ]
  },
  {
   "cell_type": "code",
   "execution_count": 1829,
   "metadata": {},
   "outputs": [
    {
     "data": {
      "text/plain": [
       "count     441182\n",
       "unique         4\n",
       "top       Canada\n",
       "freq      440905\n",
       "Name: contracting-address-country, dtype: object"
      ]
     },
     "execution_count": 1829,
     "metadata": {},
     "output_type": "execute_result"
    }
   ],
   "source": [
    "contractHistory['contracting-address-country' ].describe()"
   ]
  },
  {
   "cell_type": "code",
   "execution_count": 1830,
   "metadata": {},
   "outputs": [
    {
     "data": {
      "text/plain": [
       "count                                          441210\n",
       "unique                                              1\n",
       "top       Public Works and Government Services Canada\n",
       "freq                                           441210\n",
       "Name: procurement-entity-name_en, dtype: object"
      ]
     },
     "execution_count": 1830,
     "metadata": {},
     "output_type": "execute_result"
    }
   ],
   "source": [
    "contractHistory['procurement-entity-name_en'].describe()"
   ]
  },
  {
   "cell_type": "markdown",
   "metadata": {},
   "source": [
    "##  Visualizing Categorical Attributes\n",
    "A selection of the categorical attributes have been visualized below for the sake of brevity. The full set were initially reviewed. "
   ]
  },
  {
   "cell_type": "code",
   "execution_count": 1831,
   "metadata": {},
   "outputs": [
    {
     "data": {
      "text/plain": [
       "<AxesSubplot:>"
      ]
     },
     "execution_count": 1831,
     "metadata": {},
     "output_type": "execute_result"
    },
    {
     "data": {
      "image/png": "[encoded data removed]",
      "text/plain": [
       "<Figure size 432x288 with 1 Axes>"
      ]
     },
     "metadata": {
      "needs_background": "light"
     },
     "output_type": "display_data"
    }
   ],
   "source": [
    "#contractHistory['amendment-number'].value_counts().plot(kind = 'bar')\n",
    "recordNo = contractHistory['number-records'].value_counts()\n",
    "recordNo = recordNo[recordNo > 1000]\n",
    "recordNo.plot(kind = 'bar')"
   ]
  },
  {
   "cell_type": "code",
   "execution_count": 2407,
   "metadata": {},
   "outputs": [
    {
     "data": {
      "text/plain": [
       "Text(0.5, 0, 'Number of Instances')"
      ]
     },
     "execution_count": 2407,
     "metadata": {},
     "output_type": "execute_result"
    },
    {
     "data": {
      "image/png": "[encoded data removed]",
      "text/plain": [
       "<Figure size 432x288 with 1 Axes>"
      ]
     },
     "metadata": {
      "needs_background": "light"
     },
     "output_type": "display_data"
    }
   ],
   "source": [
    "contractHistory['competitive-tender_en'].value_counts().plot(kind = 'barh')\n",
    "plt.xlabel('Number of Instances')"
   ]
  },
  {
   "cell_type": "code",
   "execution_count": 1833,
   "metadata": {},
   "outputs": [
    {
     "data": {
      "text/plain": [
       "<AxesSubplot:>"
      ]
     },
     "execution_count": 1833,
     "metadata": {},
     "output_type": "execute_result"
    },
    {
     "data": {
      "image/png": "[encoded data removed]",
      "text/plain": [
       "<Figure size 432x288 with 1 Axes>"
      ]
     },
     "metadata": {
      "needs_background": "light"
     },
     "output_type": "display_data"
    }
   ],
   "source": [
    "contractHistory['solicitation-procedure-description_en'].value_counts().plot(kind = 'barh')"
   ]
  },
  {
   "cell_type": "code",
   "execution_count": 1834,
   "metadata": {},
   "outputs": [
    {
     "data": {
      "text/plain": [
       "<AxesSubplot:>"
      ]
     },
     "execution_count": 1834,
     "metadata": {},
     "output_type": "execute_result"
    },
    {
     "data": {
      "image/png": "[encoded data removed]",
      "text/plain": [
       "<Figure size 432x288 with 1 Axes>"
      ]
     },
     "metadata": {
      "needs_background": "light"
     },
     "output_type": "display_data"
    }
   ],
   "source": [
    "contractHistory['organization-employee-count_en'].value_counts().plot(kind = 'barh')"
   ]
  },
  {
   "cell_type": "code",
   "execution_count": 2408,
   "metadata": {},
   "outputs": [
    {
     "data": {
      "text/plain": [
       "Text(0.5, 0, 'Number of Instances')"
      ]
     },
     "execution_count": 2408,
     "metadata": {},
     "output_type": "execute_result"
    },
    {
     "data": {
      "image/png": "[encoded data removed]",
      "text/plain": [
       "<Figure size 432x288 with 1 Axes>"
      ]
     },
     "metadata": {
      "needs_background": "light"
     },
     "output_type": "display_data"
    }
   ],
   "source": [
    "contractHistory['contracting-address-prov-state'].value_counts().plot(kind = 'barh')\n",
    "plt.xlabel('Number of Instances')"
   ]
  },
  {
   "cell_type": "code",
   "execution_count": 1836,
   "metadata": {},
   "outputs": [
    {
     "data": {
      "text/plain": [
       "<AxesSubplot:>"
      ]
     },
     "execution_count": 1836,
     "metadata": {},
     "output_type": "execute_result"
    },
    {
     "data": {
      "image/png": "[encoded data removed]",
      "text/plain": [
       "<Figure size 432x288 with 1 Axes>"
      ]
     },
     "metadata": {
      "needs_background": "light"
     },
     "output_type": "display_data"
    }
   ],
   "source": [
    "contractHistory['contracting-address-country'].value_counts().plot(kind = 'bar')"
   ]
  },
  {
   "cell_type": "code",
   "execution_count": 2409,
   "metadata": {},
   "outputs": [
    {
     "data": {
      "text/plain": [
       "Text(0.5, 0, 'Number of Instances')"
      ]
     },
     "execution_count": 2409,
     "metadata": {},
     "output_type": "execute_result"
    },
    {
     "data": {
      "image/png": "[encoded data removed]",
      "text/plain": [
       "<Figure size 432x288 with 1 Axes>"
      ]
     },
     "metadata": {
      "needs_background": "light"
     },
     "output_type": "display_data"
    }
   ],
   "source": [
    "locate = contractHistory['contracting-address-city'].value_counts()\n",
    "locate = locate[locate > 10000]\n",
    "locate.plot(kind = 'barh')\n",
    "plt.xlabel('Number of Instances')"
   ]
  },
  {
   "cell_type": "code",
   "execution_count": 2410,
   "metadata": {},
   "outputs": [
    {
     "data": {
      "text/plain": [
       "Text(0.5, 0, 'Number of Instances')"
      ]
     },
     "execution_count": 2410,
     "metadata": {},
     "output_type": "execute_result"
    },
    {
     "data": {
      "image/png": "[encoded data removed]",
      "text/plain": [
       "<Figure size 432x288 with 1 Axes>"
      ]
     },
     "metadata": {
      "needs_background": "light"
     },
     "output_type": "display_data"
    }
   ],
   "source": [
    "recordNo = contractHistory['supplier-standardized-name'].value_counts()\n",
    "recordNo = recordNo[recordNo > 1000]\n",
    "recordNo.plot(kind = 'barh')\n",
    "plt.xlabel('Number of Instances')\n"
   ]
  },
  {
   "cell_type": "markdown",
   "metadata": {},
   "source": [
    "## Visualizing Numerical Attributes"
   ]
  },
  {
   "cell_type": "code",
   "execution_count": 1839,
   "metadata": {},
   "outputs": [],
   "source": [
    "contractValue = contractHistory['contract-value'].value_counts().rename_axis('unique_values').reset_index(name='counts')\n",
    "contractValue = pd.DataFrame(contractValue)\n",
    "contractValue = contractValue.sort_values(by='unique_values')"
   ]
  },
  {
   "cell_type": "code",
   "execution_count": 2411,
   "metadata": {},
   "outputs": [
    {
     "data": {
      "text/plain": [
       "Text(0.5, 0, 'Contract Value in Billions')"
      ]
     },
     "execution_count": 2411,
     "metadata": {},
     "output_type": "execute_result"
    },
    {
     "data": {
      "image/png": "[encoded data removed]",
      "text/plain": [
       "<Figure size 432x288 with 1 Axes>"
      ]
     },
     "metadata": {
      "needs_background": "light"
     },
     "output_type": "display_data"
    }
   ],
   "source": [
    "plt.plot(contractValue['unique_values'],contractValue['counts'])\n",
    "plt.ylabel('Number of Instances')\n",
    "plt.xlabel('Contract Value in Billions')"
   ]
  },
  {
   "cell_type": "code",
   "execution_count": 2412,
   "metadata": {},
   "outputs": [
    {
     "data": {
      "text/plain": [
       "Text(0, 0.5, 'Contract Value in Billions')"
      ]
     },
     "execution_count": 2412,
     "metadata": {},
     "output_type": "execute_result"
    },
    {
     "data": {
      "image/png": "[encoded data removed]",
      "text/plain": [
       "<Figure size 432x288 with 1 Axes>"
      ]
     },
     "metadata": {
      "needs_background": "light"
     },
     "output_type": "display_data"
    }
   ],
   "source": [
    "plt.boxplot(contractValue['unique_values'])\n",
    "plt.ylabel('Contract Value in Billions')"
   ]
  },
  {
   "cell_type": "code",
   "execution_count": 1842,
   "metadata": {},
   "outputs": [],
   "source": [
    "totalValue = contractHistory['total-contract-value'].value_counts().rename_axis('unique_values').reset_index(name='counts')\n",
    "totalValue = pd.DataFrame(totalValue)\n",
    "totalValue = totalValue.sort_values(by='unique_values')"
   ]
  },
  {
   "cell_type": "code",
   "execution_count": 2413,
   "metadata": {},
   "outputs": [
    {
     "data": {
      "text/plain": [
       "Text(0.5, 0, 'Total Contract Value in Billions')"
      ]
     },
     "execution_count": 2413,
     "metadata": {},
     "output_type": "execute_result"
    },
    {
     "data": {
      "image/png": "[encoded data removed]",
      "text/plain": [
       "<Figure size 432x288 with 1 Axes>"
      ]
     },
     "metadata": {
      "needs_background": "light"
     },
     "output_type": "display_data"
    }
   ],
   "source": [
    "plt.plot(totalValue['unique_values'],totalValue['counts'])\n",
    "plt.ylabel('Number of Instances')\n",
    "plt.xlabel('Total Contract Value in Billions')"
   ]
  },
  {
   "cell_type": "code",
   "execution_count": 2414,
   "metadata": {},
   "outputs": [
    {
     "data": {
      "text/plain": [
       "Text(0, 0.5, 'Total Contract Value in Billions')"
      ]
     },
     "execution_count": 2414,
     "metadata": {},
     "output_type": "execute_result"
    },
    {
     "data": {
      "image/png": "[encoded data removed]",
      "text/plain": [
       "<Figure size 432x288 with 1 Axes>"
      ]
     },
     "metadata": {
      "needs_background": "light"
     },
     "output_type": "display_data"
    }
   ],
   "source": [
    "plt.boxplot(totalValue['unique_values'])\n",
    "plt.ylabel('Total Contract Value in Billions')"
   ]
  },
  {
   "cell_type": "code",
   "execution_count": 4,
   "metadata": {},
   "outputs": [],
   "source": [
    "noRecord = contractHistory['number-records'].value_counts().rename_axis('unique_values').reset_index(name='counts')\n",
    "noRecord = pd.DataFrame(noRecord)\n",
    "noRecord = noRecord.sort_values(by='unique_values')"
   ]
  },
  {
   "cell_type": "code",
   "execution_count": 5,
   "metadata": {},
   "outputs": [
    {
     "data": {
      "text/plain": [
       "Text(0.5, 0, 'Number of Records')"
      ]
     },
     "execution_count": 5,
     "metadata": {},
     "output_type": "execute_result"
    },
    {
     "data": {
      "image/png": "[encoded data removed]",
      "text/plain": [
       "<Figure size 432x288 with 1 Axes>"
      ]
     },
     "metadata": {
      "needs_background": "light"
     },
     "output_type": "display_data"
    }
   ],
   "source": [
    "plt.plot(noRecord['unique_values'],noRecord['counts'])\n",
    "plt.ylabel('Number of Instances')\n",
    "plt.xlabel('Number of Records')"
   ]
  },
  {
   "cell_type": "code",
   "execution_count": 6,
   "metadata": {},
   "outputs": [
    {
     "data": {
      "text/plain": [
       "Text(0, 0.5, 'Number of Records')"
      ]
     },
     "execution_count": 6,
     "metadata": {},
     "output_type": "execute_result"
    },
    {
     "data": {
      "image/png": "[encoded data removed]",
      "text/plain": [
       "<Figure size 432x288 with 1 Axes>"
      ]
     },
     "metadata": {
      "needs_background": "light"
     },
     "output_type": "display_data"
    }
   ],
   "source": [
    "plt.boxplot(noRecord['unique_values'])\n",
    "plt.ylabel('Number of Records')"
   ]
  },
  {
   "cell_type": "code",
   "execution_count": 1848,
   "metadata": {},
   "outputs": [
    {
     "data": {
      "text/plain": [
       "<matplotlib.collections.PathCollection at 0x181d4ca2ac0>"
      ]
     },
     "execution_count": 1848,
     "metadata": {},
     "output_type": "execute_result"
    },
    {
     "data": {
      "image/png": "[encoded data removed]",
      "text/plain": [
       "<Figure size 432x288 with 1 Axes>"
      ]
     },
     "metadata": {
      "needs_background": "light"
     },
     "output_type": "display_data"
    }
   ],
   "source": [
    "plt.scatter(contractHistory['total-contract-value'],contractHistory['number-records'])"
   ]
  },
  {
   "cell_type": "markdown",
   "metadata": {},
   "source": [
    "## Correlation Analysis"
   ]
  },
  {
   "cell_type": "code",
   "execution_count": 1849,
   "metadata": {},
   "outputs": [
    {
     "data": {
      "image/png": "[encoded data removed]",
      "text/plain": [
       "<Figure size 432x288 with 2 Axes>"
      ]
     },
     "metadata": {
      "needs_background": "light"
     },
     "output_type": "display_data"
    }
   ],
   "source": [
    "corrMatrix = contractHistory.corr()\n",
    "sn.heatmap(corrMatrix, annot=True)\n",
    "plt.show()"
   ]
  },
  {
   "cell_type": "markdown",
   "metadata": {},
   "source": [
    "## Removing Attributes\n",
    "Duplicate attributes were removed, barring GSIN and trade agreements, since this information might help with later analysis.\n",
    "Procurement entity information was removed since it showed one value."
   ]
  },
  {
   "cell_type": "code",
   "execution_count": 7,
   "metadata": {},
   "outputs": [],
   "source": [
    "editCH = contractHistory.drop(['gsin-description_fr','competitive-tender_fr','limited-tender-reason','limited-tender-reason-description_fr','solicitation-procedure','solicitation-procedure-description_fr','trade-agreement-description_en','trade-agreement-description_fr','supplier-operating-name','supplier-legal-name','organization-employee-count_fr','end-user-entity_fr','contracting-entity-office-name_fr','procurement-entity-name_en',\n",
    "       'procurement-entity-name_fr'], axis = 1)"
   ]
  },
  {
   "cell_type": "markdown",
   "metadata": {},
   "source": [
    "## Testing for Impact of Duplicate Contract Number Instances\n",
    "Reviewing to determine whether duplicate contact numbers result in duplicate information elsewhere."
   ]
  },
  {
   "cell_type": "code",
   "execution_count": 1851,
   "metadata": {},
   "outputs": [],
   "source": [
    "editCH.insert(27, 'contract-number supplier test',editCH['contract-number'] + editCH['supplier-standardized-name'])"
   ]
  },
  {
   "cell_type": "code",
   "execution_count": 1852,
   "metadata": {},
   "outputs": [
    {
     "data": {
      "text/plain": [
       "E0208-150548/001/PWZWRIGHT CONSTRUCTION                                                                                   206\n",
       "EN578-110558/001/XLWOLTERS KLUWER LTD / WOLTERS KLUWER LIMITEE                                                            162\n",
       "EP008-112560/001/GCBROOKFIELD GLOBAL INTEGRATED SOLUTIONS CANADA LP/BROOKFIELD SOLUTIONS GLOBALES INTEGREES CANADA SEC    152\n",
       "EW038-140681/001/PWUTRI CITY CANADA INC                                                                                   139\n",
       "EP008-112560/004/GCBROOKFIELD GLOBAL INTEGRATED SOLUTIONS CANADA LP/BROOKFIELD SOLUTIONS GLOBALES INTEGREES CANADA SEC    139\n",
       "                                                                                                                         ... \n",
       "W8160-140026/001/PICEDROM-SNI INC                                                                                           1\n",
       "08324-140303/001/EJONX ENTERPRISE SOLUTIONS LTD                                                                             1\n",
       "W8486-096164/005/HSB S F (BUSINESS SOLUTIONS FASTENERS) INTERNATIONAL INC                                                   1\n",
       "E60LP-100002/088/LPSHERATON VANCOUVER GUILDFORD                                                                             1\n",
       "U4030-221421/001/HNSPEAG SCHMID & PARTNER ENGINEERING AG                                                                    1\n",
       "Name: contract-number supplier test, Length: 200644, dtype: int64"
      ]
     },
     "execution_count": 1852,
     "metadata": {},
     "output_type": "execute_result"
    }
   ],
   "source": [
    "editCH['contract-number supplier test'].value_counts()"
   ]
  },
  {
   "cell_type": "code",
   "execution_count": 1853,
   "metadata": {},
   "outputs": [
    {
     "data": {
      "text/plain": [
       "count                   441210\n",
       "unique                  199675\n",
       "top       E0208-150548/001/PWZ\n",
       "freq                       206\n",
       "Name: contract-number, dtype: object"
      ]
     },
     "execution_count": 1853,
     "metadata": {},
     "output_type": "execute_result"
    }
   ],
   "source": [
    "editCH['contract-number'].describe()"
   ]
  },
  {
   "cell_type": "code",
   "execution_count": 1854,
   "metadata": {},
   "outputs": [
    {
     "data": {
      "text/plain": [
       "count                                      441210\n",
       "unique                                     200644\n",
       "top       E0208-150548/001/PWZWRIGHT CONSTRUCTION\n",
       "freq                                          206\n",
       "Name: contract-number supplier test, dtype: object"
      ]
     },
     "execution_count": 1854,
     "metadata": {},
     "output_type": "execute_result"
    }
   ],
   "source": [
    "editCH['contract-number supplier test'].describe()"
   ]
  },
  {
   "cell_type": "markdown",
   "metadata": {},
   "source": [
    "## Removing Duplicate Contract Number Instances\n",
    "Since the test above indicates that there are only 969 unique instances where the supplier changes within the same contract number, representing only 0.485% of the contract numbers. The duplicate instances of contract numbers to reflect amendments were removed, as well as the contract value and amendment number, which are better reflected by the total contrat value and number of records attributes. The remaining instances reflect the first award dates of the contract numbers to capture the initial win of the contract. "
   ]
  },
  {
   "cell_type": "code",
   "execution_count": 1855,
   "metadata": {},
   "outputs": [
    {
     "data": {
      "text/plain": [
       "(199675, 29)"
      ]
     },
     "execution_count": 1855,
     "metadata": {},
     "output_type": "execute_result"
    }
   ],
   "source": [
    "editCH.sort_values(['contract-number','award-date'], ascending=True, inplace=True)\n",
    "editCH.insert(28, 'duplicate contract check', editCH.duplicated(subset='contract-number'))\n",
    "editCH = editCH[editCH['duplicate contract check'] != True]\n",
    "editCH.shape"
   ]
  },
  {
   "cell_type": "code",
   "execution_count": 1856,
   "metadata": {},
   "outputs": [
    {
     "data": {
      "text/plain": [
       "(199675, 25)"
      ]
     },
     "execution_count": 1856,
     "metadata": {},
     "output_type": "execute_result"
    }
   ],
   "source": [
    "editCH = editCH.drop(['amendment-number', 'contract-value', 'duplicate contract check', 'contract-number supplier test'], axis = 1)\n",
    "editCH.shape"
   ]
  },
  {
   "cell_type": "markdown",
   "metadata": {},
   "source": [
    "## Creating a Parent GSIN Category\n",
    "Given the high volume of unique GSIN codes, and the ability to categorize the code within a parent company by the first letter, a GSIN category attribute has been created."
   ]
  },
  {
   "cell_type": "code",
   "execution_count": 8,
   "metadata": {},
   "outputs": [
    {
     "data": {
      "text/plain": [
       "Text(0, 0.5, 'Number of Instances')"
      ]
     },
     "execution_count": 8,
     "metadata": {},
     "output_type": "execute_result"
    },
    {
     "data": {
      "image/png": "[encoded data removed]",
      "text/plain": [
       "<Figure size 432x288 with 1 Axes>"
      ]
     },
     "metadata": {
      "needs_background": "light"
     },
     "output_type": "display_data"
    }
   ],
   "source": [
    "editCH.insert(5, 'gsin-category', editCH['gsin'].str[:1])\n",
    "editCH['gsin-category'].value_counts().plot(kind = 'bar')\n",
    "plt.ylabel('Number of Instances')"
   ]
  },
  {
   "cell_type": "markdown",
   "metadata": {},
   "source": [
    "## Removing Limited Tender Reason\n",
    "\n",
    "The information in the editCH dataset is generally filled in. However, a category with a significant amount (72.5%) missing values is the the limited tender reason column, which is a near exact match to the number of non-competitive tenders. Given the sparce data in this column, it has been removed from the dataset."
   ]
  },
  {
   "cell_type": "code",
   "execution_count": 1858,
   "metadata": {},
   "outputs": [
    {
     "data": {
      "text/plain": [
       "count                   199675\n",
       "unique                  199675\n",
       "top       01005-010324/009/WPG\n",
       "freq                         1\n",
       "Name: contract-number, dtype: object"
      ]
     },
     "execution_count": 1858,
     "metadata": {},
     "output_type": "execute_result"
    }
   ],
   "source": [
    "editCH['contract-number'].describe()"
   ]
  },
  {
   "cell_type": "code",
   "execution_count": 1859,
   "metadata": {},
   "outputs": [
    {
     "data": {
      "text/plain": [
       "count                54900\n",
       "unique                  16\n",
       "top       Exclusive Rights\n",
       "freq                 30599\n",
       "Name: limited-tender-reason-description_en, dtype: object"
      ]
     },
     "execution_count": 1859,
     "metadata": {},
     "output_type": "execute_result"
    }
   ],
   "source": [
    "editCH['limited-tender-reason-description_en'].describe()"
   ]
  },
  {
   "cell_type": "code",
   "execution_count": 1860,
   "metadata": {},
   "outputs": [
    {
     "data": {
      "text/plain": [
       "72.50532114686365"
      ]
     },
     "execution_count": 1860,
     "metadata": {},
     "output_type": "execute_result"
    }
   ],
   "source": [
    "(199675-54900)/199675*100"
   ]
  },
  {
   "cell_type": "code",
   "execution_count": 1861,
   "metadata": {},
   "outputs": [
    {
     "data": {
      "text/plain": [
       "Yes    144768\n",
       "No      54907\n",
       "Name: competitive-tender_en, dtype: int64"
      ]
     },
     "execution_count": 1861,
     "metadata": {},
     "output_type": "execute_result"
    }
   ],
   "source": [
    "editCH['competitive-tender_en'].value_counts()"
   ]
  },
  {
   "cell_type": "code",
   "execution_count": 1862,
   "metadata": {},
   "outputs": [],
   "source": [
    "editCH = editCH.drop(['limited-tender-reason-description_en'], axis = 1)"
   ]
  },
  {
   "cell_type": "markdown",
   "metadata": {},
   "source": [
    "## Managing Missing Categorical Values\n",
    "\n",
    "The the following items have lower volumes of missing data: trade agreement (0.47%), supplier details such as city (0.23%), province/state (3.15%), postal code (0.96%), organization employee count (0.0005%), and contracting entity office name (2.66%) and details such as address street 1 (0.0015%), address street 2 (26.98%), province/state (0.075%), postal code (0.002%), and country (0.0015%). Since the freqnency of missing information is limited in all attributes except for address street 2, the rows containing missing data were removed. The attribute for address street 2 was due to high missing volume. However, province/state missing items were not removed since the missing cells reflect suppliers from other countries.\n"
   ]
  },
  {
   "cell_type": "code",
   "execution_count": 1863,
   "metadata": {},
   "outputs": [
    {
     "data": {
      "text/plain": [
       "count                                          199675\n",
       "unique                                           5164\n",
       "top       Hotels, Motels and Commercial Accommodation\n",
       "freq                                            16657\n",
       "Name: gsin-description_en, dtype: object"
      ]
     },
     "execution_count": 1863,
     "metadata": {},
     "output_type": "execute_result"
    }
   ],
   "source": [
    "#this cell was repeated for all attributes with missing values to assess impact\n",
    "editCH['gsin-description_en'].describe()"
   ]
  },
  {
   "cell_type": "code",
   "execution_count": 1864,
   "metadata": {},
   "outputs": [
    {
     "data": {
      "text/plain": [
       "count                   199675\n",
       "unique                  199675\n",
       "top       01005-010324/009/WPG\n",
       "freq                         1\n",
       "Name: contract-number, dtype: object"
      ]
     },
     "execution_count": 1864,
     "metadata": {},
     "output_type": "execute_result"
    }
   ],
   "source": [
    "editCH['contract-number'].describe()"
   ]
  },
  {
   "cell_type": "code",
   "execution_count": 1865,
   "metadata": {},
   "outputs": [
    {
     "data": {
      "text/plain": [
       "0.0015024414673844998"
      ]
     },
     "execution_count": 1865,
     "metadata": {},
     "output_type": "execute_result"
    }
   ],
   "source": [
    "#this cell was repeated for all attributes with missing values to assess impact\n",
    "(199675-199672)/199675*100"
   ]
  },
  {
   "cell_type": "code",
   "execution_count": 1866,
   "metadata": {},
   "outputs": [],
   "source": [
    "editCH = editCH.drop(['contracting-address-street-2'], axis = 1)"
   ]
  },
  {
   "cell_type": "code",
   "execution_count": 1867,
   "metadata": {},
   "outputs": [],
   "source": [
    "#editCH.dropna(subset = ['gsin-description_en', 'end-user-entity-top', 'trade-agreement', 'supplier-address-city', 'supplier-address-postal-code', 'organization-employee-count_en', 'contracting-entity-office-name_en', 'contracting-address-street-1', 'contracting-address-prov-state', 'contracting-address-postal-code', 'contracting-address-country'], axis = 0, inplace = True)"
   ]
  },
  {
   "cell_type": "code",
   "execution_count": 1868,
   "metadata": {},
   "outputs": [
    {
     "data": {
      "text/plain": [
       "Index(['contract-number', 'award-date', 'expiry-date', 'gsin',\n",
       "       'gsin-description_en', 'gsin-category', 'competitive-tender_en',\n",
       "       'solicitation-procedure-description_en', 'trade-agreement',\n",
       "       'supplier-standardized-name', 'supplier-address-city',\n",
       "       'supplier-address-prov-state', 'supplier-address-postal-code',\n",
       "       'supplier-address-country', 'organization-employee-count_en',\n",
       "       'total-contract-value', 'number-records', 'end-user-entity_en',\n",
       "       'contracting-entity-office-name_en', 'contracting-address-street-1',\n",
       "       'contracting-address-city', 'contracting-address-prov-state',\n",
       "       'contracting-address-postal-code', 'contracting-address-country'],\n",
       "      dtype='object')"
      ]
     },
     "execution_count": 1868,
     "metadata": {},
     "output_type": "execute_result"
    }
   ],
   "source": [
    "editCH.columns"
   ]
  },
  {
   "cell_type": "code",
   "execution_count": 1869,
   "metadata": {},
   "outputs": [],
   "source": [
    "editCH.dropna(subset = ['contract-number', 'award-date', 'expiry-date', 'gsin', 'gsin-description_en', 'gsin-category', 'competitive-tender_en', 'solicitation-procedure-description_en', 'trade-agreement', 'total-contract-value', 'end-user-entity_en', 'contracting-entity-office-name_en', 'contracting-address-city', 'contracting-address-prov-state', 'contracting-address-postal-code', 'contracting-address-country'], axis = 0, inplace = True)"
   ]
  },
  {
   "cell_type": "code",
   "execution_count": 1870,
   "metadata": {},
   "outputs": [
    {
     "data": {
      "text/plain": [
       "(194135, 24)"
      ]
     },
     "execution_count": 1870,
     "metadata": {},
     "output_type": "execute_result"
    }
   ],
   "source": [
    "editCH.shape"
   ]
  },
  {
   "cell_type": "markdown",
   "metadata": {},
   "source": [
    "## Creating Time Series for Award Date Attribute\n",
    "The expiry date was removed after review of the data."
   ]
  },
  {
   "cell_type": "code",
   "execution_count": 1871,
   "metadata": {},
   "outputs": [],
   "source": [
    "editCH['award year']=[d.split('-')[0] for d in editCH['award-date']]\n",
    "editCH['award month']=[d.split('-')[1] for d in editCH['award-date']]\n",
    "editCH['award day']=[d.split('-')[2] for d in editCH['award-date']]"
   ]
  },
  {
   "cell_type": "code",
   "execution_count": 1872,
   "metadata": {},
   "outputs": [],
   "source": [
    "editCH['award year'] = pd.to_numeric(editCH['award year'])"
   ]
  },
  {
   "cell_type": "code",
   "execution_count": 1873,
   "metadata": {},
   "outputs": [],
   "source": [
    "awardYear = (editCH['award year'] - editCH['award year'].min()) / (editCH['award year'].max()-editCH['award year'].min())\n",
    "editCH.insert(25, 'award-year-normalized',awardYear)"
   ]
  },
  {
   "cell_type": "code",
   "execution_count": 1874,
   "metadata": {},
   "outputs": [],
   "source": [
    "editCH.insert(24, 'days-since-first-award', 'None')"
   ]
  },
  {
   "cell_type": "code",
   "execution_count": 1875,
   "metadata": {},
   "outputs": [
    {
     "data": {
      "text/plain": [
       "22402       89\n",
       "22486      127\n",
       "22488      259\n",
       "279171      63\n",
       "204467     243\n",
       "          ... \n",
       "47968     1121\n",
       "91429     1145\n",
       "74499     1134\n",
       "285173    1175\n",
       "167242     152\n",
       "Name: days-since-first-award, Length: 194135, dtype: int64"
      ]
     },
     "execution_count": 1875,
     "metadata": {},
     "output_type": "execute_result"
    }
   ],
   "source": [
    "from datetime import datetime\n",
    "\n",
    "editCH['award-date'] = editCH['award-date'].apply(pd.to_datetime)\n",
    "editCH['days-since-first-award'] = (editCH['award-date'] - editCH['award-date'].min()).dt.days\n",
    "editCH['days-since-first-award']"
   ]
  },
  {
   "cell_type": "code",
   "execution_count": 1876,
   "metadata": {},
   "outputs": [],
   "source": [
    "normalizedAwardDays = (editCH['days-since-first-award'] - editCH['days-since-first-award'].min()) / (editCH['days-since-first-award'].max()-editCH['days-since-first-award'].min())\n",
    "editCH.insert(25, 'days-since-first-award-normalized',normalizedAwardDays)"
   ]
  },
  {
   "cell_type": "markdown",
   "metadata": {},
   "source": [
    "## Numeric Attributes\n",
    "### Total Contract Value\n",
    "This data has a right skew, with negative values, a significant spike in values at 0 and 25000, and a long right tail with outliers."
   ]
  },
  {
   "cell_type": "code",
   "execution_count": 1877,
   "metadata": {},
   "outputs": [
    {
     "data": {
      "text/plain": [
       "0.0          18461\n",
       "25000.0      10848\n",
       "1.0            982\n",
       "100000.0       758\n",
       "26250.0        697\n",
       "             ...  \n",
       "3170196.0        1\n",
       "615523.0         1\n",
       "4769883.0        1\n",
       "176914.0         1\n",
       "3999.0           1\n",
       "Name: total-contract-value, Length: 96040, dtype: int64"
      ]
     },
     "execution_count": 1877,
     "metadata": {},
     "output_type": "execute_result"
    }
   ],
   "source": [
    "editCH['total-contract-value'].value_counts()"
   ]
  },
  {
   "cell_type": "code",
   "execution_count": 1878,
   "metadata": {},
   "outputs": [],
   "source": [
    "totalContractValue = editCH['total-contract-value'].value_counts().rename_axis('unique_values').reset_index(name='counts')\n",
    "totalContractValue = pd.DataFrame(totalContractValue)\n",
    "totalContractValue = totalContractValue.sort_values(by = 'unique_values')"
   ]
  },
  {
   "cell_type": "code",
   "execution_count": 1879,
   "metadata": {},
   "outputs": [
    {
     "data": {
      "text/plain": [
       "[<matplotlib.lines.Line2D at 0x181f2220a60>]"
      ]
     },
     "execution_count": 1879,
     "metadata": {},
     "output_type": "execute_result"
    },
    {
     "data": {
      "image/png": "[encoded data removed]",
      "text/plain": [
       "<Figure size 432x288 with 1 Axes>"
      ]
     },
     "metadata": {
      "needs_background": "light"
     },
     "output_type": "display_data"
    }
   ],
   "source": [
    "plt.plot(totalContractValue['unique_values'],totalContractValue['counts'])"
   ]
  },
  {
   "cell_type": "code",
   "execution_count": 1880,
   "metadata": {},
   "outputs": [
    {
     "data": {
      "text/plain": [
       "{'whiskers': [<matplotlib.lines.Line2D at 0x181f22421c0>,\n",
       "  <matplotlib.lines.Line2D at 0x181f2242550>],\n",
       " 'caps': [<matplotlib.lines.Line2D at 0x181f2242910>,\n",
       "  <matplotlib.lines.Line2D at 0x181f2242ca0>],\n",
       " 'boxes': [<matplotlib.lines.Line2D at 0x181f223fdf0>],\n",
       " 'medians': [<matplotlib.lines.Line2D at 0x181f2243070>],\n",
       " 'fliers': [<matplotlib.lines.Line2D at 0x181f2243400>],\n",
       " 'means': []}"
      ]
     },
     "execution_count": 1880,
     "metadata": {},
     "output_type": "execute_result"
    },
    {
     "data": {
      "image/png": "[encoded data removed]",
      "text/plain": [
       "<Figure size 432x288 with 1 Axes>"
      ]
     },
     "metadata": {
      "needs_background": "light"
     },
     "output_type": "display_data"
    }
   ],
   "source": [
    "plt.boxplot(totalContractValue['unique_values'])"
   ]
  },
  {
   "cell_type": "code",
   "execution_count": 1881,
   "metadata": {},
   "outputs": [
    {
     "data": {
      "text/plain": [
       "[<matplotlib.lines.Line2D at 0x182079e2fd0>]"
      ]
     },
     "execution_count": 1881,
     "metadata": {},
     "output_type": "execute_result"
    },
    {
     "data": {
      "image/png": "[encoded data removed]",
      "text/plain": [
       "<Figure size 432x288 with 1 Axes>"
      ]
     },
     "metadata": {
      "needs_background": "light"
     },
     "output_type": "display_data"
    }
   ],
   "source": [
    "test = totalContractValue[['unique_values', 'counts']]\n",
    "test = test[test['unique_values'] > 1]\n",
    "test = test[test['unique_values'] != 25000]\n",
    "plt.plot(np.log(test['unique_values']),test['counts'])"
   ]
  },
  {
   "cell_type": "code",
   "execution_count": 1882,
   "metadata": {},
   "outputs": [
    {
     "data": {
      "text/plain": [
       "(array([ 1.,  0.,  0.,  0.,  0.,  0.,  0.,  0.,  0.,  0.,  0.,  0.,  0.,\n",
       "         0.,  0.,  0.,  0.,  0.,  0.,  0.,  0.,  0.,  0.,  0.,  0.,  0.,\n",
       "         0.,  0.,  0.,  0.,  0.,  0.,  0.,  0.,  1.,  0.,  0.,  0.,  0.,\n",
       "         1.,  0.,  0.,  0.,  0.,  0.,  0.,  0.,  0.,  0.,  0.,  0.,  0.,\n",
       "         0.,  0.,  0.,  0.,  0.,  1.,  0.,  0.,  0.,  0.,  0.,  0.,  0.,\n",
       "         0.,  0.,  0.,  0.,  0.,  0.,  0.,  0.,  0.,  0.,  0.,  0.,  0.,\n",
       "         0.,  0.,  0.,  0.,  0.,  0.,  0.,  0.,  0.,  0.,  0.,  1.,  1.,\n",
       "         0.,  0.,  1.,  0.,  2.,  0.,  1.,  3., 34.]),\n",
       " array([-1.85800910e+07, -1.83942901e+07, -1.82084892e+07, -1.80226883e+07,\n",
       "        -1.78368874e+07, -1.76510865e+07, -1.74652856e+07, -1.72794847e+07,\n",
       "        -1.70936838e+07, -1.69078829e+07, -1.67220820e+07, -1.65362811e+07,\n",
       "        -1.63504802e+07, -1.61646793e+07, -1.59788784e+07, -1.57930775e+07,\n",
       "        -1.56072766e+07, -1.54214757e+07, -1.52356748e+07, -1.50498739e+07,\n",
       "        -1.48640730e+07, -1.46782721e+07, -1.44924712e+07, -1.43066703e+07,\n",
       "        -1.41208694e+07, -1.39350685e+07, -1.37492676e+07, -1.35634667e+07,\n",
       "        -1.33776658e+07, -1.31918649e+07, -1.30060640e+07, -1.28202631e+07,\n",
       "        -1.26344622e+07, -1.24486613e+07, -1.22628604e+07, -1.20770595e+07,\n",
       "        -1.18912586e+07, -1.17054577e+07, -1.15196568e+07, -1.13338559e+07,\n",
       "        -1.11480550e+07, -1.09622541e+07, -1.07764532e+07, -1.05906523e+07,\n",
       "        -1.04048514e+07, -1.02190505e+07, -1.00332496e+07, -9.84744870e+06,\n",
       "        -9.66164780e+06, -9.47584690e+06, -9.29004600e+06, -9.10424510e+06,\n",
       "        -8.91844420e+06, -8.73264330e+06, -8.54684240e+06, -8.36104150e+06,\n",
       "        -8.17524060e+06, -7.98943970e+06, -7.80363880e+06, -7.61783790e+06,\n",
       "        -7.43203700e+06, -7.24623610e+06, -7.06043520e+06, -6.87463430e+06,\n",
       "        -6.68883340e+06, -6.50303250e+06, -6.31723160e+06, -6.13143070e+06,\n",
       "        -5.94562980e+06, -5.75982890e+06, -5.57402800e+06, -5.38822710e+06,\n",
       "        -5.20242620e+06, -5.01662530e+06, -4.83082440e+06, -4.64502350e+06,\n",
       "        -4.45922260e+06, -4.27342170e+06, -4.08762080e+06, -3.90181990e+06,\n",
       "        -3.71601900e+06, -3.53021810e+06, -3.34441720e+06, -3.15861630e+06,\n",
       "        -2.97281540e+06, -2.78701450e+06, -2.60121360e+06, -2.41541270e+06,\n",
       "        -2.22961180e+06, -2.04381090e+06, -1.85801000e+06, -1.67220910e+06,\n",
       "        -1.48640820e+06, -1.30060730e+06, -1.11480640e+06, -9.29005500e+05,\n",
       "        -7.43204600e+05, -5.57403700e+05, -3.71602800e+05, -1.85801900e+05,\n",
       "        -1.00000000e+00]),\n",
       " <BarContainer object of 100 artists>)"
      ]
     },
     "execution_count": 1882,
     "metadata": {},
     "output_type": "execute_result"
    },
    {
     "data": {
      "image/png": "[encoded data removed]",
      "text/plain": [
       "<Figure size 432x288 with 1 Axes>"
      ]
     },
     "metadata": {
      "needs_background": "light"
     },
     "output_type": "display_data"
    }
   ],
   "source": [
    "test2 = totalContractValue[['unique_values', 'counts']]\n",
    "test2 = test2[test2['unique_values'] < 0]\n",
    "test2 = test2[test2['unique_values'] > -25000000]\n",
    "plt.hist(test2['unique_values'], bins = 100)"
   ]
  },
  {
   "cell_type": "code",
   "execution_count": 1883,
   "metadata": {},
   "outputs": [],
   "source": [
    "#This data has a lognormal distribution for the positive values when 0, 1, and 25000 are removed"
   ]
  },
  {
   "cell_type": "code",
   "execution_count": 1884,
   "metadata": {},
   "outputs": [],
   "source": [
    "#removing two significant outliers\n",
    "remove = editCH[editCH['total-contract-value'] >= 4000000000].index\n",
    "editCH.drop(remove, inplace = True)"
   ]
  },
  {
   "cell_type": "code",
   "execution_count": 1885,
   "metadata": {},
   "outputs": [
    {
     "data": {
      "text/plain": [
       "{'whiskers': [<matplotlib.lines.Line2D at 0x181f1b9bf70>,\n",
       "  <matplotlib.lines.Line2D at 0x181f1ba0340>],\n",
       " 'caps': [<matplotlib.lines.Line2D at 0x181f1ba06d0>,\n",
       "  <matplotlib.lines.Line2D at 0x181f1ba0a60>],\n",
       " 'boxes': [<matplotlib.lines.Line2D at 0x181f1b9bbe0>],\n",
       " 'medians': [<matplotlib.lines.Line2D at 0x181f1ba0df0>],\n",
       " 'fliers': [<matplotlib.lines.Line2D at 0x181f1ba31c0>],\n",
       " 'means': []}"
      ]
     },
     "execution_count": 1885,
     "metadata": {},
     "output_type": "execute_result"
    },
    {
     "data": {
      "image/png": "[encoded data removed]",
      "text/plain": [
       "<Figure size 432x288 with 1 Axes>"
      ]
     },
     "metadata": {
      "needs_background": "light"
     },
     "output_type": "display_data"
    }
   ],
   "source": [
    "plt.boxplot(editCH['total-contract-value'])"
   ]
  },
  {
   "cell_type": "code",
   "execution_count": 1886,
   "metadata": {},
   "outputs": [],
   "source": [
    "normalizedContractValue = (editCH['total-contract-value'] - editCH['total-contract-value'].min()) / (editCH['total-contract-value'].max()-editCH['total-contract-value'].min())\n",
    "editCH.insert(16, 'total-contract-value-normalized',normalizedContractValue)"
   ]
  },
  {
   "cell_type": "code",
   "execution_count": 1887,
   "metadata": {},
   "outputs": [
    {
     "name": "stdout",
     "output_type": "stream",
     "text": [
      "       unique_values  counts\n",
      "46268       0.000000       1\n",
      "46746       0.038139       1\n",
      "46156       0.057092       1\n",
      "54049       0.059099       1\n",
      "46246       0.059409       1\n",
      "...              ...     ...\n",
      "56932       0.785771       1\n",
      "44460       0.896624       1\n",
      "92348       0.969658       1\n",
      "44286       0.982991       1\n",
      "93428       1.000000       1\n",
      "\n",
      "[96038 rows x 2 columns]\n"
     ]
    }
   ],
   "source": [
    "contractValueNorm = editCH['total-contract-value-normalized'].value_counts().rename_axis('unique_values').reset_index(name='counts')\n",
    "contractValueNorm = pd.DataFrame(contractValueNorm)\n",
    "contractValueNorm = contractValueNorm.sort_values(by='unique_values')\n",
    "print(contractValueNorm)"
   ]
  },
  {
   "cell_type": "code",
   "execution_count": 1888,
   "metadata": {},
   "outputs": [
    {
     "data": {
      "text/plain": [
       "[<matplotlib.lines.Line2D at 0x181eff11b50>]"
      ]
     },
     "execution_count": 1888,
     "metadata": {},
     "output_type": "execute_result"
    },
    {
     "data": {
      "image/png": "[encoded data removed]",
      "text/plain": [
       "<Figure size 432x288 with 1 Axes>"
      ]
     },
     "metadata": {
      "needs_background": "light"
     },
     "output_type": "display_data"
    }
   ],
   "source": [
    "plt.plot(contractValueNorm['unique_values'],contractValueNorm['counts'])"
   ]
  },
  {
   "cell_type": "markdown",
   "metadata": {},
   "source": [
    "### Number of Records"
   ]
  },
  {
   "cell_type": "code",
   "execution_count": 1889,
   "metadata": {},
   "outputs": [
    {
     "data": {
      "text/plain": [
       "1      110041\n",
       "2       37463\n",
       "3       17048\n",
       "4        9743\n",
       "5        5698\n",
       "        ...  \n",
       "103         1\n",
       "67          1\n",
       "135         1\n",
       "123         1\n",
       "64          1\n",
       "Name: number-records, Length: 105, dtype: int64"
      ]
     },
     "execution_count": 1889,
     "metadata": {},
     "output_type": "execute_result"
    }
   ],
   "source": [
    "editCH['number-records'].value_counts()"
   ]
  },
  {
   "cell_type": "code",
   "execution_count": 1890,
   "metadata": {},
   "outputs": [
    {
     "data": {
      "text/plain": [
       "[<matplotlib.lines.Line2D at 0x181eff3e040>]"
      ]
     },
     "execution_count": 1890,
     "metadata": {},
     "output_type": "execute_result"
    },
    {
     "data": {
      "image/png": "[encoded data removed]",
      "text/plain": [
       "<Figure size 432x288 with 1 Axes>"
      ]
     },
     "metadata": {
      "needs_background": "light"
     },
     "output_type": "display_data"
    }
   ],
   "source": [
    "noRecord = editCH['number-records'].value_counts().rename_axis('records').reset_index(name='counts')\n",
    "noRecord = pd.DataFrame(noRecord)\n",
    "noRecord = noRecord.sort_values(by='records')\n",
    "plt.plot(noRecord['records'],noRecord['counts'])"
   ]
  },
  {
   "cell_type": "code",
   "execution_count": 1891,
   "metadata": {},
   "outputs": [
    {
     "data": {
      "text/plain": [
       "{'whiskers': [<matplotlib.lines.Line2D at 0x181eff695b0>,\n",
       "  <matplotlib.lines.Line2D at 0x181eff69940>],\n",
       " 'caps': [<matplotlib.lines.Line2D at 0x181eff69cd0>,\n",
       "  <matplotlib.lines.Line2D at 0x181eff6d0a0>],\n",
       " 'boxes': [<matplotlib.lines.Line2D at 0x181eff69220>],\n",
       " 'medians': [<matplotlib.lines.Line2D at 0x181eff6d430>],\n",
       " 'fliers': [<matplotlib.lines.Line2D at 0x181eff6d7c0>],\n",
       " 'means': []}"
      ]
     },
     "execution_count": 1891,
     "metadata": {},
     "output_type": "execute_result"
    },
    {
     "data": {
      "image/png": "[encoded data removed]",
      "text/plain": [
       "<Figure size 432x288 with 1 Axes>"
      ]
     },
     "metadata": {
      "needs_background": "light"
     },
     "output_type": "display_data"
    }
   ],
   "source": [
    "plt.boxplot(noRecord['records'])"
   ]
  },
  {
   "cell_type": "code",
   "execution_count": 1892,
   "metadata": {},
   "outputs": [],
   "source": [
    "#This data has an exponential distibution\n",
    "#Since number of records does not have material impact on the outcome of the supplier award, it is being removed from this analysis\n",
    "#noRecordNorm = (editCH['number-records'] - editCH['number-records'].min()) / (editCH['number-records'].max()-editCH['number-records'].min())\n",
    "#editCH.insert(17, 'number-records-normalized',noRecordNorm)\n"
   ]
  },
  {
   "cell_type": "code",
   "execution_count": 1893,
   "metadata": {},
   "outputs": [],
   "source": [
    "editCH = editCH.drop(['number-records'], axis = 1)"
   ]
  },
  {
   "cell_type": "code",
   "execution_count": 1894,
   "metadata": {},
   "outputs": [],
   "source": [
    "#editCH = editCH.drop(['award year', 'award month', 'award day', 'expiry year', 'expiry month', 'expiry day'], axis = 1)"
   ]
  },
  {
   "cell_type": "code",
   "execution_count": 1895,
   "metadata": {},
   "outputs": [
    {
     "data": {
      "text/html": [
       "<div>\n",
       "<style scoped>\n",
       "    .dataframe tbody tr th:only-of-type {\n",
       "        vertical-align: middle;\n",
       "    }\n",
       "\n",
       "    .dataframe tbody tr th {\n",
       "        vertical-align: top;\n",
       "    }\n",
       "\n",
       "    .dataframe thead th {\n",
       "        text-align: right;\n",
       "    }\n",
       "</style>\n",
       "<table border=\"1\" class=\"dataframe\">\n",
       "  <thead>\n",
       "    <tr style=\"text-align: right;\">\n",
       "      <th></th>\n",
       "      <th>total-contract-value</th>\n",
       "      <th>total-contract-value-normalized</th>\n",
       "      <th>days-since-first-award</th>\n",
       "      <th>days-since-first-award-normalized</th>\n",
       "      <th>award year</th>\n",
       "      <th>award-year-normalized</th>\n",
       "    </tr>\n",
       "  </thead>\n",
       "  <tbody>\n",
       "    <tr>\n",
       "      <th>count</th>\n",
       "      <td>1.941330e+05</td>\n",
       "      <td>194133.000000</td>\n",
       "      <td>194133.000000</td>\n",
       "      <td>194133.000000</td>\n",
       "      <td>194133.000000</td>\n",
       "      <td>194133.000000</td>\n",
       "    </tr>\n",
       "    <tr>\n",
       "      <th>mean</th>\n",
       "      <td>1.149437e+06</td>\n",
       "      <td>0.063351</td>\n",
       "      <td>1607.475597</td>\n",
       "      <td>0.346289</td>\n",
       "      <td>2012.982507</td>\n",
       "      <td>0.331876</td>\n",
       "    </tr>\n",
       "    <tr>\n",
       "      <th>std</th>\n",
       "      <td>2.434127e+07</td>\n",
       "      <td>0.007722</td>\n",
       "      <td>1310.866238</td>\n",
       "      <td>0.282393</td>\n",
       "      <td>3.570864</td>\n",
       "      <td>0.297572</td>\n",
       "    </tr>\n",
       "    <tr>\n",
       "      <th>min</th>\n",
       "      <td>-1.985487e+08</td>\n",
       "      <td>0.000000</td>\n",
       "      <td>0.000000</td>\n",
       "      <td>0.000000</td>\n",
       "      <td>2009.000000</td>\n",
       "      <td>0.000000</td>\n",
       "    </tr>\n",
       "    <tr>\n",
       "      <th>25%</th>\n",
       "      <td>1.128000e+04</td>\n",
       "      <td>0.062989</td>\n",
       "      <td>479.000000</td>\n",
       "      <td>0.103188</td>\n",
       "      <td>2010.000000</td>\n",
       "      <td>0.083333</td>\n",
       "    </tr>\n",
       "    <tr>\n",
       "      <th>50%</th>\n",
       "      <td>4.320000e+04</td>\n",
       "      <td>0.063000</td>\n",
       "      <td>1202.000000</td>\n",
       "      <td>0.258940</td>\n",
       "      <td>2012.000000</td>\n",
       "      <td>0.250000</td>\n",
       "    </tr>\n",
       "    <tr>\n",
       "      <th>75%</th>\n",
       "      <td>2.014690e+05</td>\n",
       "      <td>0.063050</td>\n",
       "      <td>2582.000000</td>\n",
       "      <td>0.556226</td>\n",
       "      <td>2016.000000</td>\n",
       "      <td>0.583333</td>\n",
       "    </tr>\n",
       "    <tr>\n",
       "      <th>max</th>\n",
       "      <td>2.953723e+09</td>\n",
       "      <td>1.000000</td>\n",
       "      <td>4642.000000</td>\n",
       "      <td>1.000000</td>\n",
       "      <td>2021.000000</td>\n",
       "      <td>1.000000</td>\n",
       "    </tr>\n",
       "  </tbody>\n",
       "</table>\n",
       "</div>"
      ],
      "text/plain": [
       "       total-contract-value  total-contract-value-normalized  \\\n",
       "count          1.941330e+05                    194133.000000   \n",
       "mean           1.149437e+06                         0.063351   \n",
       "std            2.434127e+07                         0.007722   \n",
       "min           -1.985487e+08                         0.000000   \n",
       "25%            1.128000e+04                         0.062989   \n",
       "50%            4.320000e+04                         0.063000   \n",
       "75%            2.014690e+05                         0.063050   \n",
       "max            2.953723e+09                         1.000000   \n",
       "\n",
       "       days-since-first-award  days-since-first-award-normalized  \\\n",
       "count           194133.000000                      194133.000000   \n",
       "mean              1607.475597                           0.346289   \n",
       "std               1310.866238                           0.282393   \n",
       "min                  0.000000                           0.000000   \n",
       "25%                479.000000                           0.103188   \n",
       "50%               1202.000000                           0.258940   \n",
       "75%               2582.000000                           0.556226   \n",
       "max               4642.000000                           1.000000   \n",
       "\n",
       "          award year  award-year-normalized  \n",
       "count  194133.000000          194133.000000  \n",
       "mean     2012.982507               0.331876  \n",
       "std         3.570864               0.297572  \n",
       "min      2009.000000               0.000000  \n",
       "25%      2010.000000               0.083333  \n",
       "50%      2012.000000               0.250000  \n",
       "75%      2016.000000               0.583333  \n",
       "max      2021.000000               1.000000  "
      ]
     },
     "execution_count": 1895,
     "metadata": {},
     "output_type": "execute_result"
    }
   ],
   "source": [
    "editCH.describe()"
   ]
  },
  {
   "cell_type": "markdown",
   "metadata": {},
   "source": [
    "## Creating the Dependent Variable\n",
    "To create a binary dependent variable that will determine whether a supplier will be the supplier on a contract, a new column need sto be created that flags all instances where the supplier is named and turns those instances into a Yes. All other instances will be No. The supplier to be used in this analysis is STANTEC. Note that this attribute is messy, meaning that STANTEC is named in multiple unique instances."
   ]
  },
  {
   "cell_type": "code",
   "execution_count": 1896,
   "metadata": {},
   "outputs": [
    {
     "data": {
      "text/plain": [
       "<AxesSubplot:>"
      ]
     },
     "execution_count": 1896,
     "metadata": {},
     "output_type": "execute_result"
    },
    {
     "data": {
      "image/png": "[encoded data removed]",
      "text/plain": [
       "<Figure size 432x288 with 1 Axes>"
      ]
     },
     "metadata": {
      "needs_background": "light"
     },
     "output_type": "display_data"
    }
   ],
   "source": [
    "topSuppliers = editCH['supplier-standardized-name'].value_counts()\n",
    "topSuppliers = topSuppliers[topSuppliers > 300]\n",
    "topSuppliers.plot(kind = 'bar')"
   ]
  },
  {
   "cell_type": "code",
   "execution_count": 1897,
   "metadata": {},
   "outputs": [],
   "source": [
    "editCH.insert(9,'stantec-supplier','no')"
   ]
  },
  {
   "cell_type": "code",
   "execution_count": 1898,
   "metadata": {},
   "outputs": [],
   "source": [
    "editCH['stantec-supplier'] = np.where(editCH['supplier-standardized-name'].str.contains('STANTEC'), 'yes', editCH['stantec-supplier'])"
   ]
  },
  {
   "cell_type": "code",
   "execution_count": 1899,
   "metadata": {},
   "outputs": [
    {
     "data": {
      "text/plain": [
       "no     193551\n",
       "yes       582\n",
       "Name: stantec-supplier, dtype: int64"
      ]
     },
     "execution_count": 1899,
     "metadata": {},
     "output_type": "execute_result"
    }
   ],
   "source": [
    "editCH['stantec-supplier'].value_counts()"
   ]
  },
  {
   "cell_type": "markdown",
   "metadata": {},
   "source": [
    "## Look at Subsets & How Attributes Link to the Class\n",
    "Value counts were run for all attributes anything that looked distinct is included in the code below."
   ]
  },
  {
   "cell_type": "code",
   "execution_count": 1900,
   "metadata": {},
   "outputs": [],
   "source": [
    "stantecData = editCH[editCH['stantec-supplier'] == 'yes']\n"
   ]
  },
  {
   "cell_type": "code",
   "execution_count": 1901,
   "metadata": {},
   "outputs": [
    {
     "data": {
      "text/plain": [
       "<AxesSubplot:>"
      ]
     },
     "execution_count": 1901,
     "metadata": {},
     "output_type": "execute_result"
    },
    {
     "data": {
      "image/png": "[encoded data removed]",
      "text/plain": [
       "<Figure size 432x288 with 1 Axes>"
      ]
     },
     "metadata": {
      "needs_background": "light"
     },
     "output_type": "display_data"
    }
   ],
   "source": [
    "stantecData['gsin-category'].value_counts().plot(kind = 'bar')"
   ]
  },
  {
   "cell_type": "code",
   "execution_count": 1902,
   "metadata": {},
   "outputs": [
    {
     "data": {
      "text/plain": [
       "<matplotlib.collections.PathCollection at 0x181f3f2caf0>"
      ]
     },
     "execution_count": 1902,
     "metadata": {},
     "output_type": "execute_result"
    },
    {
     "data": {
      "image/png": "[encoded data removed]",
      "text/plain": [
       "<Figure size 432x288 with 1 Axes>"
      ]
     },
     "metadata": {
      "needs_background": "light"
     },
     "output_type": "display_data"
    }
   ],
   "source": [
    "plt.scatter(editCH['gsin-category'],editCH['stantec-supplier'])"
   ]
  },
  {
   "cell_type": "code",
   "execution_count": 1903,
   "metadata": {},
   "outputs": [
    {
     "data": {
      "text/html": [
       "<div>\n",
       "<style scoped>\n",
       "    .dataframe tbody tr th:only-of-type {\n",
       "        vertical-align: middle;\n",
       "    }\n",
       "\n",
       "    .dataframe tbody tr th {\n",
       "        vertical-align: top;\n",
       "    }\n",
       "\n",
       "    .dataframe thead th {\n",
       "        text-align: right;\n",
       "    }\n",
       "</style>\n",
       "<table border=\"1\" class=\"dataframe\">\n",
       "  <thead>\n",
       "    <tr style=\"text-align: right;\">\n",
       "      <th></th>\n",
       "      <th>gsin</th>\n",
       "      <th>all count</th>\n",
       "      <th>stantec count</th>\n",
       "    </tr>\n",
       "  </thead>\n",
       "  <tbody>\n",
       "    <tr>\n",
       "      <th>0</th>\n",
       "      <td>N</td>\n",
       "      <td>99022</td>\n",
       "      <td>1.0</td>\n",
       "    </tr>\n",
       "    <tr>\n",
       "      <th>1</th>\n",
       "      <td>V</td>\n",
       "      <td>18867</td>\n",
       "      <td>NaN</td>\n",
       "    </tr>\n",
       "    <tr>\n",
       "      <th>2</th>\n",
       "      <td>R</td>\n",
       "      <td>13485</td>\n",
       "      <td>18.0</td>\n",
       "    </tr>\n",
       "    <tr>\n",
       "      <th>3</th>\n",
       "      <td>T</td>\n",
       "      <td>12615</td>\n",
       "      <td>5.0</td>\n",
       "    </tr>\n",
       "    <tr>\n",
       "      <th>4</th>\n",
       "      <td>5</td>\n",
       "      <td>10881</td>\n",
       "      <td>18.0</td>\n",
       "    </tr>\n",
       "    <tr>\n",
       "      <th>5</th>\n",
       "      <td>C</td>\n",
       "      <td>7882</td>\n",
       "      <td>405.0</td>\n",
       "    </tr>\n",
       "    <tr>\n",
       "      <th>6</th>\n",
       "      <td>D</td>\n",
       "      <td>7768</td>\n",
       "      <td>4.0</td>\n",
       "    </tr>\n",
       "    <tr>\n",
       "      <th>7</th>\n",
       "      <td>J</td>\n",
       "      <td>5996</td>\n",
       "      <td>NaN</td>\n",
       "    </tr>\n",
       "    <tr>\n",
       "      <th>8</th>\n",
       "      <td>A</td>\n",
       "      <td>4296</td>\n",
       "      <td>4.0</td>\n",
       "    </tr>\n",
       "    <tr>\n",
       "      <th>9</th>\n",
       "      <td>K</td>\n",
       "      <td>3479</td>\n",
       "      <td>NaN</td>\n",
       "    </tr>\n",
       "    <tr>\n",
       "      <th>10</th>\n",
       "      <td>U</td>\n",
       "      <td>2656</td>\n",
       "      <td>5.0</td>\n",
       "    </tr>\n",
       "    <tr>\n",
       "      <th>11</th>\n",
       "      <td>E</td>\n",
       "      <td>1808</td>\n",
       "      <td>56.0</td>\n",
       "    </tr>\n",
       "    <tr>\n",
       "      <th>12</th>\n",
       "      <td>W</td>\n",
       "      <td>1672</td>\n",
       "      <td>NaN</td>\n",
       "    </tr>\n",
       "    <tr>\n",
       "      <th>13</th>\n",
       "      <td>B</td>\n",
       "      <td>1211</td>\n",
       "      <td>59.0</td>\n",
       "    </tr>\n",
       "    <tr>\n",
       "      <th>14</th>\n",
       "      <td>G</td>\n",
       "      <td>959</td>\n",
       "      <td>NaN</td>\n",
       "    </tr>\n",
       "    <tr>\n",
       "      <th>15</th>\n",
       "      <td>H</td>\n",
       "      <td>598</td>\n",
       "      <td>6.0</td>\n",
       "    </tr>\n",
       "    <tr>\n",
       "      <th>16</th>\n",
       "      <td>L</td>\n",
       "      <td>273</td>\n",
       "      <td>NaN</td>\n",
       "    </tr>\n",
       "    <tr>\n",
       "      <th>17</th>\n",
       "      <td>F</td>\n",
       "      <td>213</td>\n",
       "      <td>NaN</td>\n",
       "    </tr>\n",
       "    <tr>\n",
       "      <th>18</th>\n",
       "      <td>S</td>\n",
       "      <td>194</td>\n",
       "      <td>1.0</td>\n",
       "    </tr>\n",
       "    <tr>\n",
       "      <th>19</th>\n",
       "      <td>M</td>\n",
       "      <td>140</td>\n",
       "      <td>NaN</td>\n",
       "    </tr>\n",
       "    <tr>\n",
       "      <th>20</th>\n",
       "      <td>X</td>\n",
       "      <td>118</td>\n",
       "      <td>NaN</td>\n",
       "    </tr>\n",
       "  </tbody>\n",
       "</table>\n",
       "</div>"
      ],
      "text/plain": [
       "   gsin  all count  stantec count\n",
       "0     N      99022            1.0\n",
       "1     V      18867            NaN\n",
       "2     R      13485           18.0\n",
       "3     T      12615            5.0\n",
       "4     5      10881           18.0\n",
       "5     C       7882          405.0\n",
       "6     D       7768            4.0\n",
       "7     J       5996            NaN\n",
       "8     A       4296            4.0\n",
       "9     K       3479            NaN\n",
       "10    U       2656            5.0\n",
       "11    E       1808           56.0\n",
       "12    W       1672            NaN\n",
       "13    B       1211           59.0\n",
       "14    G        959            NaN\n",
       "15    H        598            6.0\n",
       "16    L        273            NaN\n",
       "17    F        213            NaN\n",
       "18    S        194            1.0\n",
       "19    M        140            NaN\n",
       "20    X        118            NaN"
      ]
     },
     "execution_count": 1903,
     "metadata": {},
     "output_type": "execute_result"
    }
   ],
   "source": [
    "yesGsin = pd.DataFrame(stantecData['gsin-category'].value_counts().rename_axis('gsin').reset_index(name='stantec count'))\n",
    "allGsin = pd.DataFrame(editCH['gsin-category'].value_counts().rename_axis('gsin').reset_index(name='all count'))\n",
    "gsinMerge = pd.merge(allGsin, yesGsin, how = 'outer')\n",
    "gsinMerge\n",
    "#gsinMerge.plot(kind = 'bar')"
   ]
  },
  {
   "cell_type": "code",
   "execution_count": 1904,
   "metadata": {},
   "outputs": [
    {
     "data": {
      "text/plain": [
       "<AxesSubplot:>"
      ]
     },
     "execution_count": 1904,
     "metadata": {},
     "output_type": "execute_result"
    },
    {
     "data": {
      "image/png": "[encoded data removed]",
      "text/plain": [
       "<Figure size 432x288 with 1 Axes>"
      ]
     },
     "metadata": {
      "needs_background": "light"
     },
     "output_type": "display_data"
    }
   ],
   "source": [
    "gsinStantec = stantecData['gsin-description_en'].value_counts()\n",
    "gsinStantec = gsinStantec[gsinStantec > 10]\n",
    "gsinStantec.plot(kind = 'barh')"
   ]
  },
  {
   "cell_type": "code",
   "execution_count": 1905,
   "metadata": {},
   "outputs": [
    {
     "data": {
      "text/plain": [
       "<AxesSubplot:>"
      ]
     },
     "execution_count": 1905,
     "metadata": {},
     "output_type": "execute_result"
    },
    {
     "data": {
      "image/png": "[encoded data removed]",
      "text/plain": [
       "<Figure size 432x288 with 1 Axes>"
      ]
     },
     "metadata": {
      "needs_background": "light"
     },
     "output_type": "display_data"
    }
   ],
   "source": [
    "stantecData['competitive-tender_en'].value_counts().plot(kind = 'bar')"
   ]
  },
  {
   "cell_type": "code",
   "execution_count": 1906,
   "metadata": {},
   "outputs": [
    {
     "data": {
      "text/plain": [
       "<AxesSubplot:>"
      ]
     },
     "execution_count": 1906,
     "metadata": {},
     "output_type": "execute_result"
    },
    {
     "data": {
      "image/png": "[encoded data removed]",
      "text/plain": [
       "<Figure size 432x288 with 1 Axes>"
      ]
     },
     "metadata": {
      "needs_background": "light"
     },
     "output_type": "display_data"
    }
   ],
   "source": [
    "officeStantec = stantecData['supplier-address-city'].value_counts()\n",
    "officeStantec = officeStantec[officeStantec > 10]\n",
    "officeStantec.plot(kind = 'barh')"
   ]
  },
  {
   "cell_type": "code",
   "execution_count": 1907,
   "metadata": {},
   "outputs": [
    {
     "data": {
      "text/plain": [
       "<AxesSubplot:>"
      ]
     },
     "execution_count": 1907,
     "metadata": {},
     "output_type": "execute_result"
    },
    {
     "data": {
      "image/png": "[encoded data removed]",
      "text/plain": [
       "<Figure size 432x288 with 1 Axes>"
      ]
     },
     "metadata": {
      "needs_background": "light"
     },
     "output_type": "display_data"
    }
   ],
   "source": [
    "locateStantec = stantecData['contracting-address-city'].value_counts()\n",
    "locateStantec = locateStantec[locateStantec > 10]\n",
    "locateStantec.plot(kind = 'barh')"
   ]
  },
  {
   "cell_type": "code",
   "execution_count": 1908,
   "metadata": {},
   "outputs": [
    {
     "data": {
      "text/plain": [
       "<AxesSubplot:>"
      ]
     },
     "execution_count": 1908,
     "metadata": {},
     "output_type": "execute_result"
    },
    {
     "data": {
      "image/png": "[encoded data removed]",
      "text/plain": [
       "<Figure size 432x288 with 1 Axes>"
      ]
     },
     "metadata": {
      "needs_background": "light"
     },
     "output_type": "display_data"
    }
   ],
   "source": [
    "tradeStantec = stantecData['trade-agreement'].value_counts()\n",
    "tradeStantec = tradeStantec[tradeStantec > 1]\n",
    "tradeStantec.plot(kind = 'barh')"
   ]
  },
  {
   "cell_type": "code",
   "execution_count": 1909,
   "metadata": {},
   "outputs": [
    {
     "data": {
      "text/plain": [
       "<AxesSubplot:>"
      ]
     },
     "execution_count": 1909,
     "metadata": {},
     "output_type": "execute_result"
    },
    {
     "data": {
      "image/png": "[encoded data removed]",
      "text/plain": [
       "<Figure size 432x288 with 1 Axes>"
      ]
     },
     "metadata": {
      "needs_background": "light"
     },
     "output_type": "display_data"
    }
   ],
   "source": [
    "stantecData['end-user-entity_en'].value_counts().plot(kind = 'barh')"
   ]
  },
  {
   "cell_type": "markdown",
   "metadata": {},
   "source": [
    "## Removing Non-Applicable GSIN Categories\n",
    "Based on the analysis above, the GSIN Categories V, J, K, W, G, L, F, M, X have no Stantec supplier counts, and GSIN Category N only has one our of 97533. "
   ]
  },
  {
   "cell_type": "code",
   "execution_count": 1910,
   "metadata": {},
   "outputs": [],
   "source": [
    "editCH.insert(27, 'remove-gsin', 'no')\n"
   ]
  },
  {
   "cell_type": "code",
   "execution_count": 1911,
   "metadata": {},
   "outputs": [],
   "source": [
    "editCH['remove-gsin'] = np.where(editCH['gsin-category'].str.contains('V'), 'yes', editCH['remove-gsin'])\n",
    "editCH['remove-gsin'] = np.where(editCH['gsin-category'].str.contains('J'), 'yes', editCH['remove-gsin'])\n",
    "editCH['remove-gsin'] = np.where(editCH['gsin-category'].str.contains('K'), 'yes', editCH['remove-gsin'])\n",
    "editCH['remove-gsin'] = np.where(editCH['gsin-category'].str.contains('W'), 'yes', editCH['remove-gsin'])\n",
    "editCH['remove-gsin'] = np.where(editCH['gsin-category'].str.contains('G'), 'yes', editCH['remove-gsin'])\n",
    "editCH['remove-gsin'] = np.where(editCH['gsin-category'].str.contains('L'), 'yes', editCH['remove-gsin'])\n",
    "editCH['remove-gsin'] = np.where(editCH['gsin-category'].str.contains('F'), 'yes', editCH['remove-gsin'])\n",
    "editCH['remove-gsin'] = np.where(editCH['gsin-category'].str.contains('M'), 'yes', editCH['remove-gsin'])\n",
    "editCH['remove-gsin'] = np.where(editCH['gsin-category'].str.contains('X'), 'yes', editCH['remove-gsin'])\n",
    "editCH['remove-gsin'] = np.where(editCH['gsin-category'].str.contains('N'), 'yes', editCH['remove-gsin'])"
   ]
  },
  {
   "cell_type": "code",
   "execution_count": 1912,
   "metadata": {},
   "outputs": [
    {
     "data": {
      "text/plain": [
       "yes    130739\n",
       "no      63394\n",
       "Name: remove-gsin, dtype: int64"
      ]
     },
     "execution_count": 1912,
     "metadata": {},
     "output_type": "execute_result"
    }
   ],
   "source": [
    "editCH['remove-gsin'].value_counts()"
   ]
  },
  {
   "cell_type": "code",
   "execution_count": 1913,
   "metadata": {},
   "outputs": [],
   "source": [
    "index_names = editCH[editCH['remove-gsin'] == 'yes'].index\n",
    "editCH.drop(index_names, inplace = True)"
   ]
  },
  {
   "cell_type": "markdown",
   "metadata": {},
   "source": [
    "## Reducing the Number of Unique End User Departments, GSIN Codes, Contracting Cities, Contracting Postal Code"
   ]
  },
  {
   "cell_type": "code",
   "execution_count": 1914,
   "metadata": {},
   "outputs": [],
   "source": [
    "editCH.insert(5,'gsin-description-top', editCH['gsin-description_en'])\n",
    "editCH.insert(19,'end-user-entity-top', editCH['end-user-entity_en'])\n",
    "editCH.insert(23,'contracting-address-city-top', editCH['contracting-address-city'])\n",
    "editCH.insert(26,'contracting-address-postal-top', editCH['contracting-address-postal-code'])"
   ]
  },
  {
   "cell_type": "code",
   "execution_count": 1915,
   "metadata": {},
   "outputs": [
    {
     "data": {
      "text/plain": [
       "Other                                                                                                      23486\n",
       "Informatics Professional Services                                                                           5590\n",
       "Human Resource Services, Business Consulting/Change Management; Project Management Services                 3774\n",
       "Advertising Media Planning/Buying                                                                           3376\n",
       "Temporary Help Services, General Office Support                                                             1658\n",
       "Translation Services                                                                                        1615\n",
       "Engineering Services - Buildings                                                                            1427\n",
       "Architectual Services - Buildings                                                                           1344\n",
       "Information Products                                                                                        1300\n",
       "Construction of Other Buildings                                                                             1278\n",
       "Audio Visual Production Services                                                                            1054\n",
       "Miscellaneous Business Services                                                                              994\n",
       "Military (R&D)                                                                                               953\n",
       "Waterways, Harbours, Dams and Other Water Works                                                              944\n",
       "Business Services                                                                                            872\n",
       "Product/Material - Design, Development, Formulation, Modification: Science and Technology Related (R&D)      797\n",
       "Environmental Services                                                                                       762\n",
       "Architectural & Engineering Services - Highways, Roads, Railways,Bridges and Dams                            719\n",
       "Advertising Related Services                                                                                 641\n",
       "Media Monitoring Services                                                                                    605\n",
       "Engineering Services                                                                                         602\n",
       "Architect/Engineer Services - Administration & Service Buildings                                             596\n",
       "Video Production Services                                                                                    586\n",
       "Public Opinion Research - Quantitative                                                                       581\n",
       "Communication Promotional Material (including printing and identification)                                   501\n",
       "End-to-End Learning Services (Excludes COTS Training)                                                        497\n",
       "General Marine Construction Work                                                                             496\n",
       "Astronautics (R&D)                                                                                           473\n",
       "Electrical Installations and Major Repairs                                                                   461\n",
       "Press Release Distribution                                                                                   447\n",
       "Heating, Ventilation and Air Conditioning Maintenance & Inspection Services                                  403\n",
       "Public Opinion Research - Quantitative & Qualitative                                                         392\n",
       "Technical / Vocational Training                                                                              375\n",
       "Internal and External Audits (Supply Arrangement PASS)                                                       374\n",
       "Publications                                                                                                 362\n",
       "Architect and Engineering Services - Buildings                                                               362\n",
       "Information Retrieval Services, Database                                                                     360\n",
       "Marine Architect and Engineering Services                                                                    349\n",
       "General Office Help                                                                                          338\n",
       "Highways, Roads, Railways,  Airfield Runways                                                                 338\n",
       "Public Opinion Research - Qualitative                                                                        335\n",
       "Language Interpretation Services                                                                             329\n",
       "Advertising Creative Services                                                                                325\n",
       "General Contractor Services, Not Elsewhere Specified                                                         323\n",
       "Name: gsin-description-top, dtype: int64"
      ]
     },
     "execution_count": 1915,
     "metadata": {},
     "output_type": "execute_result"
    }
   ],
   "source": [
    "frequencies = editCH['gsin-description-top'].value_counts(normalize=True, ascending=True)\n",
    "mapping = editCH['gsin-description-top'].map(frequencies)\n",
    "editCH['gsin-description-top'] = editCH['gsin-description-top'].mask(mapping < 0.005, 'Other')\n",
    "editCH['gsin-description-top'].value_counts()"
   ]
  },
  {
   "cell_type": "code",
   "execution_count": 1916,
   "metadata": {},
   "outputs": [
    {
     "data": {
      "text/plain": [
       "Public Works and Government Services Canada               35854\n",
       "Department of National Defence                            10171\n",
       "Other                                                      4521\n",
       "Parks Canada                                               1647\n",
       "Fisheries and Oceans Canada                                1325\n",
       "Health Canada                                              1154\n",
       "Natural Resources Canada                                    935\n",
       "Employment and Social Development Canada                    883\n",
       "Canadian Space Agency                                       857\n",
       "Agriculture and Agri-Food Canada                            716\n",
       "Industry Canada                                             705\n",
       "Citizenship and Immigration Canada                          669\n",
       "Environment Canada                                          606\n",
       "Transport Canada                                            570\n",
       "Foreign Affairs, Trade And Development (Department Of)      545\n",
       "Veterans Affairs Canada                                     481\n",
       "Canada Revenue Agency                                       456\n",
       "Correctional Service of Canada                              455\n",
       "Royal Canadian Mounted Police                               446\n",
       "Aboriginal Affairs & Northern Development Canada            398\n",
       "Name: end-user-entity-top, dtype: int64"
      ]
     },
     "execution_count": 1916,
     "metadata": {},
     "output_type": "execute_result"
    }
   ],
   "source": [
    "frequencies = editCH['end-user-entity-top'].value_counts(normalize=True, ascending=True)\n",
    "mapping = editCH['end-user-entity-top'].map(frequencies)\n",
    "editCH['end-user-entity-top'] = editCH['end-user-entity-top'].mask(mapping < 0.005, 'Other')\n",
    "editCH['end-user-entity-top'].value_counts()"
   ]
  },
  {
   "cell_type": "code",
   "execution_count": 1917,
   "metadata": {},
   "outputs": [
    {
     "data": {
      "text/plain": [
       "OTTAWA           17058\n",
       "GATINEAU         10250\n",
       "Other             8536\n",
       "Gatineau          7585\n",
       "VANCOUVER         3243\n",
       "MONTREAL          1889\n",
       "HALIFAX           1880\n",
       "EDMONTON          1753\n",
       "QUEBEC            1665\n",
       "WINNIPEG          1447\n",
       "MONCTON           1277\n",
       "TORONTO           1197\n",
       "ST JOHNS          1004\n",
       "CHARLOTTETOWN      917\n",
       "MISSISSAUGA        811\n",
       "CALGARY            784\n",
       "ST HUBERT          741\n",
       "BORDEN             683\n",
       "DARTMOUTH          674\n",
       "Name: contracting-address-city-top, dtype: int64"
      ]
     },
     "execution_count": 1917,
     "metadata": {},
     "output_type": "execute_result"
    }
   ],
   "source": [
    "frequencies = editCH['contracting-address-city-top'].value_counts(normalize=True, ascending=True)\n",
    "mapping = editCH['contracting-address-city-top'].map(frequencies)\n",
    "editCH['contracting-address-city-top'] = editCH['contracting-address-city-top'].mask(mapping < 0.01, 'Other')\n",
    "editCH['contracting-address-city-top'].value_counts()"
   ]
  },
  {
   "cell_type": "code",
   "execution_count": 1918,
   "metadata": {},
   "outputs": [
    {
     "data": {
      "text/plain": [
       "Other     24683\n",
       "K1A0S5    17645\n",
       "K1A0K2     2932\n",
       "V6Z0B9     2605\n",
       "M2N6A6     1596\n",
       "T5J1S6     1535\n",
       "H5A1L6     1365\n",
       "K1A0K9     1294\n",
       "B3J3C9     1141\n",
       "E1C1H1     1105\n",
       "R3B0T6     1026\n",
       "K1A0H4      990\n",
       "K1A0Z4      930\n",
       "J3Y8Y9      854\n",
       "L5B2N5      808\n",
       "K1A0J9      789\n",
       "A1C5T2      771\n",
       "L0M1C0      683\n",
       "K1A1L1      642\n",
       "Name: contracting-address-postal-top, dtype: int64"
      ]
     },
     "execution_count": 1918,
     "metadata": {},
     "output_type": "execute_result"
    }
   ],
   "source": [
    "frequencies = editCH['contracting-address-postal-top'].value_counts(normalize=True, ascending=True)\n",
    "mapping = editCH['contracting-address-postal-top'].map(frequencies)\n",
    "editCH['contracting-address-postal-top'] = editCH['contracting-address-postal-top'].mask(mapping < 0.01, 'Other')\n",
    "editCH['contracting-address-postal-top'].value_counts()"
   ]
  },
  {
   "cell_type": "markdown",
   "metadata": {},
   "source": [
    "## Attribute Selection"
   ]
  },
  {
   "cell_type": "code",
   "execution_count": 1919,
   "metadata": {},
   "outputs": [],
   "source": [
    "modelCH = editCH.drop(['contract-number', 'award-date', 'expiry-date', 'gsin', 'gsin-description_en', 'supplier-standardized-name', 'supplier-address-city', 'supplier-address-prov-state', 'supplier-address-postal-code', 'supplier-address-country', 'organization-employee-count_en', 'total-contract-value', 'end-user-entity_en', 'contracting-entity-office-name_en', 'contracting-address-street-1', 'contracting-address-city', 'contracting-address-postal-code', 'contracting-address-country', 'days-since-first-award', 'remove-gsin', 'award year', 'award day'], axis = 1)"
   ]
  },
  {
   "cell_type": "code",
   "execution_count": 1920,
   "metadata": {},
   "outputs": [
    {
     "data": {
      "text/plain": [
       "Index(['gsin-description-top', 'gsin-category', 'competitive-tender_en',\n",
       "       'solicitation-procedure-description_en', 'trade-agreement',\n",
       "       'stantec-supplier', 'total-contract-value-normalized',\n",
       "       'end-user-entity-top', 'contracting-address-city-top',\n",
       "       'contracting-address-prov-state', 'contracting-address-postal-top',\n",
       "       'days-since-first-award-normalized', 'award-year-normalized',\n",
       "       'award month'],\n",
       "      dtype='object')"
      ]
     },
     "execution_count": 1920,
     "metadata": {},
     "output_type": "execute_result"
    }
   ],
   "source": [
    "modelCH.columns"
   ]
  },
  {
   "cell_type": "markdown",
   "metadata": {},
   "source": [
    "## Clustering"
   ]
  },
  {
   "cell_type": "code",
   "execution_count": 1921,
   "metadata": {},
   "outputs": [
    {
     "data": {
      "text/plain": [
       "array([[0.06321759],\n",
       "       [0.95542732],\n",
       "       [0.24438324],\n",
       "       [0.12491418],\n",
       "       [0.49130407]])"
      ]
     },
     "execution_count": 1921,
     "metadata": {},
     "output_type": "execute_result"
    }
   ],
   "source": [
    "from sklearn.cluster import KMeans\n",
    "kmeans = KMeans(n_clusters=5)\n",
    "trainReshape = modelCH['total-contract-value-normalized'].values.reshape(-1, 1)\n",
    "clusterCV = kmeans.fit(trainReshape)\n",
    "clusterCV.cluster_centers_"
   ]
  },
  {
   "cell_type": "code",
   "execution_count": 1922,
   "metadata": {},
   "outputs": [],
   "source": [
    "from kmodes.kprototypes import KPrototypes\n",
    "from kmodes.kmodes import KModes"
   ]
  },
  {
   "cell_type": "code",
   "execution_count": 1923,
   "metadata": {},
   "outputs": [
    {
     "data": {
      "text/plain": [
       "array([['0.06327257371842605', 'R'],\n",
       "       ['0.0630452900093655', 'T'],\n",
       "       ['0.064347374691316', '5']], dtype='<U32')"
      ]
     },
     "execution_count": 1923,
     "metadata": {},
     "output_type": "execute_result"
    }
   ],
   "source": [
    "kproto = KPrototypes(n_clusters = 3)\n",
    "trainSet = modelCH[['gsin-category','total-contract-value-normalized']]\n",
    "cluster = kproto.fit(trainSet, categorical = [0])\n",
    "yPred = kproto.predict(trainSet, categorical = [0])\n",
    "cluster.cluster_centroids_"
   ]
  },
  {
   "cell_type": "code",
   "execution_count": 1924,
   "metadata": {},
   "outputs": [
    {
     "data": {
      "image/png": "[encoded data removed]",
      "text/plain": [
       "<Figure size 432x288 with 1 Axes>"
      ]
     },
     "metadata": {
      "needs_background": "light"
     },
     "output_type": "display_data"
    }
   ],
   "source": [
    "plt.scatter(trainSet['gsin-category'], trainSet['total-contract-value-normalized'], s = 50, c = yPred, cmap = plt.cm.Paired)\n",
    "plt.show()"
   ]
  },
  {
   "cell_type": "code",
   "execution_count": 1925,
   "metadata": {},
   "outputs": [
    {
     "data": {
      "text/plain": [
       "array([['R', 'Public Works and Government Services Canada'],\n",
       "       ['T', 'Other'],\n",
       "       ['5', 'Public Works and Government Services Canada']], dtype='<U43')"
      ]
     },
     "execution_count": 1925,
     "metadata": {},
     "output_type": "execute_result"
    }
   ],
   "source": [
    "kmode = KModes(n_clusters = 3)\n",
    "trainSet2 = modelCH[['gsin-category', 'end-user-entity-top']]\n",
    "cluster2 = kmode.fit(trainSet2)\n",
    "yPred2 = kmode.predict(trainSet2)\n",
    "cluster2.cluster_centroids_\n"
   ]
  },
  {
   "cell_type": "code",
   "execution_count": 1926,
   "metadata": {},
   "outputs": [
    {
     "data": {
      "image/png": "[encoded data removed]",
      "text/plain": [
       "<Figure size 432x288 with 1 Axes>"
      ]
     },
     "metadata": {
      "needs_background": "light"
     },
     "output_type": "display_data"
    }
   ],
   "source": [
    "plt.scatter(trainSet2['gsin-category'], trainSet2['end-user-entity-top'], s = 50, c = yPred2, cmap = plt.cm.Paired)\n",
    "plt.show()"
   ]
  },
  {
   "cell_type": "markdown",
   "metadata": {},
   "source": [
    "## Creating Dummy Values"
   ]
  },
  {
   "cell_type": "code",
   "execution_count": 1927,
   "metadata": {},
   "outputs": [
    {
     "data": {
      "text/plain": [
       "(63394, 1)"
      ]
     },
     "execution_count": 1927,
     "metadata": {},
     "output_type": "execute_result"
    }
   ],
   "source": [
    "#Dummy 1 for the dependent variable\n",
    "\n",
    "cat1 = pd.get_dummies(modelCH['stantec-supplier'],drop_first=True)\n",
    "cat1 = cat1.rename({'yes':'stantec-supplier-mod'}, axis = 1)\n",
    "modelCH = pd.concat([modelCH,cat1],axis=1)\n",
    "cat1.shape\n"
   ]
  },
  {
   "cell_type": "code",
   "execution_count": 1928,
   "metadata": {},
   "outputs": [
    {
     "data": {
      "text/plain": [
       "(63394, 44)"
      ]
     },
     "execution_count": 1928,
     "metadata": {},
     "output_type": "execute_result"
    }
   ],
   "source": [
    "#Dummy 2 for gsin-description-top\n",
    "\n",
    "cat2 = pd.get_dummies(modelCH['gsin-description-top'], prefix = 'top-gsin')\n",
    "modelCH = pd.concat([modelCH,cat2],axis=1)\n",
    "cat2.shape"
   ]
  },
  {
   "cell_type": "code",
   "execution_count": 1929,
   "metadata": {},
   "outputs": [
    {
     "data": {
      "text/plain": [
       "(63394, 11)"
      ]
     },
     "execution_count": 1929,
     "metadata": {},
     "output_type": "execute_result"
    }
   ],
   "source": [
    "#Dummy 3 for gsin-category\n",
    "\n",
    "cat3 = pd.get_dummies(modelCH['gsin-category'], prefix = 'gsin_cat')\n",
    "modelCH = pd.concat([modelCH,cat3],axis=1)\n",
    "cat3.shape"
   ]
  },
  {
   "cell_type": "code",
   "execution_count": 1930,
   "metadata": {},
   "outputs": [
    {
     "data": {
      "text/plain": [
       "(63394, 1)"
      ]
     },
     "execution_count": 1930,
     "metadata": {},
     "output_type": "execute_result"
    }
   ],
   "source": [
    "#Dummy 4 for competitive-tender_en\n",
    "\n",
    "cat4 = pd.get_dummies(modelCH['competitive-tender_en'], prefix = 'competitive_tender', drop_first=True)\n",
    "modelCH = pd.concat([modelCH,cat4],axis=1)\n",
    "cat4.shape"
   ]
  },
  {
   "cell_type": "code",
   "execution_count": 1931,
   "metadata": {},
   "outputs": [
    {
     "data": {
      "text/plain": [
       "(63394, 4)"
      ]
     },
     "execution_count": 1931,
     "metadata": {},
     "output_type": "execute_result"
    }
   ],
   "source": [
    "#Dummy 5 for solicitation-procedure-description_en\n",
    "\n",
    "cat5 = pd.get_dummies(modelCH['solicitation-procedure-description_en'], prefix = 'solicitation_procedure')\n",
    "modelCH = pd.concat([modelCH,cat5],axis=1)\n",
    "cat5.shape"
   ]
  },
  {
   "cell_type": "code",
   "execution_count": 1932,
   "metadata": {},
   "outputs": [
    {
     "data": {
      "text/plain": [
       "(63394, 33)"
      ]
     },
     "execution_count": 1932,
     "metadata": {},
     "output_type": "execute_result"
    }
   ],
   "source": [
    "#Dummy 6 for trade-agreement\n",
    "\n",
    "cat6 = pd.get_dummies(modelCH['trade-agreement'], prefix = 'trade-agreement')\n",
    "modelCH = pd.concat([modelCH,cat6],axis=1)\n",
    "cat6.shape"
   ]
  },
  {
   "cell_type": "code",
   "execution_count": 1933,
   "metadata": {},
   "outputs": [
    {
     "data": {
      "text/plain": [
       "(63394, 20)"
      ]
     },
     "execution_count": 1933,
     "metadata": {},
     "output_type": "execute_result"
    }
   ],
   "source": [
    "#Dummy 7 for end-user-entity-top\n",
    "\n",
    "cat7 = pd.get_dummies(modelCH['end-user-entity-top'], prefix = 'end_user')\n",
    "modelCH = pd.concat([modelCH,cat7],axis=1)\n",
    "cat7.shape"
   ]
  },
  {
   "cell_type": "code",
   "execution_count": 1934,
   "metadata": {},
   "outputs": [
    {
     "data": {
      "text/plain": [
       "(63394, 19)"
      ]
     },
     "execution_count": 1934,
     "metadata": {},
     "output_type": "execute_result"
    }
   ],
   "source": [
    "#Dummy 8 for contracting-address-city-top\n",
    "\n",
    "cat8 = pd.get_dummies(modelCH['contracting-address-city-top'], prefix = 'contracting-city')\n",
    "modelCH = pd.concat([modelCH,cat8],axis=1)\n",
    "cat8.shape"
   ]
  },
  {
   "cell_type": "code",
   "execution_count": 1935,
   "metadata": {},
   "outputs": [
    {
     "data": {
      "text/plain": [
       "(63394, 13)"
      ]
     },
     "execution_count": 1935,
     "metadata": {},
     "output_type": "execute_result"
    }
   ],
   "source": [
    "#Dummy 9 for contracting-address-prov-state\n",
    "\n",
    "cat9 = pd.get_dummies(modelCH['contracting-address-prov-state'], prefix = 'contracting_prov')\n",
    "train = pd.concat([modelCH,cat9],axis=1)\n",
    "cat9.shape\n"
   ]
  },
  {
   "cell_type": "code",
   "execution_count": 1936,
   "metadata": {},
   "outputs": [
    {
     "data": {
      "text/plain": [
       "(63394, 12)"
      ]
     },
     "execution_count": 1936,
     "metadata": {},
     "output_type": "execute_result"
    }
   ],
   "source": [
    "#Dummy 10 for award month\n",
    "\n",
    "cat10 = pd.get_dummies(modelCH['award month'], prefix = 'award month')\n",
    "modelCH = pd.concat([modelCH,cat10],axis=1)\n",
    "cat10.shape\n"
   ]
  },
  {
   "cell_type": "code",
   "execution_count": 1937,
   "metadata": {},
   "outputs": [],
   "source": [
    "modelCH.columns\n",
    "\n",
    "modelCH = modelCH.drop(['gsin-description-top', 'gsin-category', 'competitive-tender_en', 'contracting-address-postal-top', 'solicitation-procedure-description_en', 'trade-agreement', 'end-user-entity-top', 'contracting-address-city-top', 'contracting-address-prov-state', 'award month'], axis = 1)"
   ]
  },
  {
   "cell_type": "markdown",
   "metadata": {},
   "source": [
    "## Feature Evaluation"
   ]
  },
  {
   "cell_type": "markdown",
   "metadata": {},
   "source": [
    "### Manual Linear Regression Approach Using R Score"
   ]
  },
  {
   "cell_type": "code",
   "execution_count": 1938,
   "metadata": {},
   "outputs": [
    {
     "data": {
      "text/plain": [
       "147"
      ]
     },
     "execution_count": 1938,
     "metadata": {},
     "output_type": "execute_result"
    }
   ],
   "source": [
    "#Creating a loop to enable model evaluation using r score on full set of variables - code development in progress\n",
    "\n",
    "from sklearn import linear_model\n",
    "\n",
    "featureEvalDatax = modelCH.drop(['stantec-supplier-mod', 'stantec-supplier'], axis = 1)\n",
    "featureEvalDatay = modelCH['stantec-supplier-mod']\n",
    "\n",
    "a=0\n",
    "topAttribute = []\n",
    "for attribute in featureEvalDatax:\n",
    "    x = featureEvalDatax.iloc[:, a:a+1:1]\n",
    "    y = featureEvalDatay\n",
    "    regrFE = linear_model.LinearRegression().fit(x, y)\n",
    "    topAttribute.append((regrFE.score(x, y), featureEvalDatax.columns[a]))\n",
    "    a=a+1\n",
    "\n",
    "len(topAttribute)"
   ]
  },
  {
   "cell_type": "code",
   "execution_count": 1939,
   "metadata": {},
   "outputs": [
    {
     "name": "stdout",
     "output_type": "stream",
     "text": [
      "[(0.02786861309847022, 'gsin_cat_C'), (0.017317034250872387, 'top-gsin_Engineering Services - Buildings'), (0.00957377475996446, 'trade-agreement_Z'), (0.006990385447206093, 'contracting-city_VANCOUVER'), (0.005368441613116781, 'end_user_Public Works and Government Services Canada'), (0.003970352469997218, 'top-gsin_Architect and Engineering Services - Buildings'), (0.0033554395959797256, 'gsin_cat_B'), (0.002869092648035809, 'trade-agreement_I'), (0.0021034368700646455, 'gsin_cat_T'), (0.002079336301876511, 'top-gsin_Architectual Services - Buildings'), (0.001824215293542486, 'gsin_cat_R'), (0.0017054229343257399, 'trade-agreement_CKZ'), (0.0015617512604477746, 'top-gsin_Environmental Services'), (0.0015473995425828724, 'end_user_Department of National Defence'), (0.0015375898359729634, 'gsin_cat_E'), (0.0012918849798727594, 'contracting-city_GATINEAU'), (0.0012871440347090868, 'gsin_cat_5'), (0.0012092761727415802, 'trade-agreement_A7'), (0.0011506187452093863, 'gsin_cat_D'), (0.0011057815220405498, 'top-gsin_Engineering Services'), (0.001039258413460753, 'contracting-city_EDMONTON'), (0.0008962103828712431, 'trade-agreement_A3'), (0.0007602742903536353, 'top-gsin_Informatics Professional Services'), (0.0007453914849774312, 'days-since-first-award-normalized'), (0.0007407413045833477, 'top-gsin_Architectural & Engineering Services - Highways, Roads, Railways,Bridges and Dams'), (0.0007188106259700122, 'award-year-normalized'), (0.0006271036884623049, 'trade-agreement_N'), (0.0006130682731807502, 'contracting-city_OTTAWA'), (0.0006111717367541791, 'end_user_Other'), (0.000593406057060597, 'contracting-city_TORONTO'), (0.0005427045273540543, 'gsin_cat_A'), (0.0005202924393776787, 'top-gsin_Advertising Media Planning/Buying'), (0.0004923766381257355, 'contracting-city_CALGARY'), (0.0003999954239691794, 'top-gsin_Human Resource Services, Business Consulting/Change Management; Project Management Services'), (0.00030430003818415763, 'contracting-city_WINNIPEG'), (0.0002676500871295895, 'top-gsin_Architect/Engineer Services - Administration & Service Buildings'), (0.00026492535912781, 'trade-agreement_Y'), (0.0002553784887324717, 'gsin_cat_U'), (0.00024671998689973496, 'end_user_Parks Canada'), (0.0002418010868971976, 'top-gsin_Translation Services'), (0.0002368105315214697, 'contracting-city_HALIFAX'), (0.00023152470610798837, 'top-gsin_Marine Architect and Engineering Services'), (0.00021679221489778744, 'top-gsin_Temporary Help Services, General Office Support'), (0.0001936512529202572, 'top-gsin_Information Products'), (0.00018743392351061594, 'contracting-city_Other'), (0.00018108900851776522, 'trade-agreement_X'), (0.00015919820016052633, 'top-gsin_Construction of Other Buildings'), (0.00015638691378994096, 'top-gsin_Audio Visual Production Services'), (0.00014117235096511305, 'top-gsin_Military (R&D)'), (0.00014060177052499512, 'end_user_Health Canada'), (0.00013609207067644125, 'contracting-city_ST JOHNS'), (0.00013368643775901745, 'award month_10'), (0.0001328087808607492, 'award month_04'), (0.00013065644980259083, 'end_user_Employment and Social Development Canada'), (0.00012675653957860966, 'end_user_Canadian Space Agency'), (0.00011986463648872014, 'contracting-city_MISSISSAUGA'), (0.00011776911127892031, 'top-gsin_Product/Material - Design, Development, Formulation, Modification: Science and Technology Related (R&D)'), (0.00011756649870531266, 'trade-agreement_DR'), (0.00010939637547013881, 'contracting-city_ST HUBERT'), (0.00010713756049252066, 'competitive_tender_Yes'), (0.00010713756049252066, 'solicitation_procedure_Traditional Non-Competitive'), (0.00010566337745276932, 'end_user_Agriculture and Agri-Food Canada'), (0.00010074037745699815, 'contracting-city_BORDEN'), (9.865339695658282e-05, 'end_user_Citizenship and Immigration Canada'), (9.664134175968453e-05, 'solicitation_procedure_Open Bidding'), (9.448222954877572e-05, 'top-gsin_Advertising Related Services'), (8.974878528089647e-05, 'top-gsin_Miscellaneous Business Services'), (8.91247663890038e-05, 'top-gsin_Media Monitoring Services'), (8.629969242934799e-05, 'top-gsin_Video Production Services'), (8.55565359721977e-05, 'top-gsin_Public Opinion Research - Quantitative'), (8.264710804239961e-05, 'top-gsin_Waterways, Harbours, Dams and Other Water Works'), (8.137428199961327e-05, 'end_user_Natural Resources Canada'), (8.020930006691351e-05, 'end_user_Foreign Affairs, Trade And Development (Department Of)'), (7.842730900109451e-05, 'trade-agreement_A1'), (7.431484855979775e-05, 'end_user_Industry Canada'), (7.368210269576014e-05, 'top-gsin_Communication Promotional Material (including printing and identification)'), (7.29409535562553e-05, 'top-gsin_General Marine Construction Work'), (7.07182129697781e-05, 'end_user_Veterans Affairs Canada'), (6.95331846545244e-05, 'top-gsin_Astronautics (R&D)'), (6.77562070815485e-05, 'top-gsin_Electrical Installations and Major Repairs'), (6.568392288253122e-05, 'top-gsin_Press Release Distribution'), (6.553593785452172e-05, 'end_user_Royal Canadian Mounted Police'), (6.19648721240651e-05, 'solicitation_procedure_ACAN'), (5.843818163964176e-05, 'end_user_Aboriginal Affairs & Northern Development Canada'), (5.755172256238783e-05, 'top-gsin_Public Opinion Research - Quantitative & Qualitative'), (5.50410051800565e-05, 'top-gsin_Technical / Vocational Training'), (5.31219586313858e-05, 'top-gsin_Publications'), (5.2826790957527514e-05, 'top-gsin_Information Retrieval Services, Database'), (5.274180961400976e-05, 'award month_07'), (5.060167872339427e-05, 'top-gsin_Other'), (5.033095656259423e-05, 'top-gsin_Business Services'), (4.958118234088538e-05, 'top-gsin_General Office Help'), (4.958118234088538e-05, 'top-gsin_Highways, Roads, Railways,  Airfield Runways'), (4.9138774811385844e-05, 'top-gsin_Public Opinion Research - Qualitative'), (4.825408602493475e-05, 'top-gsin_Language Interpretation Services'), (4.766438701564457e-05, 'top-gsin_Advertising Creative Services'), (4.7369565560506643e-05, 'top-gsin_General Contractor Services, Not Elsewhere Specified'), (4.6779978739808215e-05, 'trade-agreement_SB'), (4.545315433690522e-05, 'contracting-city_DARTMOUTH'), (4.0752628213902575e-05, 'award month_06'), (3.878177466365429e-05, 'end_user_Canada Revenue Agency'), (3.864262876063229e-05, 'end_user_Correctional Service of Canada'), (3.778532820852831e-05, 'award month_05'), (3.776868445648507e-05, 'contracting-city_MONTREAL'), (3.19638571188996e-05, 'end_user_Transport Canada'), (3.147075196729965e-05, 'top-gsin_Heating, Ventilation and Air Conditioning Maintenance & Inspection Services'), (2.9869920580294362e-05, 'trade-agreement_00'), (2.7536045466125536e-05, 'top-gsin_Internal and External Audits (Supply Arrangement PASS)'), (2.7121493492376914e-05, 'award month_08'), (2.4224215964041562e-05, 'trade-agreement_A4'), (2.2995974217066006e-05, 'top-gsin_End-to-End Learning Services (Excludes COTS Training)'), (1.9638461483451053e-05, 'trade-agreement_C'), (1.9440082405841608e-05, 'contracting-city_QUEBEC'), (1.8982441068127187e-05, 'award month_12'), (1.8877314651999377e-05, 'end_user_Environment Canada'), (1.8865239622800622e-05, 'contracting-city_Gatineau'), (1.7551644366120556e-05, 'trade-agreement_A'), (1.682845284933787e-05, 'trade-agreement_J'), (1.5414904294575038e-05, 'award month_11'), (1.5139047781054238e-05, 'trade-agreement_A6'), (1.5052958466155175e-05, 'trade-agreement_Q'), (1.1110378420053912e-05, 'contracting-city_CHARLOTTETOWN'), (9.047598969913473e-06, 'total-contract-value-normalized'), (7.321000304871816e-06, 'contracting-city_MONCTON'), (6.329035608043654e-06, 'award month_01'), (5.986090353404805e-06, 'trade-agreement_SA'), (5.436278018966512e-06, 'gsin_cat_S'), (5.109593214758235e-06, 'trade-agreement_A9'), (3.834152478954245e-06, 'award month_09'), (3.7951587235074413e-06, 'trade-agreement_SC'), (3.788710569385678e-06, 'award month_03'), (2.6270859165844485e-06, 'trade-agreement_CKY'), (2.33511379044149e-06, 'trade-agreement_A5'), (1.4593079664670938e-06, 'trade-agreement_B'), (1.0214672296893212e-06, 'trade-agreement_H'), (1.011271469675279e-06, 'award month_02'), (9.822801640968493e-07, 'end_user_Fisheries and Oceans Canada'), (8.755295273221719e-07, 'trade-agreement_A8'), (8.755295273221719e-07, 'trade-agreement_G'), (7.910776491648619e-07, 'gsin_cat_H'), (3.5500281725386884e-07, 'trade-agreement_R'), (2.918247605787627e-07, 'trade-agreement_A2'), (1.459100784639844e-07, 'trade-agreement_CKI'), (1.459100784639844e-07, 'trade-agreement_CKX'), (1.459100784639844e-07, 'trade-agreement_O'), (7.130027313007048e-08, 'solicitation_procedure_Traditional Competitive'), (1.0104032055480161e-09, 'trade-agreement_W')]\n"
     ]
    }
   ],
   "source": [
    "topAttributeSort = sorted(topAttribute, key=lambda tup: tup[0], reverse = True)\n",
    "print(topAttributeSort)"
   ]
  },
  {
   "cell_type": "markdown",
   "metadata": {},
   "source": [
    "### Automated SelectKBest Approach Using F-Regression & F-Classif"
   ]
  },
  {
   "cell_type": "code",
   "execution_count": 1940,
   "metadata": {},
   "outputs": [
    {
     "name": "stdout",
     "output_type": "stream",
     "text": [
      "                                                 Specs        Score\n",
      "50                                          gsin_cat_C  1817.292544\n",
      "18           top-gsin_Engineering Services - Buildings  1117.106405\n",
      "95                                   trade-agreement_Z   612.767225\n",
      "133                         contracting-city_VANCOUVER   446.254002\n",
      "112  end_user_Public Works and Government Services ...   342.153080\n",
      "6    top-gsin_Architect and Engineering Services - ...   252.691860\n",
      "49                                          gsin_cat_B   213.424159\n",
      "83                                   trade-agreement_I   182.400846\n",
      "56                                          gsin_cat_T   133.622136\n",
      "8           top-gsin_Architectual Services - Buildings   132.087942\n",
      "54                                          gsin_cat_R   115.851995\n",
      "79                                 trade-agreement_CKZ   108.294859\n",
      "19                     top-gsin_Environmental Services    99.157395\n",
      "102            end_user_Department of National Defence    98.244776\n",
      "52                                          gsin_cat_E    97.620996\n",
      "121                          contracting-city_GATINEAU    82.001109\n",
      "47                                          gsin_cat_5    81.699794\n",
      "71                                  trade-agreement_A7    76.751249\n",
      "51                                          gsin_cat_D    73.024046\n",
      "17                       top-gsin_Engineering Services    70.175301\n",
      "120                          contracting-city_EDMONTON    65.949208\n",
      "67                                  trade-agreement_A3    56.863530\n",
      "26          top-gsin_Informatics Professional Services    48.231977\n",
      "1                    days-since-first-award-normalized    47.287104\n",
      "9    top-gsin_Architectural & Engineering Services ...    46.991882\n",
      "2                                award-year-normalized    45.599621\n",
      "85                                   trade-agreement_N    39.778302\n",
      "127                            contracting-city_OTTAWA    38.887465\n",
      "110                                     end_user_Other    38.767092\n",
      "132                           contracting-city_TORONTO    37.639532\n"
     ]
    }
   ],
   "source": [
    "#Univariate Selection\n",
    "\n",
    "from sklearn.feature_selection import SelectKBest\n",
    "from sklearn.feature_selection import f_classif\n",
    "\n",
    "bestfeatures = SelectKBest(score_func = f_classif, k=30)\n",
    "fitBF = bestfeatures.fit(featureEvalDatax,featureEvalDatay)\n",
    "BFscores = pd.DataFrame(fitBF.scores_)\n",
    "BFcolumns = pd.DataFrame(featureEvalDatax.columns)\n",
    "featureScores = pd.concat([BFcolumns,BFscores],axis=1)\n",
    "featureScores.columns = ['Specs','Score'] \n",
    "print(featureScores.nlargest(30,'Score')) "
   ]
  },
  {
   "cell_type": "markdown",
   "metadata": {},
   "source": [
    "## Creating the Test & Training Set "
   ]
  },
  {
   "cell_type": "code",
   "execution_count": 1941,
   "metadata": {},
   "outputs": [],
   "source": [
    "from sklearn.model_selection import KFold\n",
    "\n",
    "kf5 = KFold(n_splits=5, shuffle=True, random_state = 2)\n",
    "result = next(kf5.split(modelCH, None))\n",
    "train = modelCH.iloc[result[0]]\n",
    "test = modelCH.iloc[result[1]]"
   ]
  },
  {
   "cell_type": "markdown",
   "metadata": {},
   "source": [
    "## Unbalanced Multiple Linear Model with Original Top 12 Features"
   ]
  },
  {
   "cell_type": "code",
   "execution_count": 1942,
   "metadata": {},
   "outputs": [],
   "source": [
    "xTrainEval = pd.DataFrame(train, columns = ['gsin_cat_C', 'top-gsin_Engineering Services - Buildings', 'trade-agreement_Z', 'contracting-city_VANCOUVER', 'end_user_Public Works and Government Services Canada', 'gsin_cat_B', 'trade-agreement_I', 'gsin_cat_T', 'top-gsin_Architectual Services - Buildings', 'gsin_cat_R', 'trade-agreement_CKZ', 'top-gsin_Environmental Services'])\n",
    "yTrainEval = pd.DataFrame(train, columns = ['stantec-supplier-mod'])\n",
    "xTestEval = pd.DataFrame(test, columns = ['gsin_cat_C', 'top-gsin_Engineering Services - Buildings', 'trade-agreement_Z', 'contracting-city_VANCOUVER', 'end_user_Public Works and Government Services Canada', 'gsin_cat_B', 'trade-agreement_I', 'gsin_cat_T', 'top-gsin_Architectual Services - Buildings', 'gsin_cat_R', 'trade-agreement_CKZ', 'top-gsin_Environmental Services'])\n",
    "yTestEval = pd.DataFrame(test, columns = ['stantec-supplier-mod'])"
   ]
  },
  {
   "cell_type": "code",
   "execution_count": 1943,
   "metadata": {},
   "outputs": [
    {
     "data": {
      "text/plain": [
       "stantec-supplier-mod\n",
       "0                       12552\n",
       "1                         127\n",
       "dtype: int64"
      ]
     },
     "execution_count": 1943,
     "metadata": {},
     "output_type": "execute_result"
    }
   ],
   "source": [
    "regr2 = linear_model.LinearRegression().fit(xTrainEval, yTrainEval)\n",
    "predTrain = regr2.predict(xTrainEval)\n",
    "predTest = regr2.predict(xTestEval)\n",
    "#confusion_matrix(yTestEval, predTest)\n",
    "yTestEval.value_counts()\n",
    "#note that a confusion matrix does not work here because of the result is a probablility not an outcome - will need to swtich to a classification model for proper results"
   ]
  },
  {
   "cell_type": "code",
   "execution_count": 1944,
   "metadata": {},
   "outputs": [
    {
     "data": {
      "text/plain": [
       "array([[10285,  2267],\n",
       "       [   12,   115]], dtype=int64)"
      ]
     },
     "execution_count": 1944,
     "metadata": {},
     "output_type": "execute_result"
    }
   ],
   "source": [
    "#0.01 used for prediction since approximately 127 of 12679 or 0.01% of the test values are positive\n",
    "from sklearn.metrics import confusion_matrix\n",
    "\n",
    "outcome = []\n",
    "for pred in predTest:\n",
    "    if (pred > 0.01):\n",
    "        outcome.append(1)\n",
    "    elif (pred <= 0.01):\n",
    "        outcome.append(0)\n",
    "\n",
    "confusion_matrix(yTestEval, outcome)"
   ]
  },
  {
   "cell_type": "code",
   "execution_count": 1945,
   "metadata": {},
   "outputs": [
    {
     "name": "stdout",
     "output_type": "stream",
     "text": [
      "              precision    recall  f1-score   support\n",
      "\n",
      "           0       1.00      0.82      0.90     12552\n",
      "           1       0.05      0.91      0.09       127\n",
      "\n",
      "    accuracy                           0.82     12679\n",
      "   macro avg       0.52      0.86      0.50     12679\n",
      "weighted avg       0.99      0.82      0.89     12679\n",
      "\n"
     ]
    }
   ],
   "source": [
    "from sklearn.metrics import classification_report\n",
    "\n",
    "print(classification_report(yTestEval, outcome))"
   ]
  },
  {
   "cell_type": "code",
   "execution_count": 1946,
   "metadata": {},
   "outputs": [
    {
     "name": "stdout",
     "output_type": "stream",
     "text": [
      "0.8624515715411291\n"
     ]
    }
   ],
   "source": [
    "from sklearn.metrics import roc_auc_score\n",
    "\n",
    "auc = roc_auc_score(yTestEval, outcome)\n",
    "print(auc)"
   ]
  },
  {
   "cell_type": "markdown",
   "metadata": {},
   "source": [
    "## Creating the Balanced Dataset for Use in All Models"
   ]
  },
  {
   "cell_type": "code",
   "execution_count": 1947,
   "metadata": {},
   "outputs": [
    {
     "name": "stdout",
     "output_type": "stream",
     "text": [
      "no     454\n",
      "yes    454\n",
      "Name: stantec-supplier, dtype: int64\n"
     ]
    }
   ],
   "source": [
    "#Train Balanced model\n",
    "count_class_0, count_class_1 = train['stantec-supplier'].value_counts()\n",
    "ch_class_0 = train[train['stantec-supplier'] == 'no']\n",
    "ch_class_1 = train[train['stantec-supplier'] == 'yes']\n",
    "ch_class_0_under = ch_class_0.sample(count_class_1)\n",
    "trainUnder = pd.concat([ch_class_0_under, ch_class_1], axis=0)\n",
    "print(trainUnder['stantec-supplier'].value_counts())\n"
   ]
  },
  {
   "cell_type": "markdown",
   "metadata": {},
   "source": [
    "## Balanced Multiple Linear Model with Original Top 12 Features"
   ]
  },
  {
   "cell_type": "code",
   "execution_count": 1948,
   "metadata": {},
   "outputs": [],
   "source": [
    "xTrainEvalF = pd.DataFrame(trainUnder, columns = ['gsin_cat_C', 'top-gsin_Engineering Services - Buildings', 'trade-agreement_Z', 'contracting-city_VANCOUVER', 'end_user_Public Works and Government Services Canada', 'gsin_cat_B', 'trade-agreement_I', 'gsin_cat_T', 'top-gsin_Architectual Services - Buildings', 'gsin_cat_R', 'trade-agreement_CKZ', 'top-gsin_Environmental Services'])\n",
    "yTrainEvalF = pd.DataFrame(trainUnder, columns = ['stantec-supplier-mod'])\n",
    "xTestEvalF = pd.DataFrame(test, columns = ['gsin_cat_C', 'top-gsin_Engineering Services - Buildings', 'trade-agreement_Z', 'contracting-city_VANCOUVER', 'end_user_Public Works and Government Services Canada', 'gsin_cat_B', 'trade-agreement_I', 'gsin_cat_T', 'top-gsin_Architectual Services - Buildings', 'gsin_cat_R', 'trade-agreement_CKZ', 'top-gsin_Environmental Services'])\n",
    "yTestEvalF = pd.DataFrame(test, columns = ['stantec-supplier-mod'])"
   ]
  },
  {
   "cell_type": "code",
   "execution_count": 1949,
   "metadata": {},
   "outputs": [
    {
     "data": {
      "text/plain": [
       "array([[10826,  1726],\n",
       "       [   16,   111]], dtype=int64)"
      ]
     },
     "execution_count": 1949,
     "metadata": {},
     "output_type": "execute_result"
    }
   ],
   "source": [
    "regrBalance9 = linear_model.LinearRegression().fit(xTrainEvalF, yTrainEvalF)\n",
    "predTrainBalance9 = regrBalance9.predict(xTrainEvalF)\n",
    "predTestBalance9 = regrBalance9.predict(xTestEvalF)\n",
    "\n",
    "outcome9 = []\n",
    "for pred in predTestBalance9:\n",
    "    if (pred > 0.5):\n",
    "        outcome9.append(1)\n",
    "    elif (pred <= 0.5):\n",
    "        outcome9.append(0)\n",
    "\n",
    "confusion_matrix(yTestEvalF, outcome9)"
   ]
  },
  {
   "cell_type": "code",
   "execution_count": 1950,
   "metadata": {},
   "outputs": [
    {
     "name": "stdout",
     "output_type": "stream",
     "text": [
      "              precision    recall  f1-score   support\n",
      "\n",
      "           0       1.00      0.86      0.93     12552\n",
      "           1       0.06      0.87      0.11       127\n",
      "\n",
      "    accuracy                           0.86     12679\n",
      "   macro avg       0.53      0.87      0.52     12679\n",
      "weighted avg       0.99      0.86      0.92     12679\n",
      "\n"
     ]
    }
   ],
   "source": [
    "print(classification_report(yTestEvalF, outcome9))"
   ]
  },
  {
   "cell_type": "code",
   "execution_count": 1951,
   "metadata": {},
   "outputs": [
    {
     "name": "stdout",
     "output_type": "stream",
     "text": [
      "0.8682538905868125\n"
     ]
    }
   ],
   "source": [
    "print(roc_auc_score(yTestEvalF, outcome9))"
   ]
  },
  {
   "cell_type": "markdown",
   "metadata": {},
   "source": [
    "## Balanced Multiple Linear Model with All Features"
   ]
  },
  {
   "cell_type": "code",
   "execution_count": 1952,
   "metadata": {},
   "outputs": [],
   "source": [
    "trainUnderAll = trainUnder.drop(['stantec-supplier-mod', 'stantec-supplier'], axis = 1)\n",
    "testAll = test.drop(['stantec-supplier-mod', 'stantec-supplier'], axis = 1)"
   ]
  },
  {
   "cell_type": "code",
   "execution_count": 1953,
   "metadata": {},
   "outputs": [],
   "source": [
    "#Balanced regression model evaluation - All Features\n",
    "xTrainEvalE = pd.DataFrame(trainUnderAll)\n",
    "yTrainEvalE = pd.DataFrame(trainUnder, columns = ['stantec-supplier-mod'])\n",
    "xTestEvalE = pd.DataFrame(testAll)\n",
    "yTestEvalE = pd.DataFrame(test, columns = ['stantec-supplier-mod'])"
   ]
  },
  {
   "cell_type": "code",
   "execution_count": 1954,
   "metadata": {},
   "outputs": [
    {
     "data": {
      "text/plain": [
       "array([[10531,  2021],\n",
       "       [    9,   118]], dtype=int64)"
      ]
     },
     "execution_count": 1954,
     "metadata": {},
     "output_type": "execute_result"
    }
   ],
   "source": [
    "regrBalance4 = linear_model.LinearRegression().fit(xTrainEvalE, yTrainEvalE)\n",
    "predTrainBalance4 = regrBalance4.predict(xTrainEvalE)\n",
    "predTestBalance4 = regrBalance4.predict(xTestEvalE)\n",
    "\n",
    "outcome4 = []\n",
    "for pred in predTestBalance4:\n",
    "    if (pred > 0.5):\n",
    "        outcome4.append(1)\n",
    "    elif (pred <= 0.5):\n",
    "        outcome4.append(0)\n",
    "\n",
    "confusion_matrix(yTestEvalE, outcome4)"
   ]
  },
  {
   "cell_type": "code",
   "execution_count": 1955,
   "metadata": {},
   "outputs": [
    {
     "name": "stdout",
     "output_type": "stream",
     "text": [
      "              precision    recall  f1-score   support\n",
      "\n",
      "           0       1.00      0.84      0.91     12552\n",
      "           1       0.06      0.93      0.10       127\n",
      "\n",
      "    accuracy                           0.84     12679\n",
      "   macro avg       0.53      0.88      0.51     12679\n",
      "weighted avg       0.99      0.84      0.90     12679\n",
      "\n"
     ]
    }
   ],
   "source": [
    "print(classification_report(yTestEvalE, outcome4))"
   ]
  },
  {
   "cell_type": "code",
   "execution_count": 1956,
   "metadata": {},
   "outputs": [
    {
     "name": "stdout",
     "output_type": "stream",
     "text": [
      "0.8840618303448207\n"
     ]
    }
   ],
   "source": [
    "auc = roc_auc_score(yTestEvalE, outcome4)\n",
    "print(auc)"
   ]
  },
  {
   "cell_type": "markdown",
   "metadata": {},
   "source": [
    "## Balanced Multiple Linear Model SelectKBest Top 16"
   ]
  },
  {
   "cell_type": "code",
   "execution_count": 2347,
   "metadata": {},
   "outputs": [],
   "source": [
    "xTrainEvalB = pd.DataFrame(trainUnder, columns = ['gsin_cat_C', 'top-gsin_Engineering Services - Buildings', 'trade-agreement_Z', 'contracting-city_VANCOUVER', 'end_user_Public Works and Government Services Canada', 'top-gsin_Architect and Engineering Services - Buildings', 'gsin_cat_B', 'trade-agreement_I', 'gsin_cat_T', 'top-gsin_Architectual Services - Buildings', 'gsin_cat_R', 'trade-agreement_CKZ', 'top-gsin_Environmental Services', 'end_user_Department of National Defence', 'gsin_cat_E', 'contracting-city_GATINEAU'])\n",
    "yTrainEvalB = pd.DataFrame(trainUnder, columns = ['stantec-supplier-mod'])\n",
    "xTestEvalB = pd.DataFrame(test, columns = ['gsin_cat_C', 'top-gsin_Engineering Services - Buildings', 'trade-agreement_Z', 'contracting-city_VANCOUVER', 'end_user_Public Works and Government Services Canada', 'top-gsin_Architect and Engineering Services - Buildings', 'gsin_cat_B', 'trade-agreement_I', 'gsin_cat_T', 'top-gsin_Architectual Services - Buildings', 'gsin_cat_R', 'trade-agreement_CKZ', 'top-gsin_Environmental Services', 'end_user_Department of National Defence', 'gsin_cat_E', 'contracting-city_GATINEAU'])\n",
    "yTestEvalB = pd.DataFrame(test, columns = ['stantec-supplier-mod'])"
   ]
  },
  {
   "cell_type": "code",
   "execution_count": 2348,
   "metadata": {},
   "outputs": [
    {
     "data": {
      "text/plain": [
       "array([[10535,  2017],\n",
       "       [   10,   117]], dtype=int64)"
      ]
     },
     "execution_count": 2348,
     "metadata": {},
     "output_type": "execute_result"
    }
   ],
   "source": [
    "regrBalance2 = linear_model.LinearRegression().fit(xTrainEvalB, yTrainEvalB)\n",
    "predTrainBalance2 = regrBalance2.predict(xTrainEvalB)\n",
    "predTestBalance2 = regrBalance2.predict(xTestEvalB)\n",
    "\n",
    "outcome2 = []\n",
    "for pred in predTestBalance2:\n",
    "    if (pred > 0.5):\n",
    "        outcome2.append(1)\n",
    "    elif (pred <= 0.5):\n",
    "        outcome2.append(0)\n",
    "\n",
    "confusion_matrix(yTestEvalB, outcome2)"
   ]
  },
  {
   "cell_type": "code",
   "execution_count": 2349,
   "metadata": {},
   "outputs": [
    {
     "name": "stdout",
     "output_type": "stream",
     "text": [
      "              precision    recall  f1-score   support\n",
      "\n",
      "           0       1.00      0.84      0.91     12552\n",
      "           1       0.05      0.92      0.10       127\n",
      "\n",
      "    accuracy                           0.84     12679\n",
      "   macro avg       0.53      0.88      0.51     12679\n",
      "weighted avg       0.99      0.84      0.90     12679\n",
      "\n"
     ]
    }
   ],
   "source": [
    "print(classification_report(yTestEvalB, outcome2))"
   ]
  },
  {
   "cell_type": "code",
   "execution_count": 2350,
   "metadata": {},
   "outputs": [
    {
     "name": "stdout",
     "output_type": "stream",
     "text": [
      "0.88028415962823\n"
     ]
    }
   ],
   "source": [
    "print(roc_auc_score(yTestEvalB, outcome2))"
   ]
  },
  {
   "cell_type": "markdown",
   "metadata": {},
   "source": [
    "## Logistic Regression Classifier\n",
    "Using the same inputs as the Balanced regression model evaluation with SelectKBest Top 16 Features"
   ]
  },
  {
   "cell_type": "code",
   "execution_count": 2351,
   "metadata": {},
   "outputs": [],
   "source": [
    "logReg = LogisticRegression()"
   ]
  },
  {
   "cell_type": "code",
   "execution_count": 2352,
   "metadata": {},
   "outputs": [
    {
     "name": "stderr",
     "output_type": "stream",
     "text": [
      "C:\\Users\\alana\\AppData\\Local\\Programs\\Python\\Python39\\lib\\site-packages\\sklearn\\utils\\validation.py:985: DataConversionWarning: A column-vector y was passed when a 1d array was expected. Please change the shape of y to (n_samples, ), for example using ravel().\n",
      "  y = column_or_1d(y, warn=True)\n"
     ]
    }
   ],
   "source": [
    "logRegFit2 = logReg.fit(xTrainEvalB, yTrainEvalB)"
   ]
  },
  {
   "cell_type": "code",
   "execution_count": 2353,
   "metadata": {},
   "outputs": [],
   "source": [
    "logRegPred2 = logRegFit2.predict(xTestEvalB)"
   ]
  },
  {
   "cell_type": "code",
   "execution_count": 2354,
   "metadata": {},
   "outputs": [
    {
     "name": "stdout",
     "output_type": "stream",
     "text": [
      "0.8574808738859532\n"
     ]
    }
   ],
   "source": [
    "score2 = logReg.score(xTestEvalB, yTestEvalB)\n",
    "print(score2)"
   ]
  },
  {
   "cell_type": "code",
   "execution_count": 2355,
   "metadata": {},
   "outputs": [
    {
     "name": "stdout",
     "output_type": "stream",
     "text": [
      "[[10757  1795]\n",
      " [   12   115]]\n"
     ]
    }
   ],
   "source": [
    "confMatrix2 = metrics.confusion_matrix(yTestEvalB, logRegPred2)\n",
    "print(confMatrix2)"
   ]
  },
  {
   "cell_type": "code",
   "execution_count": 2356,
   "metadata": {},
   "outputs": [
    {
     "name": "stdout",
     "output_type": "stream",
     "text": [
      "              precision    recall  f1-score   support\n",
      "\n",
      "           0       1.00      0.86      0.92     12552\n",
      "           1       0.06      0.91      0.11       127\n",
      "\n",
      "    accuracy                           0.86     12679\n",
      "   macro avg       0.53      0.88      0.52     12679\n",
      "weighted avg       0.99      0.86      0.91     12679\n",
      "\n"
     ]
    }
   ],
   "source": [
    "print(classification_report(yTestEvalB, logRegPred2))"
   ]
  },
  {
   "cell_type": "code",
   "execution_count": 2357,
   "metadata": {},
   "outputs": [
    {
     "name": "stdout",
     "output_type": "stream",
     "text": [
      "0.8812533561172922\n"
     ]
    }
   ],
   "source": [
    "print(roc_auc_score(yTestEvalB, logRegPred2))"
   ]
  },
  {
   "cell_type": "markdown",
   "metadata": {},
   "source": [
    "## Decision Trees Classifier\n",
    "Using the same inputs as the Balanced regression model evaluation with SelectKBest Top 16 Features"
   ]
  },
  {
   "cell_type": "code",
   "execution_count": 2358,
   "metadata": {},
   "outputs": [],
   "source": [
    "from sklearn.tree import DecisionTreeClassifier\n",
    "dt = DecisionTreeClassifier()"
   ]
  },
  {
   "cell_type": "code",
   "execution_count": 2359,
   "metadata": {},
   "outputs": [],
   "source": [
    "dtFit2 = dt.fit(xTrainEvalB, yTrainEvalB)"
   ]
  },
  {
   "cell_type": "code",
   "execution_count": 2360,
   "metadata": {},
   "outputs": [],
   "source": [
    "dtPred2 = dtFit2.predict(xTestEvalB)"
   ]
  },
  {
   "cell_type": "code",
   "execution_count": 2361,
   "metadata": {},
   "outputs": [
    {
     "name": "stdout",
     "output_type": "stream",
     "text": [
      "0.8608723085416831\n"
     ]
    }
   ],
   "source": [
    "dtScore2 = dtFit2.score(xTestEvalB, yTestEvalB)\n",
    "print(dtScore2)"
   ]
  },
  {
   "cell_type": "code",
   "execution_count": 2362,
   "metadata": {},
   "outputs": [
    {
     "name": "stdout",
     "output_type": "stream",
     "text": [
      "[[10800  1752]\n",
      " [   12   115]]\n"
     ]
    }
   ],
   "source": [
    "dtConfMatrix2 = metrics.confusion_matrix(yTestEvalB, dtPred2)\n",
    "print(dtConfMatrix2)"
   ]
  },
  {
   "cell_type": "code",
   "execution_count": 2363,
   "metadata": {},
   "outputs": [
    {
     "name": "stdout",
     "output_type": "stream",
     "text": [
      "              precision    recall  f1-score   support\n",
      "\n",
      "           0       1.00      0.86      0.92     12552\n",
      "           1       0.06      0.91      0.12       127\n",
      "\n",
      "    accuracy                           0.86     12679\n",
      "   macro avg       0.53      0.88      0.52     12679\n",
      "weighted avg       0.99      0.86      0.92     12679\n",
      "\n"
     ]
    }
   ],
   "source": [
    "print(classification_report(yTestEvalB, dtPred2))"
   ]
  },
  {
   "cell_type": "code",
   "execution_count": 2364,
   "metadata": {},
   "outputs": [
    {
     "name": "stdout",
     "output_type": "stream",
     "text": [
      "0.8829662305596121\n"
     ]
    }
   ],
   "source": [
    "print(roc_auc_score(yTestEvalB, dtPred2))"
   ]
  },
  {
   "cell_type": "code",
   "execution_count": 2365,
   "metadata": {},
   "outputs": [
    {
     "data": {
      "text/plain": [
       "[Text(234.27516891891895, 207.55636363636364, 'X[0] <= 0.5\\ngini = 0.5\\nsamples = 908\\nvalue = [454, 454]'),\n",
       " Text(164.00675675675677, 187.7890909090909, 'X[14] <= 0.5\\ngini = 0.383\\nsamples = 543\\nvalue = [403, 140]'),\n",
       " Text(117.63243243243244, 168.0218181818182, 'X[6] <= 0.5\\ngini = 0.313\\nsamples = 490\\nvalue = [395, 95]'),\n",
       " Text(76.91351351351352, 148.25454545454545, 'X[4] <= 0.5\\ngini = 0.208\\nsamples = 432\\nvalue = [381, 51]'),\n",
       " Text(40.718918918918924, 128.48727272727274, 'X[7] <= 0.5\\ngini = 0.074\\nsamples = 208\\nvalue = [200, 8]'),\n",
       " Text(22.621621621621625, 108.72, 'X[3] <= 0.5\\ngini = 0.041\\nsamples = 144\\nvalue = [141, 3]'),\n",
       " Text(18.0972972972973, 88.95272727272729, 'X[10] <= 0.5\\ngini = 0.028\\nsamples = 142\\nvalue = [140, 2]'),\n",
       " Text(9.04864864864865, 69.18545454545455, 'X[13] <= 0.5\\ngini = 0.015\\nsamples = 130\\nvalue = [129, 1]'),\n",
       " Text(4.524324324324325, 49.418181818181836, 'gini = 0.0\\nsamples = 87\\nvalue = [87, 0]'),\n",
       " Text(13.572972972972973, 49.418181818181836, 'X[8] <= 0.5\\ngini = 0.045\\nsamples = 43\\nvalue = [42, 1]'),\n",
       " Text(9.04864864864865, 29.650909090909096, 'X[2] <= 0.5\\ngini = 0.067\\nsamples = 29\\nvalue = [28, 1]'),\n",
       " Text(4.524324324324325, 9.883636363636384, 'gini = 0.069\\nsamples = 28\\nvalue = [27, 1]'),\n",
       " Text(13.572972972972973, 9.883636363636384, 'gini = 0.0\\nsamples = 1\\nvalue = [1, 0]'),\n",
       " Text(18.0972972972973, 29.650909090909096, 'gini = 0.0\\nsamples = 14\\nvalue = [14, 0]'),\n",
       " Text(27.145945945945947, 69.18545454545455, 'X[13] <= 0.5\\ngini = 0.153\\nsamples = 12\\nvalue = [11, 1]'),\n",
       " Text(22.621621621621625, 49.418181818181836, 'gini = 0.0\\nsamples = 7\\nvalue = [7, 0]'),\n",
       " Text(31.670270270270272, 49.418181818181836, 'gini = 0.32\\nsamples = 5\\nvalue = [4, 1]'),\n",
       " Text(27.145945945945947, 88.95272727272729, 'gini = 0.5\\nsamples = 2\\nvalue = [1, 1]'),\n",
       " Text(58.81621621621622, 108.72, 'X[13] <= 0.5\\ngini = 0.144\\nsamples = 64\\nvalue = [59, 5]'),\n",
       " Text(54.29189189189189, 88.95272727272729, 'X[3] <= 0.5\\ngini = 0.224\\nsamples = 39\\nvalue = [34, 5]'),\n",
       " Text(49.767567567567575, 69.18545454545455, 'X[8] <= 0.5\\ngini = 0.245\\nsamples = 35\\nvalue = [30, 5]'),\n",
       " Text(40.718918918918924, 49.418181818181836, 'X[10] <= 0.5\\ngini = 0.287\\nsamples = 23\\nvalue = [19, 4]'),\n",
       " Text(36.1945945945946, 29.650909090909096, 'gini = 0.278\\nsamples = 18\\nvalue = [15, 3]'),\n",
       " Text(45.24324324324325, 29.650909090909096, 'gini = 0.32\\nsamples = 5\\nvalue = [4, 1]'),\n",
       " Text(58.81621621621622, 49.418181818181836, 'X[15] <= 0.5\\ngini = 0.153\\nsamples = 12\\nvalue = [11, 1]'),\n",
       " Text(54.29189189189189, 29.650909090909096, 'gini = 0.18\\nsamples = 10\\nvalue = [9, 1]'),\n",
       " Text(63.340540540540545, 29.650909090909096, 'gini = 0.0\\nsamples = 2\\nvalue = [2, 0]'),\n",
       " Text(58.81621621621622, 69.18545454545455, 'gini = 0.0\\nsamples = 4\\nvalue = [4, 0]'),\n",
       " Text(63.340540540540545, 88.95272727272729, 'gini = 0.0\\nsamples = 25\\nvalue = [25, 0]'),\n",
       " Text(113.10810810810811, 128.48727272727274, 'X[7] <= 0.5\\ngini = 0.31\\nsamples = 224\\nvalue = [181, 43]'),\n",
       " Text(95.01081081081082, 108.72, 'X[10] <= 0.5\\ngini = 0.385\\nsamples = 142\\nvalue = [105, 37]'),\n",
       " Text(85.96216216216217, 88.95272727272729, 'X[2] <= 0.5\\ngini = 0.423\\nsamples = 79\\nvalue = [55, 24]'),\n",
       " Text(81.43783783783785, 69.18545454545455, 'X[3] <= 0.5\\ngini = 0.429\\nsamples = 77\\nvalue = [53, 24]'),\n",
       " Text(76.91351351351352, 49.418181818181836, 'X[15] <= 0.5\\ngini = 0.425\\nsamples = 75\\nvalue = [52, 23]'),\n",
       " Text(72.3891891891892, 29.650909090909096, 'X[8] <= 0.5\\ngini = 0.433\\nsamples = 63\\nvalue = [43, 20]'),\n",
       " Text(67.86486486486487, 9.883636363636384, 'gini = 0.437\\nsamples = 59\\nvalue = [40, 19]'),\n",
       " Text(76.91351351351352, 9.883636363636384, 'gini = 0.375\\nsamples = 4\\nvalue = [3, 1]'),\n",
       " Text(81.43783783783785, 29.650909090909096, 'gini = 0.375\\nsamples = 12\\nvalue = [9, 3]'),\n",
       " Text(85.96216216216217, 49.418181818181836, 'gini = 0.5\\nsamples = 2\\nvalue = [1, 1]'),\n",
       " Text(90.4864864864865, 69.18545454545455, 'gini = 0.0\\nsamples = 2\\nvalue = [2, 0]'),\n",
       " Text(104.05945945945948, 88.95272727272729, 'X[2] <= 0.5\\ngini = 0.328\\nsamples = 63\\nvalue = [50, 13]'),\n",
       " Text(99.53513513513515, 69.18545454545455, 'X[3] <= 0.5\\ngini = 0.335\\nsamples = 61\\nvalue = [48, 13]'),\n",
       " Text(95.01081081081082, 49.418181818181836, 'X[15] <= 0.5\\ngini = 0.328\\nsamples = 58\\nvalue = [46, 12]'),\n",
       " Text(90.4864864864865, 29.650909090909096, 'gini = 0.351\\nsamples = 22\\nvalue = [17, 5]'),\n",
       " Text(99.53513513513515, 29.650909090909096, 'gini = 0.313\\nsamples = 36\\nvalue = [29, 7]'),\n",
       " Text(104.05945945945948, 49.418181818181836, 'gini = 0.444\\nsamples = 3\\nvalue = [2, 1]'),\n",
       " Text(108.58378378378379, 69.18545454545455, 'gini = 0.0\\nsamples = 2\\nvalue = [2, 0]'),\n",
       " Text(131.20540540540543, 108.72, 'X[10] <= 0.5\\ngini = 0.136\\nsamples = 82\\nvalue = [76, 6]'),\n",
       " Text(122.15675675675676, 88.95272727272729, 'X[3] <= 0.5\\ngini = 0.171\\nsamples = 53\\nvalue = [48, 5]'),\n",
       " Text(117.63243243243244, 69.18545454545455, 'X[8] <= 0.5\\ngini = 0.177\\nsamples = 51\\nvalue = [46, 5]'),\n",
       " Text(113.10810810810811, 49.418181818181836, 'gini = 0.198\\nsamples = 36\\nvalue = [32, 4]'),\n",
       " Text(122.15675675675676, 49.418181818181836, 'X[15] <= 0.5\\ngini = 0.124\\nsamples = 15\\nvalue = [14, 1]'),\n",
       " Text(117.63243243243244, 29.650909090909096, 'gini = 0.133\\nsamples = 14\\nvalue = [13, 1]'),\n",
       " Text(126.68108108108109, 29.650909090909096, 'gini = 0.0\\nsamples = 1\\nvalue = [1, 0]'),\n",
       " Text(126.68108108108109, 69.18545454545455, 'gini = 0.0\\nsamples = 2\\nvalue = [2, 0]'),\n",
       " Text(140.25405405405408, 88.95272727272729, 'X[15] <= 0.5\\ngini = 0.067\\nsamples = 29\\nvalue = [28, 1]'),\n",
       " Text(135.72972972972974, 69.18545454545455, 'X[3] <= 0.5\\ngini = 0.08\\nsamples = 24\\nvalue = [23, 1]'),\n",
       " Text(131.20540540540543, 49.418181818181836, 'gini = 0.083\\nsamples = 23\\nvalue = [22, 1]'),\n",
       " Text(140.25405405405408, 49.418181818181836, 'gini = 0.0\\nsamples = 1\\nvalue = [1, 0]'),\n",
       " Text(144.7783783783784, 69.18545454545455, 'gini = 0.0\\nsamples = 5\\nvalue = [5, 0]'),\n",
       " Text(158.35135135135135, 148.25454545454545, 'X[4] <= 0.5\\ngini = 0.366\\nsamples = 58\\nvalue = [14, 44]'),\n",
       " Text(149.3027027027027, 128.48727272727274, 'X[7] <= 0.5\\ngini = 0.32\\nsamples = 5\\nvalue = [4, 1]'),\n",
       " Text(144.7783783783784, 108.72, 'gini = 0.444\\nsamples = 3\\nvalue = [2, 1]'),\n",
       " Text(153.82702702702704, 108.72, 'gini = 0.0\\nsamples = 2\\nvalue = [2, 0]'),\n",
       " Text(167.4, 128.48727272727274, 'X[15] <= 0.5\\ngini = 0.306\\nsamples = 53\\nvalue = [10, 43]'),\n",
       " Text(162.8756756756757, 108.72, 'X[7] <= 0.5\\ngini = 0.249\\nsamples = 48\\nvalue = [7, 41]'),\n",
       " Text(158.35135135135135, 88.95272727272729, 'X[2] <= 0.5\\ngini = 0.231\\nsamples = 45\\nvalue = [6, 39]'),\n",
       " Text(153.82702702702704, 69.18545454545455, 'gini = 0.21\\nsamples = 42\\nvalue = [5, 37]'),\n",
       " Text(162.8756756756757, 69.18545454545455, 'gini = 0.444\\nsamples = 3\\nvalue = [1, 2]'),\n",
       " Text(167.4, 88.95272727272729, 'gini = 0.444\\nsamples = 3\\nvalue = [1, 2]'),\n",
       " Text(171.92432432432435, 108.72, 'gini = 0.48\\nsamples = 5\\nvalue = [3, 2]'),\n",
       " Text(210.3810810810811, 168.0218181818182, 'X[12] <= 0.5\\ngini = 0.256\\nsamples = 53\\nvalue = [8, 45]'),\n",
       " Text(194.54594594594596, 148.25454545454545, 'X[4] <= 0.5\\ngini = 0.34\\nsamples = 23\\nvalue = [5, 18]'),\n",
       " Text(185.4972972972973, 128.48727272727274, 'X[13] <= 0.5\\ngini = 0.5\\nsamples = 2\\nvalue = [1, 1]'),\n",
       " Text(180.972972972973, 108.72, 'gini = 0.0\\nsamples = 1\\nvalue = [1, 0]'),\n",
       " Text(190.02162162162165, 108.72, 'gini = 0.0\\nsamples = 1\\nvalue = [0, 1]'),\n",
       " Text(203.5945945945946, 128.48727272727274, 'X[2] <= 0.5\\ngini = 0.308\\nsamples = 21\\nvalue = [4, 17]'),\n",
       " Text(199.0702702702703, 108.72, 'X[15] <= 0.5\\ngini = 0.32\\nsamples = 20\\nvalue = [4, 16]'),\n",
       " Text(194.54594594594596, 88.95272727272729, 'X[7] <= 0.5\\ngini = 0.332\\nsamples = 19\\nvalue = [4, 15]'),\n",
       " Text(190.02162162162165, 69.18545454545455, 'gini = 0.346\\nsamples = 18\\nvalue = [4, 14]'),\n",
       " Text(199.0702702702703, 69.18545454545455, 'gini = 0.0\\nsamples = 1\\nvalue = [0, 1]'),\n",
       " Text(203.5945945945946, 88.95272727272729, 'gini = 0.0\\nsamples = 1\\nvalue = [0, 1]'),\n",
       " Text(208.11891891891895, 108.72, 'gini = 0.0\\nsamples = 1\\nvalue = [0, 1]'),\n",
       " Text(226.21621621621622, 148.25454545454545, 'X[3] <= 0.5\\ngini = 0.18\\nsamples = 30\\nvalue = [3, 27]'),\n",
       " Text(221.6918918918919, 128.48727272727274, 'X[4] <= 0.5\\ngini = 0.142\\nsamples = 26\\nvalue = [2, 24]'),\n",
       " Text(217.16756756756757, 108.72, 'gini = 0.0\\nsamples = 1\\nvalue = [0, 1]'),\n",
       " Text(226.21621621621622, 108.72, 'gini = 0.147\\nsamples = 25\\nvalue = [2, 23]'),\n",
       " Text(230.74054054054056, 128.48727272727274, 'gini = 0.375\\nsamples = 4\\nvalue = [1, 3]'),\n",
       " Text(304.54358108108113, 187.7890909090909, 'X[13] <= 0.5\\ngini = 0.24\\nsamples = 365\\nvalue = [51, 314]'),\n",
       " Text(283.3358108108108, 168.0218181818182, 'X[2] <= 0.5\\ngini = 0.224\\nsamples = 358\\nvalue = [46, 312]'),\n",
       " Text(263.5418918918919, 148.25454545454545, 'X[9] <= 0.5\\ngini = 0.262\\nsamples = 258\\nvalue = [40, 218]'),\n",
       " Text(246.5756756756757, 128.48727272727274, 'X[3] <= 0.5\\ngini = 0.237\\nsamples = 226\\nvalue = [31, 195]'),\n",
       " Text(235.26486486486488, 108.72, 'X[4] <= 0.5\\ngini = 0.261\\nsamples = 175\\nvalue = [27, 148]'),\n",
       " Text(226.21621621621622, 88.95272727272729, 'X[1] <= 0.5\\ngini = 0.469\\nsamples = 8\\nvalue = [3, 5]'),\n",
       " Text(221.6918918918919, 69.18545454545455, 'X[7] <= 0.5\\ngini = 0.48\\nsamples = 5\\nvalue = [3, 2]'),\n",
       " Text(217.16756756756757, 49.418181818181836, 'X[5] <= 0.5\\ngini = 0.5\\nsamples = 4\\nvalue = [2, 2]'),\n",
       " Text(212.64324324324326, 29.650909090909096, 'gini = 0.444\\nsamples = 3\\nvalue = [1, 2]'),\n",
       " Text(221.6918918918919, 29.650909090909096, 'gini = 0.0\\nsamples = 1\\nvalue = [1, 0]'),\n",
       " Text(226.21621621621622, 49.418181818181836, 'gini = 0.0\\nsamples = 1\\nvalue = [1, 0]'),\n",
       " Text(230.74054054054056, 69.18545454545455, 'gini = 0.0\\nsamples = 3\\nvalue = [0, 3]'),\n",
       " Text(244.31351351351353, 88.95272727272729, 'X[7] <= 0.5\\ngini = 0.246\\nsamples = 167\\nvalue = [24, 143]'),\n",
       " Text(239.78918918918922, 69.18545454545455, 'X[1] <= 0.5\\ngini = 0.251\\nsamples = 163\\nvalue = [24, 139]'),\n",
       " Text(235.26486486486488, 49.418181818181836, 'X[5] <= 0.5\\ngini = 0.24\\nsamples = 136\\nvalue = [19, 117]'),\n",
       " Text(230.74054054054056, 29.650909090909096, 'gini = 0.243\\nsamples = 127\\nvalue = [18, 109]'),\n",
       " Text(239.78918918918922, 29.650909090909096, 'gini = 0.198\\nsamples = 9\\nvalue = [1, 8]'),\n",
       " Text(244.31351351351353, 49.418181818181836, 'gini = 0.302\\nsamples = 27\\nvalue = [5, 22]'),\n",
       " Text(248.83783783783787, 69.18545454545455, 'gini = 0.0\\nsamples = 4\\nvalue = [0, 4]'),\n",
       " Text(257.8864864864865, 108.72, 'X[1] <= 0.5\\ngini = 0.145\\nsamples = 51\\nvalue = [4, 47]'),\n",
       " Text(253.36216216216218, 88.95272727272729, 'gini = 0.0\\nsamples = 10\\nvalue = [0, 10]'),\n",
       " Text(262.41081081081086, 88.95272727272729, 'X[4] <= 0.5\\ngini = 0.176\\nsamples = 41\\nvalue = [4, 37]'),\n",
       " Text(257.8864864864865, 69.18545454545455, 'gini = 0.0\\nsamples = 4\\nvalue = [0, 4]'),\n",
       " Text(266.93513513513517, 69.18545454545455, 'X[7] <= 0.5\\ngini = 0.193\\nsamples = 37\\nvalue = [4, 33]'),\n",
       " Text(262.41081081081086, 49.418181818181836, 'gini = 0.202\\nsamples = 35\\nvalue = [4, 31]'),\n",
       " Text(271.4594594594595, 49.418181818181836, 'gini = 0.0\\nsamples = 2\\nvalue = [0, 2]'),\n",
       " Text(280.50810810810816, 128.48727272727274, 'X[7] <= 0.5\\ngini = 0.404\\nsamples = 32\\nvalue = [9, 23]'),\n",
       " Text(275.9837837837838, 108.72, 'X[3] <= 0.5\\ngini = 0.412\\nsamples = 31\\nvalue = [9, 22]'),\n",
       " Text(271.4594594594595, 88.95272727272729, 'gini = 0.413\\nsamples = 24\\nvalue = [7, 17]'),\n",
       " Text(280.50810810810816, 88.95272727272729, 'gini = 0.408\\nsamples = 7\\nvalue = [2, 5]'),\n",
       " Text(285.0324324324325, 108.72, 'gini = 0.0\\nsamples = 1\\nvalue = [0, 1]'),\n",
       " Text(303.1297297297298, 148.25454545454545, 'X[4] <= 0.5\\ngini = 0.113\\nsamples = 100\\nvalue = [6, 94]'),\n",
       " Text(298.6054054054054, 128.48727272727274, 'gini = 0.5\\nsamples = 2\\nvalue = [1, 1]'),\n",
       " Text(307.6540540540541, 128.48727272727274, 'X[1] <= 0.5\\ngini = 0.097\\nsamples = 98\\nvalue = [5, 93]'),\n",
       " Text(298.6054054054054, 108.72, 'X[5] <= 0.5\\ngini = 0.126\\nsamples = 59\\nvalue = [4, 55]'),\n",
       " Text(294.0810810810811, 88.95272727272729, 'X[3] <= 0.5\\ngini = 0.159\\nsamples = 46\\nvalue = [4, 42]'),\n",
       " Text(285.0324324324325, 69.18545454545455, 'X[9] <= 0.5\\ngini = 0.191\\nsamples = 28\\nvalue = [3, 25]'),\n",
       " Text(280.50810810810816, 49.418181818181836, 'gini = 0.159\\nsamples = 23\\nvalue = [2, 21]'),\n",
       " Text(289.5567567567568, 49.418181818181836, 'gini = 0.32\\nsamples = 5\\nvalue = [1, 4]'),\n",
       " Text(303.1297297297298, 69.18545454545455, 'X[9] <= 0.5\\ngini = 0.105\\nsamples = 18\\nvalue = [1, 17]'),\n",
       " Text(298.6054054054054, 49.418181818181836, 'gini = 0.245\\nsamples = 7\\nvalue = [1, 6]'),\n",
       " Text(307.6540540540541, 49.418181818181836, 'gini = 0.0\\nsamples = 11\\nvalue = [0, 11]'),\n",
       " Text(303.1297297297298, 88.95272727272729, 'gini = 0.0\\nsamples = 13\\nvalue = [0, 13]'),\n",
       " Text(316.7027027027027, 108.72, 'X[3] <= 0.5\\ngini = 0.05\\nsamples = 39\\nvalue = [1, 38]'),\n",
       " Text(312.1783783783784, 88.95272727272729, 'gini = 0.0\\nsamples = 9\\nvalue = [0, 9]'),\n",
       " Text(321.2270270270271, 88.95272727272729, 'gini = 0.064\\nsamples = 30\\nvalue = [1, 29]'),\n",
       " Text(325.7513513513514, 168.0218181818182, 'X[7] <= 0.5\\ngini = 0.408\\nsamples = 7\\nvalue = [5, 2]'),\n",
       " Text(321.2270270270271, 148.25454545454545, 'X[5] <= 0.5\\ngini = 0.444\\nsamples = 3\\nvalue = [1, 2]'),\n",
       " Text(316.7027027027027, 128.48727272727274, 'gini = 0.5\\nsamples = 2\\nvalue = [1, 1]'),\n",
       " Text(325.7513513513514, 128.48727272727274, 'gini = 0.0\\nsamples = 1\\nvalue = [0, 1]'),\n",
       " Text(330.2756756756757, 148.25454545454545, 'gini = 0.0\\nsamples = 4\\nvalue = [4, 0]')]"
      ]
     },
     "execution_count": 2365,
     "metadata": {},
     "output_type": "execute_result"
    },
    {
     "data": {
      "image/png": "[encoded data removed]",
      "text/plain": [
       "<Figure size 432x288 with 1 Axes>"
      ]
     },
     "metadata": {
      "needs_background": "light"
     },
     "output_type": "display_data"
    }
   ],
   "source": [
    "tree.plot_tree(dtFit2)"
   ]
  },
  {
   "cell_type": "code",
   "execution_count": 2367,
   "metadata": {},
   "outputs": [
    {
     "data": {
      "text/plain": [
       "<BarContainer object of 16 artists>"
      ]
     },
     "execution_count": 2367,
     "metadata": {},
     "output_type": "execute_result"
    },
    {
     "data": {
      "image/png": "[encoded data removed]",
      "text/plain": [
       "<Figure size 432x288 with 1 Axes>"
      ]
     },
     "metadata": {
      "needs_background": "light"
     },
     "output_type": "display_data"
    }
   ],
   "source": [
    "sorted_idx2 = dt.feature_importances_.argsort()\n",
    "plt.barh(xTrainEvalB.columns[sorted_idx2],dt.feature_importances_[sorted_idx2])"
   ]
  },
  {
   "cell_type": "markdown",
   "metadata": {},
   "source": [
    "## Random Forest Classifier\n",
    "Using the same inputs as the Balanced regression model evaluation with SelectKBest Top 16 Features"
   ]
  },
  {
   "cell_type": "code",
   "execution_count": 2376,
   "metadata": {},
   "outputs": [],
   "source": [
    "from sklearn.ensemble import RandomForestClassifier\n",
    "rf=RandomForestClassifier(n_estimators=100)"
   ]
  },
  {
   "cell_type": "code",
   "execution_count": 2400,
   "metadata": {},
   "outputs": [
    {
     "name": "stderr",
     "output_type": "stream",
     "text": [
      "C:\\Users\\alana\\AppData\\Local\\Temp/ipykernel_1824/135279312.py:1: DataConversionWarning: A column-vector y was passed when a 1d array was expected. Please change the shape of y to (n_samples,), for example using ravel().\n",
      "  rfFit2 = rf.fit(xTrainEvalB, yTrainEvalB)\n"
     ]
    }
   ],
   "source": [
    "rfFit2 = rf.fit(xTrainEvalB, yTrainEvalB)"
   ]
  },
  {
   "cell_type": "code",
   "execution_count": 2401,
   "metadata": {},
   "outputs": [],
   "source": [
    "rfPred2 = rfFit2.predict(xTestEvalB)"
   ]
  },
  {
   "cell_type": "code",
   "execution_count": 2402,
   "metadata": {},
   "outputs": [
    {
     "name": "stdout",
     "output_type": "stream",
     "text": [
      "0.8563766858585062\n"
     ]
    }
   ],
   "source": [
    "rfScore2 = rfFit2.score(xTestEvalB, yTestEvalB)\n",
    "print(rfScore2)"
   ]
  },
  {
   "cell_type": "code",
   "execution_count": 2403,
   "metadata": {},
   "outputs": [
    {
     "name": "stdout",
     "output_type": "stream",
     "text": [
      "[[10741  1811]\n",
      " [   10   117]]\n"
     ]
    }
   ],
   "source": [
    "rfConfMatrix = metrics.confusion_matrix(yTestEvalB, rfPred2)\n",
    "print(rfConfMatrix)"
   ]
  },
  {
   "cell_type": "code",
   "execution_count": 2404,
   "metadata": {},
   "outputs": [
    {
     "name": "stdout",
     "output_type": "stream",
     "text": [
      "              precision    recall  f1-score   support\n",
      "\n",
      "           0       1.00      0.86      0.92     12552\n",
      "           1       0.06      0.92      0.11       127\n",
      "\n",
      "    accuracy                           0.86     12679\n",
      "   macro avg       0.53      0.89      0.52     12679\n",
      "weighted avg       0.99      0.86      0.91     12679\n",
      "\n"
     ]
    }
   ],
   "source": [
    "print(classification_report(yTestEvalB, rfPred2))"
   ]
  },
  {
   "cell_type": "code",
   "execution_count": 2405,
   "metadata": {},
   "outputs": [
    {
     "name": "stdout",
     "output_type": "stream",
     "text": [
      "0.8884900232356232\n"
     ]
    }
   ],
   "source": [
    "print(roc_auc_score(yTestEvalB, rfPred2))"
   ]
  },
  {
   "cell_type": "code",
   "execution_count": 2406,
   "metadata": {},
   "outputs": [
    {
     "data": {
      "text/plain": [
       "Text(0.5, 0, 'Number of Instances')"
      ]
     },
     "execution_count": 2406,
     "metadata": {},
     "output_type": "execute_result"
    },
    {
     "data": {
      "image/png": "[encoded data removed]",
      "text/plain": [
       "<Figure size 432x288 with 1 Axes>"
      ]
     },
     "metadata": {
      "needs_background": "light"
     },
     "output_type": "display_data"
    }
   ],
   "source": [
    "sorted_idx3 = rf.feature_importances_.argsort()\n",
    "plt.barh(xTrainEvalB.columns[sorted_idx3],rf.feature_importances_[sorted_idx3])\n",
    "plt.xlabel('Number of Instances')"
   ]
  }
 ],
 "metadata": {
  "interpreter": {
   "hash": "1f65e174391277f634e70871feaa21300658cb740b5dabfc689c4c43dbc10e3e"
  },
  "kernelspec": {
   "display_name": "Python 3.9.1 64-bit",
   "name": "python3"
  },
  "language_info": {
   "codemirror_mode": {
    "name": "ipython",
    "version": 3
   },
   "file_extension": ".py",
   "mimetype": "text/x-python",
   "name": "python",
   "nbconvert_exporter": "python",
   "pygments_lexer": "ipython3",
   "version": "3.9.1"
  }
 },
 "nbformat": 4,
 "nbformat_minor": 4
}
