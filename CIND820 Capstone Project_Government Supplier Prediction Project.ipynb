{
 "cells": [
  {
   "cell_type": "code",
   "execution_count": 6,
   "metadata": {},
   "outputs": [
    {
     "data": {
      "text/plain": [
       "Index(['contract-number', 'amendment-number', 'award-date', 'expiry-date',\n",
       "       'contract-value', 'gsin', 'gsin-description_en', 'gsin-description_fr',\n",
       "       'competitive-tender_en', 'competitive-tender_fr',\n",
       "       'limited-tender-reason', 'limited-tender-reason-description_en',\n",
       "       'limited-tender-reason-description_fr', 'solicitation-procedure',\n",
       "       'solicitation-procedure-description_en',\n",
       "       'solicitation-procedure-description_fr', 'trade-agreement',\n",
       "       'trade-agreement-description_en', 'trade-agreement-description_fr',\n",
       "       'supplier-standardized-name', 'supplier-operating-name',\n",
       "       'supplier-legal-name', 'supplier-address-city',\n",
       "       'supplier-address-prov-state', 'supplier-address-postal-code',\n",
       "       'supplier-address-country', 'organization-employee-count_en',\n",
       "       'organization-employee-count_fr', 'total-contract-value',\n",
       "       'number-records', 'end-user-entity_en', 'end-user-entity_fr',\n",
       "       'contracting-entity-office-name_en',\n",
       "       'contracting-entity-office-name_fr', 'contracting-address-street-1',\n",
       "       'contracting-address-street-2', 'contracting-address-city',\n",
       "       'contracting-address-prov-state', 'contracting-address-postal-code',\n",
       "       'contracting-address-country', 'procurement-entity-name_en',\n",
       "       'procurement-entity-name_fr'],\n",
       "      dtype='object')"
      ]
     },
     "execution_count": 6,
     "metadata": {},
     "output_type": "execute_result"
    }
   ],
   "source": [
    "import pandas as pd\n",
    "import numpy as np\n",
    "import matplotlib as plt\n",
    "import zipfile\n",
    "\n",
    "with zipfile.ZipFile('data/tpsgc-pwgsc_co-ch_tous-all.zip', 'r') as zip_ref:\n",
    "    zip_ref.extractall('data')\n",
    "contractHistory = pd.read_csv('data/tpsgc-pwgsc_co-ch_tous-all.csv', usecols = range(0,42))\n",
    "contractHistory.columns"
   ]
  },
  {
   "cell_type": "code",
   "execution_count": 7,
   "metadata": {},
   "outputs": [
    {
     "data": {
      "text/html": [
       "<div>\n",
       "<style scoped>\n",
       "    .dataframe tbody tr th:only-of-type {\n",
       "        vertical-align: middle;\n",
       "    }\n",
       "\n",
       "    .dataframe tbody tr th {\n",
       "        vertical-align: top;\n",
       "    }\n",
       "\n",
       "    .dataframe thead th {\n",
       "        text-align: right;\n",
       "    }\n",
       "</style>\n",
       "<table border=\"1\" class=\"dataframe\">\n",
       "  <thead>\n",
       "    <tr style=\"text-align: right;\">\n",
       "      <th></th>\n",
       "      <th>contract-number</th>\n",
       "      <th>amendment-number</th>\n",
       "      <th>award-date</th>\n",
       "      <th>expiry-date</th>\n",
       "      <th>contract-value</th>\n",
       "      <th>gsin</th>\n",
       "      <th>gsin-description_en</th>\n",
       "      <th>gsin-description_fr</th>\n",
       "      <th>competitive-tender_en</th>\n",
       "      <th>competitive-tender_fr</th>\n",
       "      <th>...</th>\n",
       "      <th>contracting-entity-office-name_en</th>\n",
       "      <th>contracting-entity-office-name_fr</th>\n",
       "      <th>contracting-address-street-1</th>\n",
       "      <th>contracting-address-street-2</th>\n",
       "      <th>contracting-address-city</th>\n",
       "      <th>contracting-address-prov-state</th>\n",
       "      <th>contracting-address-postal-code</th>\n",
       "      <th>contracting-address-country</th>\n",
       "      <th>procurement-entity-name_en</th>\n",
       "      <th>procurement-entity-name_fr</th>\n",
       "    </tr>\n",
       "  </thead>\n",
       "  <tbody>\n",
       "    <tr>\n",
       "      <th>0</th>\n",
       "      <td>F2599-090025/001/MD</td>\n",
       "      <td>000</td>\n",
       "      <td>2009-06-16</td>\n",
       "      <td>2009-10-20</td>\n",
       "      <td>30174.0</td>\n",
       "      <td>N1990</td>\n",
       "      <td>Vessels, Miscellaneous</td>\n",
       "      <td>Bateaux divers</td>\n",
       "      <td>Yes</td>\n",
       "      <td>Oui</td>\n",
       "      <td>...</td>\n",
       "      <td>CCG CENTRAL&amp;ARCTIC RGN</td>\n",
       "      <td>N/D</td>\n",
       "      <td>MARINE ENGINEERING</td>\n",
       "      <td>520 EXMOUTH ST</td>\n",
       "      <td>SARNIA</td>\n",
       "      <td>Ontario</td>\n",
       "      <td>N7T8B1</td>\n",
       "      <td>Canada</td>\n",
       "      <td>Public Works and Government Services Canada</td>\n",
       "      <td>Travaux publics et Services gouvernementaux Ca...</td>\n",
       "    </tr>\n",
       "    <tr>\n",
       "      <th>1</th>\n",
       "      <td>F2599-090025/001/MD</td>\n",
       "      <td>001</td>\n",
       "      <td>2009-07-15</td>\n",
       "      <td>2009-10-20</td>\n",
       "      <td>4876.0</td>\n",
       "      <td>N1990</td>\n",
       "      <td>Vessels, Miscellaneous</td>\n",
       "      <td>Bateaux divers</td>\n",
       "      <td>Yes</td>\n",
       "      <td>Oui</td>\n",
       "      <td>...</td>\n",
       "      <td>CCG CENTRAL&amp;ARCTIC RGN</td>\n",
       "      <td>N/D</td>\n",
       "      <td>MARINE ENGINEERING</td>\n",
       "      <td>520 EXMOUTH ST</td>\n",
       "      <td>SARNIA</td>\n",
       "      <td>Ontario</td>\n",
       "      <td>N7T8B1</td>\n",
       "      <td>Canada</td>\n",
       "      <td>Public Works and Government Services Canada</td>\n",
       "      <td>Travaux publics et Services gouvernementaux Ca...</td>\n",
       "    </tr>\n",
       "    <tr>\n",
       "      <th>2</th>\n",
       "      <td>F2599-090025/001/MD</td>\n",
       "      <td>002</td>\n",
       "      <td>2009-07-20</td>\n",
       "      <td>2009-10-20</td>\n",
       "      <td>26914.0</td>\n",
       "      <td>N1990</td>\n",
       "      <td>Vessels, Miscellaneous</td>\n",
       "      <td>Bateaux divers</td>\n",
       "      <td>Yes</td>\n",
       "      <td>Oui</td>\n",
       "      <td>...</td>\n",
       "      <td>CCG CENTRAL&amp;ARCTIC RGN</td>\n",
       "      <td>N/D</td>\n",
       "      <td>MARINE ENGINEERING</td>\n",
       "      <td>520 EXMOUTH ST</td>\n",
       "      <td>SARNIA</td>\n",
       "      <td>Ontario</td>\n",
       "      <td>N7T8B1</td>\n",
       "      <td>Canada</td>\n",
       "      <td>Public Works and Government Services Canada</td>\n",
       "      <td>Travaux publics et Services gouvernementaux Ca...</td>\n",
       "    </tr>\n",
       "    <tr>\n",
       "      <th>3</th>\n",
       "      <td>E60LP-090002/392/LP</td>\n",
       "      <td>000</td>\n",
       "      <td>2010-01-01</td>\n",
       "      <td>2010-12-31</td>\n",
       "      <td>25000.0</td>\n",
       "      <td>V502B</td>\n",
       "      <td>Hotels, Motels and Commercial Accommodation</td>\n",
       "      <td>Hôtels, motels et logements commerciaux</td>\n",
       "      <td>Yes</td>\n",
       "      <td>Oui</td>\n",
       "      <td>...</td>\n",
       "      <td>CONSOLIDATED PROC LP ICPSS</td>\n",
       "      <td>N/D</td>\n",
       "      <td>PORTAGE III 7B3</td>\n",
       "      <td>11 LAURIER ST</td>\n",
       "      <td>GATINEAU</td>\n",
       "      <td>Quebec</td>\n",
       "      <td>K1A0S5</td>\n",
       "      <td>Canada</td>\n",
       "      <td>Public Works and Government Services Canada</td>\n",
       "      <td>Travaux publics et Services gouvernementaux Ca...</td>\n",
       "    </tr>\n",
       "    <tr>\n",
       "      <th>4</th>\n",
       "      <td>E60LP-110001/050/LP</td>\n",
       "      <td>000</td>\n",
       "      <td>2012-01-01</td>\n",
       "      <td>2012-12-31</td>\n",
       "      <td>25000.0</td>\n",
       "      <td>V502B</td>\n",
       "      <td>Hotels, Motels and Commercial Accommodation</td>\n",
       "      <td>Hôtels, motels et logements commerciaux</td>\n",
       "      <td>Yes</td>\n",
       "      <td>Oui</td>\n",
       "      <td>...</td>\n",
       "      <td>CONSOLIDATED PROC LP ICPSS</td>\n",
       "      <td>N/D</td>\n",
       "      <td>PORTAGE III 7B3</td>\n",
       "      <td>11 LAURIER ST</td>\n",
       "      <td>GATINEAU</td>\n",
       "      <td>Quebec</td>\n",
       "      <td>K1A0S5</td>\n",
       "      <td>Canada</td>\n",
       "      <td>Public Works and Government Services Canada</td>\n",
       "      <td>Travaux publics et Services gouvernementaux Ca...</td>\n",
       "    </tr>\n",
       "  </tbody>\n",
       "</table>\n",
       "<p>5 rows × 42 columns</p>\n",
       "</div>"
      ],
      "text/plain": [
       "       contract-number amendment-number  award-date expiry-date  \\\n",
       "0  F2599-090025/001/MD              000  2009-06-16  2009-10-20   \n",
       "1  F2599-090025/001/MD              001  2009-07-15  2009-10-20   \n",
       "2  F2599-090025/001/MD              002  2009-07-20  2009-10-20   \n",
       "3  E60LP-090002/392/LP              000  2010-01-01  2010-12-31   \n",
       "4  E60LP-110001/050/LP              000  2012-01-01  2012-12-31   \n",
       "\n",
       "   contract-value   gsin                          gsin-description_en  \\\n",
       "0         30174.0  N1990                       Vessels, Miscellaneous   \n",
       "1          4876.0  N1990                       Vessels, Miscellaneous   \n",
       "2         26914.0  N1990                       Vessels, Miscellaneous   \n",
       "3         25000.0  V502B  Hotels, Motels and Commercial Accommodation   \n",
       "4         25000.0  V502B  Hotels, Motels and Commercial Accommodation   \n",
       "\n",
       "                       gsin-description_fr competitive-tender_en  \\\n",
       "0                           Bateaux divers                   Yes   \n",
       "1                           Bateaux divers                   Yes   \n",
       "2                           Bateaux divers                   Yes   \n",
       "3  Hôtels, motels et logements commerciaux                   Yes   \n",
       "4  Hôtels, motels et logements commerciaux                   Yes   \n",
       "\n",
       "  competitive-tender_fr  ...  contracting-entity-office-name_en  \\\n",
       "0                   Oui  ...             CCG CENTRAL&ARCTIC RGN   \n",
       "1                   Oui  ...             CCG CENTRAL&ARCTIC RGN   \n",
       "2                   Oui  ...             CCG CENTRAL&ARCTIC RGN   \n",
       "3                   Oui  ...         CONSOLIDATED PROC LP ICPSS   \n",
       "4                   Oui  ...         CONSOLIDATED PROC LP ICPSS   \n",
       "\n",
       "  contracting-entity-office-name_fr contracting-address-street-1  \\\n",
       "0                               N/D           MARINE ENGINEERING   \n",
       "1                               N/D           MARINE ENGINEERING   \n",
       "2                               N/D           MARINE ENGINEERING   \n",
       "3                               N/D              PORTAGE III 7B3   \n",
       "4                               N/D              PORTAGE III 7B3   \n",
       "\n",
       "  contracting-address-street-2 contracting-address-city  \\\n",
       "0               520 EXMOUTH ST                   SARNIA   \n",
       "1               520 EXMOUTH ST                   SARNIA   \n",
       "2               520 EXMOUTH ST                   SARNIA   \n",
       "3                11 LAURIER ST                 GATINEAU   \n",
       "4                11 LAURIER ST                 GATINEAU   \n",
       "\n",
       "  contracting-address-prov-state contracting-address-postal-code  \\\n",
       "0                        Ontario                          N7T8B1   \n",
       "1                        Ontario                          N7T8B1   \n",
       "2                        Ontario                          N7T8B1   \n",
       "3                         Quebec                          K1A0S5   \n",
       "4                         Quebec                          K1A0S5   \n",
       "\n",
       "  contracting-address-country                   procurement-entity-name_en  \\\n",
       "0                      Canada  Public Works and Government Services Canada   \n",
       "1                      Canada  Public Works and Government Services Canada   \n",
       "2                      Canada  Public Works and Government Services Canada   \n",
       "3                      Canada  Public Works and Government Services Canada   \n",
       "4                      Canada  Public Works and Government Services Canada   \n",
       "\n",
       "                          procurement-entity-name_fr  \n",
       "0  Travaux publics et Services gouvernementaux Ca...  \n",
       "1  Travaux publics et Services gouvernementaux Ca...  \n",
       "2  Travaux publics et Services gouvernementaux Ca...  \n",
       "3  Travaux publics et Services gouvernementaux Ca...  \n",
       "4  Travaux publics et Services gouvernementaux Ca...  \n",
       "\n",
       "[5 rows x 42 columns]"
      ]
     },
     "execution_count": 7,
     "metadata": {},
     "output_type": "execute_result"
    }
   ],
   "source": [
    "contractHistory.head()"
   ]
  },
  {
   "cell_type": "code",
   "execution_count": 8,
   "metadata": {},
   "outputs": [
    {
     "name": "stdout",
     "output_type": "stream",
     "text": [
      "<class 'pandas.core.frame.DataFrame'>\n",
      "RangeIndex: 441210 entries, 0 to 441209\n",
      "Data columns (total 42 columns):\n",
      " #   Column                                 Non-Null Count   Dtype  \n",
      "---  ------                                 --------------   -----  \n",
      " 0   contract-number                        441210 non-null  object \n",
      " 1   amendment-number                       441210 non-null  object \n",
      " 2   award-date                             441210 non-null  object \n",
      " 3   expiry-date                            441210 non-null  object \n",
      " 4   contract-value                         441210 non-null  float64\n",
      " 5   gsin                                   441199 non-null  object \n",
      " 6   gsin-description_en                    441199 non-null  object \n",
      " 7   gsin-description_fr                    441210 non-null  object \n",
      " 8   competitive-tender_en                  441210 non-null  object \n",
      " 9   competitive-tender_fr                  441210 non-null  object \n",
      " 10  limited-tender-reason                  94299 non-null   float64\n",
      " 11  limited-tender-reason-description_en   94299 non-null   object \n",
      " 12  limited-tender-reason-description_fr   441210 non-null  object \n",
      " 13  solicitation-procedure                 441210 non-null  object \n",
      " 14  solicitation-procedure-description_en  441210 non-null  object \n",
      " 15  solicitation-procedure-description_fr  441210 non-null  object \n",
      " 16  trade-agreement                        440929 non-null  object \n",
      " 17  trade-agreement-description_en         436587 non-null  object \n",
      " 18  trade-agreement-description_fr         441210 non-null  object \n",
      " 19  supplier-standardized-name             441210 non-null  object \n",
      " 20  supplier-operating-name                438586 non-null  object \n",
      " 21  supplier-legal-name                    439980 non-null  object \n",
      " 22  supplier-address-city                  441091 non-null  object \n",
      " 23  supplier-address-prov-state            430737 non-null  object \n",
      " 24  supplier-address-postal-code           438200 non-null  object \n",
      " 25  supplier-address-country               441210 non-null  object \n",
      " 26  organization-employee-count_en         441208 non-null  object \n",
      " 27  organization-employee-count_fr         441210 non-null  object \n",
      " 28  total-contract-value                   441210 non-null  float64\n",
      " 29  number-records                         441210 non-null  int64  \n",
      " 30  end-user-entity_en                     441210 non-null  object \n",
      " 31  end-user-entity_fr                     441210 non-null  object \n",
      " 32  contracting-entity-office-name_en      431285 non-null  object \n",
      " 33  contracting-entity-office-name_fr      441210 non-null  object \n",
      " 34  contracting-address-street-1           441182 non-null  object \n",
      " 35  contracting-address-street-2           308117 non-null  object \n",
      " 36  contracting-address-city               441182 non-null  object \n",
      " 37  contracting-address-prov-state         440905 non-null  object \n",
      " 38  contracting-address-postal-code        441180 non-null  object \n",
      " 39  contracting-address-country            441182 non-null  object \n",
      " 40  procurement-entity-name_en             441210 non-null  object \n",
      " 41  procurement-entity-name_fr             441210 non-null  object \n",
      "dtypes: float64(3), int64(1), object(38)\n",
      "memory usage: 141.4+ MB\n"
     ]
    }
   ],
   "source": [
    "contractHistory.info()"
   ]
  },
  {
   "cell_type": "code",
   "execution_count": 9,
   "metadata": {},
   "outputs": [
    {
     "data": {
      "text/html": [
       "<div>\n",
       "<style scoped>\n",
       "    .dataframe tbody tr th:only-of-type {\n",
       "        vertical-align: middle;\n",
       "    }\n",
       "\n",
       "    .dataframe tbody tr th {\n",
       "        vertical-align: top;\n",
       "    }\n",
       "\n",
       "    .dataframe thead th {\n",
       "        text-align: right;\n",
       "    }\n",
       "</style>\n",
       "<table border=\"1\" class=\"dataframe\">\n",
       "  <thead>\n",
       "    <tr style=\"text-align: right;\">\n",
       "      <th></th>\n",
       "      <th>contract-value</th>\n",
       "      <th>limited-tender-reason</th>\n",
       "      <th>total-contract-value</th>\n",
       "      <th>number-records</th>\n",
       "    </tr>\n",
       "  </thead>\n",
       "  <tbody>\n",
       "    <tr>\n",
       "      <th>count</th>\n",
       "      <td>4.412100e+05</td>\n",
       "      <td>94299.000000</td>\n",
       "      <td>4.412100e+05</td>\n",
       "      <td>441210.000000</td>\n",
       "    </tr>\n",
       "    <tr>\n",
       "      <th>mean</th>\n",
       "      <td>4.398310e+05</td>\n",
       "      <td>75.398689</td>\n",
       "      <td>8.457397e+06</td>\n",
       "      <td>8.202300</td>\n",
       "    </tr>\n",
       "    <tr>\n",
       "      <th>std</th>\n",
       "      <td>1.609191e+07</td>\n",
       "      <td>7.860150</td>\n",
       "      <td>1.061860e+08</td>\n",
       "      <td>18.275149</td>\n",
       "    </tr>\n",
       "    <tr>\n",
       "      <th>min</th>\n",
       "      <td>-1.540262e+08</td>\n",
       "      <td>8.000000</td>\n",
       "      <td>-1.985487e+08</td>\n",
       "      <td>1.000000</td>\n",
       "    </tr>\n",
       "    <tr>\n",
       "      <th>25%</th>\n",
       "      <td>0.000000e+00</td>\n",
       "      <td>71.000000</td>\n",
       "      <td>2.096325e+04</td>\n",
       "      <td>1.000000</td>\n",
       "    </tr>\n",
       "    <tr>\n",
       "      <th>50%</th>\n",
       "      <td>8.715000e+03</td>\n",
       "      <td>71.000000</td>\n",
       "      <td>1.268150e+05</td>\n",
       "      <td>3.000000</td>\n",
       "    </tr>\n",
       "    <tr>\n",
       "      <th>75%</th>\n",
       "      <td>6.941075e+04</td>\n",
       "      <td>85.000000</td>\n",
       "      <td>7.749660e+05</td>\n",
       "      <td>6.000000</td>\n",
       "    </tr>\n",
       "    <tr>\n",
       "      <th>max</th>\n",
       "      <td>5.221000e+09</td>\n",
       "      <td>90.000000</td>\n",
       "      <td>5.761974e+09</td>\n",
       "      <td>206.000000</td>\n",
       "    </tr>\n",
       "  </tbody>\n",
       "</table>\n",
       "</div>"
      ],
      "text/plain": [
       "       contract-value  limited-tender-reason  total-contract-value  \\\n",
       "count    4.412100e+05           94299.000000          4.412100e+05   \n",
       "mean     4.398310e+05              75.398689          8.457397e+06   \n",
       "std      1.609191e+07               7.860150          1.061860e+08   \n",
       "min     -1.540262e+08               8.000000         -1.985487e+08   \n",
       "25%      0.000000e+00              71.000000          2.096325e+04   \n",
       "50%      8.715000e+03              71.000000          1.268150e+05   \n",
       "75%      6.941075e+04              85.000000          7.749660e+05   \n",
       "max      5.221000e+09              90.000000          5.761974e+09   \n",
       "\n",
       "       number-records  \n",
       "count   441210.000000  \n",
       "mean         8.202300  \n",
       "std         18.275149  \n",
       "min          1.000000  \n",
       "25%          1.000000  \n",
       "50%          3.000000  \n",
       "75%          6.000000  \n",
       "max        206.000000  "
      ]
     },
     "execution_count": 9,
     "metadata": {},
     "output_type": "execute_result"
    }
   ],
   "source": [
    "contractHistory.describe()"
   ]
  },
  {
   "cell_type": "code",
   "execution_count": 10,
   "metadata": {},
   "outputs": [
    {
     "data": {
      "text/plain": [
       "count                   441210\n",
       "unique                  199675\n",
       "top       E0208-150548/001/PWZ\n",
       "freq                       206\n",
       "Name: contract-number, dtype: object"
      ]
     },
     "execution_count": 10,
     "metadata": {},
     "output_type": "execute_result"
    }
   ],
   "source": [
    "contractHistory['contract-number'].describe()"
   ]
  },
  {
   "cell_type": "code",
   "execution_count": 11,
   "metadata": {},
   "outputs": [
    {
     "data": {
      "text/plain": [
       "E0208-150548/001/PWZ    206\n",
       "EN578-110558/001/XL     162\n",
       "EP008-112560/001/GC     152\n",
       "EP008-112560/004/GC     139\n",
       "EW038-140681/001/PWU    139\n",
       "                       ... \n",
       "W0113-10A128/001/BOR      1\n",
       "5K003-156233/001/WPG      1\n",
       "5K003-148856/001/WPG      1\n",
       "W8482-128975/001/GRK      1\n",
       "U4030-221421/001/HN       1\n",
       "Name: contract-number, Length: 199675, dtype: int64"
      ]
     },
     "execution_count": 11,
     "metadata": {},
     "output_type": "execute_result"
    }
   ],
   "source": [
    "contractHistory['contract-number'].value_counts()"
   ]
  },
  {
   "cell_type": "code",
   "execution_count": 12,
   "metadata": {},
   "outputs": [
    {
     "data": {
      "text/plain": [
       "count     441210\n",
       "unique       237\n",
       "top          000\n",
       "freq      174270\n",
       "Name: amendment-number, dtype: object"
      ]
     },
     "execution_count": 12,
     "metadata": {},
     "output_type": "execute_result"
    }
   ],
   "source": [
    "contractHistory['amendment-number'].describe()"
   ]
  },
  {
   "cell_type": "code",
   "execution_count": 13,
   "metadata": {},
   "outputs": [
    {
     "data": {
      "text/plain": [
       "000    174270\n",
       "001     83486\n",
       "002     48913\n",
       "003     31260\n",
       "004     20650\n",
       "        ...  \n",
       "169         1\n",
       "170         1\n",
       "171         1\n",
       "172         1\n",
       "205         1\n",
       "Name: amendment-number, Length: 237, dtype: int64"
      ]
     },
     "execution_count": 13,
     "metadata": {},
     "output_type": "execute_result"
    }
   ],
   "source": [
    "contractHistory['amendment-number'].value_counts()"
   ]
  },
  {
   "cell_type": "code",
   "execution_count": 14,
   "metadata": {},
   "outputs": [
    {
     "data": {
      "text/plain": [
       "<AxesSubplot:>"
      ]
     },
     "execution_count": 14,
     "metadata": {},
     "output_type": "execute_result"
    },
    {
     "data": {
      "image/png": "[encoded data removed]",
      "text/plain": [
       "<Figure size 432x288 with 1 Axes>"
      ]
     },
     "metadata": {
      "needs_background": "light"
     },
     "output_type": "display_data"
    }
   ],
   "source": [
    "#contractHistory['amendment-number'].value_counts().plot(kind = 'bar')\n",
    "amendNo = contractHistory['amendment-number'].value_counts()\n",
    "amendNo2 = amendNo[amendNo > 500]\n",
    "amendNo2.plot(kind = 'bar')"
   ]
  },
  {
   "cell_type": "code",
   "execution_count": 15,
   "metadata": {},
   "outputs": [
    {
     "data": {
      "text/plain": [
       "count         441210\n",
       "unique          4085\n",
       "top       2011-01-01\n",
       "freq            2277\n",
       "Name: award-date, dtype: object"
      ]
     },
     "execution_count": 15,
     "metadata": {},
     "output_type": "execute_result"
    }
   ],
   "source": [
    "contractHistory['award-date'].describe()"
   ]
  },
  {
   "cell_type": "code",
   "execution_count": 16,
   "metadata": {},
   "outputs": [
    {
     "data": {
      "text/plain": [
       "2011-01-01    2277\n",
       "2010-01-01    2211\n",
       "2012-01-01    2200\n",
       "2009-01-01    1609\n",
       "2014-02-10     777\n",
       "              ... \n",
       "2010-07-25       1\n",
       "2010-12-19       1\n",
       "2013-02-24       1\n",
       "2015-11-07       1\n",
       "2012-05-27       1\n",
       "Name: award-date, Length: 4085, dtype: int64"
      ]
     },
     "execution_count": 16,
     "metadata": {},
     "output_type": "execute_result"
    }
   ],
   "source": [
    "contractHistory['award-date'].value_counts()"
   ]
  },
  {
   "cell_type": "code",
   "execution_count": 17,
   "metadata": {},
   "outputs": [
    {
     "data": {
      "text/plain": [
       "count         441210\n",
       "unique          6859\n",
       "top       2011-03-31\n",
       "freq            9500\n",
       "Name: expiry-date, dtype: object"
      ]
     },
     "execution_count": 17,
     "metadata": {},
     "output_type": "execute_result"
    }
   ],
   "source": [
    "contractHistory['expiry-date'].describe()"
   ]
  },
  {
   "cell_type": "code",
   "execution_count": 18,
   "metadata": {},
   "outputs": [
    {
     "data": {
      "text/plain": [
       "2011-03-31    9500\n",
       "2010-03-31    8145\n",
       "2012-03-31    8012\n",
       "2017-03-31    6836\n",
       "2013-03-31    6546\n",
       "              ... \n",
       "2027-01-05       1\n",
       "2018-07-26       1\n",
       "2028-03-06       1\n",
       "2025-02-26       1\n",
       "2025-03-13       1\n",
       "Name: expiry-date, Length: 6859, dtype: int64"
      ]
     },
     "execution_count": 18,
     "metadata": {},
     "output_type": "execute_result"
    }
   ],
   "source": [
    "contractHistory['expiry-date'].value_counts()"
   ]
  },
  {
   "cell_type": "code",
   "execution_count": 19,
   "metadata": {},
   "outputs": [
    {
     "data": {
      "text/plain": [
       "count           441199\n",
       "unique            5188\n",
       "top       ADP Software\n",
       "freq             26529\n",
       "Name: gsin-description_en, dtype: object"
      ]
     },
     "execution_count": 19,
     "metadata": {},
     "output_type": "execute_result"
    }
   ],
   "source": [
    "contractHistory['gsin-description_en'].describe()"
   ]
  },
  {
   "cell_type": "code",
   "execution_count": 20,
   "metadata": {},
   "outputs": [
    {
     "data": {
      "text/plain": [
       "ADP Software                                                                                   26529\n",
       "Hotels, Motels and Commercial Accommodation                                                    17226\n",
       "Informatics Professional Services                                                              16767\n",
       "Human Resource Services, Business Consulting/Change Management; Project Management Services     8967\n",
       "Construction of Other Buildings                                                                 7803\n",
       "                                                                                               ...  \n",
       "PACK CARRIER, COMBAT EQUIPMENT                                                                     1\n",
       "Printing Letterpress                                                                               1\n",
       "Lumber, Softwood (Balsam, Fir and Jack Pine)                                                       1\n",
       "Pumping Equipment, Portable (Firefighting, Ground)                                                 1\n",
       "Oil Separators                                                                                     1\n",
       "Name: gsin-description_en, Length: 5188, dtype: int64"
      ]
     },
     "execution_count": 20,
     "metadata": {},
     "output_type": "execute_result"
    }
   ],
   "source": [
    "contractHistory['gsin-description_en'].value_counts()"
   ]
  },
  {
   "cell_type": "code",
   "execution_count": 21,
   "metadata": {},
   "outputs": [
    {
     "data": {
      "text/plain": [
       "count     441210\n",
       "unique         2\n",
       "top          Yes\n",
       "freq      346895\n",
       "Name: competitive-tender_en, dtype: object"
      ]
     },
     "execution_count": 21,
     "metadata": {},
     "output_type": "execute_result"
    }
   ],
   "source": [
    "contractHistory['competitive-tender_en'].describe()"
   ]
  },
  {
   "cell_type": "code",
   "execution_count": 22,
   "metadata": {},
   "outputs": [
    {
     "data": {
      "text/plain": [
       "Yes    346895\n",
       "No      94315\n",
       "Name: competitive-tender_en, dtype: int64"
      ]
     },
     "execution_count": 22,
     "metadata": {},
     "output_type": "execute_result"
    }
   ],
   "source": [
    "contractHistory['competitive-tender_en'].value_counts()"
   ]
  },
  {
   "cell_type": "code",
   "execution_count": 23,
   "metadata": {},
   "outputs": [
    {
     "data": {
      "text/plain": [
       "<AxesSubplot:>"
      ]
     },
     "execution_count": 23,
     "metadata": {},
     "output_type": "execute_result"
    },
    {
     "data": {
      "image/png": "[encoded data removed]",
      "text/plain": [
       "<Figure size 432x288 with 1 Axes>"
      ]
     },
     "metadata": {
      "needs_background": "light"
     },
     "output_type": "display_data"
    }
   ],
   "source": [
    "contractHistory['competitive-tender_en'].value_counts().plot(kind = 'barh')"
   ]
  },
  {
   "cell_type": "code",
   "execution_count": 24,
   "metadata": {},
   "outputs": [
    {
     "data": {
      "text/plain": [
       "count                94299\n",
       "unique                  16\n",
       "top       Exclusive Rights\n",
       "freq                 57400\n",
       "Name: limited-tender-reason-description_en, dtype: object"
      ]
     },
     "execution_count": 24,
     "metadata": {},
     "output_type": "execute_result"
    }
   ],
   "source": [
    "contractHistory['limited-tender-reason-description_en'].describe()"
   ]
  },
  {
   "cell_type": "code",
   "execution_count": 25,
   "metadata": {},
   "outputs": [
    {
     "data": {
      "text/plain": [
       "Exclusive Rights                                                    57400\n",
       "Low Dollar Value                                                    20183\n",
       "Government Objectives Representing Best Interests/Value to Govt      7357\n",
       "Interchangeable Parts                                                6622\n",
       "Extreme Urgency                                                      1123\n",
       "Prices and/or Sources Fixed by Government Regulations                 570\n",
       "Consulting Services Regarding Matters of a Confidential Nature        453\n",
       "Prototype Purchase                                                    185\n",
       "National Security Consideration                                       101\n",
       "Exceptional Circumstances Under Article 508 (1) of AIT                 72\n",
       "Protection of Human, Animal, or Plant Life or Health                   71\n",
       "Additional Construction Services                                       63\n",
       "Purchases Made Under Exceptionally Advantageous Cond. Short Term       51\n",
       "Goods Purchased on a Commodity Market                                  39\n",
       "New Construction Services                                               8\n",
       "ZZ-Source Selected for Equitable Reasons                                1\n",
       "Name: limited-tender-reason-description_en, dtype: int64"
      ]
     },
     "execution_count": 25,
     "metadata": {},
     "output_type": "execute_result"
    }
   ],
   "source": [
    "contractHistory['limited-tender-reason-description_en'].value_counts()"
   ]
  },
  {
   "cell_type": "code",
   "execution_count": 26,
   "metadata": {},
   "outputs": [
    {
     "data": {
      "text/plain": [
       "count           441210\n",
       "unique               4\n",
       "top       Open Bidding\n",
       "freq            269648\n",
       "Name: solicitation-procedure-description_en, dtype: object"
      ]
     },
     "execution_count": 26,
     "metadata": {},
     "output_type": "execute_result"
    }
   ],
   "source": [
    "contractHistory['solicitation-procedure-description_en'].describe()"
   ]
  },
  {
   "cell_type": "code",
   "execution_count": 27,
   "metadata": {},
   "outputs": [
    {
     "data": {
      "text/plain": [
       "Open Bidding                   269648\n",
       "Traditional Non-Competitive     94315\n",
       "Traditional Competitive         65743\n",
       "ACAN                            11504\n",
       "Name: solicitation-procedure-description_en, dtype: int64"
      ]
     },
     "execution_count": 27,
     "metadata": {},
     "output_type": "execute_result"
    }
   ],
   "source": [
    "contractHistory['solicitation-procedure-description_en'].value_counts()"
   ]
  },
  {
   "cell_type": "code",
   "execution_count": 28,
   "metadata": {},
   "outputs": [
    {
     "data": {
      "text/plain": [
       "<AxesSubplot:>"
      ]
     },
     "execution_count": 28,
     "metadata": {},
     "output_type": "execute_result"
    },
    {
     "data": {
      "image/png": "[encoded data removed]",
      "text/plain": [
       "<Figure size 432x288 with 1 Axes>"
      ]
     },
     "metadata": {
      "needs_background": "light"
     },
     "output_type": "display_data"
    }
   ],
   "source": [
    "contractHistory['solicitation-procedure-description_en'].value_counts().plot(kind = 'barh')"
   ]
  },
  {
   "cell_type": "code",
   "execution_count": 29,
   "metadata": {},
   "outputs": [
    {
     "data": {
      "text/plain": [
       "count     436587\n",
       "unique        33\n",
       "top         NONE\n",
       "freq       95914\n",
       "Name: trade-agreement-description_en, dtype: object"
      ]
     },
     "execution_count": 29,
     "metadata": {},
     "output_type": "execute_result"
    }
   ],
   "source": [
    "contractHistory['trade-agreement-description_en'].describe()"
   ]
  },
  {
   "cell_type": "code",
   "execution_count": 30,
   "metadata": {},
   "outputs": [
    {
     "data": {
      "text/plain": [
       "NONE                                                                          95914\n",
       "Canadian Free Trade Agreement (CFTA)                                          83414\n",
       "CETA / WTO-AGP / NAFTA / CFTA / FTAs with Peru / Colombia / Panama / Korea    68349\n",
       "WTO-AGP/NAFTA/AIT/Canada FTAs with Peru/Colombia/Panama                       45872\n",
       "NAFTA / CFTA / FTAs with Peru / Colombia / Panama / Korea                     32837\n",
       "Agreement on Internal Trade (AIT)                                             32158\n",
       "NAFTA/AIT/Canada FTAs with Peru/Colombia/Panama                               28236\n",
       "WTO-AGP/AIT                                                                   16089\n",
       "CETA / WTO-AGP / NAFTA / FTAs with Peru / Colombia / Panama / Korea            8301\n",
       "GATT/NAFTA/AIT                                                                 4948\n",
       "CETA / CFTA                                                                    4665\n",
       "NAFTA / FTAs with Peru / Colombia / Panama / Korea                             3085\n",
       "WTO-AGP/NAFTA/Canada FTAs with Peru/Colombia/Panama                            2494\n",
       "CETA / WTO-AGP / CFTA                                                          2474\n",
       "Set-Aside Program for Aboriginal Business (SPAB)                               2386\n",
       "World Trade Organization - Agreement on Government Procurement (WTO-AGP)       1980\n",
       "NAFTA/Canada FTAs with Peru/Colombia/Panama                                    1036\n",
       "Land Claims Set-Aside Policy                                                    470\n",
       "LCSA/CFTA                                                                       380\n",
       "NAFTA/CFTA/Canada FTAs with Peru/Colombia/Panama                                333\n",
       "LCSA/AIT                                                                        295\n",
       "WTO-AGP/NAFTA/CFTA/Canada FTAs with Peru/Colombia/Panama                        259\n",
       "AIT/NAFTA/WTO-AGP/CKTEA                                                         172\n",
       "Canada - EU Comprehensive Economic and Trade Agreement (CETA)                   170\n",
       "GATT/AIT                                                                         88\n",
       "NAFTA/GATT                                                                       88\n",
       "GATT                                                                             36\n",
       "AIT/CKTEA                                                                        31\n",
       "NAFTA/WTO-AGP/CKTEA                                                              13\n",
       "AIT/WTO-AGP/CKTEA                                                                 6\n",
       "Open Bidding                                                                      5\n",
       "WTO-AGP/CFTA                                                                      2\n",
       "Source List (Not to be used for ACAN or NPP)                                      1\n",
       "Name: trade-agreement-description_en, dtype: int64"
      ]
     },
     "execution_count": 30,
     "metadata": {},
     "output_type": "execute_result"
    }
   ],
   "source": [
    "contractHistory['trade-agreement-description_en'].value_counts()"
   ]
  },
  {
   "cell_type": "code",
   "execution_count": 31,
   "metadata": {},
   "outputs": [
    {
     "data": {
      "text/plain": [
       "count                                    441210\n",
       "unique                                    36355\n",
       "top       SIMEX DEFENCE INC / DEFENSE SIMEX INC\n",
       "freq                                       4305\n",
       "Name: supplier-standardized-name, dtype: object"
      ]
     },
     "execution_count": 31,
     "metadata": {},
     "output_type": "execute_result"
    }
   ],
   "source": [
    "contractHistory['supplier-standardized-name'].describe()"
   ]
  },
  {
   "cell_type": "code",
   "execution_count": 32,
   "metadata": {},
   "outputs": [
    {
     "data": {
      "text/plain": [
       "SIMEX DEFENCE INC / DEFENSE SIMEX INC    4305\n",
       "COSSETTE MEDIA                           3516\n",
       "JHT DEFENSE INC                          2699\n",
       "COSSETTE COMMUNICATION INC               2647\n",
       "MICROSOFT LICENSING, GP                  2120\n",
       "                                         ... \n",
       "UNIVERSITY OF KENTUCKY                      1\n",
       "ENVIROTEL 3000 INC                          1\n",
       "ADVANCED IMAGING DEVICES GMBH               1\n",
       "CAMBRIDGE VISCOSITY, INC                    1\n",
       "THE TREADMILL FACTORY                       1\n",
       "Name: supplier-standardized-name, Length: 36355, dtype: int64"
      ]
     },
     "execution_count": 32,
     "metadata": {},
     "output_type": "execute_result"
    }
   ],
   "source": [
    "contractHistory['supplier-standardized-name'].value_counts()"
   ]
  },
  {
   "cell_type": "code",
   "execution_count": 33,
   "metadata": {},
   "outputs": [
    {
     "data": {
      "text/plain": [
       "count     441091\n",
       "unique      7261\n",
       "top       Ottawa\n",
       "freq       80001\n",
       "Name: supplier-address-city, dtype: object"
      ]
     },
     "execution_count": 33,
     "metadata": {},
     "output_type": "execute_result"
    }
   ],
   "source": [
    "contractHistory['supplier-address-city'].describe()"
   ]
  },
  {
   "cell_type": "code",
   "execution_count": 34,
   "metadata": {},
   "outputs": [
    {
     "data": {
      "text/plain": [
       "Ottawa                 80001\n",
       "Toronto                21108\n",
       "Mississauga            15614\n",
       "Calgary                 9807\n",
       "Montreal                9524\n",
       "                       ...  \n",
       "Sainte-Hénédine            1\n",
       "REDONDO BEACH              1\n",
       "Vicomaggio (Arezzo)        1\n",
       "Saulnierville              1\n",
       "SAN DIMAS                  1\n",
       "Name: supplier-address-city, Length: 7261, dtype: int64"
      ]
     },
     "execution_count": 34,
     "metadata": {},
     "output_type": "execute_result"
    }
   ],
   "source": [
    "contractHistory['supplier-address-city'].value_counts()"
   ]
  },
  {
   "cell_type": "code",
   "execution_count": 35,
   "metadata": {},
   "outputs": [
    {
     "data": {
      "text/plain": [
       "count      430737\n",
       "unique         64\n",
       "top       Ontario\n",
       "freq       190079\n",
       "Name: supplier-address-prov-state, dtype: object"
      ]
     },
     "execution_count": 35,
     "metadata": {},
     "output_type": "execute_result"
    }
   ],
   "source": [
    "contractHistory['supplier-address-prov-state'].describe()"
   ]
  },
  {
   "cell_type": "code",
   "execution_count": 36,
   "metadata": {},
   "outputs": [
    {
     "data": {
      "text/plain": [
       "Ontario             190079\n",
       "Quebec               84105\n",
       "British Columbia     32371\n",
       "Alberta              27917\n",
       "Nova Scotia          20233\n",
       "                     ...  \n",
       "Vermont                 29\n",
       "Mississippi             22\n",
       "Arkansas                19\n",
       "South Dakota            14\n",
       "Wyoming                  9\n",
       "Name: supplier-address-prov-state, Length: 64, dtype: int64"
      ]
     },
     "execution_count": 36,
     "metadata": {},
     "output_type": "execute_result"
    }
   ],
   "source": [
    "contractHistory['supplier-address-prov-state'].value_counts()"
   ]
  },
  {
   "cell_type": "code",
   "execution_count": 37,
   "metadata": {},
   "outputs": [
    {
     "data": {
      "text/plain": [
       "count     441210\n",
       "unique       115\n",
       "top       Canada\n",
       "freq      398099\n",
       "Name: supplier-address-country, dtype: object"
      ]
     },
     "execution_count": 37,
     "metadata": {},
     "output_type": "execute_result"
    }
   ],
   "source": [
    "contractHistory['supplier-address-country'].describe()"
   ]
  },
  {
   "cell_type": "code",
   "execution_count": 38,
   "metadata": {},
   "outputs": [
    {
     "data": {
      "text/plain": [
       "Canada                   398099\n",
       "United States             32818\n",
       "Germany                    3241\n",
       "United Kingdom             2538\n",
       "Netherlands                 441\n",
       "                          ...  \n",
       "Venezuela                     1\n",
       "Brunei Darussalam             1\n",
       "Virgin Islands (U.S.)         1\n",
       "Bermuda                       1\n",
       "Guam                          1\n",
       "Name: supplier-address-country, Length: 115, dtype: int64"
      ]
     },
     "execution_count": 38,
     "metadata": {},
     "output_type": "execute_result"
    }
   ],
   "source": [
    "contractHistory['supplier-address-country'].value_counts()"
   ]
  },
  {
   "cell_type": "code",
   "execution_count": 39,
   "metadata": {},
   "outputs": [
    {
     "data": {
      "text/plain": [
       "count     438200\n",
       "unique     27226\n",
       "top       H9R1A6\n",
       "freq        4305\n",
       "Name: supplier-address-postal-code, dtype: object"
      ]
     },
     "execution_count": 39,
     "metadata": {},
     "output_type": "execute_result"
    }
   ],
   "source": [
    "contractHistory['supplier-address-postal-code'].describe()"
   ]
  },
  {
   "cell_type": "code",
   "execution_count": 40,
   "metadata": {},
   "outputs": [
    {
     "data": {
      "text/plain": [
       "H9R1A6        4305\n",
       "M6K1X8        3516\n",
       "G1K7R1        2942\n",
       "H4R2E9        2730\n",
       "89511         2122\n",
       "              ... \n",
       "60604-3562       1\n",
       "P1L1G4           1\n",
       "45014            1\n",
       "C1N3J2           1\n",
       "91773            1\n",
       "Name: supplier-address-postal-code, Length: 27226, dtype: int64"
      ]
     },
     "execution_count": 40,
     "metadata": {},
     "output_type": "execute_result"
    }
   ],
   "source": [
    "contractHistory['supplier-address-postal-code'].value_counts()"
   ]
  },
  {
   "cell_type": "code",
   "execution_count": 41,
   "metadata": {},
   "outputs": [
    {
     "data": {
      "text/plain": [
       "count                 441208\n",
       "unique                    14\n",
       "top       20 to 49 employees\n",
       "freq                   71520\n",
       "Name: organization-employee-count_en, dtype: object"
      ]
     },
     "execution_count": 41,
     "metadata": {},
     "output_type": "execute_result"
    }
   ],
   "source": [
    "contractHistory['organization-employee-count_en'].describe()"
   ]
  },
  {
   "cell_type": "code",
   "execution_count": 42,
   "metadata": {},
   "outputs": [
    {
     "data": {
      "text/plain": [
       "20 to 49 employees         71520\n",
       "10 to 19 employees         50606\n",
       "1 to 4 employees           48806\n",
       "5 to 9 employees           46694\n",
       "50 to 99 employees         43309\n",
       "200 to 499 employees       38205\n",
       "100 to 199 employees       35509\n",
       "5000 employees and over    22845\n",
       "500 to 999 employees       21979\n",
       "UNKNOWN                    19256\n",
       "2500 to 4999 employees     14947\n",
       "1500 to 2499 employees     12717\n",
       "1000 to 1499 employees     11643\n",
       "Self-employed               3172\n",
       "Name: organization-employee-count_en, dtype: int64"
      ]
     },
     "execution_count": 42,
     "metadata": {},
     "output_type": "execute_result"
    }
   ],
   "source": [
    "contractHistory['organization-employee-count_en'].value_counts()"
   ]
  },
  {
   "cell_type": "code",
   "execution_count": 43,
   "metadata": {},
   "outputs": [
    {
     "data": {
      "text/plain": [
       "<AxesSubplot:>"
      ]
     },
     "execution_count": 43,
     "metadata": {},
     "output_type": "execute_result"
    },
    {
     "data": {
      "image/png": "[encoded data removed]",
      "text/plain": [
       "<Figure size 432x288 with 1 Axes>"
      ]
     },
     "metadata": {
      "needs_background": "light"
     },
     "output_type": "display_data"
    }
   ],
   "source": [
    "contractHistory['organization-employee-count_en'].value_counts().plot(kind = 'barh')"
   ]
  },
  {
   "cell_type": "code",
   "execution_count": 44,
   "metadata": {},
   "outputs": [
    {
     "data": {
      "text/plain": [
       "count                                          441210\n",
       "unique                                            132\n",
       "top       Public Works and Government Services Canada\n",
       "freq                                           182963\n",
       "Name: end-user-entity_en, dtype: object"
      ]
     },
     "execution_count": 44,
     "metadata": {},
     "output_type": "execute_result"
    }
   ],
   "source": [
    "contractHistory['end-user-entity_en'].describe()"
   ]
  },
  {
   "cell_type": "code",
   "execution_count": 45,
   "metadata": {},
   "outputs": [
    {
     "data": {
      "text/plain": [
       "Public Works and Government Services Canada    182963\n",
       "Department of National Defence                 130899\n",
       "Fisheries and Oceans Canada                     16470\n",
       "Correctional Service of Canada                  11339\n",
       "Canadian Commercial Corporation                  7686\n",
       "                                                ...  \n",
       "CANADIAN MUSEUM OF IMMIGRATION AT PIER 21           1\n",
       "Canadian Museum for Human Rights                    1\n",
       "Canadian Museum of Nature                           1\n",
       "National Gallery of Canada                          1\n",
       "INDIGENOUS SERVICES CANADA                          1\n",
       "Name: end-user-entity_en, Length: 132, dtype: int64"
      ]
     },
     "execution_count": 45,
     "metadata": {},
     "output_type": "execute_result"
    }
   ],
   "source": [
    "contractHistory['end-user-entity_en'].value_counts()"
   ]
  },
  {
   "cell_type": "code",
   "execution_count": 46,
   "metadata": {},
   "outputs": [
    {
     "data": {
      "text/plain": [
       "count     431285\n",
       "unique      3422\n",
       "top         NDHQ\n",
       "freq       19931\n",
       "Name: contracting-entity-office-name_en, dtype: object"
      ]
     },
     "execution_count": 46,
     "metadata": {},
     "output_type": "execute_result"
    }
   ],
   "source": [
    "contractHistory['contracting-entity-office-name_en'].describe()"
   ]
  },
  {
   "cell_type": "code",
   "execution_count": 47,
   "metadata": {},
   "outputs": [
    {
     "data": {
      "text/plain": [
       "NDHQ                              19931\n",
       "CONSOLIDATED PROC LP ICPSS        16759\n",
       "BUSINESS MANAGEMENT DIR.          16353\n",
       "COMMANDING  OFFICER               12930\n",
       "CONSOLIDATED PROC HL ICPSS        12685\n",
       "                                  ...  \n",
       "31 SVC BN TECH SERV (MAINT)           1\n",
       "GTIS COMSEC                           1\n",
       "WHITEHORSE CADET SUM.TRAIN.CTR        1\n",
       "INTERNATL&INTERGOVTL AFFAIRS          1\n",
       "SMRC                                  1\n",
       "Name: contracting-entity-office-name_en, Length: 3422, dtype: int64"
      ]
     },
     "execution_count": 47,
     "metadata": {},
     "output_type": "execute_result"
    }
   ],
   "source": [
    "contractHistory['contracting-entity-office-name_en'].value_counts()"
   ]
  },
  {
   "cell_type": "code",
   "execution_count": 48,
   "metadata": {},
   "outputs": [
    {
     "data": {
      "text/plain": [
       "count                 441182\n",
       "unique                  3140\n",
       "top       101 COLONEL BY DR.\n",
       "freq                   25490\n",
       "Name: contracting-address-street-1, dtype: object"
      ]
     },
     "execution_count": 48,
     "metadata": {},
     "output_type": "execute_result"
    }
   ],
   "source": [
    "contractHistory['contracting-address-street-1'].describe()"
   ]
  },
  {
   "cell_type": "code",
   "execution_count": 49,
   "metadata": {},
   "outputs": [
    {
     "data": {
      "text/plain": [
       "101 COLONEL BY DR.          25490\n",
       "PORTAGE III 7B3             20515\n",
       "PORTAGE III 6B1             15962\n",
       "PORTAGE III 7B1             13245\n",
       "CFSD MONTREAL               12930\n",
       "                            ...  \n",
       "495 PROSPECT ST                 1\n",
       "PL.VANIER TWR B 10TH FL.        1\n",
       "PORTAGE IV 8TH FL.              1\n",
       "PETAWAWA                        1\n",
       "101 PR COLONEL BY               1\n",
       "Name: contracting-address-street-1, Length: 3140, dtype: int64"
      ]
     },
     "execution_count": 49,
     "metadata": {},
     "output_type": "execute_result"
    }
   ],
   "source": [
    "contractHistory['contracting-address-street-1'].value_counts()"
   ]
  },
  {
   "cell_type": "code",
   "execution_count": 50,
   "metadata": {},
   "outputs": [
    {
     "data": {
      "text/plain": [
       "count            308117\n",
       "unique             1561\n",
       "top       11 LAURIER ST\n",
       "freq              82908\n",
       "Name: contracting-address-street-2, dtype: object"
      ]
     },
     "execution_count": 50,
     "metadata": {},
     "output_type": "execute_result"
    }
   ],
   "source": [
    "contractHistory['contracting-address-street-2'].describe()"
   ]
  },
  {
   "cell_type": "code",
   "execution_count": 51,
   "metadata": {},
   "outputs": [
    {
     "data": {
      "text/plain": [
       "11 LAURIER ST                    82908\n",
       "6363 RUE NOTRE DAME ST E.        12930\n",
       "101 COLONEL BY DR.               11587\n",
       "50 O CONNOR ST                    4416\n",
       "800 RUE DE LA GAUCHETIERE O.      4131\n",
       "                                 ...  \n",
       "P.O.BOX 220                          1\n",
       "RAMP #7 - 45 SACRE COEUR BLVD        1\n",
       "5421 ROBERTSON RD                    1\n",
       "130 BENTLEY AVE                      1\n",
       "25TH FLOOR, RM 2501                  1\n",
       "Name: contracting-address-street-2, Length: 1561, dtype: int64"
      ]
     },
     "execution_count": 51,
     "metadata": {},
     "output_type": "execute_result"
    }
   ],
   "source": [
    "contractHistory['contracting-address-street-2'].value_counts()"
   ]
  },
  {
   "cell_type": "code",
   "execution_count": 52,
   "metadata": {},
   "outputs": [
    {
     "data": {
      "text/plain": [
       "count     441182\n",
       "unique       440\n",
       "top       OTTAWA\n",
       "freq      130007\n",
       "Name: contracting-address-city, dtype: object"
      ]
     },
     "execution_count": 52,
     "metadata": {},
     "output_type": "execute_result"
    }
   ],
   "source": [
    "contractHistory['contracting-address-city'].describe()"
   ]
  },
  {
   "cell_type": "code",
   "execution_count": 53,
   "metadata": {},
   "outputs": [
    {
     "data": {
      "text/plain": [
       "OTTAWA        130007\n",
       "GATINEAU       72006\n",
       "Gatineau       31369\n",
       "MONTREAL       24289\n",
       "EDMONTON       13144\n",
       "               ...  \n",
       "MERRIT             1\n",
       "CARDSTON           1\n",
       "BURGEO             1\n",
       "DELORAINE          1\n",
       "ANTIGONISH         1\n",
       "Name: contracting-address-city, Length: 440, dtype: int64"
      ]
     },
     "execution_count": 53,
     "metadata": {},
     "output_type": "execute_result"
    }
   ],
   "source": [
    "contractHistory['contracting-address-city'].value_counts()"
   ]
  },
  {
   "cell_type": "code",
   "execution_count": 54,
   "metadata": {},
   "outputs": [
    {
     "data": {
      "text/plain": [
       "count      440905\n",
       "unique         13\n",
       "top       Ontario\n",
       "freq       166823\n",
       "Name: contracting-address-prov-state, dtype: object"
      ]
     },
     "execution_count": 54,
     "metadata": {},
     "output_type": "execute_result"
    }
   ],
   "source": [
    "contractHistory['contracting-address-prov-state'].describe()"
   ]
  },
  {
   "cell_type": "code",
   "execution_count": 55,
   "metadata": {},
   "outputs": [
    {
     "data": {
      "text/plain": [
       "Ontario                      166823\n",
       "Quebec                       156348\n",
       "Alberta                       27574\n",
       "British Columbia              24574\n",
       "Nova Scotia                   21081\n",
       "Manitoba                      12862\n",
       "New Brunswick                 11444\n",
       "Newfoundland and Labrador      8225\n",
       "Saskatchewan                   6927\n",
       "Prince Edward Island           3352\n",
       "Northwest Territories          1272\n",
       "Yukon                           315\n",
       "Nunavut                         108\n",
       "Name: contracting-address-prov-state, dtype: int64"
      ]
     },
     "execution_count": 55,
     "metadata": {},
     "output_type": "execute_result"
    }
   ],
   "source": [
    "contractHistory['contracting-address-prov-state'].value_counts()"
   ]
  },
  {
   "cell_type": "code",
   "execution_count": 56,
   "metadata": {},
   "outputs": [
    {
     "data": {
      "text/plain": [
       "<AxesSubplot:>"
      ]
     },
     "execution_count": 56,
     "metadata": {},
     "output_type": "execute_result"
    },
    {
     "data": {
      "image/png": "[encoded data removed]",
      "text/plain": [
       "<Figure size 432x288 with 1 Axes>"
      ]
     },
     "metadata": {
      "needs_background": "light"
     },
     "output_type": "display_data"
    }
   ],
   "source": [
    "contractHistory['contracting-address-prov-state'].value_counts().plot(kind = 'barh')"
   ]
  },
  {
   "cell_type": "code",
   "execution_count": 57,
   "metadata": {},
   "outputs": [
    {
     "data": {
      "text/plain": [
       "count     441180\n",
       "unique      1196\n",
       "top       K1A0S5\n",
       "freq      100214\n",
       "Name: contracting-address-postal-code, dtype: object"
      ]
     },
     "execution_count": 57,
     "metadata": {},
     "output_type": "execute_result"
    }
   ],
   "source": [
    "contractHistory['contracting-address-postal-code'].describe()"
   ]
  },
  {
   "cell_type": "code",
   "execution_count": 58,
   "metadata": {},
   "outputs": [
    {
     "data": {
      "text/plain": [
       "K1A0S5    100214\n",
       "K1A0K2     42335\n",
       "H1N2E9     13430\n",
       "V6Z0B9      9980\n",
       "B3K5X5      8591\n",
       "           ...  \n",
       "N0H2L0         1\n",
       "J4Z3T8         1\n",
       "J8Y6W4         1\n",
       "B2A3M4         1\n",
       "V1Y5V5         1\n",
       "Name: contracting-address-postal-code, Length: 1196, dtype: int64"
      ]
     },
     "execution_count": 58,
     "metadata": {},
     "output_type": "execute_result"
    }
   ],
   "source": [
    "contractHistory['contracting-address-postal-code'].value_counts()"
   ]
  },
  {
   "cell_type": "code",
   "execution_count": 59,
   "metadata": {},
   "outputs": [
    {
     "data": {
      "text/plain": [
       "count     441182\n",
       "unique         4\n",
       "top       Canada\n",
       "freq      440905\n",
       "Name: contracting-address-country, dtype: object"
      ]
     },
     "execution_count": 59,
     "metadata": {},
     "output_type": "execute_result"
    }
   ],
   "source": [
    "contractHistory['contracting-address-country' ].describe()"
   ]
  },
  {
   "cell_type": "code",
   "execution_count": 60,
   "metadata": {},
   "outputs": [
    {
     "data": {
      "text/plain": [
       "Canada     440905\n",
       "Germany       274\n",
       "Haiti           2\n",
       "France          1\n",
       "Name: contracting-address-country, dtype: int64"
      ]
     },
     "execution_count": 60,
     "metadata": {},
     "output_type": "execute_result"
    }
   ],
   "source": [
    "contractHistory['contracting-address-country'].value_counts()"
   ]
  },
  {
   "cell_type": "code",
   "execution_count": 61,
   "metadata": {},
   "outputs": [
    {
     "data": {
      "text/plain": [
       "<AxesSubplot:>"
      ]
     },
     "execution_count": 61,
     "metadata": {},
     "output_type": "execute_result"
    },
    {
     "data": {
      "image/png": "[encoded data removed]",
      "text/plain": [
       "<Figure size 432x288 with 1 Axes>"
      ]
     },
     "metadata": {
      "needs_background": "light"
     },
     "output_type": "display_data"
    }
   ],
   "source": [
    "contractHistory['contracting-address-country'].value_counts().plot(kind = 'bar')"
   ]
  },
  {
   "cell_type": "code",
   "execution_count": 62,
   "metadata": {},
   "outputs": [
    {
     "data": {
      "text/plain": [
       "count                                          441210\n",
       "unique                                              1\n",
       "top       Public Works and Government Services Canada\n",
       "freq                                           441210\n",
       "Name: procurement-entity-name_en, dtype: object"
      ]
     },
     "execution_count": 62,
     "metadata": {},
     "output_type": "execute_result"
    }
   ],
   "source": [
    "contractHistory['procurement-entity-name_en'].describe()"
   ]
  },
  {
   "cell_type": "code",
   "execution_count": 63,
   "metadata": {},
   "outputs": [
    {
     "data": {
      "text/plain": [
       "Public Works and Government Services Canada    441210\n",
       "Name: procurement-entity-name_en, dtype: int64"
      ]
     },
     "execution_count": 63,
     "metadata": {},
     "output_type": "execute_result"
    }
   ],
   "source": [
    "contractHistory['procurement-entity-name_en'].value_counts()"
   ]
  }
 ],
 "metadata": {
  "interpreter": {
   "hash": "1f65e174391277f634e70871feaa21300658cb740b5dabfc689c4c43dbc10e3e"
  },
  "kernelspec": {
   "display_name": "Python 3.9.1 64-bit",
   "name": "python3"
  },
  "language_info": {
   "codemirror_mode": {
    "name": "ipython",
    "version": 3
   },
   "file_extension": ".py",
   "mimetype": "text/x-python",
   "name": "python",
   "nbconvert_exporter": "python",
   "pygments_lexer": "ipython3",
   "version": "3.9.1"
  }
 },
 "nbformat": 4,
 "nbformat_minor": 4
}
