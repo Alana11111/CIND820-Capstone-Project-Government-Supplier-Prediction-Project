{
 "cells": [
  {
   "cell_type": "markdown",
   "metadata": {},
   "source": [
    "# Government Supplier Prediction Project\n",
    "Alana Rutherford, \n",
    "500953715, \n",
    "Supervisor Derya Kici, Ph.D, \n",
    "November 7, 2021\n",
    "\n",
    "\n",
    "## Data Import"
   ]
  },
  {
   "cell_type": "code",
   "execution_count": 256,
   "metadata": {},
   "outputs": [],
   "source": [
    "import pandas as pd\n",
    "import numpy as np\n",
    "import matplotlib.pyplot as plt\n",
    "import seaborn as sn\n",
    "import zipfile\n",
    "\n",
    "with zipfile.ZipFile('data/tpsgc-pwgsc_co-ch_tous-all.zip', 'r') as zip_ref:\n",
    "    zip_ref.extractall('data')\n",
    "contractHistory = pd.read_csv('data/tpsgc-pwgsc_co-ch_tous-all.csv', usecols = range(0,42))"
   ]
  },
  {
   "cell_type": "markdown",
   "metadata": {},
   "source": [
    "## General Data Description"
   ]
  },
  {
   "cell_type": "code",
   "execution_count": 257,
   "metadata": {},
   "outputs": [
    {
     "data": {
      "text/plain": [
       "Index(['contract-number', 'amendment-number', 'award-date', 'expiry-date',\n",
       "       'contract-value', 'gsin', 'gsin-description_en', 'gsin-description_fr',\n",
       "       'competitive-tender_en', 'competitive-tender_fr',\n",
       "       'limited-tender-reason', 'limited-tender-reason-description_en',\n",
       "       'limited-tender-reason-description_fr', 'solicitation-procedure',\n",
       "       'solicitation-procedure-description_en',\n",
       "       'solicitation-procedure-description_fr', 'trade-agreement',\n",
       "       'trade-agreement-description_en', 'trade-agreement-description_fr',\n",
       "       'supplier-standardized-name', 'supplier-operating-name',\n",
       "       'supplier-legal-name', 'supplier-address-city',\n",
       "       'supplier-address-prov-state', 'supplier-address-postal-code',\n",
       "       'supplier-address-country', 'organization-employee-count_en',\n",
       "       'organization-employee-count_fr', 'total-contract-value',\n",
       "       'number-records', 'end-user-entity_en', 'end-user-entity_fr',\n",
       "       'contracting-entity-office-name_en',\n",
       "       'contracting-entity-office-name_fr', 'contracting-address-street-1',\n",
       "       'contracting-address-street-2', 'contracting-address-city',\n",
       "       'contracting-address-prov-state', 'contracting-address-postal-code',\n",
       "       'contracting-address-country', 'procurement-entity-name_en',\n",
       "       'procurement-entity-name_fr'],\n",
       "      dtype='object')"
      ]
     },
     "execution_count": 257,
     "metadata": {},
     "output_type": "execute_result"
    }
   ],
   "source": [
    "contractHistory.columns"
   ]
  },
  {
   "cell_type": "code",
   "execution_count": 258,
   "metadata": {},
   "outputs": [
    {
     "data": {
      "text/html": [
       "<div>\n",
       "<style scoped>\n",
       "    .dataframe tbody tr th:only-of-type {\n",
       "        vertical-align: middle;\n",
       "    }\n",
       "\n",
       "    .dataframe tbody tr th {\n",
       "        vertical-align: top;\n",
       "    }\n",
       "\n",
       "    .dataframe thead th {\n",
       "        text-align: right;\n",
       "    }\n",
       "</style>\n",
       "<table border=\"1\" class=\"dataframe\">\n",
       "  <thead>\n",
       "    <tr style=\"text-align: right;\">\n",
       "      <th></th>\n",
       "      <th>contract-number</th>\n",
       "      <th>amendment-number</th>\n",
       "      <th>award-date</th>\n",
       "      <th>expiry-date</th>\n",
       "      <th>contract-value</th>\n",
       "      <th>gsin</th>\n",
       "      <th>gsin-description_en</th>\n",
       "      <th>gsin-description_fr</th>\n",
       "      <th>competitive-tender_en</th>\n",
       "      <th>competitive-tender_fr</th>\n",
       "      <th>...</th>\n",
       "      <th>contracting-entity-office-name_en</th>\n",
       "      <th>contracting-entity-office-name_fr</th>\n",
       "      <th>contracting-address-street-1</th>\n",
       "      <th>contracting-address-street-2</th>\n",
       "      <th>contracting-address-city</th>\n",
       "      <th>contracting-address-prov-state</th>\n",
       "      <th>contracting-address-postal-code</th>\n",
       "      <th>contracting-address-country</th>\n",
       "      <th>procurement-entity-name_en</th>\n",
       "      <th>procurement-entity-name_fr</th>\n",
       "    </tr>\n",
       "  </thead>\n",
       "  <tbody>\n",
       "    <tr>\n",
       "      <th>0</th>\n",
       "      <td>F2599-090025/001/MD</td>\n",
       "      <td>000</td>\n",
       "      <td>2009-06-16</td>\n",
       "      <td>2009-10-20</td>\n",
       "      <td>30174.0</td>\n",
       "      <td>N1990</td>\n",
       "      <td>Vessels, Miscellaneous</td>\n",
       "      <td>Bateaux divers</td>\n",
       "      <td>Yes</td>\n",
       "      <td>Oui</td>\n",
       "      <td>...</td>\n",
       "      <td>CCG CENTRAL&amp;ARCTIC RGN</td>\n",
       "      <td>N/D</td>\n",
       "      <td>MARINE ENGINEERING</td>\n",
       "      <td>520 EXMOUTH ST</td>\n",
       "      <td>SARNIA</td>\n",
       "      <td>Ontario</td>\n",
       "      <td>N7T8B1</td>\n",
       "      <td>Canada</td>\n",
       "      <td>Public Works and Government Services Canada</td>\n",
       "      <td>Travaux publics et Services gouvernementaux Ca...</td>\n",
       "    </tr>\n",
       "    <tr>\n",
       "      <th>1</th>\n",
       "      <td>F2599-090025/001/MD</td>\n",
       "      <td>001</td>\n",
       "      <td>2009-07-15</td>\n",
       "      <td>2009-10-20</td>\n",
       "      <td>4876.0</td>\n",
       "      <td>N1990</td>\n",
       "      <td>Vessels, Miscellaneous</td>\n",
       "      <td>Bateaux divers</td>\n",
       "      <td>Yes</td>\n",
       "      <td>Oui</td>\n",
       "      <td>...</td>\n",
       "      <td>CCG CENTRAL&amp;ARCTIC RGN</td>\n",
       "      <td>N/D</td>\n",
       "      <td>MARINE ENGINEERING</td>\n",
       "      <td>520 EXMOUTH ST</td>\n",
       "      <td>SARNIA</td>\n",
       "      <td>Ontario</td>\n",
       "      <td>N7T8B1</td>\n",
       "      <td>Canada</td>\n",
       "      <td>Public Works and Government Services Canada</td>\n",
       "      <td>Travaux publics et Services gouvernementaux Ca...</td>\n",
       "    </tr>\n",
       "    <tr>\n",
       "      <th>2</th>\n",
       "      <td>F2599-090025/001/MD</td>\n",
       "      <td>002</td>\n",
       "      <td>2009-07-20</td>\n",
       "      <td>2009-10-20</td>\n",
       "      <td>26914.0</td>\n",
       "      <td>N1990</td>\n",
       "      <td>Vessels, Miscellaneous</td>\n",
       "      <td>Bateaux divers</td>\n",
       "      <td>Yes</td>\n",
       "      <td>Oui</td>\n",
       "      <td>...</td>\n",
       "      <td>CCG CENTRAL&amp;ARCTIC RGN</td>\n",
       "      <td>N/D</td>\n",
       "      <td>MARINE ENGINEERING</td>\n",
       "      <td>520 EXMOUTH ST</td>\n",
       "      <td>SARNIA</td>\n",
       "      <td>Ontario</td>\n",
       "      <td>N7T8B1</td>\n",
       "      <td>Canada</td>\n",
       "      <td>Public Works and Government Services Canada</td>\n",
       "      <td>Travaux publics et Services gouvernementaux Ca...</td>\n",
       "    </tr>\n",
       "    <tr>\n",
       "      <th>3</th>\n",
       "      <td>E60LP-090002/392/LP</td>\n",
       "      <td>000</td>\n",
       "      <td>2010-01-01</td>\n",
       "      <td>2010-12-31</td>\n",
       "      <td>25000.0</td>\n",
       "      <td>V502B</td>\n",
       "      <td>Hotels, Motels and Commercial Accommodation</td>\n",
       "      <td>Hôtels, motels et logements commerciaux</td>\n",
       "      <td>Yes</td>\n",
       "      <td>Oui</td>\n",
       "      <td>...</td>\n",
       "      <td>CONSOLIDATED PROC LP ICPSS</td>\n",
       "      <td>N/D</td>\n",
       "      <td>PORTAGE III 7B3</td>\n",
       "      <td>11 LAURIER ST</td>\n",
       "      <td>GATINEAU</td>\n",
       "      <td>Quebec</td>\n",
       "      <td>K1A0S5</td>\n",
       "      <td>Canada</td>\n",
       "      <td>Public Works and Government Services Canada</td>\n",
       "      <td>Travaux publics et Services gouvernementaux Ca...</td>\n",
       "    </tr>\n",
       "    <tr>\n",
       "      <th>4</th>\n",
       "      <td>E60LP-110001/050/LP</td>\n",
       "      <td>000</td>\n",
       "      <td>2012-01-01</td>\n",
       "      <td>2012-12-31</td>\n",
       "      <td>25000.0</td>\n",
       "      <td>V502B</td>\n",
       "      <td>Hotels, Motels and Commercial Accommodation</td>\n",
       "      <td>Hôtels, motels et logements commerciaux</td>\n",
       "      <td>Yes</td>\n",
       "      <td>Oui</td>\n",
       "      <td>...</td>\n",
       "      <td>CONSOLIDATED PROC LP ICPSS</td>\n",
       "      <td>N/D</td>\n",
       "      <td>PORTAGE III 7B3</td>\n",
       "      <td>11 LAURIER ST</td>\n",
       "      <td>GATINEAU</td>\n",
       "      <td>Quebec</td>\n",
       "      <td>K1A0S5</td>\n",
       "      <td>Canada</td>\n",
       "      <td>Public Works and Government Services Canada</td>\n",
       "      <td>Travaux publics et Services gouvernementaux Ca...</td>\n",
       "    </tr>\n",
       "  </tbody>\n",
       "</table>\n",
       "<p>5 rows × 42 columns</p>\n",
       "</div>"
      ],
      "text/plain": [
       "       contract-number amendment-number  award-date expiry-date  \\\n",
       "0  F2599-090025/001/MD              000  2009-06-16  2009-10-20   \n",
       "1  F2599-090025/001/MD              001  2009-07-15  2009-10-20   \n",
       "2  F2599-090025/001/MD              002  2009-07-20  2009-10-20   \n",
       "3  E60LP-090002/392/LP              000  2010-01-01  2010-12-31   \n",
       "4  E60LP-110001/050/LP              000  2012-01-01  2012-12-31   \n",
       "\n",
       "   contract-value   gsin                          gsin-description_en  \\\n",
       "0         30174.0  N1990                       Vessels, Miscellaneous   \n",
       "1          4876.0  N1990                       Vessels, Miscellaneous   \n",
       "2         26914.0  N1990                       Vessels, Miscellaneous   \n",
       "3         25000.0  V502B  Hotels, Motels and Commercial Accommodation   \n",
       "4         25000.0  V502B  Hotels, Motels and Commercial Accommodation   \n",
       "\n",
       "                       gsin-description_fr competitive-tender_en  \\\n",
       "0                           Bateaux divers                   Yes   \n",
       "1                           Bateaux divers                   Yes   \n",
       "2                           Bateaux divers                   Yes   \n",
       "3  Hôtels, motels et logements commerciaux                   Yes   \n",
       "4  Hôtels, motels et logements commerciaux                   Yes   \n",
       "\n",
       "  competitive-tender_fr  ...  contracting-entity-office-name_en  \\\n",
       "0                   Oui  ...             CCG CENTRAL&ARCTIC RGN   \n",
       "1                   Oui  ...             CCG CENTRAL&ARCTIC RGN   \n",
       "2                   Oui  ...             CCG CENTRAL&ARCTIC RGN   \n",
       "3                   Oui  ...         CONSOLIDATED PROC LP ICPSS   \n",
       "4                   Oui  ...         CONSOLIDATED PROC LP ICPSS   \n",
       "\n",
       "  contracting-entity-office-name_fr contracting-address-street-1  \\\n",
       "0                               N/D           MARINE ENGINEERING   \n",
       "1                               N/D           MARINE ENGINEERING   \n",
       "2                               N/D           MARINE ENGINEERING   \n",
       "3                               N/D              PORTAGE III 7B3   \n",
       "4                               N/D              PORTAGE III 7B3   \n",
       "\n",
       "  contracting-address-street-2 contracting-address-city  \\\n",
       "0               520 EXMOUTH ST                   SARNIA   \n",
       "1               520 EXMOUTH ST                   SARNIA   \n",
       "2               520 EXMOUTH ST                   SARNIA   \n",
       "3                11 LAURIER ST                 GATINEAU   \n",
       "4                11 LAURIER ST                 GATINEAU   \n",
       "\n",
       "  contracting-address-prov-state contracting-address-postal-code  \\\n",
       "0                        Ontario                          N7T8B1   \n",
       "1                        Ontario                          N7T8B1   \n",
       "2                        Ontario                          N7T8B1   \n",
       "3                         Quebec                          K1A0S5   \n",
       "4                         Quebec                          K1A0S5   \n",
       "\n",
       "  contracting-address-country                   procurement-entity-name_en  \\\n",
       "0                      Canada  Public Works and Government Services Canada   \n",
       "1                      Canada  Public Works and Government Services Canada   \n",
       "2                      Canada  Public Works and Government Services Canada   \n",
       "3                      Canada  Public Works and Government Services Canada   \n",
       "4                      Canada  Public Works and Government Services Canada   \n",
       "\n",
       "                          procurement-entity-name_fr  \n",
       "0  Travaux publics et Services gouvernementaux Ca...  \n",
       "1  Travaux publics et Services gouvernementaux Ca...  \n",
       "2  Travaux publics et Services gouvernementaux Ca...  \n",
       "3  Travaux publics et Services gouvernementaux Ca...  \n",
       "4  Travaux publics et Services gouvernementaux Ca...  \n",
       "\n",
       "[5 rows x 42 columns]"
      ]
     },
     "execution_count": 258,
     "metadata": {},
     "output_type": "execute_result"
    }
   ],
   "source": [
    "contractHistory.head()"
   ]
  },
  {
   "cell_type": "code",
   "execution_count": 259,
   "metadata": {},
   "outputs": [
    {
     "name": "stdout",
     "output_type": "stream",
     "text": [
      "<class 'pandas.core.frame.DataFrame'>\n",
      "RangeIndex: 441210 entries, 0 to 441209\n",
      "Data columns (total 42 columns):\n",
      " #   Column                                 Non-Null Count   Dtype  \n",
      "---  ------                                 --------------   -----  \n",
      " 0   contract-number                        441210 non-null  object \n",
      " 1   amendment-number                       441210 non-null  object \n",
      " 2   award-date                             441210 non-null  object \n",
      " 3   expiry-date                            441210 non-null  object \n",
      " 4   contract-value                         441210 non-null  float64\n",
      " 5   gsin                                   441199 non-null  object \n",
      " 6   gsin-description_en                    441199 non-null  object \n",
      " 7   gsin-description_fr                    441210 non-null  object \n",
      " 8   competitive-tender_en                  441210 non-null  object \n",
      " 9   competitive-tender_fr                  441210 non-null  object \n",
      " 10  limited-tender-reason                  94299 non-null   float64\n",
      " 11  limited-tender-reason-description_en   94299 non-null   object \n",
      " 12  limited-tender-reason-description_fr   441210 non-null  object \n",
      " 13  solicitation-procedure                 441210 non-null  object \n",
      " 14  solicitation-procedure-description_en  441210 non-null  object \n",
      " 15  solicitation-procedure-description_fr  441210 non-null  object \n",
      " 16  trade-agreement                        440929 non-null  object \n",
      " 17  trade-agreement-description_en         436587 non-null  object \n",
      " 18  trade-agreement-description_fr         441210 non-null  object \n",
      " 19  supplier-standardized-name             441210 non-null  object \n",
      " 20  supplier-operating-name                438586 non-null  object \n",
      " 21  supplier-legal-name                    439980 non-null  object \n",
      " 22  supplier-address-city                  441091 non-null  object \n",
      " 23  supplier-address-prov-state            430737 non-null  object \n",
      " 24  supplier-address-postal-code           438200 non-null  object \n",
      " 25  supplier-address-country               441210 non-null  object \n",
      " 26  organization-employee-count_en         441208 non-null  object \n",
      " 27  organization-employee-count_fr         441210 non-null  object \n",
      " 28  total-contract-value                   441210 non-null  float64\n",
      " 29  number-records                         441210 non-null  int64  \n",
      " 30  end-user-entity_en                     441210 non-null  object \n",
      " 31  end-user-entity_fr                     441210 non-null  object \n",
      " 32  contracting-entity-office-name_en      431285 non-null  object \n",
      " 33  contracting-entity-office-name_fr      441210 non-null  object \n",
      " 34  contracting-address-street-1           441182 non-null  object \n",
      " 35  contracting-address-street-2           308117 non-null  object \n",
      " 36  contracting-address-city               441182 non-null  object \n",
      " 37  contracting-address-prov-state         440905 non-null  object \n",
      " 38  contracting-address-postal-code        441180 non-null  object \n",
      " 39  contracting-address-country            441182 non-null  object \n",
      " 40  procurement-entity-name_en             441210 non-null  object \n",
      " 41  procurement-entity-name_fr             441210 non-null  object \n",
      "dtypes: float64(3), int64(1), object(38)\n",
      "memory usage: 141.4+ MB\n"
     ]
    }
   ],
   "source": [
    "contractHistory.info()"
   ]
  },
  {
   "cell_type": "markdown",
   "metadata": {},
   "source": [
    "## Attribute Data Description\n",
    "Includes use of describe to obtain the count and unique, and use of value count to identify the top most frequent attributes. This was completed for all categorical attributes that were not considered duplicates on initial analysis. For the sake of brevity, only the describe function is provided below after the first attribute. "
   ]
  },
  {
   "cell_type": "code",
   "execution_count": 260,
   "metadata": {},
   "outputs": [
    {
     "data": {
      "text/html": [
       "<div>\n",
       "<style scoped>\n",
       "    .dataframe tbody tr th:only-of-type {\n",
       "        vertical-align: middle;\n",
       "    }\n",
       "\n",
       "    .dataframe tbody tr th {\n",
       "        vertical-align: top;\n",
       "    }\n",
       "\n",
       "    .dataframe thead th {\n",
       "        text-align: right;\n",
       "    }\n",
       "</style>\n",
       "<table border=\"1\" class=\"dataframe\">\n",
       "  <thead>\n",
       "    <tr style=\"text-align: right;\">\n",
       "      <th></th>\n",
       "      <th>contract-value</th>\n",
       "      <th>limited-tender-reason</th>\n",
       "      <th>total-contract-value</th>\n",
       "      <th>number-records</th>\n",
       "    </tr>\n",
       "  </thead>\n",
       "  <tbody>\n",
       "    <tr>\n",
       "      <th>count</th>\n",
       "      <td>4.412100e+05</td>\n",
       "      <td>94299.000000</td>\n",
       "      <td>4.412100e+05</td>\n",
       "      <td>441210.000000</td>\n",
       "    </tr>\n",
       "    <tr>\n",
       "      <th>mean</th>\n",
       "      <td>4.398310e+05</td>\n",
       "      <td>75.398689</td>\n",
       "      <td>8.457397e+06</td>\n",
       "      <td>8.202300</td>\n",
       "    </tr>\n",
       "    <tr>\n",
       "      <th>std</th>\n",
       "      <td>1.609191e+07</td>\n",
       "      <td>7.860150</td>\n",
       "      <td>1.061860e+08</td>\n",
       "      <td>18.275149</td>\n",
       "    </tr>\n",
       "    <tr>\n",
       "      <th>min</th>\n",
       "      <td>-1.540262e+08</td>\n",
       "      <td>8.000000</td>\n",
       "      <td>-1.985487e+08</td>\n",
       "      <td>1.000000</td>\n",
       "    </tr>\n",
       "    <tr>\n",
       "      <th>25%</th>\n",
       "      <td>0.000000e+00</td>\n",
       "      <td>71.000000</td>\n",
       "      <td>2.096325e+04</td>\n",
       "      <td>1.000000</td>\n",
       "    </tr>\n",
       "    <tr>\n",
       "      <th>50%</th>\n",
       "      <td>8.715000e+03</td>\n",
       "      <td>71.000000</td>\n",
       "      <td>1.268150e+05</td>\n",
       "      <td>3.000000</td>\n",
       "    </tr>\n",
       "    <tr>\n",
       "      <th>75%</th>\n",
       "      <td>6.941075e+04</td>\n",
       "      <td>85.000000</td>\n",
       "      <td>7.749660e+05</td>\n",
       "      <td>6.000000</td>\n",
       "    </tr>\n",
       "    <tr>\n",
       "      <th>max</th>\n",
       "      <td>5.221000e+09</td>\n",
       "      <td>90.000000</td>\n",
       "      <td>5.761974e+09</td>\n",
       "      <td>206.000000</td>\n",
       "    </tr>\n",
       "  </tbody>\n",
       "</table>\n",
       "</div>"
      ],
      "text/plain": [
       "       contract-value  limited-tender-reason  total-contract-value  \\\n",
       "count    4.412100e+05           94299.000000          4.412100e+05   \n",
       "mean     4.398310e+05              75.398689          8.457397e+06   \n",
       "std      1.609191e+07               7.860150          1.061860e+08   \n",
       "min     -1.540262e+08               8.000000         -1.985487e+08   \n",
       "25%      0.000000e+00              71.000000          2.096325e+04   \n",
       "50%      8.715000e+03              71.000000          1.268150e+05   \n",
       "75%      6.941075e+04              85.000000          7.749660e+05   \n",
       "max      5.221000e+09              90.000000          5.761974e+09   \n",
       "\n",
       "       number-records  \n",
       "count   441210.000000  \n",
       "mean         8.202300  \n",
       "std         18.275149  \n",
       "min          1.000000  \n",
       "25%          1.000000  \n",
       "50%          3.000000  \n",
       "75%          6.000000  \n",
       "max        206.000000  "
      ]
     },
     "execution_count": 260,
     "metadata": {},
     "output_type": "execute_result"
    }
   ],
   "source": [
    "contractHistory.describe()"
   ]
  },
  {
   "cell_type": "code",
   "execution_count": 261,
   "metadata": {},
   "outputs": [
    {
     "data": {
      "text/plain": [
       "count                   441210\n",
       "unique                  199675\n",
       "top       E0208-150548/001/PWZ\n",
       "freq                       206\n",
       "Name: contract-number, dtype: object"
      ]
     },
     "execution_count": 261,
     "metadata": {},
     "output_type": "execute_result"
    }
   ],
   "source": [
    "contractHistory['contract-number'].describe()"
   ]
  },
  {
   "cell_type": "code",
   "execution_count": 262,
   "metadata": {},
   "outputs": [
    {
     "data": {
      "text/plain": [
       "E0208-150548/001/PWZ    206\n",
       "EN578-110558/001/XL     162\n",
       "EP008-112560/001/GC     152\n",
       "EP008-112560/004/GC     139\n",
       "EW038-140681/001/PWU    139\n",
       "                       ... \n",
       "W0113-10A128/001/BOR      1\n",
       "5K003-156233/001/WPG      1\n",
       "5K003-148856/001/WPG      1\n",
       "W8482-128975/001/GRK      1\n",
       "U4030-221421/001/HN       1\n",
       "Name: contract-number, Length: 199675, dtype: int64"
      ]
     },
     "execution_count": 262,
     "metadata": {},
     "output_type": "execute_result"
    }
   ],
   "source": [
    "contractHistory['contract-number'].value_counts()"
   ]
  },
  {
   "cell_type": "code",
   "execution_count": 263,
   "metadata": {},
   "outputs": [
    {
     "data": {
      "text/plain": [
       "count     441210\n",
       "unique       237\n",
       "top          000\n",
       "freq      174270\n",
       "Name: amendment-number, dtype: object"
      ]
     },
     "execution_count": 263,
     "metadata": {},
     "output_type": "execute_result"
    }
   ],
   "source": [
    "contractHistory['amendment-number'].describe()"
   ]
  },
  {
   "cell_type": "code",
   "execution_count": 264,
   "metadata": {},
   "outputs": [
    {
     "data": {
      "text/plain": [
       "count         441210\n",
       "unique          4085\n",
       "top       2011-01-01\n",
       "freq            2277\n",
       "Name: award-date, dtype: object"
      ]
     },
     "execution_count": 264,
     "metadata": {},
     "output_type": "execute_result"
    }
   ],
   "source": [
    "contractHistory['award-date'].describe()"
   ]
  },
  {
   "cell_type": "code",
   "execution_count": 265,
   "metadata": {},
   "outputs": [
    {
     "data": {
      "text/plain": [
       "count         441210\n",
       "unique          6859\n",
       "top       2011-03-31\n",
       "freq            9500\n",
       "Name: expiry-date, dtype: object"
      ]
     },
     "execution_count": 265,
     "metadata": {},
     "output_type": "execute_result"
    }
   ],
   "source": [
    "contractHistory['expiry-date'].describe()"
   ]
  },
  {
   "cell_type": "code",
   "execution_count": 266,
   "metadata": {},
   "outputs": [
    {
     "data": {
      "text/plain": [
       "count     441199\n",
       "unique      5203\n",
       "top        N7030\n",
       "freq       26529\n",
       "Name: gsin, dtype: object"
      ]
     },
     "execution_count": 266,
     "metadata": {},
     "output_type": "execute_result"
    }
   ],
   "source": [
    "contractHistory['gsin'].describe()"
   ]
  },
  {
   "cell_type": "code",
   "execution_count": 267,
   "metadata": {},
   "outputs": [
    {
     "data": {
      "text/plain": [
       "count           441199\n",
       "unique            5188\n",
       "top       ADP Software\n",
       "freq             26529\n",
       "Name: gsin-description_en, dtype: object"
      ]
     },
     "execution_count": 267,
     "metadata": {},
     "output_type": "execute_result"
    }
   ],
   "source": [
    "contractHistory['gsin-description_en'].describe()"
   ]
  },
  {
   "cell_type": "code",
   "execution_count": 268,
   "metadata": {},
   "outputs": [
    {
     "data": {
      "text/plain": [
       "count     441210\n",
       "unique         2\n",
       "top          Yes\n",
       "freq      346895\n",
       "Name: competitive-tender_en, dtype: object"
      ]
     },
     "execution_count": 268,
     "metadata": {},
     "output_type": "execute_result"
    }
   ],
   "source": [
    "contractHistory['competitive-tender_en'].describe()"
   ]
  },
  {
   "cell_type": "code",
   "execution_count": 269,
   "metadata": {},
   "outputs": [
    {
     "data": {
      "text/plain": [
       "count                94299\n",
       "unique                  16\n",
       "top       Exclusive Rights\n",
       "freq                 57400\n",
       "Name: limited-tender-reason-description_en, dtype: object"
      ]
     },
     "execution_count": 269,
     "metadata": {},
     "output_type": "execute_result"
    }
   ],
   "source": [
    "contractHistory['limited-tender-reason-description_en'].describe()"
   ]
  },
  {
   "cell_type": "code",
   "execution_count": 270,
   "metadata": {},
   "outputs": [
    {
     "data": {
      "text/plain": [
       "count           441210\n",
       "unique               4\n",
       "top       Open Bidding\n",
       "freq            269648\n",
       "Name: solicitation-procedure-description_en, dtype: object"
      ]
     },
     "execution_count": 270,
     "metadata": {},
     "output_type": "execute_result"
    }
   ],
   "source": [
    "contractHistory['solicitation-procedure-description_en'].describe()"
   ]
  },
  {
   "cell_type": "code",
   "execution_count": 271,
   "metadata": {},
   "outputs": [
    {
     "data": {
      "text/plain": [
       "count     440929\n",
       "unique        35\n",
       "top            I\n",
       "freq      115604\n",
       "Name: trade-agreement, dtype: object"
      ]
     },
     "execution_count": 271,
     "metadata": {},
     "output_type": "execute_result"
    }
   ],
   "source": [
    "contractHistory['trade-agreement'].describe()"
   ]
  },
  {
   "cell_type": "code",
   "execution_count": 272,
   "metadata": {},
   "outputs": [
    {
     "data": {
      "text/plain": [
       "count                                    441210\n",
       "unique                                    36355\n",
       "top       SIMEX DEFENCE INC / DEFENSE SIMEX INC\n",
       "freq                                       4305\n",
       "Name: supplier-standardized-name, dtype: object"
      ]
     },
     "execution_count": 272,
     "metadata": {},
     "output_type": "execute_result"
    }
   ],
   "source": [
    "contractHistory['supplier-standardized-name'].describe()"
   ]
  },
  {
   "cell_type": "code",
   "execution_count": 273,
   "metadata": {},
   "outputs": [
    {
     "data": {
      "text/plain": [
       "count     441091\n",
       "unique      7261\n",
       "top       Ottawa\n",
       "freq       80001\n",
       "Name: supplier-address-city, dtype: object"
      ]
     },
     "execution_count": 273,
     "metadata": {},
     "output_type": "execute_result"
    }
   ],
   "source": [
    "contractHistory['supplier-address-city'].describe()"
   ]
  },
  {
   "cell_type": "code",
   "execution_count": 274,
   "metadata": {},
   "outputs": [
    {
     "data": {
      "text/plain": [
       "count      430737\n",
       "unique         64\n",
       "top       Ontario\n",
       "freq       190079\n",
       "Name: supplier-address-prov-state, dtype: object"
      ]
     },
     "execution_count": 274,
     "metadata": {},
     "output_type": "execute_result"
    }
   ],
   "source": [
    "contractHistory['supplier-address-prov-state'].describe()"
   ]
  },
  {
   "cell_type": "code",
   "execution_count": 275,
   "metadata": {},
   "outputs": [
    {
     "data": {
      "text/plain": [
       "count     441210\n",
       "unique       115\n",
       "top       Canada\n",
       "freq      398099\n",
       "Name: supplier-address-country, dtype: object"
      ]
     },
     "execution_count": 275,
     "metadata": {},
     "output_type": "execute_result"
    }
   ],
   "source": [
    "contractHistory['supplier-address-country'].describe()"
   ]
  },
  {
   "cell_type": "code",
   "execution_count": 276,
   "metadata": {},
   "outputs": [
    {
     "data": {
      "text/plain": [
       "count     438200\n",
       "unique     27226\n",
       "top       H9R1A6\n",
       "freq        4305\n",
       "Name: supplier-address-postal-code, dtype: object"
      ]
     },
     "execution_count": 276,
     "metadata": {},
     "output_type": "execute_result"
    }
   ],
   "source": [
    "contractHistory['supplier-address-postal-code'].describe()"
   ]
  },
  {
   "cell_type": "code",
   "execution_count": 277,
   "metadata": {},
   "outputs": [
    {
     "data": {
      "text/plain": [
       "count                 441208\n",
       "unique                    14\n",
       "top       20 to 49 employees\n",
       "freq                   71520\n",
       "Name: organization-employee-count_en, dtype: object"
      ]
     },
     "execution_count": 277,
     "metadata": {},
     "output_type": "execute_result"
    }
   ],
   "source": [
    "contractHistory['organization-employee-count_en'].describe()"
   ]
  },
  {
   "cell_type": "code",
   "execution_count": 278,
   "metadata": {},
   "outputs": [
    {
     "data": {
      "text/plain": [
       "count                                          441210\n",
       "unique                                            132\n",
       "top       Public Works and Government Services Canada\n",
       "freq                                           182963\n",
       "Name: end-user-entity_en, dtype: object"
      ]
     },
     "execution_count": 278,
     "metadata": {},
     "output_type": "execute_result"
    }
   ],
   "source": [
    "contractHistory['end-user-entity_en'].describe()"
   ]
  },
  {
   "cell_type": "code",
   "execution_count": 279,
   "metadata": {},
   "outputs": [
    {
     "data": {
      "text/plain": [
       "count     431285\n",
       "unique      3422\n",
       "top         NDHQ\n",
       "freq       19931\n",
       "Name: contracting-entity-office-name_en, dtype: object"
      ]
     },
     "execution_count": 279,
     "metadata": {},
     "output_type": "execute_result"
    }
   ],
   "source": [
    "contractHistory['contracting-entity-office-name_en'].describe()"
   ]
  },
  {
   "cell_type": "code",
   "execution_count": 280,
   "metadata": {},
   "outputs": [
    {
     "data": {
      "text/plain": [
       "count                 441182\n",
       "unique                  3140\n",
       "top       101 COLONEL BY DR.\n",
       "freq                   25490\n",
       "Name: contracting-address-street-1, dtype: object"
      ]
     },
     "execution_count": 280,
     "metadata": {},
     "output_type": "execute_result"
    }
   ],
   "source": [
    "contractHistory['contracting-address-street-1'].describe()"
   ]
  },
  {
   "cell_type": "code",
   "execution_count": 281,
   "metadata": {},
   "outputs": [
    {
     "data": {
      "text/plain": [
       "count            308117\n",
       "unique             1561\n",
       "top       11 LAURIER ST\n",
       "freq              82908\n",
       "Name: contracting-address-street-2, dtype: object"
      ]
     },
     "execution_count": 281,
     "metadata": {},
     "output_type": "execute_result"
    }
   ],
   "source": [
    "contractHistory['contracting-address-street-2'].describe()"
   ]
  },
  {
   "cell_type": "code",
   "execution_count": 282,
   "metadata": {},
   "outputs": [
    {
     "data": {
      "text/plain": [
       "count     441182\n",
       "unique       440\n",
       "top       OTTAWA\n",
       "freq      130007\n",
       "Name: contracting-address-city, dtype: object"
      ]
     },
     "execution_count": 282,
     "metadata": {},
     "output_type": "execute_result"
    }
   ],
   "source": [
    "contractHistory['contracting-address-city'].describe()"
   ]
  },
  {
   "cell_type": "code",
   "execution_count": 283,
   "metadata": {},
   "outputs": [
    {
     "data": {
      "text/plain": [
       "count      440905\n",
       "unique         13\n",
       "top       Ontario\n",
       "freq       166823\n",
       "Name: contracting-address-prov-state, dtype: object"
      ]
     },
     "execution_count": 283,
     "metadata": {},
     "output_type": "execute_result"
    }
   ],
   "source": [
    "contractHistory['contracting-address-prov-state'].describe()"
   ]
  },
  {
   "cell_type": "code",
   "execution_count": 284,
   "metadata": {},
   "outputs": [
    {
     "data": {
      "text/plain": [
       "count     441180\n",
       "unique      1196\n",
       "top       K1A0S5\n",
       "freq      100214\n",
       "Name: contracting-address-postal-code, dtype: object"
      ]
     },
     "execution_count": 284,
     "metadata": {},
     "output_type": "execute_result"
    }
   ],
   "source": [
    "contractHistory['contracting-address-postal-code'].describe()"
   ]
  },
  {
   "cell_type": "code",
   "execution_count": 285,
   "metadata": {},
   "outputs": [
    {
     "data": {
      "text/plain": [
       "count     441182\n",
       "unique         4\n",
       "top       Canada\n",
       "freq      440905\n",
       "Name: contracting-address-country, dtype: object"
      ]
     },
     "execution_count": 285,
     "metadata": {},
     "output_type": "execute_result"
    }
   ],
   "source": [
    "contractHistory['contracting-address-country' ].describe()"
   ]
  },
  {
   "cell_type": "code",
   "execution_count": 286,
   "metadata": {},
   "outputs": [
    {
     "data": {
      "text/plain": [
       "count                                          441210\n",
       "unique                                              1\n",
       "top       Public Works and Government Services Canada\n",
       "freq                                           441210\n",
       "Name: procurement-entity-name_en, dtype: object"
      ]
     },
     "execution_count": 286,
     "metadata": {},
     "output_type": "execute_result"
    }
   ],
   "source": [
    "contractHistory['procurement-entity-name_en'].describe()"
   ]
  },
  {
   "cell_type": "markdown",
   "metadata": {},
   "source": [
    "##  Visualizing Categorical Attributes\n",
    "A selection of the categorical attributes have been visualized below for the sake of brevity. The full set were initially reviewed. "
   ]
  },
  {
   "cell_type": "code",
   "execution_count": 287,
   "metadata": {},
   "outputs": [
    {
     "data": {
      "text/plain": [
       "<AxesSubplot:>"
      ]
     },
     "execution_count": 287,
     "metadata": {},
     "output_type": "execute_result"
    },
    {
     "data": {
      "image/png": "[encoded data removed]",
      "text/plain": [
       "<Figure size 432x288 with 1 Axes>"
      ]
     },
     "metadata": {
      "needs_background": "light"
     },
     "output_type": "display_data"
    }
   ],
   "source": [
    "#contractHistory['amendment-number'].value_counts().plot(kind = 'bar')\n",
    "recordNo = contractHistory['number-records'].value_counts()\n",
    "recordNo = recordNo[recordNo > 1000]\n",
    "recordNo.plot(kind = 'bar')"
   ]
  },
  {
   "cell_type": "code",
   "execution_count": 288,
   "metadata": {},
   "outputs": [
    {
     "data": {
      "text/plain": [
       "<AxesSubplot:>"
      ]
     },
     "execution_count": 288,
     "metadata": {},
     "output_type": "execute_result"
    },
    {
     "data": {
      "image/png": "[encoded data removed]",
      "text/plain": [
       "<Figure size 432x288 with 1 Axes>"
      ]
     },
     "metadata": {
      "needs_background": "light"
     },
     "output_type": "display_data"
    }
   ],
   "source": [
    "contractHistory['competitive-tender_en'].value_counts().plot(kind = 'barh')"
   ]
  },
  {
   "cell_type": "code",
   "execution_count": 289,
   "metadata": {},
   "outputs": [
    {
     "data": {
      "text/plain": [
       "<AxesSubplot:>"
      ]
     },
     "execution_count": 289,
     "metadata": {},
     "output_type": "execute_result"
    },
    {
     "data": {
      "image/png": "[encoded data removed]",
      "text/plain": [
       "<Figure size 432x288 with 1 Axes>"
      ]
     },
     "metadata": {
      "needs_background": "light"
     },
     "output_type": "display_data"
    }
   ],
   "source": [
    "contractHistory['solicitation-procedure-description_en'].value_counts().plot(kind = 'barh')"
   ]
  },
  {
   "cell_type": "code",
   "execution_count": 290,
   "metadata": {},
   "outputs": [
    {
     "data": {
      "text/plain": [
       "<AxesSubplot:>"
      ]
     },
     "execution_count": 290,
     "metadata": {},
     "output_type": "execute_result"
    },
    {
     "data": {
      "image/png": "[encoded data removed]",
      "text/plain": [
       "<Figure size 432x288 with 1 Axes>"
      ]
     },
     "metadata": {
      "needs_background": "light"
     },
     "output_type": "display_data"
    }
   ],
   "source": [
    "contractHistory['organization-employee-count_en'].value_counts().plot(kind = 'barh')"
   ]
  },
  {
   "cell_type": "code",
   "execution_count": 291,
   "metadata": {},
   "outputs": [
    {
     "data": {
      "text/plain": [
       "<AxesSubplot:>"
      ]
     },
     "execution_count": 291,
     "metadata": {},
     "output_type": "execute_result"
    },
    {
     "data": {
      "image/png": "[encoded data removed]",
      "text/plain": [
       "<Figure size 432x288 with 1 Axes>"
      ]
     },
     "metadata": {
      "needs_background": "light"
     },
     "output_type": "display_data"
    }
   ],
   "source": [
    "contractHistory['contracting-address-prov-state'].value_counts().plot(kind = 'barh')"
   ]
  },
  {
   "cell_type": "code",
   "execution_count": 292,
   "metadata": {},
   "outputs": [
    {
     "data": {
      "text/plain": [
       "<AxesSubplot:>"
      ]
     },
     "execution_count": 292,
     "metadata": {},
     "output_type": "execute_result"
    },
    {
     "data": {
      "image/png": "[encoded data removed]",
      "text/plain": [
       "<Figure size 432x288 with 1 Axes>"
      ]
     },
     "metadata": {
      "needs_background": "light"
     },
     "output_type": "display_data"
    }
   ],
   "source": [
    "contractHistory['contracting-address-country'].value_counts().plot(kind = 'bar')"
   ]
  },
  {
   "cell_type": "code",
   "execution_count": 293,
   "metadata": {},
   "outputs": [
    {
     "data": {
      "text/plain": [
       "<AxesSubplot:>"
      ]
     },
     "execution_count": 293,
     "metadata": {},
     "output_type": "execute_result"
    },
    {
     "data": {
      "image/png": "[encoded data removed]",
      "text/plain": [
       "<Figure size 432x288 with 1 Axes>"
      ]
     },
     "metadata": {
      "needs_background": "light"
     },
     "output_type": "display_data"
    }
   ],
   "source": [
    "locate = contractHistory['contracting-address-city'].value_counts()\n",
    "locate = locate[locate > 10000]\n",
    "locate.plot(kind = 'barh')"
   ]
  },
  {
   "cell_type": "code",
   "execution_count": 294,
   "metadata": {},
   "outputs": [
    {
     "data": {
      "text/plain": [
       "<AxesSubplot:>"
      ]
     },
     "execution_count": 294,
     "metadata": {},
     "output_type": "execute_result"
    },
    {
     "data": {
      "image/png": "[encoded data removed]",
      "text/plain": [
       "<Figure size 432x288 with 1 Axes>"
      ]
     },
     "metadata": {
      "needs_background": "light"
     },
     "output_type": "display_data"
    }
   ],
   "source": [
    "recordNo = contractHistory['supplier-standardized-name'].value_counts()\n",
    "recordNo = recordNo[recordNo > 1000]\n",
    "recordNo.plot(kind = 'barh')\n"
   ]
  },
  {
   "cell_type": "markdown",
   "metadata": {},
   "source": [
    "## Visualizing Numerical Attributes"
   ]
  },
  {
   "cell_type": "code",
   "execution_count": 295,
   "metadata": {},
   "outputs": [
    {
     "name": "stdout",
     "output_type": "stream",
     "text": [
      "        unique_values  counts\n",
      "117559  -1.540262e+08       1\n",
      "127586  -1.096930e+08       1\n",
      "116720  -1.088050e+08       1\n",
      "117581  -9.952789e+07       1\n",
      "129207  -9.318418e+07       1\n",
      "...               ...     ...\n",
      "52144    2.610431e+09       1\n",
      "48518    2.747983e+09       1\n",
      "66517    2.953723e+09       1\n",
      "94544    4.572961e+09       1\n",
      "108677   5.221000e+09       1\n",
      "\n",
      "[130637 rows x 2 columns]\n"
     ]
    }
   ],
   "source": [
    "contractValue = contractHistory['contract-value'].value_counts().rename_axis('unique_values').reset_index(name='counts')\n",
    "contractValue = pd.DataFrame(contractValue)\n",
    "contractValue = contractValue.sort_values(by='unique_values')\n",
    "print(contractValue)"
   ]
  },
  {
   "cell_type": "code",
   "execution_count": 296,
   "metadata": {},
   "outputs": [
    {
     "data": {
      "text/plain": [
       "[<matplotlib.lines.Line2D at 0x1c290876970>]"
      ]
     },
     "execution_count": 296,
     "metadata": {},
     "output_type": "execute_result"
    },
    {
     "data": {
      "image/png": "[encoded data removed]",
      "text/plain": [
       "<Figure size 432x288 with 1 Axes>"
      ]
     },
     "metadata": {
      "needs_background": "light"
     },
     "output_type": "display_data"
    }
   ],
   "source": [
    "plt.plot(contractValue['unique_values'],contractValue['counts'])"
   ]
  },
  {
   "cell_type": "code",
   "execution_count": 297,
   "metadata": {},
   "outputs": [
    {
     "data": {
      "text/plain": [
       "{'whiskers': [<matplotlib.lines.Line2D at 0x1c290a4d310>,\n",
       "  <matplotlib.lines.Line2D at 0x1c290a4d6a0>],\n",
       " 'caps': [<matplotlib.lines.Line2D at 0x1c290a4da30>,\n",
       "  <matplotlib.lines.Line2D at 0x1c290a4dd60>],\n",
       " 'boxes': [<matplotlib.lines.Line2D at 0x1c290a75f40>],\n",
       " 'medians': [<matplotlib.lines.Line2D at 0x1c290a8d130>],\n",
       " 'fliers': [<matplotlib.lines.Line2D at 0x1c290a8d4c0>],\n",
       " 'means': []}"
      ]
     },
     "execution_count": 297,
     "metadata": {},
     "output_type": "execute_result"
    },
    {
     "data": {
      "image/png": "[encoded data removed]",
      "text/plain": [
       "<Figure size 432x288 with 1 Axes>"
      ]
     },
     "metadata": {
      "needs_background": "light"
     },
     "output_type": "display_data"
    }
   ],
   "source": [
    "plt.boxplot(contractValue['unique_values'])"
   ]
  },
  {
   "cell_type": "code",
   "execution_count": 298,
   "metadata": {},
   "outputs": [
    {
     "name": "stdout",
     "output_type": "stream",
     "text": [
      "       unique_values  counts\n",
      "52233  -1.985487e+08       2\n",
      "28062  -7.832411e+07       4\n",
      "4957   -1.858009e+07       9\n",
      "17839  -1.225113e+07       5\n",
      "50605  -1.127514e+07       2\n",
      "...              ...     ...\n",
      "24138   2.900107e+09       4\n",
      "73852   2.953723e+09       1\n",
      "17389   5.007369e+09       5\n",
      "448     5.723000e+09      51\n",
      "4492    5.761974e+09      10\n",
      "\n",
      "[98290 rows x 2 columns]\n"
     ]
    }
   ],
   "source": [
    "totalValue = contractHistory['total-contract-value'].value_counts().rename_axis('unique_values').reset_index(name='counts')\n",
    "totalValue = pd.DataFrame(totalValue)\n",
    "totalValue = totalValue.sort_values(by='unique_values')\n",
    "print(totalValue)"
   ]
  },
  {
   "cell_type": "code",
   "execution_count": 299,
   "metadata": {},
   "outputs": [
    {
     "data": {
      "text/plain": [
       "[<matplotlib.lines.Line2D at 0x1c290ad9610>]"
      ]
     },
     "execution_count": 299,
     "metadata": {},
     "output_type": "execute_result"
    },
    {
     "data": {
      "image/png": "[encoded data removed]",
      "text/plain": [
       "<Figure size 432x288 with 1 Axes>"
      ]
     },
     "metadata": {
      "needs_background": "light"
     },
     "output_type": "display_data"
    }
   ],
   "source": [
    "plt.plot(totalValue['unique_values'],totalValue['counts'])"
   ]
  },
  {
   "cell_type": "code",
   "execution_count": 300,
   "metadata": {},
   "outputs": [
    {
     "data": {
      "text/plain": [
       "{'whiskers': [<matplotlib.lines.Line2D at 0x1c290b3c5b0>,\n",
       "  <matplotlib.lines.Line2D at 0x1c290b3c940>],\n",
       " 'caps': [<matplotlib.lines.Line2D at 0x1c290b3ccd0>,\n",
       "  <matplotlib.lines.Line2D at 0x1c290b460a0>],\n",
       " 'boxes': [<matplotlib.lines.Line2D at 0x1c290b3c220>],\n",
       " 'medians': [<matplotlib.lines.Line2D at 0x1c290b46430>],\n",
       " 'fliers': [<matplotlib.lines.Line2D at 0x1c290b467c0>],\n",
       " 'means': []}"
      ]
     },
     "execution_count": 300,
     "metadata": {},
     "output_type": "execute_result"
    },
    {
     "data": {
      "image/png": "[encoded data removed]",
      "text/plain": [
       "<Figure size 432x288 with 1 Axes>"
      ]
     },
     "metadata": {
      "needs_background": "light"
     },
     "output_type": "display_data"
    }
   ],
   "source": [
    "plt.boxplot(totalValue['unique_values'])"
   ]
  },
  {
   "cell_type": "code",
   "execution_count": 301,
   "metadata": {},
   "outputs": [
    {
     "name": "stdout",
     "output_type": "stream",
     "text": [
      "     unique_values  counts\n",
      "0                1  113737\n",
      "1                2   73210\n",
      "2                3   54274\n",
      "3                4   39550\n",
      "4                5   27916\n",
      "..             ...     ...\n",
      "115            149       3\n",
      "124            151       2\n",
      "125            152       1\n",
      "66             162     162\n",
      "60             206     206\n",
      "\n",
      "[130 rows x 2 columns]\n"
     ]
    }
   ],
   "source": [
    "noRecord = contractHistory['number-records'].value_counts().rename_axis('unique_values').reset_index(name='counts')\n",
    "noRecord = pd.DataFrame(noRecord)\n",
    "noRecord = noRecord.sort_values(by='unique_values')\n",
    "print(noRecord)"
   ]
  },
  {
   "cell_type": "code",
   "execution_count": 302,
   "metadata": {},
   "outputs": [
    {
     "data": {
      "text/plain": [
       "[<matplotlib.lines.Line2D at 0x1c290b91fd0>]"
      ]
     },
     "execution_count": 302,
     "metadata": {},
     "output_type": "execute_result"
    },
    {
     "data": {
      "image/png": "[encoded data removed]",
      "text/plain": [
       "<Figure size 432x288 with 1 Axes>"
      ]
     },
     "metadata": {
      "needs_background": "light"
     },
     "output_type": "display_data"
    }
   ],
   "source": [
    "plt.plot(noRecord['unique_values'],noRecord['counts'])"
   ]
  },
  {
   "cell_type": "code",
   "execution_count": 303,
   "metadata": {},
   "outputs": [
    {
     "data": {
      "text/plain": [
       "{'whiskers': [<matplotlib.lines.Line2D at 0x1c290bf84c0>,\n",
       "  <matplotlib.lines.Line2D at 0x1c290bf87f0>],\n",
       " 'caps': [<matplotlib.lines.Line2D at 0x1c290bf8ac0>,\n",
       "  <matplotlib.lines.Line2D at 0x1c290bf8e50>],\n",
       " 'boxes': [<matplotlib.lines.Line2D at 0x1c290bf8130>],\n",
       " 'medians': [<matplotlib.lines.Line2D at 0x1c290c03220>],\n",
       " 'fliers': [<matplotlib.lines.Line2D at 0x1c290c035b0>],\n",
       " 'means': []}"
      ]
     },
     "execution_count": 303,
     "metadata": {},
     "output_type": "execute_result"
    },
    {
     "data": {
      "image/png": "[encoded data removed]",
      "text/plain": [
       "<Figure size 432x288 with 1 Axes>"
      ]
     },
     "metadata": {
      "needs_background": "light"
     },
     "output_type": "display_data"
    }
   ],
   "source": [
    "plt.boxplot(noRecord['unique_values'])"
   ]
  },
  {
   "cell_type": "code",
   "execution_count": 304,
   "metadata": {},
   "outputs": [
    {
     "data": {
      "text/plain": [
       "<matplotlib.collections.PathCollection at 0x1c290aa2eb0>"
      ]
     },
     "execution_count": 304,
     "metadata": {},
     "output_type": "execute_result"
    },
    {
     "data": {
      "image/png": "[encoded data removed]",
      "text/plain": [
       "<Figure size 432x288 with 1 Axes>"
      ]
     },
     "metadata": {
      "needs_background": "light"
     },
     "output_type": "display_data"
    }
   ],
   "source": [
    "plt.scatter(contractHistory['total-contract-value'],contractHistory['number-records'])"
   ]
  },
  {
   "cell_type": "markdown",
   "metadata": {},
   "source": [
    "## Correlation Analysis"
   ]
  },
  {
   "cell_type": "code",
   "execution_count": 305,
   "metadata": {},
   "outputs": [
    {
     "data": {
      "image/png": "[encoded data removed]",
      "text/plain": [
       "<Figure size 432x288 with 2 Axes>"
      ]
     },
     "metadata": {
      "needs_background": "light"
     },
     "output_type": "display_data"
    }
   ],
   "source": [
    "corrMatrix = contractHistory.corr()\n",
    "sn.heatmap(corrMatrix, annot=True)\n",
    "plt.show()"
   ]
  },
  {
   "cell_type": "markdown",
   "metadata": {},
   "source": [
    "## Removing Attributes\n",
    "Duplicate attributes were removed, barring GSIN and trade agreements, since this information might help with later analysis.\n",
    "Procurement entity information was removed since it showed one value."
   ]
  },
  {
   "cell_type": "code",
   "execution_count": 306,
   "metadata": {},
   "outputs": [],
   "source": [
    "editCH = contractHistory.drop(['gsin-description_fr','competitive-tender_fr','limited-tender-reason','limited-tender-reason-description_fr','solicitation-procedure','solicitation-procedure-description_fr','trade-agreement-description_en','trade-agreement-description_fr','supplier-operating-name','supplier-legal-name','organization-employee-count_fr','end-user-entity_fr','contracting-entity-office-name_fr','procurement-entity-name_en',\n",
    "       'procurement-entity-name_fr'], axis = 1)"
   ]
  },
  {
   "cell_type": "markdown",
   "metadata": {},
   "source": [
    "## Testing for Impact of Duplicate Contract Number Instances\n",
    "Reviewing to determine whether duplicate contact numbers result in duplicate information elsewhere."
   ]
  },
  {
   "cell_type": "code",
   "execution_count": 307,
   "metadata": {},
   "outputs": [],
   "source": [
    "editCH.insert(27, 'contract-number supplier test',editCH['contract-number'] + editCH['supplier-standardized-name'])"
   ]
  },
  {
   "cell_type": "code",
   "execution_count": 308,
   "metadata": {},
   "outputs": [
    {
     "data": {
      "text/plain": [
       "E0208-150548/001/PWZWRIGHT CONSTRUCTION                                                                                   206\n",
       "EN578-110558/001/XLWOLTERS KLUWER LTD / WOLTERS KLUWER LIMITEE                                                            162\n",
       "EP008-112560/001/GCBROOKFIELD GLOBAL INTEGRATED SOLUTIONS CANADA LP/BROOKFIELD SOLUTIONS GLOBALES INTEGREES CANADA SEC    152\n",
       "EW038-140681/001/PWUTRI CITY CANADA INC                                                                                   139\n",
       "EP008-112560/004/GCBROOKFIELD GLOBAL INTEGRATED SOLUTIONS CANADA LP/BROOKFIELD SOLUTIONS GLOBALES INTEGREES CANADA SEC    139\n",
       "                                                                                                                         ... \n",
       "W8160-140026/001/PICEDROM-SNI INC                                                                                           1\n",
       "08324-140303/001/EJONX ENTERPRISE SOLUTIONS LTD                                                                             1\n",
       "W8486-096164/005/HSB S F (BUSINESS SOLUTIONS FASTENERS) INTERNATIONAL INC                                                   1\n",
       "E60LP-100002/088/LPSHERATON VANCOUVER GUILDFORD                                                                             1\n",
       "U4030-221421/001/HNSPEAG SCHMID & PARTNER ENGINEERING AG                                                                    1\n",
       "Name: contract-number supplier test, Length: 200644, dtype: int64"
      ]
     },
     "execution_count": 308,
     "metadata": {},
     "output_type": "execute_result"
    }
   ],
   "source": [
    "editCH['contract-number supplier test'].value_counts()"
   ]
  },
  {
   "cell_type": "code",
   "execution_count": 309,
   "metadata": {},
   "outputs": [
    {
     "data": {
      "text/plain": [
       "count                   441210\n",
       "unique                  199675\n",
       "top       E0208-150548/001/PWZ\n",
       "freq                       206\n",
       "Name: contract-number, dtype: object"
      ]
     },
     "execution_count": 309,
     "metadata": {},
     "output_type": "execute_result"
    }
   ],
   "source": [
    "editCH['contract-number'].describe()"
   ]
  },
  {
   "cell_type": "code",
   "execution_count": 310,
   "metadata": {},
   "outputs": [
    {
     "data": {
      "text/plain": [
       "count                                      441210\n",
       "unique                                     200644\n",
       "top       E0208-150548/001/PWZWRIGHT CONSTRUCTION\n",
       "freq                                          206\n",
       "Name: contract-number supplier test, dtype: object"
      ]
     },
     "execution_count": 310,
     "metadata": {},
     "output_type": "execute_result"
    }
   ],
   "source": [
    "editCH['contract-number supplier test'].describe()"
   ]
  },
  {
   "cell_type": "markdown",
   "metadata": {},
   "source": [
    "## Removing Duplicate Contract Number Instances\n",
    "Since the test above indicates that there are only 969 unique instances where the supplier changes within the same contract number, representing only 0.485% of the contract numbers. The duplicate instances of contract numbers to reflect amendments were removed, as well as the contract value and amendment number, which are better reflected by the total contrat value and number of records attributes. The remaining instances reflect the first award dates of the contract numbers to capture the initial win of the contract. "
   ]
  },
  {
   "cell_type": "code",
   "execution_count": 311,
   "metadata": {},
   "outputs": [
    {
     "data": {
      "text/plain": [
       "(199675, 29)"
      ]
     },
     "execution_count": 311,
     "metadata": {},
     "output_type": "execute_result"
    }
   ],
   "source": [
    "editCH.sort_values(['contract-number','award-date'], ascending=True, inplace=True)\n",
    "editCH.insert(28, 'duplicate contract check', editCH.duplicated(subset='contract-number'))\n",
    "editCH = editCH[editCH['duplicate contract check'] != True]\n",
    "editCH.shape"
   ]
  },
  {
   "cell_type": "code",
   "execution_count": 312,
   "metadata": {},
   "outputs": [
    {
     "data": {
      "text/plain": [
       "(199675, 25)"
      ]
     },
     "execution_count": 312,
     "metadata": {},
     "output_type": "execute_result"
    }
   ],
   "source": [
    "editCH = editCH.drop(['amendment-number', 'contract-value', 'duplicate contract check', 'contract-number supplier test'], axis = 1)\n",
    "editCH.shape"
   ]
  },
  {
   "cell_type": "markdown",
   "metadata": {},
   "source": [
    "## Creating a Parent GSIN Category\n",
    "Given the high volume of unique GSIN codes, and the ability to categorize the code within a parent company by the first letter, a GSIN category attribute has been created."
   ]
  },
  {
   "cell_type": "code",
   "execution_count": 313,
   "metadata": {},
   "outputs": [
    {
     "data": {
      "text/plain": [
       "<AxesSubplot:>"
      ]
     },
     "execution_count": 313,
     "metadata": {},
     "output_type": "execute_result"
    },
    {
     "data": {
      "image/png": "[encoded data removed]",
      "text/plain": [
       "<Figure size 432x288 with 1 Axes>"
      ]
     },
     "metadata": {
      "needs_background": "light"
     },
     "output_type": "display_data"
    }
   ],
   "source": [
    "editCH.insert(5, 'gsin-category', editCH['gsin'].str[:1])\n",
    "editCH['gsin-category'].value_counts().plot(kind = 'bar')"
   ]
  },
  {
   "cell_type": "markdown",
   "metadata": {},
   "source": [
    "## Removing Limited Tender Reason\n",
    "\n",
    "The information in the editCH dataset is generally filled in. However, a category with a significant amount (72.5%) missing values is the the limited tender reason column, which is a near exact match to the number of non-competitive tenders. Given the sparce data in this column, it has been removed from the dataset."
   ]
  },
  {
   "cell_type": "code",
   "execution_count": 314,
   "metadata": {},
   "outputs": [
    {
     "data": {
      "text/plain": [
       "count                   199675\n",
       "unique                  199675\n",
       "top       01005-010324/009/WPG\n",
       "freq                         1\n",
       "Name: contract-number, dtype: object"
      ]
     },
     "execution_count": 314,
     "metadata": {},
     "output_type": "execute_result"
    }
   ],
   "source": [
    "editCH['contract-number'].describe()"
   ]
  },
  {
   "cell_type": "code",
   "execution_count": 315,
   "metadata": {},
   "outputs": [
    {
     "data": {
      "text/plain": [
       "count                54900\n",
       "unique                  16\n",
       "top       Exclusive Rights\n",
       "freq                 30599\n",
       "Name: limited-tender-reason-description_en, dtype: object"
      ]
     },
     "execution_count": 315,
     "metadata": {},
     "output_type": "execute_result"
    }
   ],
   "source": [
    "editCH['limited-tender-reason-description_en'].describe()"
   ]
  },
  {
   "cell_type": "code",
   "execution_count": 316,
   "metadata": {},
   "outputs": [
    {
     "data": {
      "text/plain": [
       "72.50532114686365"
      ]
     },
     "execution_count": 316,
     "metadata": {},
     "output_type": "execute_result"
    }
   ],
   "source": [
    "(199675-54900)/199675*100"
   ]
  },
  {
   "cell_type": "code",
   "execution_count": 317,
   "metadata": {},
   "outputs": [
    {
     "data": {
      "text/plain": [
       "Yes    144768\n",
       "No      54907\n",
       "Name: competitive-tender_en, dtype: int64"
      ]
     },
     "execution_count": 317,
     "metadata": {},
     "output_type": "execute_result"
    }
   ],
   "source": [
    "editCH['competitive-tender_en'].value_counts()"
   ]
  },
  {
   "cell_type": "code",
   "execution_count": 318,
   "metadata": {},
   "outputs": [],
   "source": [
    "editCH = editCH.drop(['limited-tender-reason-description_en'], axis = 1)"
   ]
  },
  {
   "cell_type": "markdown",
   "metadata": {},
   "source": [
    "## Managing Missing Categorical Values\n",
    "\n",
    "The the following items have lower volumes of missing data: trade agreement (0.47%), supplier details such as city (0.23%), province/state (3.15%), postal code (0.96%), organization employee count (0.0005%), and contracting entity office name (2.66%) and details such as address street 1 (0.0015%), address street 2 (26.98%), province/state (0.075%), postal code (0.002%), and country (0.0015%). Since the freqnency of missing information is limited in all attributes except for address street 2, the rows containing missing data were removed. The attribute for address street 2 was due to high missing volume. However, province/state missing items were not removed since the missing cells reflect suppliers from other countries.\n"
   ]
  },
  {
   "cell_type": "code",
   "execution_count": 319,
   "metadata": {},
   "outputs": [
    {
     "data": {
      "text/plain": [
       "count                                          199675\n",
       "unique                                           5164\n",
       "top       Hotels, Motels and Commercial Accommodation\n",
       "freq                                            16657\n",
       "Name: gsin-description_en, dtype: object"
      ]
     },
     "execution_count": 319,
     "metadata": {},
     "output_type": "execute_result"
    }
   ],
   "source": [
    "#this cell was repeated for all attributes with missing values to assess impact\n",
    "editCH['gsin-description_en'].describe()"
   ]
  },
  {
   "cell_type": "code",
   "execution_count": 320,
   "metadata": {},
   "outputs": [
    {
     "data": {
      "text/plain": [
       "count                   199675\n",
       "unique                  199675\n",
       "top       01005-010324/009/WPG\n",
       "freq                         1\n",
       "Name: contract-number, dtype: object"
      ]
     },
     "execution_count": 320,
     "metadata": {},
     "output_type": "execute_result"
    }
   ],
   "source": [
    "editCH['contract-number'].describe()"
   ]
  },
  {
   "cell_type": "code",
   "execution_count": 321,
   "metadata": {},
   "outputs": [
    {
     "data": {
      "text/plain": [
       "0.0015024414673844998"
      ]
     },
     "execution_count": 321,
     "metadata": {},
     "output_type": "execute_result"
    }
   ],
   "source": [
    "#this cell was repeated for all attributes with missing values to assess impact\n",
    "(199675-199672)/199675*100"
   ]
  },
  {
   "cell_type": "code",
   "execution_count": 322,
   "metadata": {},
   "outputs": [],
   "source": [
    "editCH = editCH.drop(['contracting-address-street-2'], axis = 1)"
   ]
  },
  {
   "cell_type": "code",
   "execution_count": 323,
   "metadata": {},
   "outputs": [],
   "source": [
    "#editCH.dropna(subset = ['gsin-description_en', 'end-user-entity-top', 'trade-agreement', 'supplier-address-city', 'supplier-address-postal-code', 'organization-employee-count_en', 'contracting-entity-office-name_en', 'contracting-address-street-1', 'contracting-address-prov-state', 'contracting-address-postal-code', 'contracting-address-country'], axis = 0, inplace = True)"
   ]
  },
  {
   "cell_type": "code",
   "execution_count": 324,
   "metadata": {},
   "outputs": [
    {
     "data": {
      "text/plain": [
       "Index(['contract-number', 'award-date', 'expiry-date', 'gsin',\n",
       "       'gsin-description_en', 'gsin-category', 'competitive-tender_en',\n",
       "       'solicitation-procedure-description_en', 'trade-agreement',\n",
       "       'supplier-standardized-name', 'supplier-address-city',\n",
       "       'supplier-address-prov-state', 'supplier-address-postal-code',\n",
       "       'supplier-address-country', 'organization-employee-count_en',\n",
       "       'total-contract-value', 'number-records', 'end-user-entity_en',\n",
       "       'contracting-entity-office-name_en', 'contracting-address-street-1',\n",
       "       'contracting-address-city', 'contracting-address-prov-state',\n",
       "       'contracting-address-postal-code', 'contracting-address-country'],\n",
       "      dtype='object')"
      ]
     },
     "execution_count": 324,
     "metadata": {},
     "output_type": "execute_result"
    }
   ],
   "source": [
    "editCH.columns"
   ]
  },
  {
   "cell_type": "code",
   "execution_count": 325,
   "metadata": {},
   "outputs": [],
   "source": [
    "editCH.dropna(subset = ['contract-number', 'award-date', 'expiry-date', 'gsin', 'gsin-description_en', 'gsin-category', 'competitive-tender_en', 'solicitation-procedure-description_en', 'trade-agreement', 'total-contract-value', 'end-user-entity_en', 'contracting-entity-office-name_en', 'contracting-address-city', 'contracting-address-prov-state', 'contracting-address-postal-code', 'contracting-address-country'], axis = 0, inplace = True)"
   ]
  },
  {
   "cell_type": "code",
   "execution_count": 326,
   "metadata": {},
   "outputs": [
    {
     "data": {
      "text/plain": [
       "(194135, 24)"
      ]
     },
     "execution_count": 326,
     "metadata": {},
     "output_type": "execute_result"
    }
   ],
   "source": [
    "editCH.shape"
   ]
  },
  {
   "cell_type": "markdown",
   "metadata": {},
   "source": [
    "## Creating Time Series for Award Date Attribute\n",
    "The expiry date was removed after review of the data."
   ]
  },
  {
   "cell_type": "code",
   "execution_count": 327,
   "metadata": {},
   "outputs": [],
   "source": [
    "editCH['award year']=[d.split('-')[0] for d in editCH['award-date']]\n",
    "editCH['award month']=[d.split('-')[1] for d in editCH['award-date']]\n",
    "editCH['award day']=[d.split('-')[2] for d in editCH['award-date']]"
   ]
  },
  {
   "cell_type": "code",
   "execution_count": 328,
   "metadata": {},
   "outputs": [],
   "source": [
    "editCH['award year'] = pd.to_numeric(editCH['award year'])"
   ]
  },
  {
   "cell_type": "code",
   "execution_count": 329,
   "metadata": {},
   "outputs": [],
   "source": [
    "awardYear = (editCH['award year'] - editCH['award year'].min()) / (editCH['award year'].max()-editCH['award year'].min())\n",
    "editCH.insert(25, 'award-year-normalized',awardYear)"
   ]
  },
  {
   "cell_type": "code",
   "execution_count": 330,
   "metadata": {},
   "outputs": [],
   "source": [
    "editCH.insert(24, 'days-since-first-award', 'None')"
   ]
  },
  {
   "cell_type": "code",
   "execution_count": 331,
   "metadata": {},
   "outputs": [
    {
     "data": {
      "text/plain": [
       "22402       89\n",
       "22486      127\n",
       "22488      259\n",
       "279171      63\n",
       "204467     243\n",
       "          ... \n",
       "47968     1121\n",
       "91429     1145\n",
       "74499     1134\n",
       "285173    1175\n",
       "167242     152\n",
       "Name: days-since-first-award, Length: 194135, dtype: int64"
      ]
     },
     "execution_count": 331,
     "metadata": {},
     "output_type": "execute_result"
    }
   ],
   "source": [
    "from datetime import datetime\n",
    "\n",
    "editCH['award-date'] = editCH['award-date'].apply(pd.to_datetime)\n",
    "editCH['days-since-first-award'] = (editCH['award-date'] - editCH['award-date'].min()).dt.days\n",
    "editCH['days-since-first-award']"
   ]
  },
  {
   "cell_type": "code",
   "execution_count": 332,
   "metadata": {},
   "outputs": [],
   "source": [
    "normalizedAwardDays = (editCH['days-since-first-award'] - editCH['days-since-first-award'].min()) / (editCH['days-since-first-award'].max()-editCH['days-since-first-award'].min())\n",
    "editCH.insert(25, 'days-since-first-award-normalized',normalizedAwardDays)"
   ]
  },
  {
   "cell_type": "markdown",
   "metadata": {},
   "source": [
    "## Numeric Attributes\n",
    "### Total Contract Value\n",
    "This data has a right skew, with negative values, a significant spike in values at 0 and 25000, and a long right tail with outliers."
   ]
  },
  {
   "cell_type": "code",
   "execution_count": 333,
   "metadata": {},
   "outputs": [
    {
     "data": {
      "text/plain": [
       "0.0          18461\n",
       "25000.0      10848\n",
       "1.0            982\n",
       "100000.0       758\n",
       "26250.0        697\n",
       "             ...  \n",
       "3170196.0        1\n",
       "615523.0         1\n",
       "4769883.0        1\n",
       "176914.0         1\n",
       "3999.0           1\n",
       "Name: total-contract-value, Length: 96040, dtype: int64"
      ]
     },
     "execution_count": 333,
     "metadata": {},
     "output_type": "execute_result"
    }
   ],
   "source": [
    "editCH['total-contract-value'].value_counts()"
   ]
  },
  {
   "cell_type": "code",
   "execution_count": 334,
   "metadata": {},
   "outputs": [
    {
     "name": "stdout",
     "output_type": "stream",
     "text": [
      "       unique_values  counts\n",
      "46269  -1.985487e+08       1\n",
      "46747  -7.832411e+07       1\n",
      "46157  -1.858009e+07       1\n",
      "54057  -1.225113e+07       1\n",
      "46247  -1.127514e+07       1\n",
      "...              ...     ...\n",
      "92349   2.858077e+09       1\n",
      "44287   2.900107e+09       1\n",
      "93468   2.953723e+09       1\n",
      "91786   5.723000e+09       1\n",
      "45844   5.761974e+09       1\n",
      "\n",
      "[96040 rows x 2 columns]\n"
     ]
    }
   ],
   "source": [
    "totalContractValue = editCH['total-contract-value'].value_counts().rename_axis('unique_values').reset_index(name='counts')\n",
    "totalContractValue = pd.DataFrame(totalContractValue)\n",
    "totalContractValue = totalContractValue.sort_values(by = 'unique_values')\n",
    "print(totalContractValue)"
   ]
  },
  {
   "cell_type": "code",
   "execution_count": 335,
   "metadata": {},
   "outputs": [
    {
     "data": {
      "text/plain": [
       "[<matplotlib.lines.Line2D at 0x1c29158cd30>]"
      ]
     },
     "execution_count": 335,
     "metadata": {},
     "output_type": "execute_result"
    },
    {
     "data": {
      "image/png": "[encoded data removed]",
      "text/plain": [
       "<Figure size 432x288 with 1 Axes>"
      ]
     },
     "metadata": {
      "needs_background": "light"
     },
     "output_type": "display_data"
    }
   ],
   "source": [
    "plt.plot(totalContractValue['unique_values'],totalContractValue['counts'])"
   ]
  },
  {
   "cell_type": "code",
   "execution_count": 336,
   "metadata": {},
   "outputs": [
    {
     "data": {
      "text/plain": [
       "{'whiskers': [<matplotlib.lines.Line2D at 0x1c2919b6790>,\n",
       "  <matplotlib.lines.Line2D at 0x1c2919b6b20>],\n",
       " 'caps': [<matplotlib.lines.Line2D at 0x1c2919b6eb0>,\n",
       "  <matplotlib.lines.Line2D at 0x1c29d33f280>],\n",
       " 'boxes': [<matplotlib.lines.Line2D at 0x1c2919b6400>],\n",
       " 'medians': [<matplotlib.lines.Line2D at 0x1c29d33f610>],\n",
       " 'fliers': [<matplotlib.lines.Line2D at 0x1c29d33f9a0>],\n",
       " 'means': []}"
      ]
     },
     "execution_count": 336,
     "metadata": {},
     "output_type": "execute_result"
    },
    {
     "data": {
      "image/png": "[encoded data removed]",
      "text/plain": [
       "<Figure size 432x288 with 1 Axes>"
      ]
     },
     "metadata": {
      "needs_background": "light"
     },
     "output_type": "display_data"
    }
   ],
   "source": [
    "plt.boxplot(totalContractValue['unique_values'])"
   ]
  },
  {
   "cell_type": "code",
   "execution_count": 337,
   "metadata": {},
   "outputs": [
    {
     "data": {
      "text/plain": [
       "[<matplotlib.lines.Line2D at 0x1c2929f47f0>]"
      ]
     },
     "execution_count": 337,
     "metadata": {},
     "output_type": "execute_result"
    },
    {
     "data": {
      "image/png": "[encoded data removed]",
      "text/plain": [
       "<Figure size 432x288 with 1 Axes>"
      ]
     },
     "metadata": {
      "needs_background": "light"
     },
     "output_type": "display_data"
    }
   ],
   "source": [
    "test = totalContractValue[['unique_values', 'counts']]\n",
    "test = test[test['unique_values'] > 1]\n",
    "test = test[test['unique_values'] != 25000]\n",
    "plt.plot(np.log(test['unique_values']),test['counts'])"
   ]
  },
  {
   "cell_type": "code",
   "execution_count": 338,
   "metadata": {},
   "outputs": [
    {
     "data": {
      "text/plain": [
       "(array([ 1.,  0.,  0.,  0.,  0.,  0.,  0.,  0.,  0.,  0.,  0.,  0.,  0.,\n",
       "         0.,  0.,  0.,  0.,  0.,  0.,  0.,  0.,  0.,  0.,  0.,  0.,  0.,\n",
       "         0.,  0.,  0.,  0.,  0.,  0.,  0.,  0.,  1.,  0.,  0.,  0.,  0.,\n",
       "         1.,  0.,  0.,  0.,  0.,  0.,  0.,  0.,  0.,  0.,  0.,  0.,  0.,\n",
       "         0.,  0.,  0.,  0.,  0.,  1.,  0.,  0.,  0.,  0.,  0.,  0.,  0.,\n",
       "         0.,  0.,  0.,  0.,  0.,  0.,  0.,  0.,  0.,  0.,  0.,  0.,  0.,\n",
       "         0.,  0.,  0.,  0.,  0.,  0.,  0.,  0.,  0.,  0.,  0.,  1.,  1.,\n",
       "         0.,  0.,  1.,  0.,  2.,  0.,  1.,  3., 34.]),\n",
       " array([-1.85800910e+07, -1.83942901e+07, -1.82084892e+07, -1.80226883e+07,\n",
       "        -1.78368874e+07, -1.76510865e+07, -1.74652856e+07, -1.72794847e+07,\n",
       "        -1.70936838e+07, -1.69078829e+07, -1.67220820e+07, -1.65362811e+07,\n",
       "        -1.63504802e+07, -1.61646793e+07, -1.59788784e+07, -1.57930775e+07,\n",
       "        -1.56072766e+07, -1.54214757e+07, -1.52356748e+07, -1.50498739e+07,\n",
       "        -1.48640730e+07, -1.46782721e+07, -1.44924712e+07, -1.43066703e+07,\n",
       "        -1.41208694e+07, -1.39350685e+07, -1.37492676e+07, -1.35634667e+07,\n",
       "        -1.33776658e+07, -1.31918649e+07, -1.30060640e+07, -1.28202631e+07,\n",
       "        -1.26344622e+07, -1.24486613e+07, -1.22628604e+07, -1.20770595e+07,\n",
       "        -1.18912586e+07, -1.17054577e+07, -1.15196568e+07, -1.13338559e+07,\n",
       "        -1.11480550e+07, -1.09622541e+07, -1.07764532e+07, -1.05906523e+07,\n",
       "        -1.04048514e+07, -1.02190505e+07, -1.00332496e+07, -9.84744870e+06,\n",
       "        -9.66164780e+06, -9.47584690e+06, -9.29004600e+06, -9.10424510e+06,\n",
       "        -8.91844420e+06, -8.73264330e+06, -8.54684240e+06, -8.36104150e+06,\n",
       "        -8.17524060e+06, -7.98943970e+06, -7.80363880e+06, -7.61783790e+06,\n",
       "        -7.43203700e+06, -7.24623610e+06, -7.06043520e+06, -6.87463430e+06,\n",
       "        -6.68883340e+06, -6.50303250e+06, -6.31723160e+06, -6.13143070e+06,\n",
       "        -5.94562980e+06, -5.75982890e+06, -5.57402800e+06, -5.38822710e+06,\n",
       "        -5.20242620e+06, -5.01662530e+06, -4.83082440e+06, -4.64502350e+06,\n",
       "        -4.45922260e+06, -4.27342170e+06, -4.08762080e+06, -3.90181990e+06,\n",
       "        -3.71601900e+06, -3.53021810e+06, -3.34441720e+06, -3.15861630e+06,\n",
       "        -2.97281540e+06, -2.78701450e+06, -2.60121360e+06, -2.41541270e+06,\n",
       "        -2.22961180e+06, -2.04381090e+06, -1.85801000e+06, -1.67220910e+06,\n",
       "        -1.48640820e+06, -1.30060730e+06, -1.11480640e+06, -9.29005500e+05,\n",
       "        -7.43204600e+05, -5.57403700e+05, -3.71602800e+05, -1.85801900e+05,\n",
       "        -1.00000000e+00]),\n",
       " <BarContainer object of 100 artists>)"
      ]
     },
     "execution_count": 338,
     "metadata": {},
     "output_type": "execute_result"
    },
    {
     "data": {
      "image/png": "[encoded data removed]",
      "text/plain": [
       "<Figure size 432x288 with 1 Axes>"
      ]
     },
     "metadata": {
      "needs_background": "light"
     },
     "output_type": "display_data"
    }
   ],
   "source": [
    "test2 = totalContractValue[['unique_values', 'counts']]\n",
    "test2 = test2[test2['unique_values'] < 0]\n",
    "test2 = test2[test2['unique_values'] > -25000000]\n",
    "plt.hist(test2['unique_values'], bins = 100)"
   ]
  },
  {
   "cell_type": "code",
   "execution_count": 339,
   "metadata": {},
   "outputs": [],
   "source": [
    "#This data has a lognormal distribution for the positive values when 0, 1, and 25000 are removed"
   ]
  },
  {
   "cell_type": "code",
   "execution_count": 340,
   "metadata": {},
   "outputs": [],
   "source": [
    "#removing two significant outliers\n",
    "remove = editCH[editCH['total-contract-value'] >= 4000000000].index\n",
    "editCH.drop(remove, inplace = True)"
   ]
  },
  {
   "cell_type": "code",
   "execution_count": 341,
   "metadata": {},
   "outputs": [
    {
     "data": {
      "text/plain": [
       "{'whiskers': [<matplotlib.lines.Line2D at 0x1c2915b17c0>,\n",
       "  <matplotlib.lines.Line2D at 0x1c2915b1b50>],\n",
       " 'caps': [<matplotlib.lines.Line2D at 0x1c2915b1ee0>,\n",
       "  <matplotlib.lines.Line2D at 0x1c2915b02b0>],\n",
       " 'boxes': [<matplotlib.lines.Line2D at 0x1c2915b1430>],\n",
       " 'medians': [<matplotlib.lines.Line2D at 0x1c2915b0640>],\n",
       " 'fliers': [<matplotlib.lines.Line2D at 0x1c2915b09d0>],\n",
       " 'means': []}"
      ]
     },
     "execution_count": 341,
     "metadata": {},
     "output_type": "execute_result"
    },
    {
     "data": {
      "image/png": "[encoded data removed]",
      "text/plain": [
       "<Figure size 432x288 with 1 Axes>"
      ]
     },
     "metadata": {
      "needs_background": "light"
     },
     "output_type": "display_data"
    }
   ],
   "source": [
    "plt.boxplot(editCH['total-contract-value'])"
   ]
  },
  {
   "cell_type": "code",
   "execution_count": 342,
   "metadata": {},
   "outputs": [],
   "source": [
    "normalizedContractValue = (editCH['total-contract-value'] - editCH['total-contract-value'].min()) / (editCH['total-contract-value'].max()-editCH['total-contract-value'].min())\n",
    "editCH.insert(16, 'total-contract-value-normalized',normalizedContractValue)"
   ]
  },
  {
   "cell_type": "code",
   "execution_count": 343,
   "metadata": {},
   "outputs": [
    {
     "name": "stdout",
     "output_type": "stream",
     "text": [
      "       unique_values  counts\n",
      "46268       0.000000       1\n",
      "46746       0.038139       1\n",
      "46156       0.057092       1\n",
      "54049       0.059099       1\n",
      "46246       0.059409       1\n",
      "...              ...     ...\n",
      "56932       0.785771       1\n",
      "44460       0.896624       1\n",
      "92348       0.969658       1\n",
      "44286       0.982991       1\n",
      "93428       1.000000       1\n",
      "\n",
      "[96038 rows x 2 columns]\n"
     ]
    }
   ],
   "source": [
    "contractValueNorm = editCH['total-contract-value-normalized'].value_counts().rename_axis('unique_values').reset_index(name='counts')\n",
    "contractValueNorm = pd.DataFrame(contractValueNorm)\n",
    "contractValueNorm = contractValueNorm.sort_values(by='unique_values')\n",
    "print(contractValueNorm)"
   ]
  },
  {
   "cell_type": "code",
   "execution_count": 344,
   "metadata": {},
   "outputs": [
    {
     "data": {
      "text/plain": [
       "[<matplotlib.lines.Line2D at 0x1c28728a1c0>]"
      ]
     },
     "execution_count": 344,
     "metadata": {},
     "output_type": "execute_result"
    },
    {
     "data": {
      "image/png": "[encoded data removed]",
      "text/plain": [
       "<Figure size 432x288 with 1 Axes>"
      ]
     },
     "metadata": {
      "needs_background": "light"
     },
     "output_type": "display_data"
    }
   ],
   "source": [
    "plt.plot(contractValueNorm['unique_values'],contractValueNorm['counts'])"
   ]
  },
  {
   "cell_type": "markdown",
   "metadata": {},
   "source": [
    "### Number of Records"
   ]
  },
  {
   "cell_type": "code",
   "execution_count": 345,
   "metadata": {},
   "outputs": [
    {
     "data": {
      "text/plain": [
       "1      110041\n",
       "2       37463\n",
       "3       17048\n",
       "4        9743\n",
       "5        5698\n",
       "        ...  \n",
       "103         1\n",
       "67          1\n",
       "135         1\n",
       "123         1\n",
       "64          1\n",
       "Name: number-records, Length: 105, dtype: int64"
      ]
     },
     "execution_count": 345,
     "metadata": {},
     "output_type": "execute_result"
    }
   ],
   "source": [
    "editCH['number-records'].value_counts()"
   ]
  },
  {
   "cell_type": "code",
   "execution_count": 346,
   "metadata": {},
   "outputs": [
    {
     "data": {
      "text/plain": [
       "[<matplotlib.lines.Line2D at 0x1c284cf27f0>]"
      ]
     },
     "execution_count": 346,
     "metadata": {},
     "output_type": "execute_result"
    },
    {
     "data": {
      "image/png": "[encoded data removed]",
      "text/plain": [
       "<Figure size 432x288 with 1 Axes>"
      ]
     },
     "metadata": {
      "needs_background": "light"
     },
     "output_type": "display_data"
    }
   ],
   "source": [
    "noRecord = editCH['number-records'].value_counts().rename_axis('records').reset_index(name='counts')\n",
    "noRecord = pd.DataFrame(noRecord)\n",
    "noRecord = noRecord.sort_values(by='records')\n",
    "plt.plot(noRecord['records'],noRecord['counts'])"
   ]
  },
  {
   "cell_type": "code",
   "execution_count": 347,
   "metadata": {},
   "outputs": [
    {
     "data": {
      "text/plain": [
       "{'whiskers': [<matplotlib.lines.Line2D at 0x1c284d231f0>,\n",
       "  <matplotlib.lines.Line2D at 0x1c284d23580>],\n",
       " 'caps': [<matplotlib.lines.Line2D at 0x1c284d23850>,\n",
       "  <matplotlib.lines.Line2D at 0x1c284d23be0>],\n",
       " 'boxes': [<matplotlib.lines.Line2D at 0x1c284d1de20>],\n",
       " 'medians': [<matplotlib.lines.Line2D at 0x1c284d23f70>],\n",
       " 'fliers': [<matplotlib.lines.Line2D at 0x1c284d26340>],\n",
       " 'means': []}"
      ]
     },
     "execution_count": 347,
     "metadata": {},
     "output_type": "execute_result"
    },
    {
     "data": {
      "image/png": "[encoded data removed]",
      "text/plain": [
       "<Figure size 432x288 with 1 Axes>"
      ]
     },
     "metadata": {
      "needs_background": "light"
     },
     "output_type": "display_data"
    }
   ],
   "source": [
    "plt.boxplot(noRecord['records'])"
   ]
  },
  {
   "cell_type": "code",
   "execution_count": 348,
   "metadata": {},
   "outputs": [],
   "source": [
    "#This data has an exponential distibution\n",
    "#Since number of records does not have material impact on the outcome of the supplier award, it is being removed from this analysis\n",
    "#noRecordNorm = (editCH['number-records'] - editCH['number-records'].min()) / (editCH['number-records'].max()-editCH['number-records'].min())\n",
    "#editCH.insert(17, 'number-records-normalized',noRecordNorm)\n"
   ]
  },
  {
   "cell_type": "code",
   "execution_count": 349,
   "metadata": {},
   "outputs": [],
   "source": [
    "editCH = editCH.drop(['number-records'], axis = 1)"
   ]
  },
  {
   "cell_type": "code",
   "execution_count": 350,
   "metadata": {},
   "outputs": [],
   "source": [
    "#editCH = editCH.drop(['award year', 'award month', 'award day', 'expiry year', 'expiry month', 'expiry day'], axis = 1)"
   ]
  },
  {
   "cell_type": "code",
   "execution_count": 351,
   "metadata": {},
   "outputs": [
    {
     "data": {
      "text/html": [
       "<div>\n",
       "<style scoped>\n",
       "    .dataframe tbody tr th:only-of-type {\n",
       "        vertical-align: middle;\n",
       "    }\n",
       "\n",
       "    .dataframe tbody tr th {\n",
       "        vertical-align: top;\n",
       "    }\n",
       "\n",
       "    .dataframe thead th {\n",
       "        text-align: right;\n",
       "    }\n",
       "</style>\n",
       "<table border=\"1\" class=\"dataframe\">\n",
       "  <thead>\n",
       "    <tr style=\"text-align: right;\">\n",
       "      <th></th>\n",
       "      <th>total-contract-value</th>\n",
       "      <th>total-contract-value-normalized</th>\n",
       "      <th>days-since-first-award</th>\n",
       "      <th>days-since-first-award-normalized</th>\n",
       "      <th>award year</th>\n",
       "      <th>award-year-normalized</th>\n",
       "    </tr>\n",
       "  </thead>\n",
       "  <tbody>\n",
       "    <tr>\n",
       "      <th>count</th>\n",
       "      <td>1.941330e+05</td>\n",
       "      <td>194133.000000</td>\n",
       "      <td>194133.000000</td>\n",
       "      <td>194133.000000</td>\n",
       "      <td>194133.000000</td>\n",
       "      <td>194133.000000</td>\n",
       "    </tr>\n",
       "    <tr>\n",
       "      <th>mean</th>\n",
       "      <td>1.149437e+06</td>\n",
       "      <td>0.063351</td>\n",
       "      <td>1607.475597</td>\n",
       "      <td>0.346289</td>\n",
       "      <td>2012.982507</td>\n",
       "      <td>0.331876</td>\n",
       "    </tr>\n",
       "    <tr>\n",
       "      <th>std</th>\n",
       "      <td>2.434127e+07</td>\n",
       "      <td>0.007722</td>\n",
       "      <td>1310.866238</td>\n",
       "      <td>0.282393</td>\n",
       "      <td>3.570864</td>\n",
       "      <td>0.297572</td>\n",
       "    </tr>\n",
       "    <tr>\n",
       "      <th>min</th>\n",
       "      <td>-1.985487e+08</td>\n",
       "      <td>0.000000</td>\n",
       "      <td>0.000000</td>\n",
       "      <td>0.000000</td>\n",
       "      <td>2009.000000</td>\n",
       "      <td>0.000000</td>\n",
       "    </tr>\n",
       "    <tr>\n",
       "      <th>25%</th>\n",
       "      <td>1.128000e+04</td>\n",
       "      <td>0.062989</td>\n",
       "      <td>479.000000</td>\n",
       "      <td>0.103188</td>\n",
       "      <td>2010.000000</td>\n",
       "      <td>0.083333</td>\n",
       "    </tr>\n",
       "    <tr>\n",
       "      <th>50%</th>\n",
       "      <td>4.320000e+04</td>\n",
       "      <td>0.063000</td>\n",
       "      <td>1202.000000</td>\n",
       "      <td>0.258940</td>\n",
       "      <td>2012.000000</td>\n",
       "      <td>0.250000</td>\n",
       "    </tr>\n",
       "    <tr>\n",
       "      <th>75%</th>\n",
       "      <td>2.014690e+05</td>\n",
       "      <td>0.063050</td>\n",
       "      <td>2582.000000</td>\n",
       "      <td>0.556226</td>\n",
       "      <td>2016.000000</td>\n",
       "      <td>0.583333</td>\n",
       "    </tr>\n",
       "    <tr>\n",
       "      <th>max</th>\n",
       "      <td>2.953723e+09</td>\n",
       "      <td>1.000000</td>\n",
       "      <td>4642.000000</td>\n",
       "      <td>1.000000</td>\n",
       "      <td>2021.000000</td>\n",
       "      <td>1.000000</td>\n",
       "    </tr>\n",
       "  </tbody>\n",
       "</table>\n",
       "</div>"
      ],
      "text/plain": [
       "       total-contract-value  total-contract-value-normalized  \\\n",
       "count          1.941330e+05                    194133.000000   \n",
       "mean           1.149437e+06                         0.063351   \n",
       "std            2.434127e+07                         0.007722   \n",
       "min           -1.985487e+08                         0.000000   \n",
       "25%            1.128000e+04                         0.062989   \n",
       "50%            4.320000e+04                         0.063000   \n",
       "75%            2.014690e+05                         0.063050   \n",
       "max            2.953723e+09                         1.000000   \n",
       "\n",
       "       days-since-first-award  days-since-first-award-normalized  \\\n",
       "count           194133.000000                      194133.000000   \n",
       "mean              1607.475597                           0.346289   \n",
       "std               1310.866238                           0.282393   \n",
       "min                  0.000000                           0.000000   \n",
       "25%                479.000000                           0.103188   \n",
       "50%               1202.000000                           0.258940   \n",
       "75%               2582.000000                           0.556226   \n",
       "max               4642.000000                           1.000000   \n",
       "\n",
       "          award year  award-year-normalized  \n",
       "count  194133.000000          194133.000000  \n",
       "mean     2012.982507               0.331876  \n",
       "std         3.570864               0.297572  \n",
       "min      2009.000000               0.000000  \n",
       "25%      2010.000000               0.083333  \n",
       "50%      2012.000000               0.250000  \n",
       "75%      2016.000000               0.583333  \n",
       "max      2021.000000               1.000000  "
      ]
     },
     "execution_count": 351,
     "metadata": {},
     "output_type": "execute_result"
    }
   ],
   "source": [
    "editCH.describe()"
   ]
  },
  {
   "cell_type": "markdown",
   "metadata": {},
   "source": [
    "## Creating the Dependent Variable\n",
    "To create a binary dependent variable that will determine whether a supplier will be the supplier on a contract, a new column need sto be created that flags all instances where the supplier is named and turns those instances into a Yes. All other instances will be No. The supplier to be used in this analysis is STANTEC. Note that this attribute is messy, meaning that STANTEC is named in multiple unique instances."
   ]
  },
  {
   "cell_type": "code",
   "execution_count": 352,
   "metadata": {},
   "outputs": [
    {
     "data": {
      "text/plain": [
       "<AxesSubplot:>"
      ]
     },
     "execution_count": 352,
     "metadata": {},
     "output_type": "execute_result"
    },
    {
     "data": {
      "image/png": "[encoded data removed]",
      "text/plain": [
       "<Figure size 432x288 with 1 Axes>"
      ]
     },
     "metadata": {
      "needs_background": "light"
     },
     "output_type": "display_data"
    }
   ],
   "source": [
    "topSuppliers = editCH['supplier-standardized-name'].value_counts()\n",
    "topSuppliers = topSuppliers[topSuppliers > 300]\n",
    "topSuppliers.plot(kind = 'bar')"
   ]
  },
  {
   "cell_type": "code",
   "execution_count": 353,
   "metadata": {},
   "outputs": [],
   "source": [
    "editCH.insert(9,'stantec-supplier','no')"
   ]
  },
  {
   "cell_type": "code",
   "execution_count": 354,
   "metadata": {},
   "outputs": [],
   "source": [
    "editCH['stantec-supplier'] = np.where(editCH['supplier-standardized-name'].str.contains('STANTEC'), 'yes', editCH['stantec-supplier'])"
   ]
  },
  {
   "cell_type": "code",
   "execution_count": 355,
   "metadata": {},
   "outputs": [
    {
     "data": {
      "text/plain": [
       "no     193551\n",
       "yes       582\n",
       "Name: stantec-supplier, dtype: int64"
      ]
     },
     "execution_count": 355,
     "metadata": {},
     "output_type": "execute_result"
    }
   ],
   "source": [
    "editCH['stantec-supplier'].value_counts()"
   ]
  },
  {
   "cell_type": "markdown",
   "metadata": {},
   "source": [
    "## Look at Subsets & How Attributes Link to the Class"
   ]
  },
  {
   "cell_type": "code",
   "execution_count": 356,
   "metadata": {},
   "outputs": [
    {
     "data": {
      "text/plain": [
       "C    405\n",
       "B     59\n",
       "E     56\n",
       "5     18\n",
       "R     18\n",
       "H      6\n",
       "T      5\n",
       "U      5\n",
       "A      4\n",
       "D      4\n",
       "N      1\n",
       "S      1\n",
       "Name: gsin-category, dtype: int64"
      ]
     },
     "execution_count": 356,
     "metadata": {},
     "output_type": "execute_result"
    }
   ],
   "source": [
    "#value counts were run for all attributes anything that looked distinct is included in the code below.\n",
    "stantecData = editCH[editCH['stantec-supplier'] == 'yes']\n",
    "stantecData['gsin-category'].value_counts()\n"
   ]
  },
  {
   "cell_type": "code",
   "execution_count": 357,
   "metadata": {},
   "outputs": [
    {
     "data": {
      "text/plain": [
       "<AxesSubplot:>"
      ]
     },
     "execution_count": 357,
     "metadata": {},
     "output_type": "execute_result"
    },
    {
     "data": {
      "image/png": "[encoded data removed]",
      "text/plain": [
       "<Figure size 432x288 with 1 Axes>"
      ]
     },
     "metadata": {
      "needs_background": "light"
     },
     "output_type": "display_data"
    }
   ],
   "source": [
    "stantecData['gsin-category'].value_counts().plot(kind = 'bar')"
   ]
  },
  {
   "cell_type": "code",
   "execution_count": 358,
   "metadata": {},
   "outputs": [
    {
     "data": {
      "text/plain": [
       "<matplotlib.collections.PathCollection at 0x1c284d074c0>"
      ]
     },
     "execution_count": 358,
     "metadata": {},
     "output_type": "execute_result"
    },
    {
     "data": {
      "image/png": "[encoded data removed]",
      "text/plain": [
       "<Figure size 432x288 with 1 Axes>"
      ]
     },
     "metadata": {
      "needs_background": "light"
     },
     "output_type": "display_data"
    }
   ],
   "source": [
    "plt.scatter(editCH['gsin-category'],editCH['stantec-supplier'])"
   ]
  },
  {
   "cell_type": "code",
   "execution_count": 359,
   "metadata": {},
   "outputs": [
    {
     "data": {
      "text/html": [
       "<div>\n",
       "<style scoped>\n",
       "    .dataframe tbody tr th:only-of-type {\n",
       "        vertical-align: middle;\n",
       "    }\n",
       "\n",
       "    .dataframe tbody tr th {\n",
       "        vertical-align: top;\n",
       "    }\n",
       "\n",
       "    .dataframe thead th {\n",
       "        text-align: right;\n",
       "    }\n",
       "</style>\n",
       "<table border=\"1\" class=\"dataframe\">\n",
       "  <thead>\n",
       "    <tr style=\"text-align: right;\">\n",
       "      <th></th>\n",
       "      <th>gsin</th>\n",
       "      <th>all count</th>\n",
       "      <th>stantec count</th>\n",
       "    </tr>\n",
       "  </thead>\n",
       "  <tbody>\n",
       "    <tr>\n",
       "      <th>0</th>\n",
       "      <td>N</td>\n",
       "      <td>99022</td>\n",
       "      <td>1.0</td>\n",
       "    </tr>\n",
       "    <tr>\n",
       "      <th>1</th>\n",
       "      <td>V</td>\n",
       "      <td>18867</td>\n",
       "      <td>NaN</td>\n",
       "    </tr>\n",
       "    <tr>\n",
       "      <th>2</th>\n",
       "      <td>R</td>\n",
       "      <td>13485</td>\n",
       "      <td>18.0</td>\n",
       "    </tr>\n",
       "    <tr>\n",
       "      <th>3</th>\n",
       "      <td>T</td>\n",
       "      <td>12615</td>\n",
       "      <td>5.0</td>\n",
       "    </tr>\n",
       "    <tr>\n",
       "      <th>4</th>\n",
       "      <td>5</td>\n",
       "      <td>10881</td>\n",
       "      <td>18.0</td>\n",
       "    </tr>\n",
       "    <tr>\n",
       "      <th>5</th>\n",
       "      <td>C</td>\n",
       "      <td>7882</td>\n",
       "      <td>405.0</td>\n",
       "    </tr>\n",
       "    <tr>\n",
       "      <th>6</th>\n",
       "      <td>D</td>\n",
       "      <td>7768</td>\n",
       "      <td>4.0</td>\n",
       "    </tr>\n",
       "    <tr>\n",
       "      <th>7</th>\n",
       "      <td>J</td>\n",
       "      <td>5996</td>\n",
       "      <td>NaN</td>\n",
       "    </tr>\n",
       "    <tr>\n",
       "      <th>8</th>\n",
       "      <td>A</td>\n",
       "      <td>4296</td>\n",
       "      <td>4.0</td>\n",
       "    </tr>\n",
       "    <tr>\n",
       "      <th>9</th>\n",
       "      <td>K</td>\n",
       "      <td>3479</td>\n",
       "      <td>NaN</td>\n",
       "    </tr>\n",
       "    <tr>\n",
       "      <th>10</th>\n",
       "      <td>U</td>\n",
       "      <td>2656</td>\n",
       "      <td>5.0</td>\n",
       "    </tr>\n",
       "    <tr>\n",
       "      <th>11</th>\n",
       "      <td>E</td>\n",
       "      <td>1808</td>\n",
       "      <td>56.0</td>\n",
       "    </tr>\n",
       "    <tr>\n",
       "      <th>12</th>\n",
       "      <td>W</td>\n",
       "      <td>1672</td>\n",
       "      <td>NaN</td>\n",
       "    </tr>\n",
       "    <tr>\n",
       "      <th>13</th>\n",
       "      <td>B</td>\n",
       "      <td>1211</td>\n",
       "      <td>59.0</td>\n",
       "    </tr>\n",
       "    <tr>\n",
       "      <th>14</th>\n",
       "      <td>G</td>\n",
       "      <td>959</td>\n",
       "      <td>NaN</td>\n",
       "    </tr>\n",
       "    <tr>\n",
       "      <th>15</th>\n",
       "      <td>H</td>\n",
       "      <td>598</td>\n",
       "      <td>6.0</td>\n",
       "    </tr>\n",
       "    <tr>\n",
       "      <th>16</th>\n",
       "      <td>L</td>\n",
       "      <td>273</td>\n",
       "      <td>NaN</td>\n",
       "    </tr>\n",
       "    <tr>\n",
       "      <th>17</th>\n",
       "      <td>F</td>\n",
       "      <td>213</td>\n",
       "      <td>NaN</td>\n",
       "    </tr>\n",
       "    <tr>\n",
       "      <th>18</th>\n",
       "      <td>S</td>\n",
       "      <td>194</td>\n",
       "      <td>1.0</td>\n",
       "    </tr>\n",
       "    <tr>\n",
       "      <th>19</th>\n",
       "      <td>M</td>\n",
       "      <td>140</td>\n",
       "      <td>NaN</td>\n",
       "    </tr>\n",
       "    <tr>\n",
       "      <th>20</th>\n",
       "      <td>X</td>\n",
       "      <td>118</td>\n",
       "      <td>NaN</td>\n",
       "    </tr>\n",
       "  </tbody>\n",
       "</table>\n",
       "</div>"
      ],
      "text/plain": [
       "   gsin  all count  stantec count\n",
       "0     N      99022            1.0\n",
       "1     V      18867            NaN\n",
       "2     R      13485           18.0\n",
       "3     T      12615            5.0\n",
       "4     5      10881           18.0\n",
       "5     C       7882          405.0\n",
       "6     D       7768            4.0\n",
       "7     J       5996            NaN\n",
       "8     A       4296            4.0\n",
       "9     K       3479            NaN\n",
       "10    U       2656            5.0\n",
       "11    E       1808           56.0\n",
       "12    W       1672            NaN\n",
       "13    B       1211           59.0\n",
       "14    G        959            NaN\n",
       "15    H        598            6.0\n",
       "16    L        273            NaN\n",
       "17    F        213            NaN\n",
       "18    S        194            1.0\n",
       "19    M        140            NaN\n",
       "20    X        118            NaN"
      ]
     },
     "execution_count": 359,
     "metadata": {},
     "output_type": "execute_result"
    }
   ],
   "source": [
    "yesGsin = pd.DataFrame(stantecData['gsin-category'].value_counts().rename_axis('gsin').reset_index(name='stantec count'))\n",
    "allGsin = pd.DataFrame(editCH['gsin-category'].value_counts().rename_axis('gsin').reset_index(name='all count'))\n",
    "gsinMerge = pd.merge(allGsin, yesGsin, how = 'outer')\n",
    "gsinMerge\n",
    "#gsinMerge.plot(kind = 'bar')"
   ]
  },
  {
   "cell_type": "code",
   "execution_count": 360,
   "metadata": {},
   "outputs": [
    {
     "data": {
      "text/plain": [
       "Engineering Services - Buildings                          131\n",
       "Environmental Engineering Services - Real Property         56\n",
       "Architectual Services - Buildings                          52\n",
       "Geotechnical Studies - Licensed Engineers                  39\n",
       "Environmental Services                                     33\n",
       "                                                         ... \n",
       "Architect/Engineer Services - Industrial Buildings          1\n",
       "Project Management Services                                 1\n",
       "Internal and External Audits (Supply Arrangement PASS)      1\n",
       "Professional Services / Financial Analysis                  1\n",
       "Seminars                                                    1\n",
       "Name: gsin-description_en, Length: 75, dtype: int64"
      ]
     },
     "execution_count": 360,
     "metadata": {},
     "output_type": "execute_result"
    }
   ],
   "source": [
    "stantecData['gsin-description_en'].value_counts()"
   ]
  },
  {
   "cell_type": "code",
   "execution_count": 361,
   "metadata": {},
   "outputs": [
    {
     "data": {
      "text/plain": [
       "<AxesSubplot:>"
      ]
     },
     "execution_count": 361,
     "metadata": {},
     "output_type": "execute_result"
    },
    {
     "data": {
      "image/png": "[encoded data removed]",
      "text/plain": [
       "<Figure size 432x288 with 1 Axes>"
      ]
     },
     "metadata": {
      "needs_background": "light"
     },
     "output_type": "display_data"
    }
   ],
   "source": [
    "stantecData['competitive-tender_en'].value_counts().plot(kind = 'bar')"
   ]
  },
  {
   "cell_type": "code",
   "execution_count": 362,
   "metadata": {},
   "outputs": [
    {
     "data": {
      "text/plain": [
       "Ottawa              174\n",
       "Vancouver           126\n",
       "Edmonton             47\n",
       "Dartmouth            39\n",
       "Laval                19\n",
       "Winnipeg             18\n",
       "Burnaby              16\n",
       "Markham              13\n",
       "Regina               12\n",
       "St.John's            11\n",
       "Yellowknife          11\n",
       "Victoria              9\n",
       "Calgary               8\n",
       "Quebec City           7\n",
       "Moncton               7\n",
       "Fredericton           6\n",
       "Toronto               6\n",
       "Charlottetown         5\n",
       "Montreal,             5\n",
       "Whitehorse            4\n",
       "Ville Mont-Royal      4\n",
       "Kitchener             3\n",
       "Longueuil             3\n",
       "Saint John            3\n",
       "St. John's            3\n",
       "Montréal              2\n",
       "Inuvik                2\n",
       "Saskatoon             2\n",
       "Montreal              2\n",
       "Rimouski              2\n",
       "Surrey                1\n",
       "Kamloops              1\n",
       "Kelowna               1\n",
       "Lethbridge            1\n",
       "Iqaluit               1\n",
       "Membertou             1\n",
       "Mississauga           1\n",
       "Gatineau              1\n",
       "Sidney                1\n",
       "Halifax               1\n",
       "Labrador City         1\n",
       "Saint-Laurent         1\n",
       "Windsor               1\n",
       "Name: supplier-address-city, dtype: int64"
      ]
     },
     "execution_count": 362,
     "metadata": {},
     "output_type": "execute_result"
    }
   ],
   "source": [
    "stantecData['supplier-address-city'].value_counts()"
   ]
  },
  {
   "cell_type": "code",
   "execution_count": 363,
   "metadata": {},
   "outputs": [
    {
     "data": {
      "text/plain": [
       "<AxesSubplot:>"
      ]
     },
     "execution_count": 363,
     "metadata": {},
     "output_type": "execute_result"
    },
    {
     "data": {
      "image/png": "[encoded data removed]",
      "text/plain": [
       "<Figure size 432x288 with 1 Axes>"
      ]
     },
     "metadata": {
      "needs_background": "light"
     },
     "output_type": "display_data"
    }
   ],
   "source": [
    "locateStantec = stantecData['contracting-address-city'].value_counts()\n",
    "locateStantec = locateStantec[locateStantec > 10]\n",
    "locateStantec.plot(kind = 'barh')"
   ]
  },
  {
   "cell_type": "code",
   "execution_count": 364,
   "metadata": {},
   "outputs": [
    {
     "data": {
      "text/plain": [
       "<AxesSubplot:>"
      ]
     },
     "execution_count": 364,
     "metadata": {},
     "output_type": "execute_result"
    },
    {
     "data": {
      "image/png": "[encoded data removed]",
      "text/plain": [
       "<Figure size 432x288 with 1 Axes>"
      ]
     },
     "metadata": {
      "needs_background": "light"
     },
     "output_type": "display_data"
    }
   ],
   "source": [
    "tradeStantec = stantecData['trade-agreement'].value_counts()\n",
    "tradeStantec = tradeStantec[tradeStantec > 1]\n",
    "tradeStantec.plot(kind = 'barh')"
   ]
  },
  {
   "cell_type": "code",
   "execution_count": 365,
   "metadata": {},
   "outputs": [
    {
     "data": {
      "text/plain": [
       "<AxesSubplot:>"
      ]
     },
     "execution_count": 365,
     "metadata": {},
     "output_type": "execute_result"
    },
    {
     "data": {
      "image/png": "[encoded data removed]",
      "text/plain": [
       "<Figure size 432x288 with 1 Axes>"
      ]
     },
     "metadata": {
      "needs_background": "light"
     },
     "output_type": "display_data"
    }
   ],
   "source": [
    "stantecData['end-user-entity_en'].value_counts().plot(kind = 'barh')"
   ]
  },
  {
   "cell_type": "code",
   "execution_count": 366,
   "metadata": {},
   "outputs": [
    {
     "data": {
      "text/plain": [
       "<matplotlib.collections.PathCollection at 0x1c285078a90>"
      ]
     },
     "execution_count": 366,
     "metadata": {},
     "output_type": "execute_result"
    },
    {
     "data": {
      "image/png": "[encoded data removed]",
      "text/plain": [
       "<Figure size 432x288 with 1 Axes>"
      ]
     },
     "metadata": {
      "needs_background": "light"
     },
     "output_type": "display_data"
    }
   ],
   "source": [
    "plt.scatter(editCH['end-user-entity_en'],editCH['stantec-supplier'])"
   ]
  },
  {
   "cell_type": "code",
   "execution_count": 367,
   "metadata": {},
   "outputs": [
    {
     "data": {
      "text/plain": [
       "<AxesSubplot:>"
      ]
     },
     "execution_count": 367,
     "metadata": {},
     "output_type": "execute_result"
    },
    {
     "data": {
      "image/png": "[encoded data removed]",
      "text/plain": [
       "<Figure size 432x288 with 1 Axes>"
      ]
     },
     "metadata": {
      "needs_background": "light"
     },
     "output_type": "display_data"
    }
   ],
   "source": [
    "yesVal = pd.DataFrame(stantecData['end-user-entity_en'].value_counts().rename_axis('entity').reset_index(name='stantec count'))\n",
    "allVal = pd.DataFrame(editCH['end-user-entity_en'].value_counts().rename_axis('entity').reset_index(name='all count'))\n",
    "valMerge = pd.merge(allVal, yesVal, how = 'outer')\n",
    "valMerge.plot(kind = 'bar')"
   ]
  },
  {
   "cell_type": "code",
   "execution_count": 368,
   "metadata": {},
   "outputs": [
    {
     "data": {
      "text/plain": [
       "VANCOUVER          141\n",
       "OTTAWA              90\n",
       "Gatineau            61\n",
       "EDMONTON            48\n",
       "HALIFAX             33\n",
       "TORONTO             31\n",
       "WINNIPEG            29\n",
       "CALGARY             22\n",
       "DORVAL              21\n",
       "ST JOHNS            18\n",
       "MONCTON             14\n",
       "GATINEAU            14\n",
       "MONTREAL            11\n",
       "QUEBEC              11\n",
       "CHARLOTTETOWN        6\n",
       "NORTH YORK           4\n",
       "WILLOWDALE           4\n",
       "REGINA               4\n",
       "VICTORIA             3\n",
       "DARTMOUTH            2\n",
       "Ottawa               2\n",
       "BURLINGTON           2\n",
       "RIMOUSKI             2\n",
       "PETAWAWA             1\n",
       "SAULT STE MARIE      1\n",
       "SIDNEY               1\n",
       "PRINCE ALBERT        1\n",
       "KINGSTON             1\n",
       "SYDNEY               1\n",
       "SASKATOON            1\n",
       "CORNER BROOK         1\n",
       "MEAFORD              1\n",
       "Name: contracting-address-city, dtype: int64"
      ]
     },
     "execution_count": 368,
     "metadata": {},
     "output_type": "execute_result"
    }
   ],
   "source": [
    "stantecData['contracting-address-city'].value_counts()"
   ]
  },
  {
   "cell_type": "markdown",
   "metadata": {},
   "source": [
    "## Removing Non-Applicable GSIN Categories\n",
    "Based on the analysis above, the GSIN Categories V, J, K, W, G, L, F, M, X have no Stantec supplier counts, and GSIN Category N only has one our of 97533. "
   ]
  },
  {
   "cell_type": "code",
   "execution_count": 369,
   "metadata": {},
   "outputs": [],
   "source": [
    "editCH.insert(27, 'remove-gsin', 'no')\n"
   ]
  },
  {
   "cell_type": "code",
   "execution_count": 370,
   "metadata": {},
   "outputs": [],
   "source": [
    "editCH['remove-gsin'] = np.where(editCH['gsin-category'].str.contains('V'), 'yes', editCH['remove-gsin'])\n",
    "editCH['remove-gsin'] = np.where(editCH['gsin-category'].str.contains('J'), 'yes', editCH['remove-gsin'])\n",
    "editCH['remove-gsin'] = np.where(editCH['gsin-category'].str.contains('K'), 'yes', editCH['remove-gsin'])\n",
    "editCH['remove-gsin'] = np.where(editCH['gsin-category'].str.contains('W'), 'yes', editCH['remove-gsin'])\n",
    "editCH['remove-gsin'] = np.where(editCH['gsin-category'].str.contains('G'), 'yes', editCH['remove-gsin'])\n",
    "editCH['remove-gsin'] = np.where(editCH['gsin-category'].str.contains('L'), 'yes', editCH['remove-gsin'])\n",
    "editCH['remove-gsin'] = np.where(editCH['gsin-category'].str.contains('F'), 'yes', editCH['remove-gsin'])\n",
    "editCH['remove-gsin'] = np.where(editCH['gsin-category'].str.contains('M'), 'yes', editCH['remove-gsin'])\n",
    "editCH['remove-gsin'] = np.where(editCH['gsin-category'].str.contains('X'), 'yes', editCH['remove-gsin'])\n",
    "editCH['remove-gsin'] = np.where(editCH['gsin-category'].str.contains('N'), 'yes', editCH['remove-gsin'])"
   ]
  },
  {
   "cell_type": "code",
   "execution_count": 371,
   "metadata": {},
   "outputs": [
    {
     "data": {
      "text/plain": [
       "yes    130739\n",
       "no      63394\n",
       "Name: remove-gsin, dtype: int64"
      ]
     },
     "execution_count": 371,
     "metadata": {},
     "output_type": "execute_result"
    }
   ],
   "source": [
    "editCH['remove-gsin'].value_counts()"
   ]
  },
  {
   "cell_type": "code",
   "execution_count": 372,
   "metadata": {},
   "outputs": [],
   "source": [
    "index_names = editCH[editCH['remove-gsin'] == 'yes'].index\n",
    "editCH.drop(index_names, inplace = True)"
   ]
  },
  {
   "cell_type": "markdown",
   "metadata": {},
   "source": [
    "## Reducing the Number of Unique End User Departments, GSIN Codes, Contracting Cities, Contracting Postal Code"
   ]
  },
  {
   "cell_type": "code",
   "execution_count": 373,
   "metadata": {},
   "outputs": [],
   "source": [
    "editCH.insert(5,'gsin-description-top', editCH['gsin-description_en'])\n",
    "editCH.insert(19,'end-user-entity-top', editCH['end-user-entity_en'])\n",
    "editCH.insert(23,'contracting-address-city-top', editCH['contracting-address-city'])\n",
    "editCH.insert(26,'contracting-address-postal-top', editCH['contracting-address-postal-code'])"
   ]
  },
  {
   "cell_type": "code",
   "execution_count": 374,
   "metadata": {},
   "outputs": [
    {
     "data": {
      "text/plain": [
       "Other                                                                                                      23486\n",
       "Informatics Professional Services                                                                           5590\n",
       "Human Resource Services, Business Consulting/Change Management; Project Management Services                 3774\n",
       "Advertising Media Planning/Buying                                                                           3376\n",
       "Temporary Help Services, General Office Support                                                             1658\n",
       "Translation Services                                                                                        1615\n",
       "Engineering Services - Buildings                                                                            1427\n",
       "Architectual Services - Buildings                                                                           1344\n",
       "Information Products                                                                                        1300\n",
       "Construction of Other Buildings                                                                             1278\n",
       "Audio Visual Production Services                                                                            1054\n",
       "Miscellaneous Business Services                                                                              994\n",
       "Military (R&D)                                                                                               953\n",
       "Waterways, Harbours, Dams and Other Water Works                                                              944\n",
       "Business Services                                                                                            872\n",
       "Product/Material - Design, Development, Formulation, Modification: Science and Technology Related (R&D)      797\n",
       "Environmental Services                                                                                       762\n",
       "Architectural & Engineering Services - Highways, Roads, Railways,Bridges and Dams                            719\n",
       "Advertising Related Services                                                                                 641\n",
       "Media Monitoring Services                                                                                    605\n",
       "Engineering Services                                                                                         602\n",
       "Architect/Engineer Services - Administration & Service Buildings                                             596\n",
       "Video Production Services                                                                                    586\n",
       "Public Opinion Research - Quantitative                                                                       581\n",
       "Communication Promotional Material (including printing and identification)                                   501\n",
       "End-to-End Learning Services (Excludes COTS Training)                                                        497\n",
       "General Marine Construction Work                                                                             496\n",
       "Astronautics (R&D)                                                                                           473\n",
       "Electrical Installations and Major Repairs                                                                   461\n",
       "Press Release Distribution                                                                                   447\n",
       "Heating, Ventilation and Air Conditioning Maintenance & Inspection Services                                  403\n",
       "Public Opinion Research - Quantitative & Qualitative                                                         392\n",
       "Technical / Vocational Training                                                                              375\n",
       "Internal and External Audits (Supply Arrangement PASS)                                                       374\n",
       "Publications                                                                                                 362\n",
       "Architect and Engineering Services - Buildings                                                               362\n",
       "Information Retrieval Services, Database                                                                     360\n",
       "Marine Architect and Engineering Services                                                                    349\n",
       "General Office Help                                                                                          338\n",
       "Highways, Roads, Railways,  Airfield Runways                                                                 338\n",
       "Public Opinion Research - Qualitative                                                                        335\n",
       "Language Interpretation Services                                                                             329\n",
       "Advertising Creative Services                                                                                325\n",
       "General Contractor Services, Not Elsewhere Specified                                                         323\n",
       "Name: gsin-description-top, dtype: int64"
      ]
     },
     "execution_count": 374,
     "metadata": {},
     "output_type": "execute_result"
    }
   ],
   "source": [
    "frequencies = editCH['gsin-description-top'].value_counts(normalize=True, ascending=True)\n",
    "mapping = editCH['gsin-description-top'].map(frequencies)\n",
    "editCH['gsin-description-top'] = editCH['gsin-description-top'].mask(mapping < 0.005, 'Other')\n",
    "editCH['gsin-description-top'].value_counts()"
   ]
  },
  {
   "cell_type": "code",
   "execution_count": 375,
   "metadata": {},
   "outputs": [
    {
     "data": {
      "text/plain": [
       "Public Works and Government Services Canada               35854\n",
       "Department of National Defence                            10171\n",
       "Other                                                      4521\n",
       "Parks Canada                                               1647\n",
       "Fisheries and Oceans Canada                                1325\n",
       "Health Canada                                              1154\n",
       "Natural Resources Canada                                    935\n",
       "Employment and Social Development Canada                    883\n",
       "Canadian Space Agency                                       857\n",
       "Agriculture and Agri-Food Canada                            716\n",
       "Industry Canada                                             705\n",
       "Citizenship and Immigration Canada                          669\n",
       "Environment Canada                                          606\n",
       "Transport Canada                                            570\n",
       "Foreign Affairs, Trade And Development (Department Of)      545\n",
       "Veterans Affairs Canada                                     481\n",
       "Canada Revenue Agency                                       456\n",
       "Correctional Service of Canada                              455\n",
       "Royal Canadian Mounted Police                               446\n",
       "Aboriginal Affairs & Northern Development Canada            398\n",
       "Name: end-user-entity-top, dtype: int64"
      ]
     },
     "execution_count": 375,
     "metadata": {},
     "output_type": "execute_result"
    }
   ],
   "source": [
    "frequencies = editCH['end-user-entity-top'].value_counts(normalize=True, ascending=True)\n",
    "mapping = editCH['end-user-entity-top'].map(frequencies)\n",
    "editCH['end-user-entity-top'] = editCH['end-user-entity-top'].mask(mapping < 0.005, 'Other')\n",
    "editCH['end-user-entity-top'].value_counts()"
   ]
  },
  {
   "cell_type": "code",
   "execution_count": 376,
   "metadata": {},
   "outputs": [
    {
     "data": {
      "text/plain": [
       "OTTAWA           17058\n",
       "GATINEAU         10250\n",
       "Other             8536\n",
       "Gatineau          7585\n",
       "VANCOUVER         3243\n",
       "MONTREAL          1889\n",
       "HALIFAX           1880\n",
       "EDMONTON          1753\n",
       "QUEBEC            1665\n",
       "WINNIPEG          1447\n",
       "MONCTON           1277\n",
       "TORONTO           1197\n",
       "ST JOHNS          1004\n",
       "CHARLOTTETOWN      917\n",
       "MISSISSAUGA        811\n",
       "CALGARY            784\n",
       "ST HUBERT          741\n",
       "BORDEN             683\n",
       "DARTMOUTH          674\n",
       "Name: contracting-address-city-top, dtype: int64"
      ]
     },
     "execution_count": 376,
     "metadata": {},
     "output_type": "execute_result"
    }
   ],
   "source": [
    "frequencies = editCH['contracting-address-city-top'].value_counts(normalize=True, ascending=True)\n",
    "mapping = editCH['contracting-address-city-top'].map(frequencies)\n",
    "editCH['contracting-address-city-top'] = editCH['contracting-address-city-top'].mask(mapping < 0.01, 'Other')\n",
    "editCH['contracting-address-city-top'].value_counts()"
   ]
  },
  {
   "cell_type": "code",
   "execution_count": 377,
   "metadata": {},
   "outputs": [
    {
     "data": {
      "text/plain": [
       "Other     24683\n",
       "K1A0S5    17645\n",
       "K1A0K2     2932\n",
       "V6Z0B9     2605\n",
       "M2N6A6     1596\n",
       "T5J1S6     1535\n",
       "H5A1L6     1365\n",
       "K1A0K9     1294\n",
       "B3J3C9     1141\n",
       "E1C1H1     1105\n",
       "R3B0T6     1026\n",
       "K1A0H4      990\n",
       "K1A0Z4      930\n",
       "J3Y8Y9      854\n",
       "L5B2N5      808\n",
       "K1A0J9      789\n",
       "A1C5T2      771\n",
       "L0M1C0      683\n",
       "K1A1L1      642\n",
       "Name: contracting-address-postal-top, dtype: int64"
      ]
     },
     "execution_count": 377,
     "metadata": {},
     "output_type": "execute_result"
    }
   ],
   "source": [
    "frequencies = editCH['contracting-address-postal-top'].value_counts(normalize=True, ascending=True)\n",
    "mapping = editCH['contracting-address-postal-top'].map(frequencies)\n",
    "editCH['contracting-address-postal-top'] = editCH['contracting-address-postal-top'].mask(mapping < 0.01, 'Other')\n",
    "editCH['contracting-address-postal-top'].value_counts()"
   ]
  },
  {
   "cell_type": "markdown",
   "metadata": {},
   "source": [
    "## Attribute Selection"
   ]
  },
  {
   "cell_type": "code",
   "execution_count": 378,
   "metadata": {},
   "outputs": [],
   "source": [
    "modelCH = editCH.drop(['contract-number', 'award-date', 'expiry-date', 'gsin', 'gsin-description_en', 'supplier-standardized-name', 'supplier-address-city', 'supplier-address-prov-state', 'supplier-address-postal-code', 'supplier-address-country', 'organization-employee-count_en', 'total-contract-value', 'end-user-entity_en', 'contracting-entity-office-name_en', 'contracting-address-street-1', 'contracting-address-city', 'contracting-address-postal-code', 'contracting-address-country', 'days-since-first-award', 'remove-gsin', 'award year', 'award day'], axis = 1)"
   ]
  },
  {
   "cell_type": "code",
   "execution_count": 379,
   "metadata": {},
   "outputs": [
    {
     "data": {
      "text/plain": [
       "Index(['gsin-description-top', 'gsin-category', 'competitive-tender_en',\n",
       "       'solicitation-procedure-description_en', 'trade-agreement',\n",
       "       'stantec-supplier', 'total-contract-value-normalized',\n",
       "       'end-user-entity-top', 'contracting-address-city-top',\n",
       "       'contracting-address-prov-state', 'contracting-address-postal-top',\n",
       "       'days-since-first-award-normalized', 'award-year-normalized',\n",
       "       'award month'],\n",
       "      dtype='object')"
      ]
     },
     "execution_count": 379,
     "metadata": {},
     "output_type": "execute_result"
    }
   ],
   "source": [
    "modelCH.columns"
   ]
  },
  {
   "cell_type": "markdown",
   "metadata": {},
   "source": [
    "## Clustering"
   ]
  },
  {
   "cell_type": "code",
   "execution_count": 380,
   "metadata": {},
   "outputs": [
    {
     "data": {
      "text/plain": [
       "array([[0.06321759],\n",
       "       [0.95542732],\n",
       "       [0.24438324],\n",
       "       [0.49130407],\n",
       "       [0.12491418]])"
      ]
     },
     "execution_count": 380,
     "metadata": {},
     "output_type": "execute_result"
    }
   ],
   "source": [
    "from sklearn.cluster import KMeans\n",
    "kmeans = KMeans(n_clusters=5)\n",
    "trainReshape = modelCH['total-contract-value-normalized'].values.reshape(-1, 1)\n",
    "clusterCV = kmeans.fit(trainReshape)\n",
    "clusterCV.cluster_centers_"
   ]
  },
  {
   "cell_type": "code",
   "execution_count": 381,
   "metadata": {},
   "outputs": [],
   "source": [
    "from kmodes.kprototypes import KPrototypes\n",
    "from kmodes.kmodes import KModes"
   ]
  },
  {
   "cell_type": "code",
   "execution_count": 382,
   "metadata": {},
   "outputs": [
    {
     "data": {
      "text/plain": [
       "\"kproto = KPrototypes(n_clusters = 3)\\ntrainSet = modelCH[['gsin-category','total-contract-value-normalized']]\\ncluster = kproto.fit(trainSet, categorical = [0])\\nyPred = kproto.predict(trainSet, categorical = [0])\\ncluster.cluster_centroids_\\n\""
      ]
     },
     "execution_count": 382,
     "metadata": {},
     "output_type": "execute_result"
    }
   ],
   "source": [
    "'''kproto = KPrototypes(n_clusters = 3)\n",
    "trainSet = modelCH[['gsin-category','total-contract-value-normalized']]\n",
    "cluster = kproto.fit(trainSet, categorical = [0])\n",
    "yPred = kproto.predict(trainSet, categorical = [0])\n",
    "cluster.cluster_centroids_\n",
    "'''"
   ]
  },
  {
   "cell_type": "code",
   "execution_count": 383,
   "metadata": {},
   "outputs": [],
   "source": [
    "#plt.scatter(trainSet['gsin-category'], trainSet['total-contract-value-normalized'], s = 50, c = yPred, cmap = plt.cm.Paired)\n",
    "#plt.show()"
   ]
  },
  {
   "cell_type": "code",
   "execution_count": 384,
   "metadata": {},
   "outputs": [
    {
     "data": {
      "text/plain": [
       "array([['R', 'Public Works and Government Services Canada'],\n",
       "       ['T', 'Other'],\n",
       "       ['5', 'Public Works and Government Services Canada']], dtype='<U43')"
      ]
     },
     "execution_count": 384,
     "metadata": {},
     "output_type": "execute_result"
    }
   ],
   "source": [
    "kmode = KModes(n_clusters = 3)\n",
    "trainSet2 = modelCH[['gsin-category', 'end-user-entity-top']]\n",
    "cluster2 = kmode.fit(trainSet2)\n",
    "yPred2 = kmode.predict(trainSet2)\n",
    "cluster2.cluster_centroids_\n"
   ]
  },
  {
   "cell_type": "code",
   "execution_count": 385,
   "metadata": {},
   "outputs": [
    {
     "data": {
      "image/png": "[encoded data removed]",
      "text/plain": [
       "<Figure size 432x288 with 1 Axes>"
      ]
     },
     "metadata": {
      "needs_background": "light"
     },
     "output_type": "display_data"
    }
   ],
   "source": [
    "plt.scatter(trainSet2['gsin-category'], trainSet2['end-user-entity-top'], s = 50, c = yPred2, cmap = plt.cm.Paired)\n",
    "plt.show()"
   ]
  },
  {
   "cell_type": "markdown",
   "metadata": {},
   "source": [
    "## Creating Dummy Values"
   ]
  },
  {
   "cell_type": "code",
   "execution_count": 386,
   "metadata": {},
   "outputs": [
    {
     "data": {
      "text/plain": [
       "(63394, 1)"
      ]
     },
     "execution_count": 386,
     "metadata": {},
     "output_type": "execute_result"
    }
   ],
   "source": [
    "#Dummy 1 for the dependent variable\n",
    "\n",
    "cat1 = pd.get_dummies(modelCH['stantec-supplier'],drop_first=True)\n",
    "cat1 = cat1.rename({'yes':'stantec-supplier-mod'}, axis = 1)\n",
    "modelCH = pd.concat([modelCH,cat1],axis=1)\n",
    "cat1.shape\n"
   ]
  },
  {
   "cell_type": "code",
   "execution_count": 387,
   "metadata": {},
   "outputs": [
    {
     "data": {
      "text/plain": [
       "(63394, 44)"
      ]
     },
     "execution_count": 387,
     "metadata": {},
     "output_type": "execute_result"
    }
   ],
   "source": [
    "#Dummy 2 for gsin-description-top\n",
    "\n",
    "cat2 = pd.get_dummies(modelCH['gsin-description-top'], prefix = 'top-gsin')\n",
    "modelCH = pd.concat([modelCH,cat2],axis=1)\n",
    "cat2.shape"
   ]
  },
  {
   "cell_type": "code",
   "execution_count": 388,
   "metadata": {},
   "outputs": [
    {
     "data": {
      "text/plain": [
       "(63394, 11)"
      ]
     },
     "execution_count": 388,
     "metadata": {},
     "output_type": "execute_result"
    }
   ],
   "source": [
    "#Dummy 3 for gsin-category\n",
    "\n",
    "cat3 = pd.get_dummies(modelCH['gsin-category'], prefix = 'gsin_cat')\n",
    "modelCH = pd.concat([modelCH,cat3],axis=1)\n",
    "cat3.shape"
   ]
  },
  {
   "cell_type": "code",
   "execution_count": 389,
   "metadata": {},
   "outputs": [
    {
     "data": {
      "text/plain": [
       "(63394, 1)"
      ]
     },
     "execution_count": 389,
     "metadata": {},
     "output_type": "execute_result"
    }
   ],
   "source": [
    "#Dummy 4 for competitive-tender_en\n",
    "\n",
    "cat4 = pd.get_dummies(modelCH['competitive-tender_en'], prefix = 'competitive_tender', drop_first=True)\n",
    "modelCH = pd.concat([modelCH,cat4],axis=1)\n",
    "cat4.shape"
   ]
  },
  {
   "cell_type": "code",
   "execution_count": 390,
   "metadata": {},
   "outputs": [
    {
     "data": {
      "text/plain": [
       "(63394, 4)"
      ]
     },
     "execution_count": 390,
     "metadata": {},
     "output_type": "execute_result"
    }
   ],
   "source": [
    "#Dummy 5 for solicitation-procedure-description_en\n",
    "\n",
    "cat5 = pd.get_dummies(modelCH['solicitation-procedure-description_en'], prefix = 'solicitation_procedure')\n",
    "modelCH = pd.concat([modelCH,cat5],axis=1)\n",
    "cat5.shape"
   ]
  },
  {
   "cell_type": "code",
   "execution_count": 391,
   "metadata": {},
   "outputs": [
    {
     "data": {
      "text/plain": [
       "(63394, 33)"
      ]
     },
     "execution_count": 391,
     "metadata": {},
     "output_type": "execute_result"
    }
   ],
   "source": [
    "#Dummy 6 for trade-agreement\n",
    "\n",
    "cat6 = pd.get_dummies(modelCH['trade-agreement'], prefix = 'trade-agreement')\n",
    "modelCH = pd.concat([modelCH,cat6],axis=1)\n",
    "cat6.shape"
   ]
  },
  {
   "cell_type": "code",
   "execution_count": 392,
   "metadata": {},
   "outputs": [
    {
     "data": {
      "text/plain": [
       "(63394, 20)"
      ]
     },
     "execution_count": 392,
     "metadata": {},
     "output_type": "execute_result"
    }
   ],
   "source": [
    "#Dummy 7 for end-user-entity-top\n",
    "\n",
    "cat7 = pd.get_dummies(modelCH['end-user-entity-top'], prefix = 'end_user')\n",
    "modelCH = pd.concat([modelCH,cat7],axis=1)\n",
    "cat7.shape"
   ]
  },
  {
   "cell_type": "code",
   "execution_count": 393,
   "metadata": {},
   "outputs": [
    {
     "data": {
      "text/plain": [
       "(63394, 19)"
      ]
     },
     "execution_count": 393,
     "metadata": {},
     "output_type": "execute_result"
    }
   ],
   "source": [
    "#Dummy 8 for contracting-address-city-top\n",
    "\n",
    "cat8 = pd.get_dummies(modelCH['contracting-address-city-top'], prefix = 'contracting-city')\n",
    "modelCH = pd.concat([modelCH,cat8],axis=1)\n",
    "cat8.shape"
   ]
  },
  {
   "cell_type": "code",
   "execution_count": 394,
   "metadata": {},
   "outputs": [
    {
     "data": {
      "text/plain": [
       "(63394, 13)"
      ]
     },
     "execution_count": 394,
     "metadata": {},
     "output_type": "execute_result"
    }
   ],
   "source": [
    "#Dummy 9 for contracting-address-prov-state\n",
    "\n",
    "cat9 = pd.get_dummies(modelCH['contracting-address-prov-state'], prefix = 'contracting_prov')\n",
    "train = pd.concat([modelCH,cat9],axis=1)\n",
    "cat9.shape\n"
   ]
  },
  {
   "cell_type": "code",
   "execution_count": 395,
   "metadata": {},
   "outputs": [
    {
     "data": {
      "text/plain": [
       "(63394, 12)"
      ]
     },
     "execution_count": 395,
     "metadata": {},
     "output_type": "execute_result"
    }
   ],
   "source": [
    "#Dummy 10 for award month\n",
    "\n",
    "cat10 = pd.get_dummies(modelCH['award month'], prefix = 'award month')\n",
    "modelCH = pd.concat([modelCH,cat10],axis=1)\n",
    "cat10.shape\n"
   ]
  },
  {
   "cell_type": "code",
   "execution_count": 396,
   "metadata": {},
   "outputs": [
    {
     "data": {
      "text/plain": [
       "\"Main Categories\\n'gsin-description-top'\\n'gsin-category'\\n'competitive-tender_en'\\n'solicitation-procedure-description_en'\\n'trade-agreement'\\n'total-contract-value-normalized'\\n'end-user-entity-top'\\n'contracting-address-city-top'\\n'contracting-address-prov-state'\\n'days-since-first-award-normalized'\\n'award-year-normalized'\\n'award month'\\n'stantec-supplier'\\n\""
      ]
     },
     "execution_count": 396,
     "metadata": {},
     "output_type": "execute_result"
    }
   ],
   "source": [
    "'''Main Categories\n",
    "'gsin-description-top'\n",
    "'gsin-category'\n",
    "'competitive-tender_en'\n",
    "'solicitation-procedure-description_en'\n",
    "'trade-agreement'\n",
    "'total-contract-value-normalized'\n",
    "'end-user-entity-top'\n",
    "'contracting-address-city-top'\n",
    "'contracting-address-prov-state'\n",
    "'days-since-first-award-normalized'\n",
    "'award-year-normalized'\n",
    "'award month'\n",
    "'stantec-supplier'\n",
    "'''"
   ]
  },
  {
   "cell_type": "code",
   "execution_count": 397,
   "metadata": {},
   "outputs": [],
   "source": [
    "modelCH.columns\n",
    "\n",
    "modelCH = modelCH.drop(['gsin-description-top', 'gsin-category', 'competitive-tender_en', 'contracting-address-postal-top', 'solicitation-procedure-description_en', 'trade-agreement', 'end-user-entity-top', 'contracting-address-city-top', 'contracting-address-prov-state', 'award month'], axis = 1)"
   ]
  },
  {
   "cell_type": "markdown",
   "metadata": {},
   "source": [
    "## Feature Evaluation Tools"
   ]
  },
  {
   "cell_type": "markdown",
   "metadata": {},
   "source": [
    "### Manual Linear Regression Approach Using R Score"
   ]
  },
  {
   "cell_type": "code",
   "execution_count": 398,
   "metadata": {},
   "outputs": [
    {
     "data": {
      "text/plain": [
       "147"
      ]
     },
     "execution_count": 398,
     "metadata": {},
     "output_type": "execute_result"
    }
   ],
   "source": [
    "#Creating a loop to enable model evaluation using r score on full set of variables - code development in progress\n",
    "\n",
    "from sklearn import linear_model\n",
    "\n",
    "featureEvalDatax = modelCH.drop(['stantec-supplier-mod', 'stantec-supplier'], axis = 1)\n",
    "featureEvalDatay = modelCH['stantec-supplier-mod']\n",
    "\n",
    "a=0\n",
    "topAttribute = []\n",
    "for attribute in featureEvalDatax:\n",
    "    x = featureEvalDatax.iloc[:, a:a+1:1]\n",
    "    y = featureEvalDatay\n",
    "    regrFE = linear_model.LinearRegression().fit(x, y)\n",
    "    topAttribute.append((regrFE.score(x, y), featureEvalDatax.columns[a]))\n",
    "    a=a+1\n",
    "\n",
    "len(topAttribute)"
   ]
  },
  {
   "cell_type": "code",
   "execution_count": 399,
   "metadata": {},
   "outputs": [
    {
     "name": "stdout",
     "output_type": "stream",
     "text": [
      "[(0.02786861309847022, 'gsin_cat_C'), (0.017317034250872387, 'top-gsin_Engineering Services - Buildings'), (0.00957377475996446, 'trade-agreement_Z'), (0.006990385447206093, 'contracting-city_VANCOUVER'), (0.005368441613116781, 'end_user_Public Works and Government Services Canada'), (0.003970352469997218, 'top-gsin_Architect and Engineering Services - Buildings'), (0.0033554395959797256, 'gsin_cat_B'), (0.002869092648035809, 'trade-agreement_I'), (0.0021034368700646455, 'gsin_cat_T'), (0.002079336301876511, 'top-gsin_Architectual Services - Buildings'), (0.001824215293542486, 'gsin_cat_R'), (0.0017054229343257399, 'trade-agreement_CKZ'), (0.0015617512604477746, 'top-gsin_Environmental Services'), (0.0015473995425828724, 'end_user_Department of National Defence'), (0.0015375898359729634, 'gsin_cat_E'), (0.0012918849798727594, 'contracting-city_GATINEAU'), (0.0012871440347090868, 'gsin_cat_5'), (0.0012092761727415802, 'trade-agreement_A7'), (0.0011506187452093863, 'gsin_cat_D'), (0.0011057815220405498, 'top-gsin_Engineering Services'), (0.001039258413460753, 'contracting-city_EDMONTON'), (0.0008962103828712431, 'trade-agreement_A3'), (0.0007602742903536353, 'top-gsin_Informatics Professional Services'), (0.0007453914849774312, 'days-since-first-award-normalized'), (0.0007407413045833477, 'top-gsin_Architectural & Engineering Services - Highways, Roads, Railways,Bridges and Dams'), (0.0007188106259700122, 'award-year-normalized'), (0.0006271036884623049, 'trade-agreement_N'), (0.0006130682731807502, 'contracting-city_OTTAWA'), (0.0006111717367541791, 'end_user_Other'), (0.000593406057060597, 'contracting-city_TORONTO'), (0.0005427045273540543, 'gsin_cat_A'), (0.0005202924393776787, 'top-gsin_Advertising Media Planning/Buying'), (0.0004923766381257355, 'contracting-city_CALGARY'), (0.0003999954239691794, 'top-gsin_Human Resource Services, Business Consulting/Change Management; Project Management Services'), (0.00030430003818415763, 'contracting-city_WINNIPEG'), (0.0002676500871295895, 'top-gsin_Architect/Engineer Services - Administration & Service Buildings'), (0.00026492535912781, 'trade-agreement_Y'), (0.0002553784887324717, 'gsin_cat_U'), (0.00024671998689973496, 'end_user_Parks Canada'), (0.0002418010868971976, 'top-gsin_Translation Services'), (0.0002368105315214697, 'contracting-city_HALIFAX'), (0.00023152470610798837, 'top-gsin_Marine Architect and Engineering Services'), (0.00021679221489778744, 'top-gsin_Temporary Help Services, General Office Support'), (0.0001936512529202572, 'top-gsin_Information Products'), (0.00018743392351061594, 'contracting-city_Other'), (0.00018108900851776522, 'trade-agreement_X'), (0.00015919820016052633, 'top-gsin_Construction of Other Buildings'), (0.00015638691378994096, 'top-gsin_Audio Visual Production Services'), (0.00014117235096511305, 'top-gsin_Military (R&D)'), (0.00014060177052499512, 'end_user_Health Canada'), (0.00013609207067644125, 'contracting-city_ST JOHNS'), (0.00013368643775901745, 'award month_10'), (0.0001328087808607492, 'award month_04'), (0.00013065644980259083, 'end_user_Employment and Social Development Canada'), (0.00012675653957860966, 'end_user_Canadian Space Agency'), (0.00011986463648872014, 'contracting-city_MISSISSAUGA'), (0.00011776911127892031, 'top-gsin_Product/Material - Design, Development, Formulation, Modification: Science and Technology Related (R&D)'), (0.00011756649870531266, 'trade-agreement_DR'), (0.00010939637547013881, 'contracting-city_ST HUBERT'), (0.00010713756049252066, 'competitive_tender_Yes'), (0.00010713756049252066, 'solicitation_procedure_Traditional Non-Competitive'), (0.00010566337745276932, 'end_user_Agriculture and Agri-Food Canada'), (0.00010074037745699815, 'contracting-city_BORDEN'), (9.865339695658282e-05, 'end_user_Citizenship and Immigration Canada'), (9.664134175968453e-05, 'solicitation_procedure_Open Bidding'), (9.448222954877572e-05, 'top-gsin_Advertising Related Services'), (8.974878528089647e-05, 'top-gsin_Miscellaneous Business Services'), (8.91247663890038e-05, 'top-gsin_Media Monitoring Services'), (8.629969242934799e-05, 'top-gsin_Video Production Services'), (8.55565359721977e-05, 'top-gsin_Public Opinion Research - Quantitative'), (8.264710804239961e-05, 'top-gsin_Waterways, Harbours, Dams and Other Water Works'), (8.137428199961327e-05, 'end_user_Natural Resources Canada'), (8.020930006691351e-05, 'end_user_Foreign Affairs, Trade And Development (Department Of)'), (7.842730900109451e-05, 'trade-agreement_A1'), (7.431484855979775e-05, 'end_user_Industry Canada'), (7.368210269576014e-05, 'top-gsin_Communication Promotional Material (including printing and identification)'), (7.29409535562553e-05, 'top-gsin_General Marine Construction Work'), (7.07182129697781e-05, 'end_user_Veterans Affairs Canada'), (6.95331846545244e-05, 'top-gsin_Astronautics (R&D)'), (6.77562070815485e-05, 'top-gsin_Electrical Installations and Major Repairs'), (6.568392288253122e-05, 'top-gsin_Press Release Distribution'), (6.553593785452172e-05, 'end_user_Royal Canadian Mounted Police'), (6.19648721240651e-05, 'solicitation_procedure_ACAN'), (5.843818163964176e-05, 'end_user_Aboriginal Affairs & Northern Development Canada'), (5.755172256238783e-05, 'top-gsin_Public Opinion Research - Quantitative & Qualitative'), (5.50410051800565e-05, 'top-gsin_Technical / Vocational Training'), (5.31219586313858e-05, 'top-gsin_Publications'), (5.2826790957527514e-05, 'top-gsin_Information Retrieval Services, Database'), (5.274180961400976e-05, 'award month_07'), (5.060167872339427e-05, 'top-gsin_Other'), (5.033095656259423e-05, 'top-gsin_Business Services'), (4.958118234088538e-05, 'top-gsin_General Office Help'), (4.958118234088538e-05, 'top-gsin_Highways, Roads, Railways,  Airfield Runways'), (4.9138774811385844e-05, 'top-gsin_Public Opinion Research - Qualitative'), (4.825408602493475e-05, 'top-gsin_Language Interpretation Services'), (4.766438701564457e-05, 'top-gsin_Advertising Creative Services'), (4.7369565560506643e-05, 'top-gsin_General Contractor Services, Not Elsewhere Specified'), (4.6779978739808215e-05, 'trade-agreement_SB'), (4.545315433690522e-05, 'contracting-city_DARTMOUTH'), (4.0752628213902575e-05, 'award month_06'), (3.878177466365429e-05, 'end_user_Canada Revenue Agency'), (3.864262876063229e-05, 'end_user_Correctional Service of Canada'), (3.778532820852831e-05, 'award month_05'), (3.776868445648507e-05, 'contracting-city_MONTREAL'), (3.19638571188996e-05, 'end_user_Transport Canada'), (3.147075196729965e-05, 'top-gsin_Heating, Ventilation and Air Conditioning Maintenance & Inspection Services'), (2.9869920580294362e-05, 'trade-agreement_00'), (2.7536045466125536e-05, 'top-gsin_Internal and External Audits (Supply Arrangement PASS)'), (2.7121493492376914e-05, 'award month_08'), (2.4224215964041562e-05, 'trade-agreement_A4'), (2.2995974217066006e-05, 'top-gsin_End-to-End Learning Services (Excludes COTS Training)'), (1.9638461483451053e-05, 'trade-agreement_C'), (1.9440082405841608e-05, 'contracting-city_QUEBEC'), (1.8982441068127187e-05, 'award month_12'), (1.8877314651999377e-05, 'end_user_Environment Canada'), (1.8865239622800622e-05, 'contracting-city_Gatineau'), (1.7551644366120556e-05, 'trade-agreement_A'), (1.682845284933787e-05, 'trade-agreement_J'), (1.5414904294575038e-05, 'award month_11'), (1.5139047781054238e-05, 'trade-agreement_A6'), (1.5052958466155175e-05, 'trade-agreement_Q'), (1.1110378420053912e-05, 'contracting-city_CHARLOTTETOWN'), (9.047598969913473e-06, 'total-contract-value-normalized'), (7.321000304871816e-06, 'contracting-city_MONCTON'), (6.329035608043654e-06, 'award month_01'), (5.986090353404805e-06, 'trade-agreement_SA'), (5.436278018966512e-06, 'gsin_cat_S'), (5.109593214758235e-06, 'trade-agreement_A9'), (3.834152478954245e-06, 'award month_09'), (3.7951587235074413e-06, 'trade-agreement_SC'), (3.788710569385678e-06, 'award month_03'), (2.6270859165844485e-06, 'trade-agreement_CKY'), (2.33511379044149e-06, 'trade-agreement_A5'), (1.4593079664670938e-06, 'trade-agreement_B'), (1.0214672296893212e-06, 'trade-agreement_H'), (1.011271469675279e-06, 'award month_02'), (9.822801640968493e-07, 'end_user_Fisheries and Oceans Canada'), (8.755295273221719e-07, 'trade-agreement_A8'), (8.755295273221719e-07, 'trade-agreement_G'), (7.910776491648619e-07, 'gsin_cat_H'), (3.5500281725386884e-07, 'trade-agreement_R'), (2.918247605787627e-07, 'trade-agreement_A2'), (1.459100784639844e-07, 'trade-agreement_CKI'), (1.459100784639844e-07, 'trade-agreement_CKX'), (1.459100784639844e-07, 'trade-agreement_O'), (7.130027313007048e-08, 'solicitation_procedure_Traditional Competitive'), (1.0104032055480161e-09, 'trade-agreement_W')]\n"
     ]
    }
   ],
   "source": [
    "topAttributeSort = sorted(topAttribute, key=lambda tup: tup[0], reverse = True)\n",
    "print(topAttributeSort)"
   ]
  },
  {
   "cell_type": "code",
   "execution_count": 400,
   "metadata": {},
   "outputs": [
    {
     "data": {
      "text/plain": [
       "('gsin_cat_C',\n",
       " 'top-gsin_Engineering Services - Buildings',\n",
       " 'trade-agreement_Z',\n",
       " 'contracting-city_VANCOUVER',\n",
       " 'end_user_Public Works and Government Services Canada',\n",
       " 'gsin_cat_B',\n",
       " 'trade-agreement_I',\n",
       " 'gsin_cat_T',\n",
       " 'top-gsin_Architectual Services - Buildings',\n",
       " 'gsin_cat_R',\n",
       " 'trade-agreement_CKZ',\n",
       " 'top-gsin_Environmental Services',\n",
       " 'end_user_Department of National Defence',\n",
       " 'gsin_cat_E',\n",
       " 'contracting-city_GATINEAU',\n",
       " 'gsin_cat_5',\n",
       " 'trade-agreement_A7',\n",
       " 'gsin_cat_D',\n",
       " 'contracting-city_EDMONTON',\n",
       " 'trade-agreement_A3')"
      ]
     },
     "execution_count": 400,
     "metadata": {},
     "output_type": "execute_result"
    }
   ],
   "source": [
    "#Top 12\n",
    "'gsin_cat_C', 'top-gsin_Engineering Services - Buildings', 'trade-agreement_Z', 'contracting-city_VANCOUVER', 'end_user_Public Works and Government Services Canada', 'gsin_cat_B', 'trade-agreement_I', 'gsin_cat_T', 'top-gsin_Architectual Services - Buildings', 'gsin_cat_R', 'trade-agreement_CKZ', 'top-gsin_Environmental Services'\n",
    "\n",
    "#Top 20\n",
    "'gsin_cat_C', 'top-gsin_Engineering Services - Buildings', 'trade-agreement_Z', 'contracting-city_VANCOUVER', 'end_user_Public Works and Government Services Canada', 'gsin_cat_B', 'trade-agreement_I', 'gsin_cat_T', 'top-gsin_Architectual Services - Buildings', 'gsin_cat_R', 'trade-agreement_CKZ', 'top-gsin_Environmental Services', 'end_user_Department of National Defence', 'gsin_cat_E', 'contracting-city_GATINEAU', 'gsin_cat_5', 'trade-agreement_A7', 'gsin_cat_D', 'contracting-city_EDMONTON', 'trade-agreement_A3'"
   ]
  },
  {
   "cell_type": "markdown",
   "metadata": {},
   "source": [
    "### Automated SelectKBest Approach"
   ]
  },
  {
   "cell_type": "code",
   "execution_count": 401,
   "metadata": {},
   "outputs": [
    {
     "name": "stdout",
     "output_type": "stream",
     "text": [
      "                                                 Specs        Score\n",
      "50                                          gsin_cat_C  1817.292544\n",
      "18           top-gsin_Engineering Services - Buildings  1117.106405\n",
      "95                                   trade-agreement_Z   612.767225\n",
      "133                         contracting-city_VANCOUVER   446.254002\n",
      "112  end_user_Public Works and Government Services ...   342.153080\n",
      "6    top-gsin_Architect and Engineering Services - ...   252.691860\n",
      "49                                          gsin_cat_B   213.424159\n",
      "83                                   trade-agreement_I   182.400846\n",
      "56                                          gsin_cat_T   133.622136\n",
      "8           top-gsin_Architectual Services - Buildings   132.087942\n",
      "54                                          gsin_cat_R   115.851995\n",
      "79                                 trade-agreement_CKZ   108.294859\n",
      "19                     top-gsin_Environmental Services    99.157395\n",
      "102            end_user_Department of National Defence    98.244776\n",
      "52                                          gsin_cat_E    97.620996\n",
      "121                          contracting-city_GATINEAU    82.001109\n",
      "47                                          gsin_cat_5    81.699794\n",
      "71                                  trade-agreement_A7    76.751249\n",
      "51                                          gsin_cat_D    73.024046\n",
      "17                       top-gsin_Engineering Services    70.175301\n"
     ]
    }
   ],
   "source": [
    "#Univariate Selection\n",
    "\n",
    "from sklearn.feature_selection import SelectKBest\n",
    "from sklearn.feature_selection import f_classif\n",
    "\n",
    "bestfeatures = SelectKBest(score_func = f_classif, k=20)\n",
    "fitBF = bestfeatures.fit(featureEvalDatax,featureEvalDatay)\n",
    "BFscores = pd.DataFrame(fitBF.scores_)\n",
    "BFcolumns = pd.DataFrame(featureEvalDatax.columns)\n",
    "featureScores = pd.concat([BFcolumns,BFscores],axis=1)\n",
    "featureScores.columns = ['Specs','Score'] \n",
    "print(featureScores.nlargest(20,'Score')) "
   ]
  },
  {
   "cell_type": "markdown",
   "metadata": {},
   "source": [
    "### Automated ExtraTreesClassifier"
   ]
  },
  {
   "cell_type": "code",
   "execution_count": 402,
   "metadata": {},
   "outputs": [
    {
     "name": "stdout",
     "output_type": "stream",
     "text": [
      "total-contract-value-normalized              0.222165\n",
      "days-since-first-award-normalized            0.164690\n",
      "award-year-normalized                        0.084673\n",
      "gsin_cat_C                                   0.020275\n",
      "top-gsin_Engineering Services - Buildings    0.016999\n",
      "award month_10                               0.016750\n",
      "award month_02                               0.015859\n",
      "contracting-city_OTTAWA                      0.015532\n",
      "contracting-city_VANCOUVER                   0.015029\n",
      "award month_08                               0.014426\n",
      "dtype: float64\n"
     ]
    }
   ],
   "source": [
    "from sklearn.ensemble import ExtraTreesClassifier\n",
    "import matplotlib.pyplot as plt\n",
    "ETC = ExtraTreesClassifier()\n",
    "ETC.fit(featureEvalDatax,featureEvalDatay)\n",
    "feat_importances = pd.Series(ETC.feature_importances_, index = featureEvalDatax.columns)\n",
    "print(feat_importances.nlargest(10))\n",
    "#feat_importances.nlargest(10).plot(kind='barh')\n",
    "#plt.show()"
   ]
  },
  {
   "cell_type": "markdown",
   "metadata": {},
   "source": [
    "## Regression without Balancing for Feature Evaluation - Not Used"
   ]
  },
  {
   "cell_type": "code",
   "execution_count": 403,
   "metadata": {},
   "outputs": [
    {
     "data": {
      "text/plain": [
       "array([[ 3.46231059e-02,  4.26640196e-02,  1.50524608e-02,\n",
       "         1.72809728e-02,  5.93196415e-03,  4.39877866e-02,\n",
       "        -4.52587536e-03,  5.59887501e-04, -9.25775359e-03,\n",
       "        -2.81259949e-03,  9.42207670e-01,  3.36950222e-02]])"
      ]
     },
     "execution_count": 403,
     "metadata": {},
     "output_type": "execute_result"
    }
   ],
   "source": [
    "xTrain = pd.DataFrame(modelCH, columns = ['gsin_cat_C', 'top-gsin_Engineering Services - Buildings', 'trade-agreement_Z', 'contracting-city_VANCOUVER', 'end_user_Public Works and Government Services Canada', 'gsin_cat_B', 'trade-agreement_I', 'gsin_cat_T', 'top-gsin_Architectual Services - Buildings', 'gsin_cat_R', 'trade-agreement_CKZ', 'top-gsin_Environmental Services'])\n",
    "yTrain = pd.DataFrame(modelCH, columns = ['stantec-supplier-mod'])\n",
    "\n",
    "regr = linear_model.LinearRegression().fit(xTrain, yTrain)\n",
    "predTrain = regr.predict(xTrain)\n",
    "\n",
    "regr.coef_\n"
   ]
  },
  {
   "cell_type": "code",
   "execution_count": 404,
   "metadata": {},
   "outputs": [
    {
     "data": {
      "text/plain": [
       "array([-4.37125066e-05])"
      ]
     },
     "execution_count": 404,
     "metadata": {},
     "output_type": "execute_result"
    }
   ],
   "source": [
    "regr.intercept_"
   ]
  },
  {
   "cell_type": "code",
   "execution_count": 405,
   "metadata": {},
   "outputs": [
    {
     "data": {
      "text/plain": [
       "0.044883902130922526"
      ]
     },
     "execution_count": 405,
     "metadata": {},
     "output_type": "execute_result"
    }
   ],
   "source": [
    "regr.score(xTrain, yTrain)"
   ]
  },
  {
   "cell_type": "markdown",
   "metadata": {},
   "source": [
    "## Balancing for Feature Evaluation - Not Used\n",
    "Using the random under-sampling method."
   ]
  },
  {
   "cell_type": "code",
   "execution_count": 406,
   "metadata": {},
   "outputs": [
    {
     "data": {
      "text/plain": [
       "no     62813\n",
       "yes      581\n",
       "Name: stantec-supplier, dtype: int64"
      ]
     },
     "execution_count": 406,
     "metadata": {},
     "output_type": "execute_result"
    }
   ],
   "source": [
    "modelCH['stantec-supplier'].value_counts()"
   ]
  },
  {
   "cell_type": "code",
   "execution_count": 407,
   "metadata": {},
   "outputs": [
    {
     "name": "stdout",
     "output_type": "stream",
     "text": [
      "no     581\n",
      "yes    581\n",
      "Name: stantec-supplier, dtype: int64\n"
     ]
    }
   ],
   "source": [
    "count_class_0, count_class_1 = modelCH['stantec-supplier'].value_counts()\n",
    "ch_class_0 = modelCH[modelCH['stantec-supplier'] == 'no']\n",
    "ch_class_1 = modelCH[modelCH['stantec-supplier'] == 'yes']\n",
    "ch_class_0_under = ch_class_0.sample(count_class_1)\n",
    "modelCHUnder = pd.concat([ch_class_0_under, ch_class_1], axis=0)\n",
    "print(modelCHUnder['stantec-supplier'].value_counts())"
   ]
  },
  {
   "cell_type": "code",
   "execution_count": 408,
   "metadata": {},
   "outputs": [],
   "source": [
    "#Random over-sampling\n",
    "#ch_class_1_over = ch_class_1.sample(count_class_0, replace=True)\n",
    "#modelCHOver = pd.concat([ch_class_0, ch_class_1_over], axis=0)\n",
    "#print(modelCHOver['stantec-supplier'].value_counts())"
   ]
  },
  {
   "cell_type": "markdown",
   "metadata": {},
   "source": [
    "## Regression with Balancing FOR Feature Evaluation - Not Used"
   ]
  },
  {
   "cell_type": "code",
   "execution_count": 409,
   "metadata": {},
   "outputs": [
    {
     "data": {
      "text/plain": [
       "array([[ 0.48076456,  0.04013402,  0.06579057,  0.08695126,  0.1945516 ,\n",
       "         0.5793359 , -0.14492431, -0.06269766, -0.01105547, -0.13465156,\n",
       "         0.10906739,  0.52845545]])"
      ]
     },
     "execution_count": 409,
     "metadata": {},
     "output_type": "execute_result"
    }
   ],
   "source": [
    "xTrainBalance = pd.DataFrame(modelCHUnder, columns = ['gsin_cat_C', 'top-gsin_Engineering Services - Buildings', 'trade-agreement_Z', 'contracting-city_VANCOUVER', 'end_user_Public Works and Government Services Canada', 'gsin_cat_B', 'trade-agreement_I', 'gsin_cat_T', 'top-gsin_Architectual Services - Buildings', 'gsin_cat_R', 'trade-agreement_CKZ', 'top-gsin_Environmental Services'])\n",
    "yTrainBalance = pd.DataFrame(modelCHUnder, columns = ['stantec-supplier-mod'])\n",
    "\n",
    "regrBalance = linear_model.LinearRegression().fit(xTrainBalance, yTrainBalance)\n",
    "predTrainBalance = regrBalance.predict(xTrainBalance)\n",
    "\n",
    "regrBalance.coef_"
   ]
  },
  {
   "cell_type": "code",
   "execution_count": 410,
   "metadata": {},
   "outputs": [
    {
     "data": {
      "text/plain": [
       "array([0.12866518])"
      ]
     },
     "execution_count": 410,
     "metadata": {},
     "output_type": "execute_result"
    }
   ],
   "source": [
    "regrBalance.intercept_"
   ]
  },
  {
   "cell_type": "code",
   "execution_count": 411,
   "metadata": {},
   "outputs": [
    {
     "data": {
      "text/plain": [
       "0.5361260747143395"
      ]
     },
     "execution_count": 411,
     "metadata": {},
     "output_type": "execute_result"
    }
   ],
   "source": [
    "regrBalance.score(xTrainBalance, yTrainBalance)"
   ]
  },
  {
   "cell_type": "markdown",
   "metadata": {},
   "source": [
    "## Creating the Test & Training Set "
   ]
  },
  {
   "cell_type": "code",
   "execution_count": 412,
   "metadata": {},
   "outputs": [],
   "source": [
    "from sklearn.model_selection import KFold\n",
    "\n",
    "kf5 = KFold(n_splits=5, shuffle=True, random_state = 2)\n",
    "result = next(kf5.split(modelCH, None))\n",
    "train = modelCH.iloc[result[0]]\n",
    "test = modelCH.iloc[result[1]]"
   ]
  },
  {
   "cell_type": "markdown",
   "metadata": {},
   "source": [
    "## Unbalanced Linear Model"
   ]
  },
  {
   "cell_type": "code",
   "execution_count": 413,
   "metadata": {},
   "outputs": [],
   "source": [
    "#Unbalanced regression model evaluation\n",
    "from sklearn.metrics import confusion_matrix\n",
    "\n",
    "xTrainEval = pd.DataFrame(train, columns = ['gsin_cat_C', 'top-gsin_Engineering Services - Buildings', 'trade-agreement_Z', 'contracting-city_VANCOUVER', 'end_user_Public Works and Government Services Canada', 'gsin_cat_B', 'trade-agreement_I', 'gsin_cat_T', 'top-gsin_Architectual Services - Buildings', 'gsin_cat_R', 'trade-agreement_CKZ', 'top-gsin_Environmental Services'])\n",
    "yTrainEval = pd.DataFrame(train, columns = ['stantec-supplier-mod'])\n",
    "xTestEval = pd.DataFrame(test, columns = ['gsin_cat_C', 'top-gsin_Engineering Services - Buildings', 'trade-agreement_Z', 'contracting-city_VANCOUVER', 'end_user_Public Works and Government Services Canada', 'gsin_cat_B', 'trade-agreement_I', 'gsin_cat_T', 'top-gsin_Architectual Services - Buildings', 'gsin_cat_R', 'trade-agreement_CKZ', 'top-gsin_Environmental Services'])\n",
    "yTestEval = pd.DataFrame(test, columns = ['stantec-supplier-mod'])"
   ]
  },
  {
   "cell_type": "code",
   "execution_count": 414,
   "metadata": {},
   "outputs": [
    {
     "data": {
      "text/plain": [
       "stantec-supplier-mod\n",
       "0                       12552\n",
       "1                         127\n",
       "dtype: int64"
      ]
     },
     "execution_count": 414,
     "metadata": {},
     "output_type": "execute_result"
    }
   ],
   "source": [
    "regr2 = linear_model.LinearRegression().fit(xTrainEval, yTrainEval)\n",
    "predTrain = regr2.predict(xTrainEval)\n",
    "predTest = regr2.predict(xTestEval)\n",
    "#confusion_matrix(yTestEval, predTest)\n",
    "yTestEval.value_counts()\n",
    "#note that a confusion matrix does not work here because of the result is a probablility not an outcome - will need to swtich to a classification model for proper results"
   ]
  },
  {
   "cell_type": "code",
   "execution_count": 415,
   "metadata": {},
   "outputs": [
    {
     "data": {
      "text/plain": [
       "array([[10285,  2267],\n",
       "       [   12,   115]], dtype=int64)"
      ]
     },
     "execution_count": 415,
     "metadata": {},
     "output_type": "execute_result"
    }
   ],
   "source": [
    "#0.01 used for prediction since approximately 127 of 12679 or 0.01% of the test values are positive\n",
    "\n",
    "outcome = []\n",
    "for pred in predTest:\n",
    "    if (pred > 0.01):\n",
    "        outcome.append(1)\n",
    "    elif (pred <= 0.01):\n",
    "        outcome.append(0)\n",
    "\n",
    "confusion_matrix(yTestEval, outcome)"
   ]
  },
  {
   "cell_type": "code",
   "execution_count": 416,
   "metadata": {},
   "outputs": [
    {
     "name": "stdout",
     "output_type": "stream",
     "text": [
      "              precision    recall  f1-score   support\n",
      "\n",
      "           0       1.00      0.82      0.90     12552\n",
      "           1       0.05      0.91      0.09       127\n",
      "\n",
      "    accuracy                           0.82     12679\n",
      "   macro avg       0.52      0.86      0.50     12679\n",
      "weighted avg       0.99      0.82      0.89     12679\n",
      "\n"
     ]
    }
   ],
   "source": [
    "from sklearn.metrics import classification_report\n",
    "\n",
    "print(classification_report(yTestEval, outcome))"
   ]
  },
  {
   "cell_type": "code",
   "execution_count": 417,
   "metadata": {},
   "outputs": [
    {
     "name": "stdout",
     "output_type": "stream",
     "text": [
      "0.8624515715411291\n"
     ]
    }
   ],
   "source": [
    "from sklearn.metrics import roc_auc_score\n",
    "\n",
    "auc = roc_auc_score(yTestEval, outcome)\n",
    "print(auc)"
   ]
  },
  {
   "cell_type": "markdown",
   "metadata": {},
   "source": [
    "## Creating the Balanced Dataset for Use in All Models"
   ]
  },
  {
   "cell_type": "code",
   "execution_count": 418,
   "metadata": {},
   "outputs": [
    {
     "name": "stdout",
     "output_type": "stream",
     "text": [
      "no     454\n",
      "yes    454\n",
      "Name: stantec-supplier, dtype: int64\n"
     ]
    }
   ],
   "source": [
    "#Train Balanced model\n",
    "count_class_0, count_class_1 = train['stantec-supplier'].value_counts()\n",
    "ch_class_0 = train[train['stantec-supplier'] == 'no']\n",
    "ch_class_1 = train[train['stantec-supplier'] == 'yes']\n",
    "ch_class_0_under = ch_class_0.sample(count_class_1)\n",
    "trainUnder = pd.concat([ch_class_0_under, ch_class_1], axis=0)\n",
    "print(trainUnder['stantec-supplier'].value_counts())\n"
   ]
  },
  {
   "cell_type": "code",
   "execution_count": 419,
   "metadata": {},
   "outputs": [],
   "source": [
    "#Test Balanced model - not used\n",
    "#count_class_2, count_class_3 = test['stantec-supplier'].value_counts()\n",
    "#ch_class_2 = test[test['stantec-supplier'] == 'no']\n",
    "#ch_class_3 = test[test['stantec-supplier'] == 'yes']\n",
    "#ch_class_2_under = ch_class_2.sample(count_class_3)\n",
    "#TestUnder = pd.concat([ch_class_2_under, ch_class_3], axis=0)\n",
    "#print(TestUnder['stantec-supplier'].value_counts())"
   ]
  },
  {
   "cell_type": "markdown",
   "metadata": {},
   "source": [
    "## Linear Model with All the Features"
   ]
  },
  {
   "cell_type": "code",
   "execution_count": 420,
   "metadata": {},
   "outputs": [],
   "source": [
    "trainUnderAll = trainUnder.drop(['stantec-supplier-mod', 'stantec-supplier'], axis = 1)\n",
    "testAll = test.drop(['stantec-supplier-mod', 'stantec-supplier'], axis = 1)"
   ]
  },
  {
   "cell_type": "code",
   "execution_count": 421,
   "metadata": {},
   "outputs": [],
   "source": [
    "#Balanced regression model evaluation - All Features\n",
    "xTrainEvalE = pd.DataFrame(trainUnderAll)\n",
    "yTrainEvalE = pd.DataFrame(trainUnder, columns = ['stantec-supplier-mod'])\n",
    "xTestEvalE = pd.DataFrame(testAll)\n",
    "yTestEvalE = pd.DataFrame(test, columns = ['stantec-supplier-mod'])"
   ]
  },
  {
   "cell_type": "code",
   "execution_count": 422,
   "metadata": {},
   "outputs": [
    {
     "data": {
      "text/plain": [
       "array([[10486,  2066],\n",
       "       [   10,   117]], dtype=int64)"
      ]
     },
     "execution_count": 422,
     "metadata": {},
     "output_type": "execute_result"
    }
   ],
   "source": [
    "regrBalance4 = linear_model.LinearRegression().fit(xTrainEvalE, yTrainEvalE)\n",
    "predTrainBalance4 = regrBalance4.predict(xTrainEvalE)\n",
    "predTestBalance4 = regrBalance4.predict(xTestEvalE)\n",
    "\n",
    "outcome4 = []\n",
    "for pred in predTestBalance4:\n",
    "    if (pred > 0.5):\n",
    "        outcome4.append(1)\n",
    "    elif (pred <= 0.5):\n",
    "        outcome4.append(0)\n",
    "\n",
    "confusion_matrix(yTestEvalE, outcome4)"
   ]
  },
  {
   "cell_type": "code",
   "execution_count": 423,
   "metadata": {},
   "outputs": [
    {
     "name": "stdout",
     "output_type": "stream",
     "text": [
      "              precision    recall  f1-score   support\n",
      "\n",
      "           0       1.00      0.84      0.91     12552\n",
      "           1       0.05      0.92      0.10       127\n",
      "\n",
      "    accuracy                           0.84     12679\n",
      "   macro avg       0.53      0.88      0.51     12679\n",
      "weighted avg       0.99      0.84      0.90     12679\n",
      "\n"
     ]
    }
   ],
   "source": [
    "print(classification_report(yTestEvalE, outcome4))"
   ]
  },
  {
   "cell_type": "code",
   "execution_count": 424,
   "metadata": {},
   "outputs": [
    {
     "name": "stdout",
     "output_type": "stream",
     "text": [
      "0.8783322794497724\n"
     ]
    }
   ],
   "source": [
    "auc = roc_auc_score(yTestEvalE, outcome4)\n",
    "print(auc)"
   ]
  },
  {
   "cell_type": "markdown",
   "metadata": {},
   "source": [
    "## Balanced Linear Model"
   ]
  },
  {
   "cell_type": "code",
   "execution_count": 425,
   "metadata": {},
   "outputs": [],
   "source": [
    "#BALANCED\n",
    "\n",
    "# SelectKBest Top 13\n",
    "# 'gsin_cat_C', 'top-gsin_Engineering Services - Buildings', 'trade-agreement_Z', 'contracting-city_VANCOUVER', 'end_user_Public Works and Government Services Canada', 'top-gsin_Architect and Engineering Services - Buildings', 'gsin_cat_B', 'trade-agreement_I', 'gsin_cat_T', 'top-gsin_Architectual Services - Buildings', 'gsin_cat_R', 'trade-agreement_CKZ', 'top-gsin_Environmental Services'\n",
    "\n",
    "# SelectKBest Top 16\n",
    "# 'gsin_cat_C', 'top-gsin_Engineering Services - Buildings', 'trade-agreement_Z', 'contracting-city_VANCOUVER', 'end_user_Public Works and Government Services Canada', 'top-gsin_Architect and Engineering Services - Buildings', 'gsin_cat_B', 'trade-agreement_I', 'gsin_cat_T', 'top-gsin_Architectual Services - Buildings', 'gsin_cat_R', 'trade-agreement_CKZ', 'top-gsin_Environmental Services', 'end_user_Department of National Defence', 'gsin_cat_E', 'contracting-city_GATINEAU'\n",
    "\n",
    "# RFE Top 16\n",
    "# 'gsin_cat_C', 'top-gsin_Engineering Services - Buildings', 'end_user_Public Works and Government Services Canada', 'gsin_cat_B', 'trade-agreement_I', 'gsin_cat_T', 'gsin_cat_E', 'contracting-city_GATINEAU'\n",
    "\n",
    "# Manual Feature Evaluation Top 12: \n",
    "# 'gsin_cat_C', 'top-gsin_Engineering Services - Buildings', 'trade-agreement_Z', 'contracting-city_VANCOUVER', 'end_user_Public Works and Government Services Canada', 'gsin_cat_B', 'trade-agreement_I', 'gsin_cat_T', 'top-gsin_Architectual Services - Buildings', 'gsin_cat_R', 'trade-agreement_CKZ', 'top-gsin_Environmental Services'\n"
   ]
  },
  {
   "cell_type": "code",
   "execution_count": 426,
   "metadata": {},
   "outputs": [],
   "source": [
    "#Balanced regression model evaluation - SelectKBest Top 16\n",
    "xTrainEvalB = pd.DataFrame(trainUnder, columns = ['gsin_cat_C', 'top-gsin_Engineering Services - Buildings', 'trade-agreement_Z', 'contracting-city_VANCOUVER', 'end_user_Public Works and Government Services Canada', 'top-gsin_Architect and Engineering Services - Buildings', 'gsin_cat_B', 'trade-agreement_I', 'gsin_cat_T', 'top-gsin_Architectual Services - Buildings', 'gsin_cat_R', 'trade-agreement_CKZ', 'top-gsin_Environmental Services', 'end_user_Department of National Defence', 'gsin_cat_E', 'contracting-city_GATINEAU'])\n",
    "yTrainEvalB = pd.DataFrame(trainUnder, columns = ['stantec-supplier-mod'])\n",
    "xTestEvalB = pd.DataFrame(test, columns = ['gsin_cat_C', 'top-gsin_Engineering Services - Buildings', 'trade-agreement_Z', 'contracting-city_VANCOUVER', 'end_user_Public Works and Government Services Canada', 'top-gsin_Architect and Engineering Services - Buildings', 'gsin_cat_B', 'trade-agreement_I', 'gsin_cat_T', 'top-gsin_Architectual Services - Buildings', 'gsin_cat_R', 'trade-agreement_CKZ', 'top-gsin_Environmental Services', 'end_user_Department of National Defence', 'gsin_cat_E', 'contracting-city_GATINEAU'])\n",
    "yTestEvalB = pd.DataFrame(test, columns = ['stantec-supplier-mod'])"
   ]
  },
  {
   "cell_type": "code",
   "execution_count": 427,
   "metadata": {},
   "outputs": [
    {
     "data": {
      "text/plain": [
       "array([[10676,  1876],\n",
       "       [   10,   117]], dtype=int64)"
      ]
     },
     "execution_count": 427,
     "metadata": {},
     "output_type": "execute_result"
    }
   ],
   "source": [
    "regrBalance2 = linear_model.LinearRegression().fit(xTrainEvalB, yTrainEvalB)\n",
    "predTrainBalance2 = regrBalance2.predict(xTrainEvalB)\n",
    "predTestBalance2 = regrBalance2.predict(xTestEvalB)\n",
    "\n",
    "outcome2 = []\n",
    "for pred in predTestBalance2:\n",
    "    if (pred > 0.5):\n",
    "        outcome2.append(1)\n",
    "    elif (pred <= 0.5):\n",
    "        outcome2.append(0)\n",
    "\n",
    "confusion_matrix(yTestEvalB, outcome2)"
   ]
  },
  {
   "cell_type": "code",
   "execution_count": 428,
   "metadata": {},
   "outputs": [
    {
     "name": "stdout",
     "output_type": "stream",
     "text": [
      "              precision    recall  f1-score   support\n",
      "\n",
      "           0       1.00      0.85      0.92     12552\n",
      "           1       0.06      0.92      0.11       127\n",
      "\n",
      "    accuracy                           0.85     12679\n",
      "   macro avg       0.53      0.89      0.51     12679\n",
      "weighted avg       0.99      0.85      0.91     12679\n",
      "\n"
     ]
    }
   ],
   "source": [
    "print(classification_report(yTestEvalB, outcome2))"
   ]
  },
  {
   "cell_type": "code",
   "execution_count": 429,
   "metadata": {},
   "outputs": [
    {
     "name": "stdout",
     "output_type": "stream",
     "text": [
      "0.8859007944274653\n"
     ]
    }
   ],
   "source": [
    "print(roc_auc_score(yTestEvalB, outcome2))"
   ]
  },
  {
   "cell_type": "markdown",
   "metadata": {},
   "source": [
    "## Testing RFE for Logistic Regression - In Development"
   ]
  },
  {
   "cell_type": "code",
   "execution_count": 430,
   "metadata": {},
   "outputs": [
    {
     "name": "stderr",
     "output_type": "stream",
     "text": [
      "C:\\Users\\alana\\AppData\\Local\\Programs\\Python\\Python39\\lib\\site-packages\\sklearn\\utils\\validation.py:985: DataConversionWarning: A column-vector y was passed when a 1d array was expected. Please change the shape of y to (n_samples, ), for example using ravel().\n",
      "  y = column_or_1d(y, warn=True)\n",
      "C:\\Users\\alana\\AppData\\Local\\Programs\\Python\\Python39\\lib\\site-packages\\sklearn\\utils\\validation.py:985: DataConversionWarning: A column-vector y was passed when a 1d array was expected. Please change the shape of y to (n_samples, ), for example using ravel().\n",
      "  y = column_or_1d(y, warn=True)\n",
      "C:\\Users\\alana\\AppData\\Local\\Programs\\Python\\Python39\\lib\\site-packages\\sklearn\\utils\\validation.py:985: DataConversionWarning: A column-vector y was passed when a 1d array was expected. Please change the shape of y to (n_samples, ), for example using ravel().\n",
      "  y = column_or_1d(y, warn=True)\n",
      "C:\\Users\\alana\\AppData\\Local\\Programs\\Python\\Python39\\lib\\site-packages\\sklearn\\utils\\validation.py:985: DataConversionWarning: A column-vector y was passed when a 1d array was expected. Please change the shape of y to (n_samples, ), for example using ravel().\n",
      "  y = column_or_1d(y, warn=True)\n",
      "C:\\Users\\alana\\AppData\\Local\\Programs\\Python\\Python39\\lib\\site-packages\\sklearn\\utils\\validation.py:985: DataConversionWarning: A column-vector y was passed when a 1d array was expected. Please change the shape of y to (n_samples, ), for example using ravel().\n",
      "  y = column_or_1d(y, warn=True)\n",
      "C:\\Users\\alana\\AppData\\Local\\Programs\\Python\\Python39\\lib\\site-packages\\sklearn\\utils\\validation.py:985: DataConversionWarning: A column-vector y was passed when a 1d array was expected. Please change the shape of y to (n_samples, ), for example using ravel().\n",
      "  y = column_or_1d(y, warn=True)\n",
      "C:\\Users\\alana\\AppData\\Local\\Programs\\Python\\Python39\\lib\\site-packages\\sklearn\\utils\\validation.py:985: DataConversionWarning: A column-vector y was passed when a 1d array was expected. Please change the shape of y to (n_samples, ), for example using ravel().\n",
      "  y = column_or_1d(y, warn=True)\n"
     ]
    },
    {
     "name": "stdout",
     "output_type": "stream",
     "text": [
      "[ True False False False  True False  True  True  True False False False\n",
      "  True False  True  True]\n",
      "[1 3 6 9 1 4 1 1 1 5 7 8 1 2 1 1]\n"
     ]
    },
    {
     "name": "stderr",
     "output_type": "stream",
     "text": [
      "C:\\Users\\alana\\AppData\\Local\\Programs\\Python\\Python39\\lib\\site-packages\\sklearn\\utils\\validation.py:985: DataConversionWarning: A column-vector y was passed when a 1d array was expected. Please change the shape of y to (n_samples, ), for example using ravel().\n",
      "  y = column_or_1d(y, warn=True)\n",
      "C:\\Users\\alana\\AppData\\Local\\Programs\\Python\\Python39\\lib\\site-packages\\sklearn\\utils\\validation.py:985: DataConversionWarning: A column-vector y was passed when a 1d array was expected. Please change the shape of y to (n_samples, ), for example using ravel().\n",
      "  y = column_or_1d(y, warn=True)\n"
     ]
    }
   ],
   "source": [
    "from sklearn.linear_model import LogisticRegression\n",
    "from sklearn.feature_selection import RFE\n",
    "\n",
    "logReg3 = LogisticRegression()\n",
    "rfe = RFE(logReg3)\n",
    "rfe = rfe.fit(xTrainEvalB,yTrainEvalB)\n",
    "print(rfe.support_)\n",
    "print(rfe.ranking_)"
   ]
  },
  {
   "cell_type": "code",
   "execution_count": 431,
   "metadata": {},
   "outputs": [
    {
     "name": "stderr",
     "output_type": "stream",
     "text": [
      "C:\\Users\\alana\\AppData\\Local\\Programs\\Python\\Python39\\lib\\site-packages\\sklearn\\utils\\validation.py:985: DataConversionWarning: A column-vector y was passed when a 1d array was expected. Please change the shape of y to (n_samples, ), for example using ravel().\n",
      "  y = column_or_1d(y, warn=True)\n",
      "C:\\Users\\alana\\AppData\\Local\\Programs\\Python\\Python39\\lib\\site-packages\\sklearn\\utils\\validation.py:985: DataConversionWarning: A column-vector y was passed when a 1d array was expected. Please change the shape of y to (n_samples, ), for example using ravel().\n",
      "  y = column_or_1d(y, warn=True)\n",
      "C:\\Users\\alana\\AppData\\Local\\Programs\\Python\\Python39\\lib\\site-packages\\sklearn\\utils\\validation.py:985: DataConversionWarning: A column-vector y was passed when a 1d array was expected. Please change the shape of y to (n_samples, ), for example using ravel().\n",
      "  y = column_or_1d(y, warn=True)\n",
      "C:\\Users\\alana\\AppData\\Local\\Programs\\Python\\Python39\\lib\\site-packages\\sklearn\\utils\\validation.py:985: DataConversionWarning: A column-vector y was passed when a 1d array was expected. Please change the shape of y to (n_samples, ), for example using ravel().\n",
      "  y = column_or_1d(y, warn=True)\n",
      "C:\\Users\\alana\\AppData\\Local\\Programs\\Python\\Python39\\lib\\site-packages\\sklearn\\utils\\validation.py:985: DataConversionWarning: A column-vector y was passed when a 1d array was expected. Please change the shape of y to (n_samples, ), for example using ravel().\n",
      "  y = column_or_1d(y, warn=True)\n",
      "C:\\Users\\alana\\AppData\\Local\\Programs\\Python\\Python39\\lib\\site-packages\\sklearn\\utils\\validation.py:985: DataConversionWarning: A column-vector y was passed when a 1d array was expected. Please change the shape of y to (n_samples, ), for example using ravel().\n",
      "  y = column_or_1d(y, warn=True)\n",
      "C:\\Users\\alana\\AppData\\Local\\Programs\\Python\\Python39\\lib\\site-packages\\sklearn\\utils\\validation.py:985: DataConversionWarning: A column-vector y was passed when a 1d array was expected. Please change the shape of y to (n_samples, ), for example using ravel().\n",
      "  y = column_or_1d(y, warn=True)\n"
     ]
    },
    {
     "name": "stdout",
     "output_type": "stream",
     "text": [
      "0.8545626626705576\n"
     ]
    },
    {
     "name": "stderr",
     "output_type": "stream",
     "text": [
      "C:\\Users\\alana\\AppData\\Local\\Programs\\Python\\Python39\\lib\\site-packages\\sklearn\\utils\\validation.py:985: DataConversionWarning: A column-vector y was passed when a 1d array was expected. Please change the shape of y to (n_samples, ), for example using ravel().\n",
      "  y = column_or_1d(y, warn=True)\n",
      "C:\\Users\\alana\\AppData\\Local\\Programs\\Python\\Python39\\lib\\site-packages\\sklearn\\utils\\validation.py:985: DataConversionWarning: A column-vector y was passed when a 1d array was expected. Please change the shape of y to (n_samples, ), for example using ravel().\n",
      "  y = column_or_1d(y, warn=True)\n",
      "C:\\Users\\alana\\AppData\\Local\\Programs\\Python\\Python39\\lib\\site-packages\\sklearn\\utils\\validation.py:985: DataConversionWarning: A column-vector y was passed when a 1d array was expected. Please change the shape of y to (n_samples, ), for example using ravel().\n",
      "  y = column_or_1d(y, warn=True)\n"
     ]
    }
   ],
   "source": [
    "from sklearn.pipeline import Pipeline\n",
    "\n",
    "pipeline = Pipeline(steps=[('s', rfe),('logm',logReg3)])\n",
    "logRegFit2 = pipeline.fit(xTrainEvalB, yTrainEvalB)\n",
    "logRegPred2 = pipeline.predict(xTestEvalB)\n",
    "score2 = pipeline.score(xTestEvalB, yTestEvalB)\n",
    "print(score2)\n"
   ]
  },
  {
   "cell_type": "code",
   "execution_count": 432,
   "metadata": {},
   "outputs": [
    {
     "name": "stdout",
     "output_type": "stream",
     "text": [
      "[[10719  1833]\n",
      " [   11   116]]\n"
     ]
    }
   ],
   "source": [
    "from sklearn import metrics\n",
    "\n",
    "confMatrix2 = metrics.confusion_matrix(yTestEvalB, logRegPred2)\n",
    "print(confMatrix2)"
   ]
  },
  {
   "cell_type": "code",
   "execution_count": 433,
   "metadata": {},
   "outputs": [
    {
     "name": "stdout",
     "output_type": "stream",
     "text": [
      "              precision    recall  f1-score   support\n",
      "\n",
      "           0       1.00      0.85      0.92     12552\n",
      "           1       0.06      0.91      0.11       127\n",
      "\n",
      "    accuracy                           0.85     12679\n",
      "   macro avg       0.53      0.88      0.52     12679\n",
      "weighted avg       0.99      0.85      0.91     12679\n",
      "\n"
     ]
    }
   ],
   "source": [
    "print(classification_report(yTestEvalB, logRegPred2))"
   ]
  },
  {
   "cell_type": "code",
   "execution_count": 434,
   "metadata": {},
   "outputs": [
    {
     "name": "stdout",
     "output_type": "stream",
     "text": [
      "0.8836766609957695\n"
     ]
    }
   ],
   "source": [
    "print(roc_auc_score(yTestEvalB, logRegPred2))"
   ]
  },
  {
   "cell_type": "markdown",
   "metadata": {},
   "source": [
    "## Applying Kfold with a Balanced Linear Regression - Cannout Use because you aren't testing on the full dataset\n",
    "NEED ADVICE"
   ]
  },
  {
   "cell_type": "code",
   "execution_count": 435,
   "metadata": {},
   "outputs": [
    {
     "name": "stdout",
     "output_type": "stream",
     "text": [
      "no     581\n",
      "yes    581\n",
      "Name: stantec-supplier, dtype: int64\n"
     ]
    }
   ],
   "source": [
    "#Balanced model for Kfold\n",
    "new_count_class_0, new_count_class_1 = modelCH['stantec-supplier'].value_counts()\n",
    "new_ch_class_0 = modelCH[modelCH['stantec-supplier'] == 'no']\n",
    "new_ch_class_1 = modelCH[modelCH['stantec-supplier'] == 'yes']\n",
    "new_ch_class_0_under = new_ch_class_0.sample(new_count_class_1)\n",
    "balanceUnder = pd.concat([new_ch_class_0_under, new_ch_class_1], axis=0)\n",
    "print(balanceUnder['stantec-supplier'].value_counts())"
   ]
  },
  {
   "cell_type": "code",
   "execution_count": 436,
   "metadata": {},
   "outputs": [],
   "source": [
    "#Balanced regression model evaluation with cross validation\n",
    "xTrainEvalC = pd.DataFrame(balanceUnder, columns = ['gsin_cat_C', 'top-gsin_Engineering Services - Buildings', 'trade-agreement_Z', 'contracting-city_VANCOUVER', 'end_user_Public Works and Government Services Canada', 'gsin_cat_B', 'trade-agreement_I', 'gsin_cat_T', 'top-gsin_Architectual Services - Buildings', 'gsin_cat_R', 'trade-agreement_CKZ', 'top-gsin_Environmental Services'])\n",
    "yTrainEvalC = pd.DataFrame(balanceUnder, columns = ['stantec-supplier-mod'])\n",
    "\n",
    "regrBalance3 = linear_model.LinearRegression()"
   ]
  },
  {
   "cell_type": "code",
   "execution_count": 437,
   "metadata": {},
   "outputs": [
    {
     "name": "stdout",
     "output_type": "stream",
     "text": [
      "{'fit_time': array([0.01193786, 0.        , 0.        , 0.01562214, 0.        ]), 'score_time': array([0.        , 0.01572752, 0.        , 0.        , 0.01562071]), 'test_score': array([0.42249453, 0.52833496, 0.5795531 , 0.55198443, 0.52756609])}\n"
     ]
    }
   ],
   "source": [
    "from sklearn.model_selection import cross_validate\n",
    "\n",
    "kf5 = KFold(n_splits=5, shuffle=True, random_state = 1)\n",
    "scoreCV2 = cross_validate(regrBalance3, xTrainEvalC, yTrainEvalC, cv=kf5)\n",
    "print(scoreCV2)"
   ]
  },
  {
   "cell_type": "code",
   "execution_count": 438,
   "metadata": {},
   "outputs": [
    {
     "data": {
      "text/plain": [
       "array([0.42249453, 0.52833496, 0.5795531 , 0.55198443, 0.52756609])"
      ]
     },
     "execution_count": 438,
     "metadata": {},
     "output_type": "execute_result"
    }
   ],
   "source": [
    "from sklearn.model_selection import cross_val_score\n",
    "\n",
    "scores = cross_val_score(regrBalance3, xTrainEvalC, yTrainEvalC, cv=kf5)\n",
    "scores   "
   ]
  },
  {
   "cell_type": "code",
   "execution_count": 439,
   "metadata": {},
   "outputs": [
    {
     "name": "stdout",
     "output_type": "stream",
     "text": [
      "[[0.14812989]\n",
      " [0.19140648]\n",
      " [0.24118264]\n",
      " ...\n",
      " [0.62731674]\n",
      " [0.62299084]\n",
      " [0.71648607]]\n"
     ]
    }
   ],
   "source": [
    "from sklearn.model_selection import cross_val_predict\n",
    "\n",
    "linRegPred = cross_val_predict(regrBalance3, xTrainEvalC, yTrainEvalC, cv=kf5)\n",
    "print(linRegPred)"
   ]
  },
  {
   "cell_type": "code",
   "execution_count": 440,
   "metadata": {},
   "outputs": [
    {
     "data": {
      "text/plain": [
       "1162"
      ]
     },
     "execution_count": 440,
     "metadata": {},
     "output_type": "execute_result"
    }
   ],
   "source": [
    "outcome3 = []\n",
    "for pred in linRegPred:\n",
    "    if (pred > 0.5):\n",
    "        outcome3.append(1)\n",
    "    elif (pred <= 0.5):\n",
    "        outcome3.append(0)\n",
    "\n",
    "len(outcome3)"
   ]
  },
  {
   "cell_type": "code",
   "execution_count": 441,
   "metadata": {},
   "outputs": [
    {
     "name": "stdout",
     "output_type": "stream",
     "text": [
      "[[493  88]\n",
      " [ 84 497]]\n"
     ]
    }
   ],
   "source": [
    "confMatrixLinReg = confusion_matrix(yTrainEvalC, outcome3)\n",
    "print(confMatrixLinReg)"
   ]
  },
  {
   "cell_type": "code",
   "execution_count": 442,
   "metadata": {},
   "outputs": [
    {
     "name": "stdout",
     "output_type": "stream",
     "text": [
      "              precision    recall  f1-score   support\n",
      "\n",
      "           0       0.85      0.85      0.85       581\n",
      "           1       0.85      0.86      0.85       581\n",
      "\n",
      "    accuracy                           0.85      1162\n",
      "   macro avg       0.85      0.85      0.85      1162\n",
      "weighted avg       0.85      0.85      0.85      1162\n",
      "\n"
     ]
    }
   ],
   "source": [
    "print(classification_report(yTrainEvalC, outcome3))"
   ]
  },
  {
   "cell_type": "code",
   "execution_count": 443,
   "metadata": {},
   "outputs": [
    {
     "name": "stdout",
     "output_type": "stream",
     "text": [
      "0.8519793459552496\n"
     ]
    }
   ],
   "source": [
    "print(roc_auc_score(yTrainEvalC, outcome3))"
   ]
  },
  {
   "cell_type": "markdown",
   "metadata": {},
   "source": [
    "## Logistic Regression Classifier\n",
    "Using the same inputs as the Balanced regression model evaluation"
   ]
  },
  {
   "cell_type": "code",
   "execution_count": 444,
   "metadata": {},
   "outputs": [],
   "source": [
    "logReg = LogisticRegression()"
   ]
  },
  {
   "cell_type": "markdown",
   "metadata": {},
   "source": [
    "### All Features"
   ]
  },
  {
   "cell_type": "code",
   "execution_count": 445,
   "metadata": {},
   "outputs": [
    {
     "name": "stdout",
     "output_type": "stream",
     "text": [
      "0.8546415332439466\n"
     ]
    },
    {
     "name": "stderr",
     "output_type": "stream",
     "text": [
      "C:\\Users\\alana\\AppData\\Local\\Programs\\Python\\Python39\\lib\\site-packages\\sklearn\\utils\\validation.py:985: DataConversionWarning: A column-vector y was passed when a 1d array was expected. Please change the shape of y to (n_samples, ), for example using ravel().\n",
      "  y = column_or_1d(y, warn=True)\n"
     ]
    }
   ],
   "source": [
    "logRegFit = logReg.fit(xTrainEvalE, yTrainEvalE)\n",
    "logRegPred = logRegFit.predict(xTestEvalE)\n",
    "score = logReg.score(xTestEvalE, yTestEvalE)\n",
    "print(score)"
   ]
  },
  {
   "cell_type": "code",
   "execution_count": 446,
   "metadata": {},
   "outputs": [
    {
     "name": "stdout",
     "output_type": "stream",
     "text": [
      "[[10721  1831]\n",
      " [   12   115]]\n"
     ]
    }
   ],
   "source": [
    "from sklearn import metrics\n",
    "\n",
    "confMatrix = metrics.confusion_matrix(yTestEvalE, logRegPred)\n",
    "print(confMatrix)"
   ]
  },
  {
   "cell_type": "code",
   "execution_count": 447,
   "metadata": {},
   "outputs": [
    {
     "name": "stdout",
     "output_type": "stream",
     "text": [
      "              precision    recall  f1-score   support\n",
      "\n",
      "           0       1.00      0.85      0.92     12552\n",
      "           1       0.06      0.91      0.11       127\n",
      "\n",
      "    accuracy                           0.85     12679\n",
      "   macro avg       0.53      0.88      0.52     12679\n",
      "weighted avg       0.99      0.85      0.91     12679\n",
      "\n"
     ]
    }
   ],
   "source": [
    "print(classification_report(yTestEvalE, logRegPred))"
   ]
  },
  {
   "cell_type": "code",
   "execution_count": 448,
   "metadata": {},
   "outputs": [
    {
     "name": "stdout",
     "output_type": "stream",
     "text": [
      "0.8798193217004662\n"
     ]
    }
   ],
   "source": [
    "print(roc_auc_score(yTestEvalE, logRegPred))"
   ]
  },
  {
   "cell_type": "markdown",
   "metadata": {},
   "source": [
    "### Top Features"
   ]
  },
  {
   "cell_type": "code",
   "execution_count": 449,
   "metadata": {},
   "outputs": [
    {
     "name": "stdout",
     "output_type": "stream",
     "text": [
      "0.8569287798722297\n"
     ]
    },
    {
     "name": "stderr",
     "output_type": "stream",
     "text": [
      "C:\\Users\\alana\\AppData\\Local\\Programs\\Python\\Python39\\lib\\site-packages\\sklearn\\utils\\validation.py:985: DataConversionWarning: A column-vector y was passed when a 1d array was expected. Please change the shape of y to (n_samples, ), for example using ravel().\n",
      "  y = column_or_1d(y, warn=True)\n"
     ]
    }
   ],
   "source": [
    "logRegFit2 = logReg.fit(xTrainEvalB, yTrainEvalB)\n",
    "logRegPred2 = logRegFit2.predict(xTestEvalB)\n",
    "score2 = logReg.score(xTestEvalB, yTestEvalB)\n",
    "print(score2)"
   ]
  },
  {
   "cell_type": "code",
   "execution_count": 450,
   "metadata": {},
   "outputs": [
    {
     "name": "stdout",
     "output_type": "stream",
     "text": [
      "[[10750  1802]\n",
      " [   12   115]]\n"
     ]
    }
   ],
   "source": [
    "confMatrix2 = metrics.confusion_matrix(yTestEvalB, logRegPred2)\n",
    "print(confMatrix2)"
   ]
  },
  {
   "cell_type": "code",
   "execution_count": 451,
   "metadata": {},
   "outputs": [
    {
     "name": "stdout",
     "output_type": "stream",
     "text": [
      "              precision    recall  f1-score   support\n",
      "\n",
      "           0       1.00      0.86      0.92     12552\n",
      "           1       0.06      0.91      0.11       127\n",
      "\n",
      "    accuracy                           0.86     12679\n",
      "   macro avg       0.53      0.88      0.52     12679\n",
      "weighted avg       0.99      0.86      0.91     12679\n",
      "\n"
     ]
    }
   ],
   "source": [
    "print(classification_report(yTestEvalB, logRegPred2))"
   ]
  },
  {
   "cell_type": "code",
   "execution_count": 452,
   "metadata": {},
   "outputs": [
    {
     "name": "stdout",
     "output_type": "stream",
     "text": [
      "0.8809745160917982\n"
     ]
    }
   ],
   "source": [
    "print(roc_auc_score(yTestEvalB, logRegPred2))"
   ]
  },
  {
   "cell_type": "markdown",
   "metadata": {},
   "source": [
    "## Decision Trees Classifier\n",
    "Using the same inputs as the Balanced regression model evaluation"
   ]
  },
  {
   "cell_type": "code",
   "execution_count": 453,
   "metadata": {},
   "outputs": [],
   "source": [
    "from sklearn.tree import DecisionTreeClassifier\n",
    "dt = DecisionTreeClassifier()"
   ]
  },
  {
   "cell_type": "markdown",
   "metadata": {},
   "source": [
    "### All Features"
   ]
  },
  {
   "cell_type": "code",
   "execution_count": 454,
   "metadata": {},
   "outputs": [
    {
     "name": "stdout",
     "output_type": "stream",
     "text": [
      "0.8043221074217209\n"
     ]
    }
   ],
   "source": [
    "dtFit = dt.fit(xTrainEvalE, yTrainEvalE)\n",
    "dtPred = dtFit.predict(xTestEvalE)\n",
    "dtScore = dtFit.score(xTestEvalE, yTestEvalE)\n",
    "print(dtScore)"
   ]
  },
  {
   "cell_type": "code",
   "execution_count": 455,
   "metadata": {},
   "outputs": [
    {
     "name": "stdout",
     "output_type": "stream",
     "text": [
      "[[10088  2464]\n",
      " [   17   110]]\n"
     ]
    }
   ],
   "source": [
    "dtConfMatrix = metrics.confusion_matrix(yTestEvalE, dtPred)\n",
    "print(dtConfMatrix)"
   ]
  },
  {
   "cell_type": "code",
   "execution_count": 456,
   "metadata": {},
   "outputs": [
    {
     "name": "stdout",
     "output_type": "stream",
     "text": [
      "              precision    recall  f1-score   support\n",
      "\n",
      "           0       1.00      0.80      0.89     12552\n",
      "           1       0.04      0.87      0.08       127\n",
      "\n",
      "    accuracy                           0.80     12679\n",
      "   macro avg       0.52      0.83      0.49     12679\n",
      "weighted avg       0.99      0.80      0.88     12679\n",
      "\n"
     ]
    }
   ],
   "source": [
    "print(classification_report(yTestEvalE, dtPred))"
   ]
  },
  {
   "cell_type": "code",
   "execution_count": 457,
   "metadata": {},
   "outputs": [
    {
     "name": "stdout",
     "output_type": "stream",
     "text": [
      "0.8349191771678636\n"
     ]
    }
   ],
   "source": [
    "print(roc_auc_score(yTestEvalE, dtPred))"
   ]
  },
  {
   "cell_type": "code",
   "execution_count": 458,
   "metadata": {},
   "outputs": [
    {
     "data": {
      "text/plain": [
       "[Text(235.58444446938043, 212.71304347826086, 'X[50] <= 0.5\\ngini = 0.5\\nsamples = 908\\nvalue = [454, 454]'),\n",
       " Text(170.19971090128615, 203.2591304347826, 'X[49] <= 0.5\\ngini = 0.382\\nsamples = 545\\nvalue = [405, 140]'),\n",
       " Text(129.75323782398644, 193.80521739130435, 'X[52] <= 0.5\\ngini = 0.315\\nsamples = 491\\nvalue = [395, 96]'),\n",
       " Text(89.42886253835609, 184.3513043478261, 'X[53] <= 0.5\\ngini = 0.211\\nsamples = 426\\nvalue = [375, 51]'),\n",
       " Text(69.06192629104916, 174.89739130434782, 'X[112] <= 0.5\\ngini = 0.193\\nsamples = 416\\nvalue = [371, 45]'),\n",
       " Text(36.72155121760136, 165.44347826086957, 'X[105] <= 0.5\\ngini = 0.082\\nsamples = 187\\nvalue = [179, 8]'),\n",
       " Text(25.879950381928577, 155.98956521739132, 'X[98] <= 0.5\\ngini = 0.044\\nsamples = 176\\nvalue = [172, 4]'),\n",
       " Text(18.185911079193055, 146.53565217391304, 'X[1] <= 0.961\\ngini = 0.034\\nsamples = 174\\nvalue = [171, 3]'),\n",
       " Text(11.191329894888034, 137.08173913043478, 'X[1] <= 0.011\\ngini = 0.023\\nsamples = 171\\nvalue = [169, 2]'),\n",
       " Text(5.595664947444017, 127.62782608695652, 'X[1] <= 0.008\\ngini = 0.278\\nsamples = 6\\nvalue = [5, 1]'),\n",
       " Text(2.7978324737220084, 118.17391304347825, 'gini = 0.0\\nsamples = 5\\nvalue = [5, 0]'),\n",
       " Text(8.393497421166025, 118.17391304347825, 'gini = 0.0\\nsamples = 1\\nvalue = [0, 1]'),\n",
       " Text(16.78699484233205, 127.62782608695652, 'X[54] <= 0.5\\ngini = 0.012\\nsamples = 165\\nvalue = [164, 1]'),\n",
       " Text(13.989162368610042, 118.17391304347825, 'gini = 0.0\\nsamples = 149\\nvalue = [149, 0]'),\n",
       " Text(19.58482731605406, 118.17391304347825, 'X[63] <= 0.5\\ngini = 0.117\\nsamples = 16\\nvalue = [15, 1]'),\n",
       " Text(16.78699484233205, 108.72, 'gini = 0.0\\nsamples = 15\\nvalue = [15, 0]'),\n",
       " Text(22.382659789776067, 108.72, 'gini = 0.0\\nsamples = 1\\nvalue = [0, 1]'),\n",
       " Text(25.180492263498074, 137.08173913043478, 'X[83] <= 0.5\\ngini = 0.444\\nsamples = 3\\nvalue = [2, 1]'),\n",
       " Text(22.382659789776067, 127.62782608695652, 'gini = 0.0\\nsamples = 2\\nvalue = [2, 0]'),\n",
       " Text(27.978324737220085, 127.62782608695652, 'gini = 0.0\\nsamples = 1\\nvalue = [0, 1]'),\n",
       " Text(33.5739896846641, 146.53565217391304, 'X[1] <= 0.819\\ngini = 0.5\\nsamples = 2\\nvalue = [1, 1]'),\n",
       " Text(30.776157210942092, 137.08173913043478, 'gini = 0.0\\nsamples = 1\\nvalue = [0, 1]'),\n",
       " Text(36.37182215838611, 137.08173913043478, 'gini = 0.0\\nsamples = 1\\nvalue = [1, 0]'),\n",
       " Text(47.563152053274145, 155.98956521739132, 'X[56] <= 0.5\\ngini = 0.463\\nsamples = 11\\nvalue = [7, 4]'),\n",
       " Text(44.765319579552134, 146.53565217391304, 'X[0] <= 0.063\\ngini = 0.5\\nsamples = 8\\nvalue = [4, 4]'),\n",
       " Text(41.96748710583012, 137.08173913043478, 'X[2] <= 0.625\\ngini = 0.444\\nsamples = 6\\nvalue = [2, 4]'),\n",
       " Text(39.16965463210812, 127.62782608695652, 'gini = 0.0\\nsamples = 3\\nvalue = [0, 3]'),\n",
       " Text(44.765319579552134, 127.62782608695652, 'X[1] <= 0.854\\ngini = 0.444\\nsamples = 3\\nvalue = [2, 1]'),\n",
       " Text(41.96748710583012, 118.17391304347825, 'gini = 0.0\\nsamples = 2\\nvalue = [2, 0]'),\n",
       " Text(47.563152053274145, 118.17391304347825, 'gini = 0.0\\nsamples = 1\\nvalue = [0, 1]'),\n",
       " Text(47.563152053274145, 137.08173913043478, 'gini = 0.0\\nsamples = 2\\nvalue = [2, 0]'),\n",
       " Text(50.36098452699615, 146.53565217391304, 'gini = 0.0\\nsamples = 3\\nvalue = [3, 0]'),\n",
       " Text(101.40230136449696, 165.44347826086957, 'X[83] <= 0.5\\ngini = 0.271\\nsamples = 229\\nvalue = [192, 37]'),\n",
       " Text(74.6944767252073, 155.98956521739132, 'X[1] <= 0.015\\ngini = 0.347\\nsamples = 148\\nvalue = [115, 33]'),\n",
       " Text(71.89664425148528, 146.53565217391304, 'gini = 0.0\\nsamples = 2\\nvalue = [0, 2]'),\n",
       " Text(77.4923091989293, 146.53565217391304, 'X[58] <= 0.5\\ngini = 0.334\\nsamples = 146\\nvalue = [115, 31]'),\n",
       " Text(61.552314421884184, 137.08173913043478, 'X[0] <= 0.063\\ngini = 0.5\\nsamples = 14\\nvalue = [7, 7]'),\n",
       " Text(55.95664947444017, 127.62782608695652, 'X[0] <= 0.063\\ngini = 0.375\\nsamples = 8\\nvalue = [2, 6]'),\n",
       " Text(53.15881700071816, 118.17391304347825, 'gini = 0.0\\nsamples = 2\\nvalue = [2, 0]'),\n",
       " Text(58.75448194816217, 118.17391304347825, 'gini = 0.0\\nsamples = 6\\nvalue = [0, 6]'),\n",
       " Text(67.1479793693282, 127.62782608695652, 'X[1] <= 0.051\\ngini = 0.278\\nsamples = 6\\nvalue = [5, 1]'),\n",
       " Text(64.35014689560619, 118.17391304347825, 'gini = 0.0\\nsamples = 1\\nvalue = [0, 1]'),\n",
       " Text(69.94581184305021, 118.17391304347825, 'gini = 0.0\\nsamples = 5\\nvalue = [5, 0]'),\n",
       " Text(93.4323039759744, 137.08173913043478, 'X[85] <= 0.5\\ngini = 0.298\\nsamples = 132\\nvalue = [108, 24]'),\n",
       " Text(90.63447150225241, 127.62782608695652, 'X[57] <= 0.5\\ngini = 0.289\\nsamples = 131\\nvalue = [108, 23]'),\n",
       " Text(75.54147679049423, 118.17391304347825, 'X[1] <= 0.077\\ngini = 0.263\\nsamples = 122\\nvalue = [103, 19]'),\n",
       " Text(62.14248220930992, 108.72, 'X[1] <= 0.028\\ngini = 0.48\\nsamples = 10\\nvalue = [6, 4]'),\n",
       " Text(59.344649735587915, 99.26608695652173, 'gini = 0.0\\nsamples = 4\\nvalue = [4, 0]'),\n",
       " Text(64.94031468303193, 99.26608695652173, 'X[94] <= 0.5\\ngini = 0.444\\nsamples = 6\\nvalue = [2, 4]'),\n",
       " Text(62.14248220930992, 89.81217391304348, 'gini = 0.0\\nsamples = 4\\nvalue = [0, 4]'),\n",
       " Text(67.73814715675394, 89.81217391304348, 'gini = 0.0\\nsamples = 2\\nvalue = [2, 0]'),\n",
       " Text(88.94047137167853, 108.72, 'X[93] <= 0.5\\ngini = 0.232\\nsamples = 112\\nvalue = [97, 15]'),\n",
       " Text(86.14263889795653, 99.26608695652173, 'X[12] <= 0.5\\ngini = 0.22\\nsamples = 111\\nvalue = [97, 14]'),\n",
       " Text(73.33381210419796, 89.81217391304348, 'X[128] <= 0.5\\ngini = 0.189\\nsamples = 104\\nvalue = [93, 11]'),\n",
       " Text(61.70532088529086, 80.35826086956521, 'X[0] <= 0.064\\ngini = 0.165\\nsamples = 99\\nvalue = [90, 9]'),\n",
       " Text(52.437500816086704, 70.90434782608696, 'X[46] <= 0.5\\ngini = 0.151\\nsamples = 97\\nvalue = [89, 8]'),\n",
       " Text(42.295358098844424, 61.45043478260868, 'X[75] <= 0.5\\ngini = 0.137\\nsamples = 95\\nvalue = [88, 7]'),\n",
       " Text(30.404570085525886, 51.99652173913043, 'X[136] <= 0.5\\ngini = 0.08\\nsamples = 72\\nvalue = [69, 3]'),\n",
       " Text(20.61215642749886, 42.54260869565218, 'X[61] <= 0.5\\ngini = 0.057\\nsamples = 68\\nvalue = [66, 2]'),\n",
       " Text(17.81432395377685, 33.0886956521739, 'gini = 0.0\\nsamples = 42\\nvalue = [42, 0]'),\n",
       " Text(23.409988901220867, 33.0886956521739, 'X[140] <= 0.5\\ngini = 0.142\\nsamples = 26\\nvalue = [24, 2]'),\n",
       " Text(17.81432395377685, 23.634782608695645, 'X[139] <= 0.5\\ngini = 0.08\\nsamples = 24\\nvalue = [23, 1]'),\n",
       " Text(15.016491480054842, 14.180869565217392, 'gini = 0.0\\nsamples = 15\\nvalue = [15, 0]'),\n",
       " Text(20.61215642749886, 14.180869565217392, 'X[1] <= 0.58\\ngini = 0.198\\nsamples = 9\\nvalue = [8, 1]'),\n",
       " Text(17.81432395377685, 4.726956521739112, 'gini = 0.219\\nsamples = 8\\nvalue = [7, 1]'),\n",
       " Text(23.409988901220867, 4.726956521739112, 'gini = 0.0\\nsamples = 1\\nvalue = [1, 0]'),\n",
       " Text(29.005653848664885, 23.634782608695645, 'X[1] <= 0.352\\ngini = 0.5\\nsamples = 2\\nvalue = [1, 1]'),\n",
       " Text(26.207821374942874, 14.180869565217392, 'gini = 0.0\\nsamples = 1\\nvalue = [1, 0]'),\n",
       " Text(31.80348632238689, 14.180869565217392, 'gini = 0.0\\nsamples = 1\\nvalue = [0, 1]'),\n",
       " Text(40.19698374355292, 42.54260869565218, 'X[1] <= 0.444\\ngini = 0.375\\nsamples = 4\\nvalue = [3, 1]'),\n",
       " Text(37.39915126983091, 33.0886956521739, 'X[1] <= 0.403\\ngini = 0.5\\nsamples = 2\\nvalue = [1, 1]'),\n",
       " Text(34.6013187961089, 23.634782608695645, 'gini = 0.0\\nsamples = 1\\nvalue = [1, 0]'),\n",
       " Text(40.19698374355292, 23.634782608695645, 'gini = 0.0\\nsamples = 1\\nvalue = [0, 1]'),\n",
       " Text(42.99481621727492, 33.0886956521739, 'gini = 0.0\\nsamples = 2\\nvalue = [2, 0]'),\n",
       " Text(54.18614611216296, 51.99652173913043, 'X[139] <= 0.5\\ngini = 0.287\\nsamples = 23\\nvalue = [19, 4]'),\n",
       " Text(51.38831363844095, 42.54260869565218, 'X[1] <= 0.958\\ngini = 0.236\\nsamples = 22\\nvalue = [19, 3]'),\n",
       " Text(48.590481164718945, 33.0886956521739, 'X[122] <= 0.5\\ngini = 0.172\\nsamples = 21\\nvalue = [19, 2]'),\n",
       " Text(45.792648690996934, 23.634782608695645, 'gini = 0.0\\nsamples = 15\\nvalue = [15, 0]'),\n",
       " Text(51.38831363844095, 23.634782608695645, 'X[1] <= 0.733\\ngini = 0.444\\nsamples = 6\\nvalue = [4, 2]'),\n",
       " Text(48.590481164718945, 14.180869565217392, 'gini = 0.0\\nsamples = 1\\nvalue = [0, 1]'),\n",
       " Text(54.18614611216296, 14.180869565217392, 'gini = 0.32\\nsamples = 5\\nvalue = [4, 1]'),\n",
       " Text(54.18614611216296, 33.0886956521739, 'gini = 0.0\\nsamples = 1\\nvalue = [0, 1]'),\n",
       " Text(56.98397858588497, 42.54260869565218, 'gini = 0.0\\nsamples = 1\\nvalue = [0, 1]'),\n",
       " Text(62.57964353332898, 61.45043478260868, 'X[136] <= 0.5\\ngini = 0.5\\nsamples = 2\\nvalue = [1, 1]'),\n",
       " Text(59.78181105960697, 51.99652173913043, 'gini = 0.0\\nsamples = 1\\nvalue = [1, 0]'),\n",
       " Text(65.37747600705099, 51.99652173913043, 'gini = 0.0\\nsamples = 1\\nvalue = [0, 1]'),\n",
       " Text(70.97314095449501, 70.90434782608696, 'X[26] <= 0.5\\ngini = 0.5\\nsamples = 2\\nvalue = [1, 1]'),\n",
       " Text(68.175308480773, 61.45043478260868, 'gini = 0.0\\nsamples = 1\\nvalue = [0, 1]'),\n",
       " Text(73.77097342821702, 61.45043478260868, 'gini = 0.0\\nsamples = 1\\nvalue = [1, 0]'),\n",
       " Text(84.96230332310505, 80.35826086956521, 'X[0] <= 0.063\\ngini = 0.48\\nsamples = 5\\nvalue = [3, 2]'),\n",
       " Text(82.16447084938304, 70.90434782608696, 'X[145] <= 0.5\\ngini = 0.444\\nsamples = 3\\nvalue = [1, 2]'),\n",
       " Text(79.36663837566104, 61.45043478260868, 'gini = 0.0\\nsamples = 2\\nvalue = [0, 2]'),\n",
       " Text(84.96230332310505, 61.45043478260868, 'gini = 0.0\\nsamples = 1\\nvalue = [1, 0]'),\n",
       " Text(87.76013579682706, 70.90434782608696, 'gini = 0.0\\nsamples = 2\\nvalue = [2, 0]'),\n",
       " Text(98.9514656917151, 89.81217391304348, 'X[1] <= 0.6\\ngini = 0.49\\nsamples = 7\\nvalue = [4, 3]'),\n",
       " Text(96.15363321799309, 80.35826086956521, 'X[2] <= 0.542\\ngini = 0.32\\nsamples = 5\\nvalue = [4, 1]'),\n",
       " Text(93.35580074427108, 70.90434782608696, 'X[1] <= 0.507\\ngini = 0.5\\nsamples = 2\\nvalue = [1, 1]'),\n",
       " Text(90.55796827054907, 61.45043478260868, 'gini = 0.0\\nsamples = 1\\nvalue = [1, 0]'),\n",
       " Text(96.15363321799309, 61.45043478260868, 'gini = 0.0\\nsamples = 1\\nvalue = [0, 1]'),\n",
       " Text(98.9514656917151, 70.90434782608696, 'gini = 0.0\\nsamples = 3\\nvalue = [3, 0]'),\n",
       " Text(101.7492981654371, 80.35826086956521, 'gini = 0.0\\nsamples = 2\\nvalue = [0, 2]'),\n",
       " Text(91.73830384540054, 99.26608695652173, 'gini = 0.0\\nsamples = 1\\nvalue = [0, 1]'),\n",
       " Text(105.72746621401058, 118.17391304347825, 'X[2] <= 0.375\\ngini = 0.494\\nsamples = 9\\nvalue = [5, 4]'),\n",
       " Text(100.13180126656657, 108.72, 'X[2] <= 0.083\\ngini = 0.375\\nsamples = 4\\nvalue = [1, 3]'),\n",
       " Text(97.33396879284456, 99.26608695652173, 'gini = 0.0\\nsamples = 1\\nvalue = [1, 0]'),\n",
       " Text(102.92963374028858, 99.26608695652173, 'gini = 0.0\\nsamples = 3\\nvalue = [0, 3]'),\n",
       " Text(111.3231311614546, 108.72, 'X[127] <= 0.5\\ngini = 0.32\\nsamples = 5\\nvalue = [4, 1]'),\n",
       " Text(108.52529868773259, 99.26608695652173, 'gini = 0.0\\nsamples = 4\\nvalue = [4, 0]'),\n",
       " Text(114.12096363517661, 99.26608695652173, 'gini = 0.0\\nsamples = 1\\nvalue = [0, 1]'),\n",
       " Text(96.23013644969642, 127.62782608695652, 'gini = 0.0\\nsamples = 1\\nvalue = [0, 1]'),\n",
       " Text(128.11012600378666, 155.98956521739132, 'X[1] <= 0.01\\ngini = 0.094\\nsamples = 81\\nvalue = [77, 4]'),\n",
       " Text(125.31229353006464, 146.53565217391304, 'gini = 0.0\\nsamples = 1\\nvalue = [0, 1]'),\n",
       " Text(130.90795847750866, 146.53565217391304, 'X[118] <= 0.5\\ngini = 0.072\\nsamples = 80\\nvalue = [77, 3]'),\n",
       " Text(125.31229353006464, 137.08173913043478, 'X[0] <= 0.063\\ngini = 0.051\\nsamples = 77\\nvalue = [75, 2]'),\n",
       " Text(122.51446105634264, 127.62782608695652, 'X[126] <= 0.5\\ngini = 0.198\\nsamples = 18\\nvalue = [16, 2]'),\n",
       " Text(119.71662858262063, 118.17391304347825, 'X[138] <= 0.5\\ngini = 0.117\\nsamples = 16\\nvalue = [15, 1]'),\n",
       " Text(116.91879610889862, 108.72, 'gini = 0.0\\nsamples = 13\\nvalue = [13, 0]'),\n",
       " Text(122.51446105634264, 108.72, 'X[2] <= 0.25\\ngini = 0.444\\nsamples = 3\\nvalue = [2, 1]'),\n",
       " Text(119.71662858262063, 99.26608695652173, 'gini = 0.0\\nsamples = 1\\nvalue = [1, 0]'),\n",
       " Text(125.31229353006464, 99.26608695652173, 'X[2] <= 0.667\\ngini = 0.5\\nsamples = 2\\nvalue = [1, 1]'),\n",
       " Text(122.51446105634264, 89.81217391304348, 'gini = 0.0\\nsamples = 1\\nvalue = [0, 1]'),\n",
       " Text(128.11012600378666, 89.81217391304348, 'gini = 0.0\\nsamples = 1\\nvalue = [1, 0]'),\n",
       " Text(125.31229353006464, 118.17391304347825, 'gini = 0.5\\nsamples = 2\\nvalue = [1, 1]'),\n",
       " Text(128.11012600378666, 127.62782608695652, 'gini = 0.0\\nsamples = 59\\nvalue = [59, 0]'),\n",
       " Text(136.50362342495268, 137.08173913043478, 'X[2] <= 0.333\\ngini = 0.444\\nsamples = 3\\nvalue = [2, 1]'),\n",
       " Text(133.70579095123065, 127.62782608695652, 'gini = 0.0\\nsamples = 1\\nvalue = [0, 1]'),\n",
       " Text(139.30145589867467, 127.62782608695652, 'gini = 0.0\\nsamples = 2\\nvalue = [2, 0]'),\n",
       " Text(109.795798785663, 174.89739130434782, 'X[112] <= 0.5\\ngini = 0.48\\nsamples = 10\\nvalue = [4, 6]'),\n",
       " Text(106.99796631194098, 165.44347826086957, 'gini = 0.0\\nsamples = 4\\nvalue = [4, 0]'),\n",
       " Text(112.593631259385, 165.44347826086957, 'gini = 0.0\\nsamples = 6\\nvalue = [0, 6]'),\n",
       " Text(170.07761310961678, 184.3513043478261, 'X[0] <= 0.063\\ngini = 0.426\\nsamples = 65\\nvalue = [20, 45]'),\n",
       " Text(156.08845074100674, 174.89739130434782, 'X[35] <= 0.5\\ngini = 0.499\\nsamples = 31\\nvalue = [16, 15]'),\n",
       " Text(150.49278579356272, 165.44347826086957, 'X[83] <= 0.5\\ngini = 0.32\\nsamples = 15\\nvalue = [3, 12]'),\n",
       " Text(147.69495331984072, 155.98956521739132, 'X[139] <= 0.5\\ngini = 0.245\\nsamples = 14\\nvalue = [2, 12]'),\n",
       " Text(144.8971208461187, 146.53565217391304, 'X[146] <= 0.5\\ngini = 0.142\\nsamples = 13\\nvalue = [1, 12]'),\n",
       " Text(142.0992883723967, 137.08173913043478, 'gini = 0.0\\nsamples = 12\\nvalue = [0, 12]'),\n",
       " Text(147.69495331984072, 137.08173913043478, 'gini = 0.0\\nsamples = 1\\nvalue = [1, 0]'),\n",
       " Text(150.49278579356272, 146.53565217391304, 'gini = 0.0\\nsamples = 1\\nvalue = [1, 0]'),\n",
       " Text(153.2906182672847, 155.98956521739132, 'gini = 0.0\\nsamples = 1\\nvalue = [1, 0]'),\n",
       " Text(161.68411568845076, 165.44347826086957, 'X[2] <= 0.5\\ngini = 0.305\\nsamples = 16\\nvalue = [13, 3]'),\n",
       " Text(158.88628321472873, 155.98956521739132, 'gini = 0.0\\nsamples = 11\\nvalue = [11, 0]'),\n",
       " Text(164.48194816217276, 155.98956521739132, 'X[136] <= 0.5\\ngini = 0.48\\nsamples = 5\\nvalue = [2, 3]'),\n",
       " Text(161.68411568845076, 146.53565217391304, 'gini = 0.0\\nsamples = 3\\nvalue = [0, 3]'),\n",
       " Text(167.27978063589478, 146.53565217391304, 'gini = 0.0\\nsamples = 2\\nvalue = [2, 0]'),\n",
       " Text(184.06677547822682, 174.89739130434782, 'X[133] <= 0.5\\ngini = 0.208\\nsamples = 34\\nvalue = [4, 30]'),\n",
       " Text(178.4711105307828, 165.44347826086957, 'X[84] <= 0.5\\ngini = 0.121\\nsamples = 31\\nvalue = [2, 29]'),\n",
       " Text(175.6732780570608, 155.98956521739132, 'X[138] <= 0.5\\ngini = 0.064\\nsamples = 30\\nvalue = [1, 29]'),\n",
       " Text(172.87544558333877, 146.53565217391304, 'gini = 0.0\\nsamples = 29\\nvalue = [0, 29]'),\n",
       " Text(178.4711105307828, 146.53565217391304, 'gini = 0.0\\nsamples = 1\\nvalue = [1, 0]'),\n",
       " Text(181.26894300450482, 155.98956521739132, 'gini = 0.0\\nsamples = 1\\nvalue = [1, 0]'),\n",
       " Text(189.66244042567084, 165.44347826086957, 'X[0] <= 0.064\\ngini = 0.444\\nsamples = 3\\nvalue = [2, 1]'),\n",
       " Text(186.8646079519488, 155.98956521739132, 'gini = 0.0\\nsamples = 2\\nvalue = [2, 0]'),\n",
       " Text(192.46027289939283, 155.98956521739132, 'gini = 0.0\\nsamples = 1\\nvalue = [0, 1]'),\n",
       " Text(210.6461839785859, 193.80521739130435, 'X[94] <= 0.5\\ngini = 0.302\\nsamples = 54\\nvalue = [10, 44]'),\n",
       " Text(203.65160279428088, 184.3513043478261, 'X[136] <= 0.5\\ngini = 0.087\\nsamples = 44\\nvalue = [2, 42]'),\n",
       " Text(198.05593784683685, 174.89739130434782, 'X[67] <= 0.5\\ngini = 0.046\\nsamples = 42\\nvalue = [1, 41]'),\n",
       " Text(195.25810537311486, 165.44347826086957, 'gini = 0.0\\nsamples = 39\\nvalue = [0, 39]'),\n",
       " Text(200.85377032055888, 165.44347826086957, 'X[0] <= 0.063\\ngini = 0.444\\nsamples = 3\\nvalue = [1, 2]'),\n",
       " Text(198.05593784683685, 155.98956521739132, 'gini = 0.0\\nsamples = 2\\nvalue = [0, 2]'),\n",
       " Text(203.65160279428088, 155.98956521739132, 'gini = 0.0\\nsamples = 1\\nvalue = [1, 0]'),\n",
       " Text(209.2472677417249, 174.89739130434782, 'X[109] <= 0.5\\ngini = 0.5\\nsamples = 2\\nvalue = [1, 1]'),\n",
       " Text(206.44943526800287, 165.44347826086957, 'gini = 0.0\\nsamples = 1\\nvalue = [0, 1]'),\n",
       " Text(212.0451002154469, 165.44347826086957, 'gini = 0.0\\nsamples = 1\\nvalue = [1, 0]'),\n",
       " Text(217.64076516289092, 184.3513043478261, 'X[1] <= 0.611\\ngini = 0.32\\nsamples = 10\\nvalue = [8, 2]'),\n",
       " Text(214.84293268916892, 174.89739130434782, 'gini = 0.0\\nsamples = 8\\nvalue = [8, 0]'),\n",
       " Text(220.43859763661294, 174.89739130434782, 'gini = 0.0\\nsamples = 2\\nvalue = [0, 2]'),\n",
       " Text(300.9691780374747, 203.2591304347826, 'X[83] <= 0.5\\ngini = 0.234\\nsamples = 363\\nvalue = [49, 314]'),\n",
       " Text(275.53185349611545, 193.80521739130435, 'X[1] <= 0.374\\ngini = 0.204\\nsamples = 347\\nvalue = [40, 307]'),\n",
       " Text(244.22017366325, 184.3513043478261, 'X[127] <= 0.5\\ngini = 0.355\\nsamples = 104\\nvalue = [24, 80]'),\n",
       " Text(231.62992753150095, 174.89739130434782, 'X[1] <= 0.255\\ngini = 0.275\\nsamples = 91\\nvalue = [15, 76]'),\n",
       " Text(217.64076516289092, 165.44347826086957, 'X[0] <= 0.063\\ngini = 0.198\\nsamples = 72\\nvalue = [8, 64]'),\n",
       " Text(212.0451002154469, 155.98956521739132, 'X[17] <= 0.5\\ngini = 0.444\\nsamples = 3\\nvalue = [2, 1]'),\n",
       " Text(209.2472677417249, 146.53565217391304, 'gini = 0.0\\nsamples = 2\\nvalue = [2, 0]'),\n",
       " Text(214.84293268916892, 146.53565217391304, 'gini = 0.0\\nsamples = 1\\nvalue = [0, 1]'),\n",
       " Text(223.23643011033494, 155.98956521739132, 'X[131] <= 0.5\\ngini = 0.159\\nsamples = 69\\nvalue = [6, 63]'),\n",
       " Text(220.43859763661294, 146.53565217391304, 'X[128] <= 0.5\\ngini = 0.136\\nsamples = 68\\nvalue = [5, 63]'),\n",
       " Text(214.84293268916892, 137.08173913043478, 'X[1] <= 0.068\\ngini = 0.092\\nsamples = 62\\nvalue = [3, 59]'),\n",
       " Text(212.0451002154469, 127.62782608695652, 'X[1] <= 0.062\\ngini = 0.337\\nsamples = 14\\nvalue = [3, 11]'),\n",
       " Text(209.2472677417249, 118.17391304347825, 'X[0] <= 0.063\\ngini = 0.26\\nsamples = 13\\nvalue = [2, 11]'),\n",
       " Text(206.44943526800287, 108.72, 'X[0] <= 0.063\\ngini = 0.444\\nsamples = 6\\nvalue = [2, 4]'),\n",
       " Text(203.65160279428088, 99.26608695652173, 'gini = 0.0\\nsamples = 3\\nvalue = [0, 3]'),\n",
       " Text(209.2472677417249, 99.26608695652173, 'X[1] <= 0.052\\ngini = 0.444\\nsamples = 3\\nvalue = [2, 1]'),\n",
       " Text(206.44943526800287, 89.81217391304348, 'gini = 0.0\\nsamples = 2\\nvalue = [2, 0]'),\n",
       " Text(212.0451002154469, 89.81217391304348, 'gini = 0.0\\nsamples = 1\\nvalue = [0, 1]'),\n",
       " Text(212.0451002154469, 108.72, 'gini = 0.0\\nsamples = 7\\nvalue = [0, 7]'),\n",
       " Text(214.84293268916892, 118.17391304347825, 'gini = 0.0\\nsamples = 1\\nvalue = [1, 0]'),\n",
       " Text(217.64076516289092, 127.62782608695652, 'gini = 0.0\\nsamples = 48\\nvalue = [0, 48]'),\n",
       " Text(226.03426258405693, 137.08173913043478, 'X[61] <= 0.5\\ngini = 0.444\\nsamples = 6\\nvalue = [2, 4]'),\n",
       " Text(223.23643011033494, 127.62782608695652, 'gini = 0.0\\nsamples = 3\\nvalue = [0, 3]'),\n",
       " Text(228.83209505777896, 127.62782608695652, 'X[0] <= 0.063\\ngini = 0.444\\nsamples = 3\\nvalue = [2, 1]'),\n",
       " Text(226.03426258405693, 118.17391304347825, 'gini = 0.0\\nsamples = 2\\nvalue = [2, 0]'),\n",
       " Text(231.62992753150095, 118.17391304347825, 'gini = 0.0\\nsamples = 1\\nvalue = [0, 1]'),\n",
       " Text(226.03426258405693, 146.53565217391304, 'gini = 0.0\\nsamples = 1\\nvalue = [1, 0]'),\n",
       " Text(245.619089900111, 165.44347826086957, 'X[62] <= 0.5\\ngini = 0.465\\nsamples = 19\\nvalue = [7, 12]'),\n",
       " Text(242.821257426389, 155.98956521739132, 'X[1] <= 0.272\\ngini = 0.415\\nsamples = 17\\nvalue = [5, 12]'),\n",
       " Text(240.02342495266697, 146.53565217391304, 'gini = 0.0\\nsamples = 2\\nvalue = [2, 0]'),\n",
       " Text(245.619089900111, 146.53565217391304, 'X[6] <= 0.5\\ngini = 0.32\\nsamples = 15\\nvalue = [3, 12]'),\n",
       " Text(242.821257426389, 137.08173913043478, 'X[136] <= 0.5\\ngini = 0.245\\nsamples = 14\\nvalue = [2, 12]'),\n",
       " Text(240.02342495266697, 127.62782608695652, 'X[143] <= 0.5\\ngini = 0.142\\nsamples = 13\\nvalue = [1, 12]'),\n",
       " Text(237.22559247894498, 118.17391304347825, 'gini = 0.0\\nsamples = 12\\nvalue = [0, 12]'),\n",
       " Text(242.821257426389, 118.17391304347825, 'gini = 0.0\\nsamples = 1\\nvalue = [1, 0]'),\n",
       " Text(245.619089900111, 127.62782608695652, 'gini = 0.0\\nsamples = 1\\nvalue = [1, 0]'),\n",
       " Text(248.41692237383302, 137.08173913043478, 'gini = 0.0\\nsamples = 1\\nvalue = [1, 0]'),\n",
       " Text(248.41692237383302, 155.98956521739132, 'gini = 0.0\\nsamples = 2\\nvalue = [2, 0]'),\n",
       " Text(256.81041979499906, 174.89739130434782, 'X[0] <= 0.063\\ngini = 0.426\\nsamples = 13\\nvalue = [9, 4]'),\n",
       " Text(254.01258732127704, 165.44347826086957, 'gini = 0.0\\nsamples = 1\\nvalue = [0, 1]'),\n",
       " Text(259.60825226872106, 165.44347826086957, 'X[136] <= 0.5\\ngini = 0.375\\nsamples = 12\\nvalue = [9, 3]'),\n",
       " Text(254.01258732127704, 155.98956521739132, 'X[141] <= 0.5\\ngini = 0.198\\nsamples = 9\\nvalue = [8, 1]'),\n",
       " Text(251.214754847555, 146.53565217391304, 'gini = 0.0\\nsamples = 8\\nvalue = [8, 0]'),\n",
       " Text(256.81041979499906, 146.53565217391304, 'gini = 0.0\\nsamples = 1\\nvalue = [0, 1]'),\n",
       " Text(265.20391721616505, 155.98956521739132, 'X[35] <= 0.5\\ngini = 0.444\\nsamples = 3\\nvalue = [1, 2]'),\n",
       " Text(262.40608474244306, 146.53565217391304, 'gini = 0.0\\nsamples = 1\\nvalue = [1, 0]'),\n",
       " Text(268.00174968988705, 146.53565217391304, 'gini = 0.0\\nsamples = 2\\nvalue = [0, 2]'),\n",
       " Text(306.84353332898087, 184.3513043478261, 'X[7] <= 0.5\\ngini = 0.123\\nsamples = 243\\nvalue = [16, 227]'),\n",
       " Text(298.4718939740158, 174.89739130434782, 'X[126] <= 0.5\\ngini = 0.11\\nsamples = 239\\nvalue = [14, 225]'),\n",
       " Text(290.1221126852517, 165.44347826086957, 'X[129] <= 0.5\\ngini = 0.098\\nsamples = 233\\nvalue = [12, 221]'),\n",
       " Text(281.8160475288895, 155.98956521739132, 'X[138] <= 0.5\\ngini = 0.085\\nsamples = 224\\nvalue = [10, 214]'),\n",
       " Text(273.5974146373311, 146.53565217391304, 'X[65] <= 0.5\\ngini = 0.072\\nsamples = 215\\nvalue = [8, 207]'),\n",
       " Text(265.5536462753803, 137.08173913043478, 'X[0] <= 0.063\\ngini = 0.064\\nsamples = 212\\nvalue = [7, 205]'),\n",
       " Text(257.85960697264477, 127.62782608695652, 'X[31] <= 0.5\\ngini = 0.278\\nsamples = 12\\nvalue = [2, 10]'),\n",
       " Text(255.06177449892277, 118.17391304347825, 'X[1] <= 0.773\\ngini = 0.165\\nsamples = 11\\nvalue = [1, 10]'),\n",
       " Text(252.26394202520078, 108.72, 'gini = 0.0\\nsamples = 9\\nvalue = [0, 9]'),\n",
       " Text(257.85960697264477, 108.72, 'X[133] <= 0.5\\ngini = 0.5\\nsamples = 2\\nvalue = [1, 1]'),\n",
       " Text(255.06177449892277, 99.26608695652173, 'gini = 0.0\\nsamples = 1\\nvalue = [0, 1]'),\n",
       " Text(260.6574394463668, 99.26608695652173, 'gini = 0.0\\nsamples = 1\\nvalue = [1, 0]'),\n",
       " Text(260.6574394463668, 118.17391304347825, 'gini = 0.0\\nsamples = 1\\nvalue = [1, 0]'),\n",
       " Text(273.2476855781158, 127.62782608695652, 'X[145] <= 0.5\\ngini = 0.049\\nsamples = 200\\nvalue = [5, 195]'),\n",
       " Text(266.2531043938108, 118.17391304347825, 'X[0] <= 0.063\\ngini = 0.032\\nsamples = 182\\nvalue = [3, 179]'),\n",
       " Text(263.4552719200888, 108.72, 'gini = 0.0\\nsamples = 118\\nvalue = [0, 118]'),\n",
       " Text(269.0509368675328, 108.72, 'X[0] <= 0.063\\ngini = 0.089\\nsamples = 64\\nvalue = [3, 61]'),\n",
       " Text(266.2531043938108, 99.26608695652173, 'gini = 0.0\\nsamples = 1\\nvalue = [1, 0]'),\n",
       " Text(271.8487693412548, 99.26608695652173, 'X[141] <= 0.5\\ngini = 0.061\\nsamples = 63\\nvalue = [2, 61]'),\n",
       " Text(266.2531043938108, 89.81217391304348, 'X[140] <= 0.5\\ngini = 0.032\\nsamples = 61\\nvalue = [1, 60]'),\n",
       " Text(263.4552719200888, 80.35826086956521, 'gini = 0.0\\nsamples = 53\\nvalue = [0, 53]'),\n",
       " Text(269.0509368675328, 80.35826086956521, 'X[18] <= 0.5\\ngini = 0.219\\nsamples = 8\\nvalue = [1, 7]'),\n",
       " Text(266.2531043938108, 70.90434782608696, 'gini = 0.0\\nsamples = 7\\nvalue = [0, 7]'),\n",
       " Text(271.8487693412548, 70.90434782608696, 'gini = 0.0\\nsamples = 1\\nvalue = [1, 0]'),\n",
       " Text(277.44443428869886, 89.81217391304348, 'X[1] <= 0.868\\ngini = 0.5\\nsamples = 2\\nvalue = [1, 1]'),\n",
       " Text(274.64660181497686, 80.35826086956521, 'gini = 0.0\\nsamples = 1\\nvalue = [1, 0]'),\n",
       " Text(280.24226676242085, 80.35826086956521, 'gini = 0.0\\nsamples = 1\\nvalue = [0, 1]'),\n",
       " Text(280.24226676242085, 118.17391304347825, 'X[0] <= 0.063\\ngini = 0.198\\nsamples = 18\\nvalue = [2, 16]'),\n",
       " Text(277.44443428869886, 108.72, 'gini = 0.0\\nsamples = 1\\nvalue = [1, 0]'),\n",
       " Text(283.04009923614285, 108.72, 'X[8] <= 0.5\\ngini = 0.111\\nsamples = 17\\nvalue = [1, 16]'),\n",
       " Text(280.24226676242085, 99.26608695652173, 'gini = 0.0\\nsamples = 14\\nvalue = [0, 14]'),\n",
       " Text(285.83793170986485, 99.26608695652173, 'X[60] <= 0.5\\ngini = 0.444\\nsamples = 3\\nvalue = [1, 2]'),\n",
       " Text(283.04009923614285, 89.81217391304348, 'gini = 0.0\\nsamples = 1\\nvalue = [1, 0]'),\n",
       " Text(288.6357641835869, 89.81217391304348, 'gini = 0.0\\nsamples = 2\\nvalue = [0, 2]'),\n",
       " Text(281.64118299928185, 137.08173913043478, 'X[35] <= 0.5\\ngini = 0.444\\nsamples = 3\\nvalue = [1, 2]'),\n",
       " Text(278.84335052555986, 127.62782608695652, 'gini = 0.0\\nsamples = 2\\nvalue = [0, 2]'),\n",
       " Text(284.43901547300385, 127.62782608695652, 'gini = 0.0\\nsamples = 1\\nvalue = [1, 0]'),\n",
       " Text(290.0346804204479, 146.53565217391304, 'X[120] <= 0.5\\ngini = 0.346\\nsamples = 9\\nvalue = [2, 7]'),\n",
       " Text(287.2368479467259, 137.08173913043478, 'gini = 0.0\\nsamples = 7\\nvalue = [0, 7]'),\n",
       " Text(292.8325128941699, 137.08173913043478, 'gini = 0.0\\nsamples = 2\\nvalue = [2, 0]'),\n",
       " Text(298.4281778416139, 155.98956521739132, 'X[75] <= 0.5\\ngini = 0.346\\nsamples = 9\\nvalue = [2, 7]'),\n",
       " Text(295.6303453678919, 146.53565217391304, 'gini = 0.0\\nsamples = 6\\nvalue = [0, 6]'),\n",
       " Text(301.22601031533594, 146.53565217391304, 'X[0] <= 0.063\\ngini = 0.444\\nsamples = 3\\nvalue = [2, 1]'),\n",
       " Text(298.4281778416139, 137.08173913043478, 'gini = 0.0\\nsamples = 2\\nvalue = [2, 0]'),\n",
       " Text(304.02384278905794, 137.08173913043478, 'gini = 0.0\\nsamples = 1\\nvalue = [0, 1]'),\n",
       " Text(306.82167526277993, 165.44347826086957, 'X[35] <= 0.5\\ngini = 0.444\\nsamples = 6\\nvalue = [2, 4]'),\n",
       " Text(304.02384278905794, 155.98956521739132, 'gini = 0.0\\nsamples = 3\\nvalue = [0, 3]'),\n",
       " Text(309.61950773650193, 155.98956521739132, 'X[1] <= 0.888\\ngini = 0.444\\nsamples = 3\\nvalue = [2, 1]'),\n",
       " Text(306.82167526277993, 146.53565217391304, 'gini = 0.0\\nsamples = 2\\nvalue = [2, 0]'),\n",
       " Text(312.4173402102239, 146.53565217391304, 'gini = 0.0\\nsamples = 1\\nvalue = [0, 1]'),\n",
       " Text(315.215172683946, 174.89739130434782, 'X[63] <= 0.5\\ngini = 0.5\\nsamples = 4\\nvalue = [2, 2]'),\n",
       " Text(312.4173402102239, 165.44347826086957, 'gini = 0.0\\nsamples = 2\\nvalue = [2, 0]'),\n",
       " Text(318.013005157668, 165.44347826086957, 'gini = 0.0\\nsamples = 2\\nvalue = [0, 2]'),\n",
       " Text(326.40650257883397, 193.80521739130435, 'X[112] <= 0.5\\ngini = 0.492\\nsamples = 16\\nvalue = [9, 7]'),\n",
       " Text(323.60867010511197, 184.3513043478261, 'gini = 0.0\\nsamples = 6\\nvalue = [6, 0]'),\n",
       " Text(329.204335052556, 184.3513043478261, 'X[128] <= 0.5\\ngini = 0.42\\nsamples = 10\\nvalue = [3, 7]'),\n",
       " Text(326.40650257883397, 174.89739130434782, 'X[140] <= 0.5\\ngini = 0.219\\nsamples = 8\\nvalue = [1, 7]'),\n",
       " Text(323.60867010511197, 165.44347826086957, 'gini = 0.0\\nsamples = 7\\nvalue = [0, 7]'),\n",
       " Text(329.204335052556, 165.44347826086957, 'gini = 0.0\\nsamples = 1\\nvalue = [1, 0]'),\n",
       " Text(332.002167526278, 174.89739130434782, 'gini = 0.0\\nsamples = 2\\nvalue = [2, 0]')]"
      ]
     },
     "execution_count": 458,
     "metadata": {},
     "output_type": "execute_result"
    },
    {
     "data": {
      "image/png": "[encoded data removed]",
      "text/plain": [
       "<Figure size 432x288 with 1 Axes>"
      ]
     },
     "metadata": {
      "needs_background": "light"
     },
     "output_type": "display_data"
    }
   ],
   "source": [
    "from sklearn import tree\n",
    "tree.plot_tree(dtFit)\n",
    " "
   ]
  },
  {
   "cell_type": "markdown",
   "metadata": {},
   "source": [
    "### Top Features"
   ]
  },
  {
   "cell_type": "code",
   "execution_count": 459,
   "metadata": {},
   "outputs": [
    {
     "name": "stdout",
     "output_type": "stream",
     "text": [
      "0.8659200252385835\n"
     ]
    }
   ],
   "source": [
    "dtFit2 = dt.fit(xTrainEvalB, yTrainEvalB)\n",
    "dtPred2 = dtFit2.predict(xTestEvalB)\n",
    "dtScore2 = dtFit2.score(xTestEvalB, yTestEvalB)\n",
    "print(dtScore2)\n"
   ]
  },
  {
   "cell_type": "code",
   "execution_count": 460,
   "metadata": {},
   "outputs": [
    {
     "name": "stdout",
     "output_type": "stream",
     "text": [
      "[[10864  1688]\n",
      " [   12   115]]\n"
     ]
    }
   ],
   "source": [
    "dtConfMatrix2 = metrics.confusion_matrix(yTestEvalB, dtPred2)\n",
    "print(dtConfMatrix2)"
   ]
  },
  {
   "cell_type": "code",
   "execution_count": 461,
   "metadata": {},
   "outputs": [
    {
     "name": "stdout",
     "output_type": "stream",
     "text": [
      "              precision    recall  f1-score   support\n",
      "\n",
      "           0       1.00      0.87      0.93     12552\n",
      "           1       0.06      0.91      0.12       127\n",
      "\n",
      "    accuracy                           0.87     12679\n",
      "   macro avg       0.53      0.89      0.52     12679\n",
      "weighted avg       0.99      0.87      0.92     12679\n",
      "\n"
     ]
    }
   ],
   "source": [
    "print(classification_report(yTestEvalB, dtPred2))"
   ]
  },
  {
   "cell_type": "code",
   "execution_count": 462,
   "metadata": {},
   "outputs": [
    {
     "name": "stdout",
     "output_type": "stream",
     "text": [
      "0.8855156250784139\n"
     ]
    }
   ],
   "source": [
    "print(roc_auc_score(yTestEvalB, dtPred2))"
   ]
  },
  {
   "cell_type": "code",
   "execution_count": 463,
   "metadata": {},
   "outputs": [
    {
     "data": {
      "text/plain": [
       "[Text(228.51330882352943, 206.56799999999998, 'X[0] <= 0.5\\ngini = 0.5\\nsamples = 908\\nvalue = [454, 454]'),\n",
       " Text(159.39926470588236, 184.824, 'X[6] <= 0.5\\ngini = 0.382\\nsamples = 545\\nvalue = [405, 140]'),\n",
       " Text(121.85735294117647, 163.07999999999998, 'X[14] <= 0.5\\ngini = 0.315\\nsamples = 491\\nvalue = [395, 96]'),\n",
       " Text(76.31470588235294, 141.336, 'X[4] <= 0.5\\ngini = 0.211\\nsamples = 426\\nvalue = [375, 51]'),\n",
       " Text(42.34235294117647, 119.592, 'X[7] <= 0.5\\ngini = 0.08\\nsamples = 191\\nvalue = [183, 8]'),\n",
       " Text(25.60235294117647, 97.848, 'X[3] <= 0.5\\ngini = 0.043\\nsamples = 135\\nvalue = [132, 3]'),\n",
       " Text(15.75529411764706, 76.10399999999998, 'X[10] <= 0.5\\ngini = 0.03\\nsamples = 133\\nvalue = [131, 2]'),\n",
       " Text(7.87764705882353, 54.360000000000014, 'X[13] <= 0.5\\ngini = 0.016\\nsamples = 121\\nvalue = [120, 1]'),\n",
       " Text(3.938823529411765, 32.615999999999985, 'gini = 0.0\\nsamples = 77\\nvalue = [77, 0]'),\n",
       " Text(11.816470588235294, 32.615999999999985, 'X[8] <= 0.5\\ngini = 0.044\\nsamples = 44\\nvalue = [43, 1]'),\n",
       " Text(7.87764705882353, 10.872000000000014, 'gini = 0.051\\nsamples = 38\\nvalue = [37, 1]'),\n",
       " Text(15.75529411764706, 10.872000000000014, 'gini = 0.0\\nsamples = 6\\nvalue = [6, 0]'),\n",
       " Text(23.632941176470588, 54.360000000000014, 'X[13] <= 0.5\\ngini = 0.153\\nsamples = 12\\nvalue = [11, 1]'),\n",
       " Text(19.694117647058825, 32.615999999999985, 'gini = 0.0\\nsamples = 5\\nvalue = [5, 0]'),\n",
       " Text(27.571764705882355, 32.615999999999985, 'gini = 0.245\\nsamples = 7\\nvalue = [6, 1]'),\n",
       " Text(35.449411764705886, 76.10399999999998, 'X[10] <= 0.5\\ngini = 0.5\\nsamples = 2\\nvalue = [1, 1]'),\n",
       " Text(31.51058823529412, 54.360000000000014, 'gini = 0.0\\nsamples = 1\\nvalue = [0, 1]'),\n",
       " Text(39.38823529411765, 54.360000000000014, 'gini = 0.0\\nsamples = 1\\nvalue = [1, 0]'),\n",
       " Text(59.082352941176474, 97.848, 'X[13] <= 0.5\\ngini = 0.163\\nsamples = 56\\nvalue = [51, 5]'),\n",
       " Text(55.14352941176471, 76.10399999999998, 'X[8] <= 0.5\\ngini = 0.251\\nsamples = 34\\nvalue = [29, 5]'),\n",
       " Text(47.265882352941176, 54.360000000000014, 'X[3] <= 0.5\\ngini = 0.32\\nsamples = 20\\nvalue = [16, 4]'),\n",
       " Text(43.32705882352941, 32.615999999999985, 'X[10] <= 0.5\\ngini = 0.346\\nsamples = 18\\nvalue = [14, 4]'),\n",
       " Text(39.38823529411765, 10.872000000000014, 'gini = 0.337\\nsamples = 14\\nvalue = [11, 3]'),\n",
       " Text(47.265882352941176, 10.872000000000014, 'gini = 0.375\\nsamples = 4\\nvalue = [3, 1]'),\n",
       " Text(51.20470588235294, 32.615999999999985, 'gini = 0.0\\nsamples = 2\\nvalue = [2, 0]'),\n",
       " Text(63.02117647058824, 54.360000000000014, 'X[15] <= 0.5\\ngini = 0.133\\nsamples = 14\\nvalue = [13, 1]'),\n",
       " Text(59.082352941176474, 32.615999999999985, 'gini = 0.142\\nsamples = 13\\nvalue = [12, 1]'),\n",
       " Text(66.96000000000001, 32.615999999999985, 'gini = 0.0\\nsamples = 1\\nvalue = [1, 0]'),\n",
       " Text(63.02117647058824, 76.10399999999998, 'gini = 0.0\\nsamples = 22\\nvalue = [22, 0]'),\n",
       " Text(110.28705882352942, 119.592, 'X[7] <= 0.5\\ngini = 0.299\\nsamples = 235\\nvalue = [192, 43]'),\n",
       " Text(94.53176470588235, 97.848, 'X[15] <= 0.5\\ngini = 0.368\\nsamples = 152\\nvalue = [115, 37]'),\n",
       " Text(86.65411764705883, 76.10399999999998, 'X[8] <= 0.5\\ngini = 0.417\\nsamples = 91\\nvalue = [64, 27]'),\n",
       " Text(82.71529411764706, 54.360000000000014, 'X[3] <= 0.5\\ngini = 0.427\\nsamples = 84\\nvalue = [58, 26]'),\n",
       " Text(74.83764705882353, 32.615999999999985, 'X[10] <= 0.5\\ngini = 0.429\\nsamples = 77\\nvalue = [53, 24]'),\n",
       " Text(70.89882352941177, 10.872000000000014, 'gini = 0.425\\nsamples = 62\\nvalue = [43, 19]'),\n",
       " Text(78.7764705882353, 10.872000000000014, 'gini = 0.444\\nsamples = 15\\nvalue = [10, 5]'),\n",
       " Text(90.59294117647059, 32.615999999999985, 'X[10] <= 0.5\\ngini = 0.408\\nsamples = 7\\nvalue = [5, 2]'),\n",
       " Text(86.65411764705883, 10.872000000000014, 'gini = 0.444\\nsamples = 3\\nvalue = [2, 1]'),\n",
       " Text(94.53176470588235, 10.872000000000014, 'gini = 0.375\\nsamples = 4\\nvalue = [3, 1]'),\n",
       " Text(90.59294117647059, 54.360000000000014, 'gini = 0.245\\nsamples = 7\\nvalue = [6, 1]'),\n",
       " Text(102.40941176470588, 76.10399999999998, 'X[10] <= 0.5\\ngini = 0.274\\nsamples = 61\\nvalue = [51, 10]'),\n",
       " Text(98.47058823529412, 54.360000000000014, 'gini = 0.32\\nsamples = 15\\nvalue = [12, 3]'),\n",
       " Text(106.34823529411766, 54.360000000000014, 'gini = 0.258\\nsamples = 46\\nvalue = [39, 7]'),\n",
       " Text(126.04235294117647, 97.848, 'X[10] <= 0.5\\ngini = 0.134\\nsamples = 83\\nvalue = [77, 6]'),\n",
       " Text(118.16470588235295, 76.10399999999998, 'X[3] <= 0.5\\ngini = 0.18\\nsamples = 50\\nvalue = [45, 5]'),\n",
       " Text(114.22588235294118, 54.360000000000014, 'X[8] <= 0.5\\ngini = 0.198\\nsamples = 45\\nvalue = [40, 5]'),\n",
       " Text(110.28705882352942, 32.615999999999985, 'gini = 0.193\\nsamples = 37\\nvalue = [33, 4]'),\n",
       " Text(118.16470588235295, 32.615999999999985, 'gini = 0.219\\nsamples = 8\\nvalue = [7, 1]'),\n",
       " Text(122.10352941176471, 54.360000000000014, 'gini = 0.0\\nsamples = 5\\nvalue = [5, 0]'),\n",
       " Text(133.92000000000002, 76.10399999999998, 'X[15] <= 0.5\\ngini = 0.059\\nsamples = 33\\nvalue = [32, 1]'),\n",
       " Text(129.98117647058825, 54.360000000000014, 'gini = 0.067\\nsamples = 29\\nvalue = [28, 1]'),\n",
       " Text(137.85882352941178, 54.360000000000014, 'gini = 0.0\\nsamples = 4\\nvalue = [4, 0]'),\n",
       " Text(167.4, 141.336, 'X[12] <= 0.5\\ngini = 0.426\\nsamples = 65\\nvalue = [20, 45]'),\n",
       " Text(153.61411764705883, 119.592, 'X[4] <= 0.5\\ngini = 0.498\\nsamples = 34\\nvalue = [16, 18]'),\n",
       " Text(145.7364705882353, 97.848, 'X[7] <= 0.5\\ngini = 0.32\\nsamples = 5\\nvalue = [4, 1]'),\n",
       " Text(141.79764705882354, 76.10399999999998, 'gini = 0.375\\nsamples = 4\\nvalue = [3, 1]'),\n",
       " Text(149.67529411764707, 76.10399999999998, 'gini = 0.0\\nsamples = 1\\nvalue = [1, 0]'),\n",
       " Text(161.49176470588236, 97.848, 'X[3] <= 0.5\\ngini = 0.485\\nsamples = 29\\nvalue = [12, 17]'),\n",
       " Text(157.5529411764706, 76.10399999999998, 'X[7] <= 0.5\\ngini = 0.466\\nsamples = 27\\nvalue = [10, 17]'),\n",
       " Text(153.61411764705883, 54.360000000000014, 'X[15] <= 0.5\\ngini = 0.444\\nsamples = 24\\nvalue = [8, 16]'),\n",
       " Text(149.67529411764707, 32.615999999999985, 'X[2] <= 0.5\\ngini = 0.454\\nsamples = 23\\nvalue = [8, 15]'),\n",
       " Text(145.7364705882353, 10.872000000000014, 'gini = 0.463\\nsamples = 22\\nvalue = [8, 14]'),\n",
       " Text(153.61411764705883, 10.872000000000014, 'gini = 0.0\\nsamples = 1\\nvalue = [0, 1]'),\n",
       " Text(157.5529411764706, 32.615999999999985, 'gini = 0.0\\nsamples = 1\\nvalue = [0, 1]'),\n",
       " Text(161.49176470588236, 54.360000000000014, 'gini = 0.444\\nsamples = 3\\nvalue = [2, 1]'),\n",
       " Text(165.43058823529412, 76.10399999999998, 'gini = 0.0\\nsamples = 2\\nvalue = [2, 0]'),\n",
       " Text(181.18588235294118, 119.592, 'X[7] <= 0.5\\ngini = 0.225\\nsamples = 31\\nvalue = [4, 27]'),\n",
       " Text(177.24705882352941, 97.848, 'X[3] <= 0.5\\ngini = 0.18\\nsamples = 30\\nvalue = [3, 27]'),\n",
       " Text(173.30823529411765, 76.10399999999998, 'X[4] <= 0.5\\ngini = 0.142\\nsamples = 26\\nvalue = [2, 24]'),\n",
       " Text(169.3694117647059, 54.360000000000014, 'gini = 0.0\\nsamples = 1\\nvalue = [0, 1]'),\n",
       " Text(177.24705882352941, 54.360000000000014, 'gini = 0.147\\nsamples = 25\\nvalue = [2, 23]'),\n",
       " Text(181.18588235294118, 76.10399999999998, 'gini = 0.375\\nsamples = 4\\nvalue = [1, 3]'),\n",
       " Text(185.12470588235294, 97.848, 'gini = 0.0\\nsamples = 1\\nvalue = [1, 0]'),\n",
       " Text(196.94117647058823, 163.07999999999998, 'X[15] <= 0.5\\ngini = 0.302\\nsamples = 54\\nvalue = [10, 44]'),\n",
       " Text(193.00235294117647, 141.336, 'X[4] <= 0.5\\ngini = 0.19\\nsamples = 47\\nvalue = [5, 42]'),\n",
       " Text(189.0635294117647, 119.592, 'gini = 0.5\\nsamples = 2\\nvalue = [1, 1]'),\n",
       " Text(196.94117647058823, 119.592, 'X[2] <= 0.5\\ngini = 0.162\\nsamples = 45\\nvalue = [4, 41]'),\n",
       " Text(193.00235294117647, 97.848, 'X[7] <= 0.5\\ngini = 0.169\\nsamples = 43\\nvalue = [4, 39]'),\n",
       " Text(189.0635294117647, 76.10399999999998, 'gini = 0.176\\nsamples = 41\\nvalue = [4, 37]'),\n",
       " Text(196.94117647058823, 76.10399999999998, 'gini = 0.0\\nsamples = 2\\nvalue = [0, 2]'),\n",
       " Text(200.88, 97.848, 'gini = 0.0\\nsamples = 2\\nvalue = [0, 2]'),\n",
       " Text(200.88, 141.336, 'gini = 0.408\\nsamples = 7\\nvalue = [5, 2]'),\n",
       " Text(297.62735294117647, 184.824, 'X[7] <= 0.5\\ngini = 0.234\\nsamples = 363\\nvalue = [49, 314]'),\n",
       " Text(272.2711764705882, 163.07999999999998, 'X[1] <= 0.5\\ngini = 0.204\\nsamples = 347\\nvalue = [40, 307]'),\n",
       " Text(249.1305882352941, 141.336, 'X[9] <= 0.5\\ngini = 0.241\\nsamples = 243\\nvalue = [34, 209]'),\n",
       " Text(230.42117647058825, 119.592, 'X[5] <= 0.5\\ngini = 0.259\\nsamples = 203\\nvalue = [31, 172]'),\n",
       " Text(212.69647058823531, 97.848, 'X[3] <= 0.5\\ngini = 0.274\\nsamples = 177\\nvalue = [29, 148]'),\n",
       " Text(204.81882352941176, 76.10399999999998, 'X[13] <= 0.5\\ngini = 0.258\\nsamples = 158\\nvalue = [24, 134]'),\n",
       " Text(200.88, 54.360000000000014, 'X[4] <= 0.5\\ngini = 0.259\\nsamples = 157\\nvalue = [24, 133]'),\n",
       " Text(193.00235294117647, 32.615999999999985, 'X[2] <= 0.5\\ngini = 0.375\\nsamples = 4\\nvalue = [1, 3]'),\n",
       " Text(189.0635294117647, 10.872000000000014, 'gini = 0.444\\nsamples = 3\\nvalue = [1, 2]'),\n",
       " Text(196.94117647058823, 10.872000000000014, 'gini = 0.0\\nsamples = 1\\nvalue = [0, 1]'),\n",
       " Text(208.75764705882352, 32.615999999999985, 'X[2] <= 0.5\\ngini = 0.255\\nsamples = 153\\nvalue = [23, 130]'),\n",
       " Text(204.81882352941176, 10.872000000000014, 'gini = 0.253\\nsamples = 128\\nvalue = [19, 109]'),\n",
       " Text(212.69647058823531, 10.872000000000014, 'gini = 0.269\\nsamples = 25\\nvalue = [4, 21]'),\n",
       " Text(208.75764705882352, 54.360000000000014, 'gini = 0.0\\nsamples = 1\\nvalue = [0, 1]'),\n",
       " Text(220.57411764705884, 76.10399999999998, 'X[4] <= 0.5\\ngini = 0.388\\nsamples = 19\\nvalue = [5, 14]'),\n",
       " Text(216.63529411764708, 54.360000000000014, 'gini = 0.0\\nsamples = 1\\nvalue = [0, 1]'),\n",
       " Text(224.5129411764706, 54.360000000000014, 'X[2] <= 0.5\\ngini = 0.401\\nsamples = 18\\nvalue = [5, 13]'),\n",
       " Text(220.57411764705884, 32.615999999999985, 'gini = 0.42\\nsamples = 10\\nvalue = [3, 7]'),\n",
       " Text(228.45176470588237, 32.615999999999985, 'gini = 0.375\\nsamples = 8\\nvalue = [2, 6]'),\n",
       " Text(248.1458823529412, 97.848, 'X[3] <= 0.5\\ngini = 0.142\\nsamples = 26\\nvalue = [2, 24]'),\n",
       " Text(244.20705882352942, 76.10399999999998, 'X[13] <= 0.5\\ngini = 0.159\\nsamples = 23\\nvalue = [2, 21]'),\n",
       " Text(240.26823529411766, 54.360000000000014, 'X[2] <= 0.5\\ngini = 0.165\\nsamples = 22\\nvalue = [2, 20]'),\n",
       " Text(236.3294117647059, 32.615999999999985, 'gini = 0.198\\nsamples = 9\\nvalue = [1, 8]'),\n",
       " Text(244.20705882352942, 32.615999999999985, 'gini = 0.142\\nsamples = 13\\nvalue = [1, 12]'),\n",
       " Text(248.1458823529412, 54.360000000000014, 'gini = 0.0\\nsamples = 1\\nvalue = [0, 1]'),\n",
       " Text(252.08470588235295, 76.10399999999998, 'gini = 0.0\\nsamples = 3\\nvalue = [0, 3]'),\n",
       " Text(267.84000000000003, 119.592, 'X[3] <= 0.5\\ngini = 0.139\\nsamples = 40\\nvalue = [3, 37]'),\n",
       " Text(263.90117647058827, 97.848, 'X[2] <= 0.5\\ngini = 0.219\\nsamples = 24\\nvalue = [3, 21]'),\n",
       " Text(259.9623529411765, 76.10399999999998, 'gini = 0.188\\nsamples = 19\\nvalue = [2, 17]'),\n",
       " Text(267.84000000000003, 76.10399999999998, 'gini = 0.32\\nsamples = 5\\nvalue = [1, 4]'),\n",
       " Text(271.7788235294118, 97.848, 'gini = 0.0\\nsamples = 16\\nvalue = [0, 16]'),\n",
       " Text(295.4117647058824, 141.336, 'X[3] <= 0.5\\ngini = 0.109\\nsamples = 104\\nvalue = [6, 98]'),\n",
       " Text(283.5952941176471, 119.592, 'X[4] <= 0.5\\ngini = 0.188\\nsamples = 38\\nvalue = [4, 34]'),\n",
       " Text(279.6564705882353, 97.848, 'gini = 0.0\\nsamples = 3\\nvalue = [0, 3]'),\n",
       " Text(287.53411764705885, 97.848, 'X[2] <= 0.5\\ngini = 0.202\\nsamples = 35\\nvalue = [4, 31]'),\n",
       " Text(283.5952941176471, 76.10399999999998, 'gini = 0.211\\nsamples = 25\\nvalue = [3, 22]'),\n",
       " Text(291.4729411764706, 76.10399999999998, 'gini = 0.18\\nsamples = 10\\nvalue = [1, 9]'),\n",
       " Text(307.22823529411767, 119.592, 'X[2] <= 0.5\\ngini = 0.059\\nsamples = 66\\nvalue = [2, 64]'),\n",
       " Text(303.2894117647059, 97.848, 'X[4] <= 0.5\\ngini = 0.102\\nsamples = 37\\nvalue = [2, 35]'),\n",
       " Text(299.35058823529414, 76.10399999999998, 'gini = 0.0\\nsamples = 4\\nvalue = [0, 4]'),\n",
       " Text(307.22823529411767, 76.10399999999998, 'gini = 0.114\\nsamples = 33\\nvalue = [2, 31]'),\n",
       " Text(311.16705882352943, 97.848, 'gini = 0.0\\nsamples = 29\\nvalue = [0, 29]'),\n",
       " Text(322.9835294117647, 163.07999999999998, 'X[4] <= 0.5\\ngini = 0.492\\nsamples = 16\\nvalue = [9, 7]'),\n",
       " Text(319.04470588235296, 141.336, 'gini = 0.0\\nsamples = 6\\nvalue = [6, 0]'),\n",
       " Text(326.9223529411765, 141.336, 'X[9] <= 0.5\\ngini = 0.42\\nsamples = 10\\nvalue = [3, 7]'),\n",
       " Text(322.9835294117647, 119.592, 'X[3] <= 0.5\\ngini = 0.375\\nsamples = 8\\nvalue = [2, 6]'),\n",
       " Text(319.04470588235296, 97.848, 'gini = 0.32\\nsamples = 5\\nvalue = [1, 4]'),\n",
       " Text(326.9223529411765, 97.848, 'gini = 0.444\\nsamples = 3\\nvalue = [1, 2]'),\n",
       " Text(330.86117647058825, 119.592, 'gini = 0.5\\nsamples = 2\\nvalue = [1, 1]')]"
      ]
     },
     "execution_count": 463,
     "metadata": {},
     "output_type": "execute_result"
    },
    {
     "data": {
      "image/png": "[encoded data removed]",
      "text/plain": [
       "<Figure size 432x288 with 1 Axes>"
      ]
     },
     "metadata": {
      "needs_background": "light"
     },
     "output_type": "display_data"
    }
   ],
   "source": [
    "tree.plot_tree(dtFit2)"
   ]
  },
  {
   "cell_type": "code",
   "execution_count": 464,
   "metadata": {},
   "outputs": [
    {
     "data": {
      "text/plain": [
       "<BarContainer object of 16 artists>"
      ]
     },
     "execution_count": 464,
     "metadata": {},
     "output_type": "execute_result"
    },
    {
     "data": {
      "image/png": "[encoded data removed]",
      "text/plain": [
       "<Figure size 432x288 with 1 Axes>"
      ]
     },
     "metadata": {
      "needs_background": "light"
     },
     "output_type": "display_data"
    }
   ],
   "source": [
    "sorted_idx2 = dt.feature_importances_.argsort()\n",
    "plt.barh(xTrainEvalB.columns[sorted_idx2],dt.feature_importances_[sorted_idx2])"
   ]
  },
  {
   "cell_type": "markdown",
   "metadata": {},
   "source": [
    "### Extra Trees Classifier Top 10 Features"
   ]
  },
  {
   "cell_type": "code",
   "execution_count": 465,
   "metadata": {},
   "outputs": [],
   "source": [
    "#Balanced regression model evaluation - Extra Trees Classifier Top 10\n",
    "xTrainEvalD = pd.DataFrame(trainUnder, columns = ['total-contract-value-normalized', 'days-since-first-award-normalized', 'award-year-normalized', 'gsin_cat_C', 'award month_10', 'top-gsin_Engineering Services - Buildings', 'award month_02', 'award month_08', 'award month_03', 'contracting-city_OTTAWA'])\n",
    "yTrainEvalD = pd.DataFrame(trainUnder, columns = ['stantec-supplier-mod'])\n",
    "xTestEvalD = pd.DataFrame(test, columns = ['total-contract-value-normalized', 'days-since-first-award-normalized', 'award-year-normalized', 'gsin_cat_C', 'award month_10', 'top-gsin_Engineering Services - Buildings', 'award month_02', 'award month_08', 'award month_03', 'contracting-city_OTTAWA'])\n",
    "yTestEvalD = pd.DataFrame(test, columns = ['stantec-supplier-mod'])"
   ]
  },
  {
   "cell_type": "code",
   "execution_count": 466,
   "metadata": {},
   "outputs": [
    {
     "name": "stdout",
     "output_type": "stream",
     "text": [
      "0.7193784998816941\n"
     ]
    }
   ],
   "source": [
    "dtFit3 = dt.fit(xTrainEvalD, yTrainEvalD)\n",
    "dtPred3 = dtFit3.predict(xTestEvalD)\n",
    "dtScore3 = dtFit3.score(xTestEvalD, yTestEvalD)\n",
    "print(dtScore3)"
   ]
  },
  {
   "cell_type": "code",
   "execution_count": 467,
   "metadata": {},
   "outputs": [
    {
     "name": "stdout",
     "output_type": "stream",
     "text": [
      "[[9021 3531]\n",
      " [  27  100]]\n"
     ]
    }
   ],
   "source": [
    "dtConfMatrix3 = metrics.confusion_matrix(yTestEvalD, dtPred3)\n",
    "print(dtConfMatrix3)"
   ]
  },
  {
   "cell_type": "code",
   "execution_count": 468,
   "metadata": {},
   "outputs": [
    {
     "name": "stdout",
     "output_type": "stream",
     "text": [
      "              precision    recall  f1-score   support\n",
      "\n",
      "           0       1.00      0.72      0.84     12552\n",
      "           1       0.03      0.79      0.05       127\n",
      "\n",
      "    accuracy                           0.72     12679\n",
      "   macro avg       0.51      0.75      0.44     12679\n",
      "weighted avg       0.99      0.72      0.83     12679\n",
      "\n"
     ]
    }
   ],
   "source": [
    "print(classification_report(yTestEvalD, dtPred3))"
   ]
  },
  {
   "cell_type": "code",
   "execution_count": 469,
   "metadata": {},
   "outputs": [
    {
     "name": "stdout",
     "output_type": "stream",
     "text": [
      "0.7530459116845576\n"
     ]
    }
   ],
   "source": [
    "print(roc_auc_score(yTestEvalD, dtPred3))"
   ]
  },
  {
   "cell_type": "markdown",
   "metadata": {},
   "source": [
    "## Random Forest Classifier\n",
    "Using the same inputs as the Balanced regression model evaluation"
   ]
  },
  {
   "cell_type": "code",
   "execution_count": 470,
   "metadata": {},
   "outputs": [],
   "source": [
    "from sklearn.ensemble import RandomForestClassifier\n",
    "rf=RandomForestClassifier(n_estimators=100)"
   ]
  },
  {
   "cell_type": "markdown",
   "metadata": {},
   "source": [
    "### All Features"
   ]
  },
  {
   "cell_type": "code",
   "execution_count": 471,
   "metadata": {},
   "outputs": [
    {
     "name": "stderr",
     "output_type": "stream",
     "text": [
      "C:\\Users\\alana\\AppData\\Local\\Temp/ipykernel_7848/2208538137.py:1: DataConversionWarning: A column-vector y was passed when a 1d array was expected. Please change the shape of y to (n_samples,), for example using ravel().\n",
      "  rfFit = rf.fit(xTrainEvalE, yTrainEvalE)\n"
     ]
    },
    {
     "name": "stdout",
     "output_type": "stream",
     "text": [
      "0.8484896285195993\n"
     ]
    }
   ],
   "source": [
    "rfFit = rf.fit(xTrainEvalE, yTrainEvalE)\n",
    "rfPred = rfFit.predict(xTestEvalE)\n",
    "rfScore = rfFit.score(xTestEvalE, yTestEvalE)\n",
    "print(rfScore)"
   ]
  },
  {
   "cell_type": "code",
   "execution_count": 472,
   "metadata": {},
   "outputs": [
    {
     "name": "stdout",
     "output_type": "stream",
     "text": [
      "[[10644  1908]\n",
      " [   13   114]]\n"
     ]
    }
   ],
   "source": [
    "rfConfMatrix = metrics.confusion_matrix(yTestEvalE, rfPred)\n",
    "print(rfConfMatrix)"
   ]
  },
  {
   "cell_type": "code",
   "execution_count": 473,
   "metadata": {},
   "outputs": [
    {
     "name": "stdout",
     "output_type": "stream",
     "text": [
      "              precision    recall  f1-score   support\n",
      "\n",
      "           0       1.00      0.85      0.92     12552\n",
      "           1       0.06      0.90      0.11       127\n",
      "\n",
      "    accuracy                           0.85     12679\n",
      "   macro avg       0.53      0.87      0.51     12679\n",
      "weighted avg       0.99      0.85      0.91     12679\n",
      "\n"
     ]
    }
   ],
   "source": [
    "print(classification_report(yTestEvalE, rfPred))"
   ]
  },
  {
   "cell_type": "code",
   "execution_count": 474,
   "metadata": {},
   "outputs": [
    {
     "name": "stdout",
     "output_type": "stream",
     "text": [
      "0.8728150735460171\n"
     ]
    }
   ],
   "source": [
    "print(roc_auc_score(yTestEvalE, rfPred))"
   ]
  },
  {
   "cell_type": "code",
   "execution_count": 475,
   "metadata": {},
   "outputs": [
    {
     "name": "stdout",
     "output_type": "stream",
     "text": [
      "[ 66  81  89  78  39  91  82  77  74  72  69  76  86 101  97  37  68  38\n",
      "  73  24  55  40  10  79 113   3  87  20  70  22  45  64  99  96  32  36\n",
      "  71  90 130 115  11 100  13  30 124  27  28 106  88  41 104 111  23 116\n",
      "  42  15   5  21 108 119  98 109  33  29 107 114 103  65  59  44  46 129\n",
      "  14  31  34  16  93  92  12 117  84   6  67  25   4  80  85  17 105 132\n",
      " 125 123 118  53  43 110 144   9   7 143  75 131  48 146 134 139  57 141\n",
      " 122  62 126  58 128 140   8 135 136 142 120  61 145  26 138  60 137  63\n",
      " 127  19 133  94  52 121  35 102  95  51  18  47  49  54  56   2  83 112\n",
      "   0   1  50]\n"
     ]
    }
   ],
   "source": [
    "sorted_idx = rf.feature_importances_.argsort()\n",
    "print(sorted_idx)"
   ]
  },
  {
   "cell_type": "code",
   "execution_count": 476,
   "metadata": {},
   "outputs": [
    {
     "data": {
      "text/plain": [
       "<BarContainer object of 147 artists>"
      ]
     },
     "execution_count": 476,
     "metadata": {},
     "output_type": "execute_result"
    },
    {
     "data": {
      "image/png": "[encoded data removed]",
      "text/plain": [
       "<Figure size 432x288 with 1 Axes>"
      ]
     },
     "metadata": {
      "needs_background": "light"
     },
     "output_type": "display_data"
    }
   ],
   "source": [
    "plt.barh(xTrainEvalE.columns[sorted_idx],rf.feature_importances_[sorted_idx])"
   ]
  },
  {
   "cell_type": "markdown",
   "metadata": {},
   "source": [
    "### Top Features"
   ]
  },
  {
   "cell_type": "code",
   "execution_count": 477,
   "metadata": {},
   "outputs": [
    {
     "name": "stderr",
     "output_type": "stream",
     "text": [
      "C:\\Users\\alana\\AppData\\Local\\Temp/ipykernel_7848/2504136405.py:1: DataConversionWarning: A column-vector y was passed when a 1d array was expected. Please change the shape of y to (n_samples,), for example using ravel().\n",
      "  rfFit2 = rf.fit(xTrainEvalB, yTrainEvalB)\n"
     ]
    },
    {
     "name": "stdout",
     "output_type": "stream",
     "text": [
      "0.8631595551699661\n"
     ]
    }
   ],
   "source": [
    "rfFit2 = rf.fit(xTrainEvalB, yTrainEvalB)\n",
    "rfPred2 = rfFit2.predict(xTestEvalB)\n",
    "rfScore2 = rfFit2.score(xTestEvalB, yTestEvalB)\n",
    "print(rfScore2)"
   ]
  },
  {
   "cell_type": "code",
   "execution_count": 478,
   "metadata": {},
   "outputs": [
    {
     "name": "stdout",
     "output_type": "stream",
     "text": [
      "[[10828  1724]\n",
      " [   11   116]]\n"
     ]
    }
   ],
   "source": [
    "rfConfMatrix = metrics.confusion_matrix(yTestEvalB, rfPred2)\n",
    "print(rfConfMatrix)"
   ]
  },
  {
   "cell_type": "code",
   "execution_count": 479,
   "metadata": {},
   "outputs": [
    {
     "name": "stdout",
     "output_type": "stream",
     "text": [
      "              precision    recall  f1-score   support\n",
      "\n",
      "           0       1.00      0.86      0.93     12552\n",
      "           1       0.06      0.91      0.12       127\n",
      "\n",
      "    accuracy                           0.86     12679\n",
      "   macro avg       0.53      0.89      0.52     12679\n",
      "weighted avg       0.99      0.86      0.92     12679\n",
      "\n"
     ]
    }
   ],
   "source": [
    "print(classification_report(yTestEvalB, rfPred2))"
   ]
  },
  {
   "cell_type": "code",
   "execution_count": 480,
   "metadata": {},
   "outputs": [
    {
     "name": "stdout",
     "output_type": "stream",
     "text": [
      "0.8880185985356037\n"
     ]
    }
   ],
   "source": [
    "print(roc_auc_score(yTestEvalB, rfPred2))"
   ]
  },
  {
   "cell_type": "code",
   "execution_count": 481,
   "metadata": {},
   "outputs": [
    {
     "data": {
      "text/plain": [
       "<BarContainer object of 16 artists>"
      ]
     },
     "execution_count": 481,
     "metadata": {},
     "output_type": "execute_result"
    },
    {
     "data": {
      "image/png": "[encoded data removed]",
      "text/plain": [
       "<Figure size 432x288 with 1 Axes>"
      ]
     },
     "metadata": {
      "needs_background": "light"
     },
     "output_type": "display_data"
    }
   ],
   "source": [
    "sorted_idx3 = rf.feature_importances_.argsort()\n",
    "plt.barh(xTrainEvalB.columns[sorted_idx3],rf.feature_importances_[sorted_idx3])"
   ]
  },
  {
   "cell_type": "markdown",
   "metadata": {},
   "source": [
    "### Extra Trees Classifier Top 10 Features"
   ]
  },
  {
   "cell_type": "code",
   "execution_count": 482,
   "metadata": {},
   "outputs": [
    {
     "name": "stderr",
     "output_type": "stream",
     "text": [
      "C:\\Users\\alana\\AppData\\Local\\Temp/ipykernel_7848/3927002682.py:1: DataConversionWarning: A column-vector y was passed when a 1d array was expected. Please change the shape of y to (n_samples,), for example using ravel().\n",
      "  rfFit3 = rf.fit(xTrainEvalD, yTrainEvalD)\n"
     ]
    },
    {
     "name": "stdout",
     "output_type": "stream",
     "text": [
      "0.7777427241896049\n"
     ]
    }
   ],
   "source": [
    "rfFit3 = rf.fit(xTrainEvalD, yTrainEvalD)\n",
    "rfPred3 = rfFit3.predict(xTestEvalD)\n",
    "rfScore3 = rfFit3.score(xTestEvalD, yTestEvalD)\n",
    "print(rfScore3)"
   ]
  },
  {
   "cell_type": "code",
   "execution_count": 483,
   "metadata": {},
   "outputs": [
    {
     "name": "stdout",
     "output_type": "stream",
     "text": [
      "[[9762 2790]\n",
      " [  28   99]]\n"
     ]
    }
   ],
   "source": [
    "rfConfMatrix3 = metrics.confusion_matrix(yTestEvalD, rfPred3)\n",
    "print(rfConfMatrix3)"
   ]
  },
  {
   "cell_type": "code",
   "execution_count": 484,
   "metadata": {},
   "outputs": [
    {
     "name": "stdout",
     "output_type": "stream",
     "text": [
      "              precision    recall  f1-score   support\n",
      "\n",
      "           0       1.00      0.78      0.87     12552\n",
      "           1       0.03      0.78      0.07       127\n",
      "\n",
      "    accuracy                           0.78     12679\n",
      "   macro avg       0.52      0.78      0.47     12679\n",
      "weighted avg       0.99      0.78      0.87     12679\n",
      "\n"
     ]
    }
   ],
   "source": [
    "print(classification_report(yTestEvalD, rfPred3))"
   ]
  },
  {
   "cell_type": "code",
   "execution_count": 485,
   "metadata": {},
   "outputs": [
    {
     "name": "stdout",
     "output_type": "stream",
     "text": [
      "0.7786261122235436\n"
     ]
    }
   ],
   "source": [
    "print(roc_auc_score(yTestEvalD, rfPred3))"
   ]
  }
 ],
 "metadata": {
  "interpreter": {
   "hash": "1f65e174391277f634e70871feaa21300658cb740b5dabfc689c4c43dbc10e3e"
  },
  "kernelspec": {
   "display_name": "Python 3.9.1 64-bit",
   "name": "python3"
  },
  "language_info": {
   "codemirror_mode": {
    "name": "ipython",
    "version": 3
   },
   "file_extension": ".py",
   "mimetype": "text/x-python",
   "name": "python",
   "nbconvert_exporter": "python",
   "pygments_lexer": "ipython3",
   "version": "3.9.1"
  }
 },
 "nbformat": 4,
 "nbformat_minor": 4
}
